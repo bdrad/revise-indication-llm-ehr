{
 "cells": [
  {
   "cell_type": "code",
   "execution_count": 2,
   "id": "57ccb425",
   "metadata": {},
   "outputs": [],
   "source": [
    "import os\n",
    "import pandas as pd\n",
    "import tqdm\n",
    "import regex as re\n",
    "import polars as pl\n",
    "import tiktoken\n",
    "import numpy as np"
   ]
  },
  {
   "cell_type": "code",
   "execution_count": 3,
   "id": "fbf80675",
   "metadata": {},
   "outputs": [],
   "source": [
    "def categorize_body_group(exam_type):\n",
    "    categories = {\n",
    "        \"Head\": [\"HEAD\", \"BRAIN\", \"STROKE PROTOCOL\", \"NEURO\"],\n",
    "        \"Abdomen/Pelvis\": [\"ABDOMEN\", \"PELVIS\", \"PROSTATE\", \"RENAL\", \"MRCP\", \"UROGRAM\"],\n",
    "        \"MSK\": [\"KNEE\", \"HIP\", \"SHOULDER\", \"EXTREMITY\", \"SPINE\", \"LUMBAR\", \n",
    "                \"CERVICAL\", \"SCOLIOSIS\", \"JOINT\"],\n",
    "        \"Chest\": [\"CHEST\", \"CARDIAC\", \"PULMONARY EMBOLISM\", \"CTA\", \"HEART\"],\n",
    "        \"Neck\": [\"FACE\", \"NECK\", \"CRANIOFACIAL\", \"MAXILLOFACIAL\", \"ORBIT\", \"TEMPORAL BONE\", \n",
    "                 \"SINUS\", \"THYROID\", \"MANDIBLE\", \"SKULL\"]\n",
    "    }\n",
    "    \n",
    "    for category, keywords in categories.items():\n",
    "        if any(keyword in exam_type for keyword in keywords):\n",
    "            return category\n",
    "    return \"Other\"\n",
    "\n",
    "def categorize_imaging_modality(exam_type):\n",
    "    categories = {\n",
    "        \"MRI\": [\"MR\", \"MRI\"],\n",
    "        \"CT\": [\"CT\", \"CTA\"],\n",
    "        \"XR\": [\"XR\"],\n",
    "        \"US\": [\"US\"]\n",
    "    }\n",
    "    \n",
    "    for category, keywords in categories.items():\n",
    "        if any(keyword in exam_type for keyword in keywords):\n",
    "            return category\n",
    "    return \"Other\""
   ]
  },
  {
   "cell_type": "markdown",
   "id": "bd32e0eb",
   "metadata": {},
   "source": [
    "# Clinical Indication Dataset"
   ]
  },
  {
   "cell_type": "code",
   "execution_count": 4,
   "id": "e6210528",
   "metadata": {},
   "outputs": [
    {
     "name": "stderr",
     "output_type": "stream",
     "text": [
      "100%|█████████████████████████████████████████████████████████████████████████████| 8/8 [00:58<00:00,  7.28s/it]\n"
     ]
    }
   ],
   "source": [
    "intervals = [\n",
    "    \"0_10000\",\n",
    "    \"10000_20000\",\n",
    "    \"20000_30000\",\n",
    "    \"30000_40000\",\n",
    "    \"40000_50000\",\n",
    "    \"50000_60000\",\n",
    "    \"60000_70000\",\n",
    "    \"70000_79032\"\n",
    "]\n",
    "\n",
    "indication_dataset = []\n",
    "\n",
    "for interval in tqdm.tqdm(intervals):\n",
    "    parquet_path = f\"/mnt/sohn2022/Adrian/rad-llm-pmhx/dataset/indication_dataset/raw/{interval}.parquet\"\n",
    "    indication_dataset.append(pd.read_parquet(parquet_path).reset_index(drop=True))\n",
    "    \n",
    "indication_dataset = pd.concat(indication_dataset) \\\n",
    ".drop_duplicates(subset=[\"radiology_deid_note_key\"]) \\\n",
    ".reset_index(drop=True)"
   ]
  },
  {
   "cell_type": "code",
   "execution_count": 5,
   "id": "a800d20a",
   "metadata": {},
   "outputs": [
    {
     "name": "stderr",
     "output_type": "stream",
     "text": [
      "100%|█████████████████████████████████████████████████████████████████████████████| 8/8 [00:00<00:00, 15.93it/s]\n"
     ]
    }
   ],
   "source": [
    "pathophysiological_intervals = [\n",
    "    \"llm_labels_pathophysiological_0_10000_2025-02-13_13-47-32.csv\",\n",
    "    \"llm_labels_pathophysiological_10000_20000_2025-02-13_15-46-40.csv\",\n",
    "    \"llm_labels_pathophysiological_20000_30000_2025-02-13_21-56-05.csv\",\n",
    "    \"llm_labels_pathophysiological_30000_40000_2025-02-14_13-33-10.csv\",\n",
    "    \"llm_labels_pathophysiological_40000_50000_2025-02-14_15-49-35.csv\",\n",
    "    \"llm_labels_pathophysiological_50000_60000_2025-02-14_18-27-19.csv\",\n",
    "    \"llm_labels_pathophysiological_60000_70000_2025-02-14_21-49-20.csv\",\n",
    "    \"llm_labels_pathophysiological_70000_77984_2025-02-15_17-20-50.csv\"\n",
    "]\n",
    "\n",
    "pathophysiological_labels = []\n",
    "\n",
    "for interval in tqdm.tqdm(pathophysiological_intervals):\n",
    "    csv_path = f\"/mnt/sohn2022/Adrian/rad-llm-pmhx/dataset/pathophysiological_labels/{interval}\"\n",
    "    pathophysiological_labels.append(pd.read_csv(csv_path).reset_index(drop=True))\n",
    "    \n",
    "pathophysiological_labels = pd.concat(pathophysiological_labels)"
   ]
  },
  {
   "cell_type": "code",
   "execution_count": 6,
   "id": "6456841c",
   "metadata": {},
   "outputs": [],
   "source": [
    "indication_dataset = (\n",
    "    indication_dataset\n",
    "    .merge(pathophysiological_labels)\n",
    "    .drop_duplicates(subset=[\"radiology_deid_note_key\"])\n",
    "    .rename(columns={\"generated_category\": \"pathophysiological_category\"})\n",
    ")\n",
    "indication_dataset[\"pathophysiological_category\"] = indication_dataset[\"pathophysiological_category\"].replace({\n",
    "    \"cancer/mass\": \"Cancer/Mass\",\n",
    "    \"surgical\": \"Surgical\",\n",
    "    \"infection/inflammatory\": \"Infection/Inflammatory\",\n",
    "    \"symptom-based\": \"Symptom-based\",\n",
    "    \"structural\": \"Structural\"\n",
    "})"
   ]
  },
  {
   "cell_type": "code",
   "execution_count": 7,
   "id": "4a498651",
   "metadata": {},
   "outputs": [
    {
     "data": {
      "text/plain": [
       "28313"
      ]
     },
     "execution_count": 7,
     "metadata": {},
     "output_type": "execute_result"
    }
   ],
   "source": [
    "indication_dataset[\"patientdurablekey\"].nunique()"
   ]
  },
  {
   "cell_type": "code",
   "execution_count": 8,
   "id": "4d19c71c",
   "metadata": {},
   "outputs": [
    {
     "data": {
      "text/plain": [
       "77626"
      ]
     },
     "execution_count": 8,
     "metadata": {},
     "output_type": "execute_result"
    }
   ],
   "source": [
    "indication_dataset[\"radiology_deid_note_key\"].nunique()"
   ]
  },
  {
   "cell_type": "code",
   "execution_count": 9,
   "id": "6b216ae1",
   "metadata": {},
   "outputs": [
    {
     "data": {
      "text/plain": [
       "740867"
      ]
     },
     "execution_count": 9,
     "metadata": {},
     "output_type": "execute_result"
    }
   ],
   "source": [
    "indication_dataset[\"note_texts\"].apply(len).sum()"
   ]
  },
  {
   "cell_type": "code",
   "execution_count": 10,
   "id": "0fc3a266",
   "metadata": {},
   "outputs": [],
   "source": [
    "indication_dataset[[\"patientdurablekey\", \"radiology_deid_note_key\"]].to_parquet(\"indication_dataset_keys.parquet\")"
   ]
  },
  {
   "cell_type": "code",
   "execution_count": 11,
   "id": "ee6e8058",
   "metadata": {},
   "outputs": [
    {
     "data": {
      "text/plain": [
       "imaging_modality\n",
       "MRI      0.491627\n",
       "CT       0.461276\n",
       "US       0.024038\n",
       "XR       0.012921\n",
       "Other    0.010138\n",
       "Name: proportion, dtype: float64"
      ]
     },
     "execution_count": 11,
     "metadata": {},
     "output_type": "execute_result"
    }
   ],
   "source": [
    "indication_dataset.loc[\n",
    "    indication_dataset[\"exam_type\"].notna(), \"imaging_modality\"\n",
    "] = indication_dataset.loc[indication_dataset[\"exam_type\"].notna()][\"exam_type\"].apply(categorize_imaging_modality)\n",
    "\n",
    "indication_dataset[\"imaging_modality\"].value_counts(normalize=True)"
   ]
  },
  {
   "cell_type": "code",
   "execution_count": 12,
   "id": "2360ae59",
   "metadata": {},
   "outputs": [
    {
     "data": {
      "text/plain": [
       "body_system\n",
       "Head              0.695257\n",
       "Neck              0.125602\n",
       "MSK               0.072038\n",
       "Abdomen/Pelvis    0.050962\n",
       "Chest             0.037346\n",
       "Other             0.018795\n",
       "Name: proportion, dtype: float64"
      ]
     },
     "execution_count": 12,
     "metadata": {},
     "output_type": "execute_result"
    }
   ],
   "source": [
    "indication_dataset.loc[\n",
    "    indication_dataset[\"exam_type\"].notna(), \"body_system\"\n",
    "] = indication_dataset.loc[indication_dataset[\"exam_type\"].notna()][\"exam_type\"].apply(categorize_body_group)\n",
    "\n",
    "indication_dataset[\"body_system\"].value_counts(normalize=True)"
   ]
  },
  {
   "cell_type": "code",
   "execution_count": 13,
   "id": "869d07cd",
   "metadata": {},
   "outputs": [
    {
     "data": {
      "text/plain": [
       "0                   Cancer/Mass\n",
       "1                      Surgical\n",
       "2        Infection/Inflammatory\n",
       "3                   Cancer/Mass\n",
       "4                   Cancer/Mass\n",
       "                  ...          \n",
       "77975               Cancer/Mass\n",
       "77976                Structural\n",
       "77977             Symptom-based\n",
       "77978             Symptom-based\n",
       "77979                Structural\n",
       "Name: pathophysiological_category, Length: 77626, dtype: object"
      ]
     },
     "execution_count": 13,
     "metadata": {},
     "output_type": "execute_result"
    }
   ],
   "source": [
    "indication_dataset[\"pathophysiological_category\"] = indication_dataset[\"pathophysiological_category\"].fillna(\"Other\").replace(\"inflammatory/infection\", \"infection/inflammatory\")\n",
    "indication_dataset[\"pathophysiological_category\"]"
   ]
  },
  {
   "cell_type": "markdown",
   "id": "c88ca061",
   "metadata": {},
   "source": [
    "# Dataset Stratification"
   ]
  },
  {
   "cell_type": "code",
   "execution_count": 14,
   "id": "e109d4c4-cec7-456a-81dc-2217ba32e2f7",
   "metadata": {},
   "outputs": [],
   "source": [
    "_TIMESTAMP_RE = re.compile(\n",
    "    r\"^\\d{1,2}/\\d{1,2}/\\d{4}\\s+\\d{1,2}:\\d{2}\\s*(?:AM|PM)$\"\n",
    ")\n",
    "\n",
    "def extract_timestamp(s):\n",
    "    if not isinstance(s, str):\n",
    "        return None\n",
    "\n",
    "    candidates = []\n",
    "\n",
    "    # Method 1\n",
    "    part = s.split(\"    \")[0]\n",
    "    pieces = part.split(\":\", 1)\n",
    "    if len(pieces) > 1:\n",
    "        candidates.append(pieces[1].strip().split(\"  \")[0])\n",
    "\n",
    "    # Method 2\n",
    "    pieces = part.split(\"  \", 1)\n",
    "    if len(pieces) > 1:\n",
    "        candidates.append(pieces[1].strip().split(\"  \")[0])\n",
    "\n",
    "    # Method 3\n",
    "    alt = s.split(\"    \")\n",
    "    if len(alt) > 1:\n",
    "        candidates.append(alt[1].strip())\n",
    "\n",
    "    # Validate each candidate\n",
    "    for r in candidates:\n",
    "        if len(r) >= 18 and _TIMESTAMP_RE.fullmatch(r):\n",
    "            return r\n",
    "\n",
    "def filter_notes_before_report(row):\n",
    "    dates       = pd.to_datetime(row['deid_service_dates'], errors='coerce')\n",
    "    report_date = pd.to_datetime(row['radiology_report_date'], errors='coerce')\n",
    "    mask = dates < report_date\n",
    "    filtered = {\n",
    "        'note_texts'        : [d for d, keep in zip(row['note_texts'], mask)    if keep],\n",
    "        'enc_dept_names'    : [d for d, keep in zip(row['enc_dept_names'], mask)    if keep],\n",
    "        'note_types'        : [t for t, keep in zip(row['note_types'], mask)        if keep],\n",
    "        'auth_prov_types'   : [p for p, keep in zip(row['auth_prov_types'], mask)   if keep],\n",
    "        'deid_service_dates': [s for s, keep in zip(row['deid_service_dates'], mask) if keep],\n",
    "    }\n",
    "    return pd.Series(filtered)\n",
    "\n",
    "indication_dataset_reader_study = indication_dataset.copy()\n",
    "raw_times = indication_dataset_reader_study[\"radiology_text\"].apply(extract_timestamp)\n",
    "indication_dataset_reader_study['radiology_report_date'] = pd.to_datetime(\n",
    "    raw_times,\n",
    "    format='%m/%d/%Y %I:%M %p',   \n",
    "    errors='coerce'                \n",
    ")\n",
    "\n",
    "filtered = indication_dataset_reader_study.apply(filter_notes_before_report, axis=1, result_type='expand')\n",
    "\n",
    "indication_dataset_reader_study[[\n",
    "    'note_texts',\n",
    "    'enc_dept_names',\n",
    "    'note_types',\n",
    "    'auth_prov_types',\n",
    "    'deid_service_dates'\n",
    "]] = filtered\n",
    "\n",
    "indication_dataset_reader_study = indication_dataset_reader_study[\n",
    "    indication_dataset_reader_study[\"note_texts\"].apply(len) > 0\n",
    "].reset_index(drop=True)"
   ]
  },
  {
   "cell_type": "code",
   "execution_count": 15,
   "id": "90594dfc-8b33-4897-8be8-4bfd86e772ab",
   "metadata": {},
   "outputs": [
    {
     "name": "stdout",
     "output_type": "stream",
     "text": [
      "LLM Automated Evaluation Dataset\n",
      "962 1000 9505\n",
      "--------------------\n",
      "Reader Evaluation Dataset\n",
      "247 250 2127\n"
     ]
    }
   ],
   "source": [
    "RANDOM_STATE = 123\n",
    "MIN_LENGTH = 200\n",
    "\n",
    "BODY_SYSTEMS = [\"Head\", \"Neck\", \"MSK\", \"Abdomen/Pelvis\", \"Chest\"]\n",
    "PATHOPHYSIOLOGICAL_CATEGORIES = [\"Cancer/Mass\", \"Symptom-based\", \"Surgical\", \"Infection/Inflammatory\", \"Structural\"]\n",
    "\n",
    "def average_note_length(notes):\n",
    "    average = 0\n",
    "    for note in notes:\n",
    "        average += len(note.split())\n",
    "    return average / len(notes)\n",
    "\n",
    "def stratify(dataset, total_samples):\n",
    "    n_samples = total_samples // (len(BODY_SYSTEMS) * len(PATHOPHYSIOLOGICAL_CATEGORIES))\n",
    "    stratified_dataset = []\n",
    "    for body_system in BODY_SYSTEMS:\n",
    "        for pathophysiological_category in PATHOPHYSIOLOGICAL_CATEGORIES:\n",
    "            subset = dataset[\n",
    "                (dataset[\"body_system\"] == body_system) & \n",
    "                (dataset[\"pathophysiological_category\"] == pathophysiological_category)\n",
    "            ].sample(\n",
    "                n=n_samples, random_state=RANDOM_STATE\n",
    "            ).reset_index(drop=True)\n",
    "            stratified_dataset.append(subset)\n",
    "    return pd.concat(stratified_dataset).sample(frac=1).reset_index(drop=True)\n",
    "\n",
    "llm_automated_evaluation_dataset = stratify(indication_dataset, total_samples=1000)\n",
    "print(\"LLM Automated Evaluation Dataset\")\n",
    "print(\n",
    "    llm_automated_evaluation_dataset[\"patientdurablekey\"].nunique(),\n",
    "    llm_automated_evaluation_dataset[\"radiology_deid_note_key\"].nunique(),\n",
    "    llm_automated_evaluation_dataset[\"note_texts\"].apply(len).sum()\n",
    ")\n",
    "print(\"-\" * 20)\n",
    "\n",
    "subset = indication_dataset_reader_study[indication_dataset_reader_study[\"note_texts\"].apply(average_note_length) > MIN_LENGTH]\n",
    "reader_evaluation_dataset = stratify(subset, total_samples=250)\n",
    "print(\"Reader Evaluation Dataset\")\n",
    "print(\n",
    "    reader_evaluation_dataset[\"patientdurablekey\"].nunique(),\n",
    "    reader_evaluation_dataset[\"radiology_deid_note_key\"].nunique(),\n",
    "    reader_evaluation_dataset[\"note_texts\"].apply(len).sum()\n",
    ")"
   ]
  },
  {
   "cell_type": "code",
   "execution_count": 16,
   "id": "85a8659b",
   "metadata": {},
   "outputs": [
    {
     "data": {
      "text/plain": [
       "imaging_modality\n",
       "CT       584\n",
       "MRI      307\n",
       "US        73\n",
       "XR        31\n",
       "Other      5\n",
       "Name: count, dtype: int64"
      ]
     },
     "execution_count": 16,
     "metadata": {},
     "output_type": "execute_result"
    }
   ],
   "source": [
    "llm_automated_evaluation_dataset[\"imaging_modality\"].value_counts()"
   ]
  },
  {
   "cell_type": "code",
   "execution_count": 17,
   "id": "a9ceb6b0",
   "metadata": {},
   "outputs": [
    {
     "data": {
      "text/plain": [
       "body_system\n",
       "Chest             200\n",
       "MSK               200\n",
       "Neck              200\n",
       "Abdomen/Pelvis    200\n",
       "Head              200\n",
       "Name: count, dtype: int64"
      ]
     },
     "execution_count": 17,
     "metadata": {},
     "output_type": "execute_result"
    }
   ],
   "source": [
    "llm_automated_evaluation_dataset[\"body_system\"].value_counts()"
   ]
  },
  {
   "cell_type": "code",
   "execution_count": 18,
   "id": "f1ba474f",
   "metadata": {},
   "outputs": [
    {
     "data": {
      "text/plain": [
       "pathophysiological_category\n",
       "Cancer/Mass               200\n",
       "Infection/Inflammatory    200\n",
       "Structural                200\n",
       "Surgical                  200\n",
       "Symptom-based             200\n",
       "Name: count, dtype: int64"
      ]
     },
     "execution_count": 18,
     "metadata": {},
     "output_type": "execute_result"
    }
   ],
   "source": [
    "llm_automated_evaluation_dataset[\"pathophysiological_category\"].value_counts()"
   ]
  },
  {
   "cell_type": "code",
   "execution_count": 19,
   "id": "0de19a55",
   "metadata": {},
   "outputs": [
    {
     "data": {
      "text/plain": [
       "imaging_modality\n",
       "CT       153\n",
       "MRI       65\n",
       "US        21\n",
       "XR         7\n",
       "Other      4\n",
       "Name: count, dtype: int64"
      ]
     },
     "execution_count": 19,
     "metadata": {},
     "output_type": "execute_result"
    }
   ],
   "source": [
    "reader_evaluation_dataset[\"imaging_modality\"].value_counts()"
   ]
  },
  {
   "cell_type": "code",
   "execution_count": 20,
   "id": "9e54d222",
   "metadata": {},
   "outputs": [
    {
     "data": {
      "text/plain": [
       "body_system\n",
       "Chest             50\n",
       "Neck              50\n",
       "MSK               50\n",
       "Head              50\n",
       "Abdomen/Pelvis    50\n",
       "Name: count, dtype: int64"
      ]
     },
     "execution_count": 20,
     "metadata": {},
     "output_type": "execute_result"
    }
   ],
   "source": [
    "reader_evaluation_dataset[\"body_system\"].value_counts()"
   ]
  },
  {
   "cell_type": "code",
   "execution_count": 21,
   "id": "a17f99d8",
   "metadata": {},
   "outputs": [
    {
     "data": {
      "text/plain": [
       "pathophysiological_category\n",
       "Structural                50\n",
       "Symptom-based             50\n",
       "Surgical                  50\n",
       "Infection/Inflammatory    50\n",
       "Cancer/Mass               50\n",
       "Name: count, dtype: int64"
      ]
     },
     "execution_count": 21,
     "metadata": {},
     "output_type": "execute_result"
    }
   ],
   "source": [
    "reader_evaluation_dataset[\"pathophysiological_category\"].value_counts()"
   ]
  },
  {
   "cell_type": "code",
   "execution_count": 115,
   "id": "6ea1e9cc",
   "metadata": {},
   "outputs": [],
   "source": [
    "llm_automated_evaluation_dataset.to_parquet(\"llm_automated_evaluation_dataset.parquet\")\n",
    "reader_evaluation_dataset.to_parquet(\"reader_evaluation_dataset.parquet\")"
   ]
  }
 ],
 "metadata": {
  "kernelspec": {
   "display_name": "report_gen",
   "language": "python",
   "name": "report_gen"
  },
  "language_info": {
   "codemirror_mode": {
    "name": "ipython",
    "version": 3
   },
   "file_extension": ".py",
   "mimetype": "text/x-python",
   "name": "python",
   "nbconvert_exporter": "python",
   "pygments_lexer": "ipython3",
   "version": "3.11.4"
  }
 },
 "nbformat": 4,
 "nbformat_minor": 5
}
