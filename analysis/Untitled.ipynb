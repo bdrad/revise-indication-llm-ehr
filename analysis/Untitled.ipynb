{
 "cells": [
  {
   "cell_type": "code",
   "execution_count": 6,
   "id": "61601aba",
   "metadata": {},
   "outputs": [
    {
     "name": "stdout",
     "output_type": "stream",
     "text": [
      "llama.csv\t\t mistral.csv\t\t    qwen.csv\r\n",
      "llama_medcon_scores.csv  mistral_medcon_scores.csv  qwen_medcon_scores.csv\r\n",
      "llama_medcon_temp.csv\t mistral_medcon_temp.csv    qwen_medcon_temp.csv\r\n"
     ]
    }
   ],
   "source": [
    "!ls llm_evaluation_scores"
   ]
  },
  {
   "cell_type": "code",
   "execution_count": 5,
   "id": "e6d366d2",
   "metadata": {},
   "outputs": [
    {
     "name": "stderr",
     "output_type": "stream",
     "text": [
      "/home/bdrad/miniconda3/envs/report_gen/lib/python3.10/site-packages/pandas/core/arrays/masked.py:60: UserWarning: Pandas requires version '1.3.6' or newer of 'bottleneck' (version '1.3.5' currently installed).\n",
      "  from pandas.core import (\n"
     ]
    },
    {
     "data": {
      "text/html": [
       "<div>\n",
       "<style scoped>\n",
       "    .dataframe tbody tr th:only-of-type {\n",
       "        vertical-align: middle;\n",
       "    }\n",
       "\n",
       "    .dataframe tbody tr th {\n",
       "        vertical-align: top;\n",
       "    }\n",
       "\n",
       "    .dataframe thead th {\n",
       "        text-align: right;\n",
       "    }\n",
       "</style>\n",
       "<table border=\"1\" class=\"dataframe\">\n",
       "  <thead>\n",
       "    <tr style=\"text-align: right;\">\n",
       "      <th></th>\n",
       "      <th>model</th>\n",
       "      <th>rouge_mean</th>\n",
       "      <th>rouge_std</th>\n",
       "      <th>rouge_ci_lower</th>\n",
       "      <th>rouge_ci_upper</th>\n",
       "      <th>medcon_mean</th>\n",
       "      <th>medcon_std</th>\n",
       "      <th>medcon_ci_lower</th>\n",
       "      <th>medcon_ci_upper</th>\n",
       "      <th>radgraph_mean</th>\n",
       "      <th>radgraph_std</th>\n",
       "      <th>radgraph_ci_lower</th>\n",
       "      <th>radgraph_ci_upper</th>\n",
       "    </tr>\n",
       "  </thead>\n",
       "  <tbody>\n",
       "    <tr>\n",
       "      <th>0</th>\n",
       "      <td>meta-llama_Meta-Llama-3.1-8B-Instruct</td>\n",
       "      <td>0.196988</td>\n",
       "      <td>0.013538</td>\n",
       "      <td>0.17162</td>\n",
       "      <td>0.224815</td>\n",
       "      <td>0.209725</td>\n",
       "      <td>0.017656</td>\n",
       "      <td>0.175961</td>\n",
       "      <td>0.244991</td>\n",
       "      <td>0.017136</td>\n",
       "      <td>0.006298</td>\n",
       "      <td>0.006263</td>\n",
       "      <td>0.03066</td>\n",
       "    </tr>\n",
       "  </tbody>\n",
       "</table>\n",
       "</div>"
      ],
      "text/plain": [
       "                                   model  rouge_mean  rouge_std  \\\n",
       "0  meta-llama_Meta-Llama-3.1-8B-Instruct    0.196988   0.013538   \n",
       "\n",
       "   rouge_ci_lower  rouge_ci_upper  medcon_mean  medcon_std  medcon_ci_lower  \\\n",
       "0         0.17162        0.224815     0.209725    0.017656         0.175961   \n",
       "\n",
       "   medcon_ci_upper  radgraph_mean  radgraph_std  radgraph_ci_lower  \\\n",
       "0         0.244991       0.017136      0.006298           0.006263   \n",
       "\n",
       "   radgraph_ci_upper  \n",
       "0            0.03066  "
      ]
     },
     "execution_count": 5,
     "metadata": {},
     "output_type": "execute_result"
    }
   ],
   "source": [
    "import pandas as pd\n",
    "pd.read_csv(\"llm_evaluation_scores/llama.csv\")"
   ]
  },
  {
   "cell_type": "code",
   "execution_count": 4,
   "id": "646a7db3",
   "metadata": {},
   "outputs": [
    {
     "ename": "NameError",
     "evalue": "name 'pd' is not defined",
     "output_type": "error",
     "traceback": [
      "\u001b[0;31m---------------------------------------------------------------------------\u001b[0m",
      "\u001b[0;31mNameError\u001b[0m                                 Traceback (most recent call last)",
      "Cell \u001b[0;32mIn[4], line 1\u001b[0m\n\u001b[0;32m----> 1\u001b[0m \u001b[43mpd\u001b[49m\u001b[38;5;241m.\u001b[39mread_csv(\u001b[38;5;124m\"\u001b[39m\u001b[38;5;124mllm_evaluation_scores/llama.csv\u001b[39m\u001b[38;5;124m\"\u001b[39m)\n",
      "\u001b[0;31mNameError\u001b[0m: name 'pd' is not defined"
     ]
    }
   ],
   "source": [
    "pd.read_csv(\"llm_evaluation_scores/llama.csv\")"
   ]
  }
 ],
 "metadata": {
  "kernelspec": {
   "display_name": "report_gen",
   "language": "python",
   "name": "report_gen"
  },
  "language_info": {
   "codemirror_mode": {
    "name": "ipython",
    "version": 3
   },
   "file_extension": ".py",
   "mimetype": "text/x-python",
   "name": "python",
   "nbconvert_exporter": "python",
   "pygments_lexer": "ipython3",
   "version": "3.10.9"
  }
 },
 "nbformat": 4,
 "nbformat_minor": 5
}
