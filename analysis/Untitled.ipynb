{
 "cells": [
  {
   "cell_type": "code",
   "execution_count": 4,
   "id": "82b1d919",
   "metadata": {},
   "outputs": [
    {
     "name": "stderr",
     "output_type": "stream",
     "text": [
      "/home/bdrad/miniconda3/envs/report_gen/lib/python3.10/site-packages/pandas/core/arrays/masked.py:60: UserWarning: Pandas requires version '1.3.6' or newer of 'bottleneck' (version '1.3.5' currently installed).\n",
      "  from pandas.core import (\n"
     ]
    },
    {
     "data": {
      "text/html": [
       "<div>\n",
       "<style scoped>\n",
       "    .dataframe tbody tr th:only-of-type {\n",
       "        vertical-align: middle;\n",
       "    }\n",
       "\n",
       "    .dataframe tbody tr th {\n",
       "        vertical-align: top;\n",
       "    }\n",
       "\n",
       "    .dataframe thead th {\n",
       "        text-align: right;\n",
       "    }\n",
       "</style>\n",
       "<table border=\"1\" class=\"dataframe\">\n",
       "  <thead>\n",
       "    <tr style=\"text-align: right;\">\n",
       "      <th></th>\n",
       "      <th>model</th>\n",
       "      <th>rouge_mean</th>\n",
       "      <th>rouge_std</th>\n",
       "      <th>rouge_ci_lower</th>\n",
       "      <th>rouge_ci_upper</th>\n",
       "      <th>medcon_mean</th>\n",
       "      <th>medcon_std</th>\n",
       "      <th>medcon_ci_lower</th>\n",
       "      <th>medcon_ci_upper</th>\n",
       "      <th>radgraph_mean</th>\n",
       "      <th>radgraph_std</th>\n",
       "      <th>radgraph_ci_lower</th>\n",
       "      <th>radgraph_ci_upper</th>\n",
       "    </tr>\n",
       "  </thead>\n",
       "  <tbody>\n",
       "    <tr>\n",
       "      <th>0</th>\n",
       "      <td>mistralai_Mistral-7B-Instruct-v0.3</td>\n",
       "      <td>0.171457</td>\n",
       "      <td>0.011417</td>\n",
       "      <td>0.14939</td>\n",
       "      <td>0.194335</td>\n",
       "      <td>0.195732</td>\n",
       "      <td>0.017765</td>\n",
       "      <td>0.161643</td>\n",
       "      <td>0.230288</td>\n",
       "      <td>0.017037</td>\n",
       "      <td>0.006263</td>\n",
       "      <td>0.006246</td>\n",
       "      <td>0.030451</td>\n",
       "    </tr>\n",
       "  </tbody>\n",
       "</table>\n",
       "</div>"
      ],
      "text/plain": [
       "                                model  rouge_mean  rouge_std  rouge_ci_lower  \\\n",
       "0  mistralai_Mistral-7B-Instruct-v0.3    0.171457   0.011417         0.14939   \n",
       "\n",
       "   rouge_ci_upper  medcon_mean  medcon_std  medcon_ci_lower  medcon_ci_upper  \\\n",
       "0        0.194335     0.195732    0.017765         0.161643         0.230288   \n",
       "\n",
       "   radgraph_mean  radgraph_std  radgraph_ci_lower  radgraph_ci_upper  \n",
       "0       0.017037      0.006263           0.006246           0.030451  "
      ]
     },
     "execution_count": 4,
     "metadata": {},
     "output_type": "execute_result"
    }
   ],
   "source": [
    "import pandas as pd\n",
    "pd.read_csv(\"llm_evaluation_scores/mistral.csv\")"
   ]
  }
 ],
 "metadata": {
  "kernelspec": {
   "display_name": "report_gen",
   "language": "python",
   "name": "report_gen"
  },
  "language_info": {
   "codemirror_mode": {
    "name": "ipython",
    "version": 3
   },
   "file_extension": ".py",
   "mimetype": "text/x-python",
   "name": "python",
   "nbconvert_exporter": "python",
   "pygments_lexer": "ipython3",
   "version": "3.10.9"
  }
 },
 "nbformat": 4,
 "nbformat_minor": 5
}
