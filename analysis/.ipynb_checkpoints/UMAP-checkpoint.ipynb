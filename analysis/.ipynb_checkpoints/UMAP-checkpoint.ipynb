{
 "cells": [
  {
   "cell_type": "code",
   "execution_count": 6,
   "id": "c1cd2f58",
   "metadata": {},
   "outputs": [],
   "source": [
    "import umap.umap_ as umap\n",
    "import polars as pl\n",
    "from transformers import AutoTokenizer, AutoModel\n",
    "import torch\n",
    "import tqdm\n",
    "\n",
    "import matplotlib.pyplot as plt\n",
    "from sklearn.manifold import TSNE\n",
    "import pandas as pd\n",
    "import numpy as np\n",
    "import umap"
   ]
  },
  {
   "cell_type": "code",
   "execution_count": 2,
   "id": "0a07495c",
   "metadata": {},
   "outputs": [],
   "source": [
    "DATASET = \"llm_balanced_test_dataset\"\n",
    "dataset_processed = pl.read_parquet(f\"/mnt/sohn2022/Adrian/llm-revise-indication-notes/dataset_curation/{DATASET}_processed.parquet\").to_pandas().fillna(\"None\")"
   ]
  },
  {
   "cell_type": "code",
   "execution_count": 3,
   "id": "9b68247e",
   "metadata": {},
   "outputs": [
    {
     "name": "stderr",
     "output_type": "stream",
     "text": [
      "2024-11-06 13:51:22.322720: E tensorflow/compiler/xla/stream_executor/cuda/cuda_dnn.cc:9342] Unable to register cuDNN factory: Attempting to register factory for plugin cuDNN when one has already been registered\n",
      "2024-11-06 13:51:22.322751: E tensorflow/compiler/xla/stream_executor/cuda/cuda_fft.cc:609] Unable to register cuFFT factory: Attempting to register factory for plugin cuFFT when one has already been registered\n",
      "2024-11-06 13:51:22.322779: E tensorflow/compiler/xla/stream_executor/cuda/cuda_blas.cc:1518] Unable to register cuBLAS factory: Attempting to register factory for plugin cuBLAS when one has already been registered\n",
      "2024-11-06 13:51:22.329537: I tensorflow/core/platform/cpu_feature_guard.cc:182] This TensorFlow binary is optimized to use available CPU instructions in performance-critical operations.\n",
      "To enable the following instructions: AVX2 FMA, in other operations, rebuild TensorFlow with the appropriate compiler flags.\n",
      "2024-11-06 13:51:22.955023: W tensorflow/compiler/tf2tensorrt/utils/py_utils.cc:38] TF-TRT Warning: Could not find TensorRT\n",
      "Some weights of RobertaModel were not initialized from the model checkpoint at UCSD-VA-health/RadBERT-RoBERTa-4m and are newly initialized: ['roberta.pooler.dense.bias', 'roberta.pooler.dense.weight']\n",
      "You should probably TRAIN this model on a down-stream task to be able to use it for predictions and inference.\n"
     ]
    }
   ],
   "source": [
    "MODEL_NAME = \"UCSD-VA-health/RadBERT-RoBERTa-4m\"\n",
    "tokenizer = AutoTokenizer.from_pretrained(MODEL_NAME)\n",
    "model = AutoModel.from_pretrained(MODEL_NAME)"
   ]
  },
  {
   "cell_type": "code",
   "execution_count": 4,
   "id": "70ed03b6",
   "metadata": {},
   "outputs": [
    {
     "name": "stderr",
     "output_type": "stream",
     "text": [
      "100%|█████████████████████████████████████████████████████████████████████████████████| 10000/10000 [04:24<00:00, 37.86it/s]\n"
     ]
    }
   ],
   "source": [
    "text_embeddings = []\n",
    "for i in tqdm.tqdm(range(len(dataset_processed))):\n",
    "    text = dataset_processed.iloc[i][\"radiologist_indication\"]\n",
    "    inputs = tokenizer(text, return_tensors=\"pt\", padding=True, truncation=True)\n",
    "    with torch.no_grad():\n",
    "        outputs = model(**inputs)\n",
    "        embeddings = outputs.last_hidden_state[0]\n",
    "        embeddings = embeddings.mean(dim=0)\n",
    "        text_embeddings.append(embeddings)"
   ]
  },
  {
   "cell_type": "code",
   "execution_count": 5,
   "id": "2b8bb58f",
   "metadata": {},
   "outputs": [],
   "source": [
    "dataset_processed[\"embeddings\"] = text_embeddings"
   ]
  },
  {
   "cell_type": "code",
   "execution_count": 6,
   "id": "5b46f0f7",
   "metadata": {},
   "outputs": [
    {
     "data": {
      "text/plain": [
       "torch.Size([768])"
      ]
     },
     "execution_count": 6,
     "metadata": {},
     "output_type": "execute_result"
    }
   ],
   "source": [
    "dataset_processed[\"embeddings\"].values[0].shape"
   ]
  },
  {
   "cell_type": "code",
   "execution_count": null,
   "id": "e071c822",
   "metadata": {},
   "outputs": [
    {
     "name": "stderr",
     "output_type": "stream",
     "text": [
      "Exception ignored on calling ctypes callback function: <function _ThreadpoolInfo._find_modules_with_dl_iterate_phdr.<locals>.match_module_callback at 0x7f75edc42830>\n",
      "Traceback (most recent call last):\n",
      "  File \"/home/bdrad/miniconda3/envs/report_gen/lib/python3.10/site-packages/threadpoolctl.py\", line 400, in match_module_callback\n",
      "    self._make_module_from_path(filepath)\n",
      "  File \"/home/bdrad/miniconda3/envs/report_gen/lib/python3.10/site-packages/threadpoolctl.py\", line 515, in _make_module_from_path\n",
      "    module = module_class(filepath, prefix, user_api, internal_api)\n",
      "  File \"/home/bdrad/miniconda3/envs/report_gen/lib/python3.10/site-packages/threadpoolctl.py\", line 606, in __init__\n",
      "    self.version = self.get_version()\n",
      "  File \"/home/bdrad/miniconda3/envs/report_gen/lib/python3.10/site-packages/threadpoolctl.py\", line 646, in get_version\n",
      "    config = get_config().split()\n",
      "AttributeError: 'NoneType' object has no attribute 'split'\n"
     ]
    }
   ],
   "source": [
    "embeddings = np.stack(dataset_processed[\"embeddings\"].values)  \n",
    "umap.UMAP().fit_transform(embeddings)"
   ]
  },
  {
   "cell_type": "code",
   "execution_count": null,
   "id": "e4700b3a",
   "metadata": {},
   "outputs": [
    {
     "name": "stderr",
     "output_type": "stream",
     "text": [
      "Exception ignored on calling ctypes callback function: <function _ThreadpoolInfo._find_modules_with_dl_iterate_phdr.<locals>.match_module_callback at 0x7f3330caad40>\n",
      "Traceback (most recent call last):\n",
      "  File \"/home/bdrad/miniconda3/envs/report_gen/lib/python3.10/site-packages/threadpoolctl.py\", line 400, in match_module_callback\n",
      "    self._make_module_from_path(filepath)\n",
      "  File \"/home/bdrad/miniconda3/envs/report_gen/lib/python3.10/site-packages/threadpoolctl.py\", line 515, in _make_module_from_path\n",
      "    module = module_class(filepath, prefix, user_api, internal_api)\n",
      "  File \"/home/bdrad/miniconda3/envs/report_gen/lib/python3.10/site-packages/threadpoolctl.py\", line 606, in __init__\n",
      "    self.version = self.get_version()\n",
      "  File \"/home/bdrad/miniconda3/envs/report_gen/lib/python3.10/site-packages/threadpoolctl.py\", line 646, in get_version\n",
      "    config = get_config().split()\n",
      "AttributeError: 'NoneType' object has no attribute 'split'\n"
     ]
    }
   ],
   "source": [
    "\n",
    "\n",
    "# # Run t-SNE on the embeddings\n",
    "# embeddings = np.stack(dataset_processed[\"embeddings\"].values)  # Stack embeddings into an array\n",
    "# tsne = TSNE(n_components=2, random_state=42)\n",
    "# embeddings_2d = tsne.fit_transform(embeddings)\n",
    "\n",
    "# # Add t-SNE results to the DataFrame\n",
    "# dataset_processed['tsne_x'] = embeddings_2d[:, 0]\n",
    "# dataset_processed['tsne_y'] = embeddings_2d[:, 1]\n",
    "\n",
    "# # Plot t-SNE results\n",
    "# plt.figure(figsize=(12, 8))\n",
    "# plt.scatter(df['tsne_x'], df['tsne_y'], alpha=0.6)\n",
    "\n",
    "# # Annotate selected samples with text from 'radiologist_indication'\n",
    "# num_annotations = 20  # Adjust the number of annotations you want\n",
    "# sampled_df = df.sample(n=num_annotations, random_state=42)  # Randomly sample for annotation\n",
    "\n",
    "# for _, row in sampled_df.iterrows():\n",
    "#     plt.text(row['tsne_x'], row['tsne_y'], row['radiologist_indication'], fontsize=9, ha='right')\n",
    "\n",
    "# plt.xlabel('t-SNE Dimension 1')\n",
    "# plt.ylabel('t-SNE Dimension 2')\n",
    "# plt.title('t-SNE Visualization of Embeddings with Sample Annotations')\n",
    "# plt.show()\n"
   ]
  }
 ],
 "metadata": {
  "kernelspec": {
   "display_name": "report_gen",
   "language": "python",
   "name": "report_gen"
  },
  "language_info": {
   "codemirror_mode": {
    "name": "ipython",
    "version": 3
   },
   "file_extension": ".py",
   "mimetype": "text/x-python",
   "name": "python",
   "nbconvert_exporter": "python",
   "pygments_lexer": "ipython3",
   "version": "3.10.9"
  }
 },
 "nbformat": 4,
 "nbformat_minor": 5
}
