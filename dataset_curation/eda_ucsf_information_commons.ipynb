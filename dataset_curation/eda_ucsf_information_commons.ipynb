{
 "cells": [
  {
   "cell_type": "code",
   "execution_count": 44,
   "id": "ebe57588",
   "metadata": {},
   "outputs": [],
   "source": [
    "import os\n",
    "import pandas as pd\n",
    "import tqdm\n",
    "import regex as re\n",
    "import polars as pl\n",
    "import tiktoken\n",
    "\n",
    "RANDOM_STATE = 123"
   ]
  },
  {
   "cell_type": "code",
   "execution_count": 2,
   "id": "943bf488",
   "metadata": {},
   "outputs": [],
   "source": [
    "def categorize_body_group(exam_type):\n",
    "    categories = {\n",
    "        \"Head\": [\"HEAD\", \"BRAIN\", \"STROKE PROTOCOL\", \"NEURO\"],\n",
    "        \"Abdomen/Pelvis\": [\"ABDOMEN\", \"PELVIS\", \"PROSTATE\", \"RENAL\", \"MRCP\", \"UROGRAM\"],\n",
    "        \"MSK\": [\"KNEE\", \"HIP\", \"SHOULDER\", \"EXTREMITY\", \"SPINE\", \"LUMBAR\", \n",
    "                \"CERVICAL\", \"SCOLIOSIS\", \"JOINT\"],\n",
    "        \"Chest\": [\"CHEST\", \"CARDIAC\", \"PULMONARY EMBOLISM\", \"CTA\", \"HEART\"],\n",
    "        \"Neck\": [\"FACE\", \"NECK\", \"CRANIOFACIAL\", \"MAXILLOFACIAL\", \"ORBIT\", \"TEMPORAL BONE\", \n",
    "                 \"SINUS\", \"THYROID\", \"MANDIBLE\", \"SKULL\"]\n",
    "    }\n",
    "    \n",
    "    for category, keywords in categories.items():\n",
    "        if any(keyword in exam_type for keyword in keywords):\n",
    "            return category\n",
    "    return \"Other\"\n",
    "\n",
    "def categorize_imaging_modality(exam_type):\n",
    "    categories = {\n",
    "        \"MRI\": [\"MR\", \"MRI\"],\n",
    "        \"CT\": [\"CT\", \"CTA\"],\n",
    "        \"XR\": [\"XR\"],\n",
    "        \"US\": [\"US\"]\n",
    "    }\n",
    "    \n",
    "    for category, keywords in categories.items():\n",
    "        if any(keyword in exam_type for keyword in keywords):\n",
    "            return category\n",
    "    return \"Other\""
   ]
  },
  {
   "cell_type": "markdown",
   "id": "9210c176",
   "metadata": {},
   "source": [
    "# Clinical Indication Dataset"
   ]
  },
  {
   "cell_type": "code",
   "execution_count": null,
   "id": "fa153c91",
   "metadata": {},
   "outputs": [],
   "source": [
    "clinical_indication_dataset = []\n",
    "for i in tqdm.tqdm(range(1, 7)):\n",
    "    clinical_indication_dataset.append(pd.read_parquet(f\"clinical_indication_dataset_shard{i}.parquet\"))\n",
    "clinical_indication_dataset = pd.concat(clinical_indication_dataset)"
   ]
  },
  {
   "cell_type": "markdown",
   "id": "54ec3d5d",
   "metadata": {},
   "source": [
    "# LLM Balanced Test Dataset"
   ]
  },
  {
   "cell_type": "code",
   "execution_count": 60,
   "id": "2c880b9d",
   "metadata": {},
   "outputs": [],
   "source": [
    "llm_balanced_test_dataset = pd.read_parquet(\"llm_balanced_test_dataset.parquet\")"
   ]
  },
  {
   "cell_type": "code",
   "execution_count": 61,
   "id": "01fe2acb",
   "metadata": {},
   "outputs": [
    {
     "data": {
      "text/plain": [
       "2332093"
      ]
     },
     "execution_count": 61,
     "metadata": {},
     "output_type": "execute_result"
    }
   ],
   "source": [
    "len(llm_balanced_test_dataset)"
   ]
  },
  {
   "cell_type": "code",
   "execution_count": 62,
   "id": "80e2df33",
   "metadata": {},
   "outputs": [
    {
     "data": {
      "text/plain": [
       "8678"
      ]
     },
     "execution_count": 62,
     "metadata": {},
     "output_type": "execute_result"
    }
   ],
   "source": [
    "llm_balanced_test_dataset[\"patientdurablekey\"].nunique()"
   ]
  },
  {
   "cell_type": "code",
   "execution_count": 63,
   "id": "a4205277",
   "metadata": {},
   "outputs": [
    {
     "data": {
      "text/plain": [
       "10000"
      ]
     },
     "execution_count": 63,
     "metadata": {},
     "output_type": "execute_result"
    }
   ],
   "source": [
    "len(llm_balanced_test_dataset[~llm_balanced_test_dataset[\"exam_type\"].isna()])"
   ]
  },
  {
   "cell_type": "code",
   "execution_count": 64,
   "id": "516990b6",
   "metadata": {},
   "outputs": [
    {
     "data": {
      "text/plain": [
       "body_group\n",
       "Abdomen/Pelvis    2000\n",
       "Chest             2000\n",
       "Head              2000\n",
       "MSK               2000\n",
       "Neck              2000\n",
       "Name: count, dtype: int64"
      ]
     },
     "execution_count": 64,
     "metadata": {},
     "output_type": "execute_result"
    }
   ],
   "source": [
    "llm_balanced_test_dataset[\"body_group\"].value_counts()"
   ]
  },
  {
   "cell_type": "code",
   "execution_count": 65,
   "id": "55187a9b",
   "metadata": {},
   "outputs": [
    {
     "data": {
      "text/plain": [
       "imaging_modality\n",
       "CT     6998\n",
       "MRI    2822\n",
       "US      122\n",
       "XR       58\n",
       "Name: count, dtype: int64"
      ]
     },
     "execution_count": 65,
     "metadata": {},
     "output_type": "execute_result"
    }
   ],
   "source": [
    "llm_balanced_test_dataset[\"imaging_modality\"].value_counts()"
   ]
  },
  {
   "cell_type": "code",
   "execution_count": 66,
   "id": "27b14381",
   "metadata": {},
   "outputs": [
    {
     "data": {
      "text/plain": [
       "imaging_modality\n",
       "CT     69.98\n",
       "MRI    28.22\n",
       "US      1.22\n",
       "XR      0.58\n",
       "Name: proportion, dtype: float64"
      ]
     },
     "execution_count": 66,
     "metadata": {},
     "output_type": "execute_result"
    }
   ],
   "source": [
    "llm_balanced_test_dataset[\"imaging_modality\"].value_counts(normalize=True)*100"
   ]
  },
  {
   "cell_type": "code",
   "execution_count": 17,
   "id": "52d43f6e",
   "metadata": {},
   "outputs": [],
   "source": [
    "llm_balanced_test_dataset_processed = pl.read_parquet(\"llm_balanced_test_dataset_processed.parquet\").to_pandas()"
   ]
  },
  {
   "cell_type": "code",
   "execution_count": 20,
   "id": "473073a5",
   "metadata": {},
   "outputs": [
    {
     "data": {
      "text/plain": [
       "8678"
      ]
     },
     "execution_count": 20,
     "metadata": {},
     "output_type": "execute_result"
    }
   ],
   "source": [
    "llm_balanced_test_dataset_processed[\"patientdurablekey\"].nunique()"
   ]
  },
  {
   "cell_type": "code",
   "execution_count": 19,
   "id": "7bc3f0d2",
   "metadata": {},
   "outputs": [
    {
     "data": {
      "text/plain": [
       "2332093"
      ]
     },
     "execution_count": 19,
     "metadata": {},
     "output_type": "execute_result"
    }
   ],
   "source": [
    "llm_balanced_test_dataset_processed[\"note_texts_full\"].apply(len).sum() + len(llm_balanced_test_dataset_processed)"
   ]
  },
  {
   "cell_type": "markdown",
   "id": "5ee35272",
   "metadata": {},
   "source": [
    "# Prompt"
   ]
  },
  {
   "cell_type": "code",
   "execution_count": 52,
   "id": "123b87bd",
   "metadata": {},
   "outputs": [],
   "source": [
    "def generate_prompt(exam_type, original_indication, clinical_notes):\n",
    "    clinical_notes_string = \"\\n\".join([n[:2000] for n in clinical_notes])\n",
    "    return f\"\"\"Given the following set of CLINICAL NOTES and ORIGINAL INDICATION, generate a REVISED INDICATION\n",
    "that supplies the relevant clinical history which includes patient's sex and age which may optionally include\n",
    "biopsies, surgeries, resections, treatments, and relevant symptoms to the radiological exam of {exam_type}. \n",
    "If the ORIGINAL INDICATION is for evaluation of oncological or other chronic conditions, make sure to include\n",
    "surgeries, biopsies, and treatments with dates as applicable, up to 30 words. Otherwise, generate only up to \n",
    "15 words or less. Do not add any explanation. \n",
    "\n",
    "(SAMPLE) CLINICAL NOTE:\n",
    "FOLLOW-UP GASTROINTESTINAL MEDICAL ONCOLOGY VISIT \n",
    "Patient name ***** ***** \n",
    "DOB 08/31/1953 Medical record number ***** Date of service 06/16/2021 Referring Provider: Dr. \n",
    "***** ***** ***** ***** Subjective ***** ***** is a 67 y.o. female who presents with the following: \n",
    "Interval history and review of systems \n",
    "\n",
    "Interval History: -06/30/20: CT CAP ***** Pt remains off of pembrolizumab. She is doing well. \n",
    "Only rare loose stools but generally formed stools now . Occasional fatigue. \n",
    "Seeing Dr, ***** for labs and followup. Otherwise full 14-point ROS was negative in detail \n",
    "\n",
    "Oncologic history ***** ***** is a very pleasant 66 y.o. female who was seen in follow-up for esophageal \n",
    "squamous cell carcinoma at our Gastrointestinal Oncology Faculty Practice. The patient had\n",
    "been noticing ***** dysphagia in ***** ***** *****. An upper endoscopy was done on \n",
    "04/23/15 EGD: mass at 25 cm, biopsies demonstrate squamous cell carcinoma in situ. \n",
    "09/07/15 EGD: 1. Half circumferential mass, measuring 3 X 2cm in size, was found; \n",
    "nodular and sub-mucosal; multiple biopsies were performed 2. Hiatal hernia 3. Nodular mass in the\n",
    "proximal esophagus consistent with cancer Pathology: Esophagus, mass at 25 cm, biopsy: \n",
    "At least squamous cell carcinoma in situ; see comment. 08/19/2015: PET/CT Whole Body (vertex to thighs) \n",
    ", 1. Hypermetabolic esophageal mass measuring 2.1 x 1.4 cm, corresponding to the patient's known primary malignancy. \n",
    "No evidence of hypermetabolic lymphadenopathy or distant metastatic disease. \n",
    "2. Scattered solid pulmonary nodules measuring up to 7 mm without associated hypermetabolism.\n",
    "Recommend correlation to prior imaging, if available. Otherwise, further follow-up is \n",
    "recommended as per oncologic protocol. \n",
    "\n",
    "(SAMPLE) ORIGINAL INDICATION:\n",
    "Restaging.\n",
    "\n",
    "(SAMPLE) REVISED INDICATION:\n",
    "Esophageal SCC diagnosed 2015 s/p resection Nov 2015 with negative margins. Follow up FDG PET with \n",
    "suspicious superior mediastinal nodes, s/p adjuvant chemoradiation 2017 with radiation to mediastinal \n",
    "nodes.\n",
    "\n",
    "CLINICAL NOTES:\n",
    "{clinical_notes_string}\n",
    "\n",
    "ORIGINAL INDICATION:\n",
    "{original_indication}\n",
    "\n",
    "REVISED_INDICATION:\n",
    "    \"\"\"\n",
    "\n",
    "tokenizer = tiktoken.get_encoding(\"cl100k_base\")\n",
    "llm_balanced_test_dataset_processed[\"prompt\"] = llm_balanced_test_dataset_processed.apply(\n",
    "    lambda row: generate_prompt(\n",
    "        row[\"exam_type\"], \n",
    "        row[\"original_indication\"], \n",
    "        row[\"note_texts\"]\n",
    "    ), \n",
    "axis=1)\n",
    "llm_balanced_test_dataset_processed[\"input_token_count\"] = llm_balanced_test_dataset_processed[\"prompt\"].apply(lambda x: len(tokenizer.encode(x)))\n",
    "llm_balanced_test_dataset_processed[\"output_token_count\"] = llm_balanced_test_dataset_processed[\"radiologist_indication\"].apply(lambda x: len(tokenizer.encode(x)))"
   ]
  },
  {
   "cell_type": "code",
   "execution_count": 54,
   "id": "9f2244f2",
   "metadata": {
    "scrolled": false
   },
   "outputs": [
    {
     "name": "stdout",
     "output_type": "stream",
     "text": [
      "input tokens (median) 4270.0\n",
      "output tokens (median) 31.0\n"
     ]
    }
   ],
   "source": [
    "print(\"input tokens (median)\", llm_balanced_test_dataset_processed[\"input_token_count\"].median())\n",
    "print(\"output tokens (median)\", llm_balanced_test_dataset_processed[\"output_token_count\"].median())"
   ]
  },
  {
   "cell_type": "markdown",
   "id": "4ac6ed29",
   "metadata": {},
   "source": [
    "# Clinical Indication Dataset without Redactions"
   ]
  },
  {
   "cell_type": "code",
   "execution_count": 21,
   "id": "f6d74f06",
   "metadata": {},
   "outputs": [
    {
     "name": "stderr",
     "output_type": "stream",
     "text": [
      "100%|█████████████████████████████████████████████████████████████████████████████| 6/6 [02:51<00:00, 28.51s/it]\n"
     ]
    }
   ],
   "source": [
    "clinical_indication_dataset_redactions = []\n",
    "for i in tqdm.tqdm(range(1, 7)):\n",
    "    clinical_indication_dataset_redactions.append(pd.read_parquet(f\"clinical_indication_dataset_without_redactions_shard{i}.parquet\"))\n",
    "clinical_indication_dataset_redactions = pd.concat(clinical_indication_dataset_redactions)"
   ]
  },
  {
   "cell_type": "code",
   "execution_count": 22,
   "id": "2de0e26f",
   "metadata": {},
   "outputs": [
    {
     "data": {
      "text/plain": [
       "6210837"
      ]
     },
     "execution_count": 22,
     "metadata": {},
     "output_type": "execute_result"
    }
   ],
   "source": [
    "len(clinical_indication_dataset_redactions)"
   ]
  },
  {
   "cell_type": "code",
   "execution_count": 23,
   "id": "5b3dacb4",
   "metadata": {},
   "outputs": [
    {
     "data": {
      "text/plain": [
       "33611"
      ]
     },
     "execution_count": 23,
     "metadata": {},
     "output_type": "execute_result"
    }
   ],
   "source": [
    "clinical_indication_dataset_redactions[\"patientdurablekey\"].nunique()"
   ]
  },
  {
   "cell_type": "code",
   "execution_count": 24,
   "id": "832c8f44",
   "metadata": {
    "scrolled": true
   },
   "outputs": [
    {
     "data": {
      "text/plain": [
       "58759"
      ]
     },
     "execution_count": 24,
     "metadata": {},
     "output_type": "execute_result"
    }
   ],
   "source": [
    "len(clinical_indication_dataset_redactions[~clinical_indication_dataset_redactions[\"exam_type\"].isna()])"
   ]
  },
  {
   "cell_type": "code",
   "execution_count": 27,
   "id": "4c126513",
   "metadata": {},
   "outputs": [],
   "source": [
    "clinical_indication_dataset_redactions.loc[clinical_indication_dataset_redactions[\"exam_type\"].notna(), \"body_group\"] = clinical_indication_dataset_redactions.loc[clinical_indication_dataset_redactions[\"exam_type\"].notna()][\"exam_type\"].apply(categorize_body_group)\n",
    "clinical_indication_dataset_redactions.loc[clinical_indication_dataset_redactions[\"exam_type\"].notna(), \"imaging_modality\"] = clinical_indication_dataset_redactions.loc[clinical_indication_dataset_redactions[\"exam_type\"].notna()][\"exam_type\"].apply(categorize_imaging_modality)"
   ]
  },
  {
   "cell_type": "code",
   "execution_count": 28,
   "id": "dff17c4d",
   "metadata": {},
   "outputs": [
    {
     "data": {
      "text/plain": [
       "body_group\n",
       "Head              35079\n",
       "MSK                7919\n",
       "Neck               7466\n",
       "Abdomen/Pelvis     4171\n",
       "Chest              3406\n",
       "Other               718\n",
       "Name: count, dtype: int64"
      ]
     },
     "execution_count": 28,
     "metadata": {},
     "output_type": "execute_result"
    }
   ],
   "source": [
    "clinical_indication_dataset_redactions[\"body_group\"].value_counts()"
   ]
  },
  {
   "cell_type": "code",
   "execution_count": 29,
   "id": "5456c49e",
   "metadata": {},
   "outputs": [
    {
     "data": {
      "text/plain": [
       "imaging_modality\n",
       "CT       32044\n",
       "MRI      25666\n",
       "US         442\n",
       "Other      378\n",
       "XR         229\n",
       "Name: count, dtype: int64"
      ]
     },
     "execution_count": 29,
     "metadata": {},
     "output_type": "execute_result"
    }
   ],
   "source": [
    "clinical_indication_dataset_redactions[\"imaging_modality\"].value_counts()"
   ]
  },
  {
   "cell_type": "markdown",
   "id": "f981b3a4",
   "metadata": {},
   "source": [
    "# Reader Study"
   ]
  },
  {
   "cell_type": "code",
   "execution_count": 30,
   "id": "f8e83af0",
   "metadata": {},
   "outputs": [],
   "source": [
    "NUM_PER_BODY_GROUP = 24\n",
    "\n",
    "radiology_reports = clinical_indication_dataset_redactions[\n",
    "    (~clinical_indication_dataset_redactions[\"exam_type\"].isna()) & \n",
    "    (clinical_indication_dataset_redactions[\"body_group\"] != \"Other\")\n",
    "]\n",
    "reader_study_sampled_reports = radiology_reports.groupby('body_group').sample(n=NUM_PER_BODY_GROUP, random_state=RANDOM_STATE)"
   ]
  },
  {
   "cell_type": "code",
   "execution_count": 31,
   "id": "9f0f8c23",
   "metadata": {},
   "outputs": [
    {
     "name": "stderr",
     "output_type": "stream",
     "text": [
      "100%|█████████████████████████████████████████████████████████████████████████| 120/120 [00:39<00:00,  3.08it/s]"
     ]
    },
    {
     "name": "stdout",
     "output_type": "stream",
     "text": [
      "Clinical Reader Study Model Evaluation Dataset\n",
      "====================\n",
      "n_notes 27485\n",
      "n_patients 120\n",
      "n_radiology reports 120\n"
     ]
    },
    {
     "name": "stderr",
     "output_type": "stream",
     "text": [
      "\n"
     ]
    }
   ],
   "source": [
    "reader_study_total_dataset = []\n",
    "for i in tqdm.tqdm(range(len(reader_study_sampled_reports))):\n",
    "    radiology_report = reader_study_sampled_reports.iloc[i]\n",
    "    patient_mrn = radiology_report[\"patientdurablekey\"]\n",
    "    patient_notes = clinical_indication_dataset_redactions[clinical_indication_dataset_redactions[\"patientdurablekey\"] == patient_mrn].copy()    \n",
    "    filtered_patient_notes = patient_notes[\n",
    "        (patient_notes[\"deid_service_date\"] < radiology_report[\"deid_service_date\"]) & \n",
    "        (patient_notes[\"note_type\"] != \"Imaging\")\n",
    "    ].sort_values(by=[\"deid_service_date\"], ascending=False).reset_index(drop=True)\n",
    "    reader_study_total_dataset.append(radiology_report.to_frame().T)\n",
    "    reader_study_total_dataset.append(filtered_patient_notes)\n",
    "\n",
    "reader_study_total_dataset = pd.concat(reader_study_total_dataset)\n",
    "\n",
    "print(\"Clinical Reader Study Model Evaluation Dataset\")\n",
    "print(\"=\"*20)\n",
    "print(\"n_notes\", len(reader_study_total_dataset))\n",
    "print(\"n_patients\", reader_study_total_dataset[\"patientdurablekey\"].nunique())\n",
    "print(\"n_radiology reports\", len(reader_study_total_dataset[~reader_study_total_dataset[\"exam_type\"].isna()]))"
   ]
  },
  {
   "cell_type": "code",
   "execution_count": 32,
   "id": "a1c1d8b9",
   "metadata": {},
   "outputs": [],
   "source": [
    "reader_study_calibration_dataset_reports = reader_study_sampled_reports.groupby('body_group').sample(n=4, random_state=RANDOM_STATE)\n",
    "reader_study_evaluation_dataset_reports = reader_study_sampled_reports.drop(reader_study_calibration_dataset_reports.index).groupby('body_group').sample(n=20, random_state=RANDOM_STATE)"
   ]
  },
  {
   "cell_type": "code",
   "execution_count": 33,
   "id": "820d0ece",
   "metadata": {},
   "outputs": [
    {
     "name": "stdout",
     "output_type": "stream",
     "text": [
      "body_group\n",
      "Abdomen/Pelvis    4\n",
      "Chest             4\n",
      "Head              4\n",
      "MSK               4\n",
      "Neck              4\n",
      "Name: count, dtype: int64\n",
      "imaging_modality\n",
      "CT     16\n",
      "MRI     4\n",
      "Name: count, dtype: int64\n"
     ]
    }
   ],
   "source": [
    "print(reader_study_calibration_dataset_reports[\"body_group\"].value_counts())\n",
    "print(reader_study_calibration_dataset_reports[\"imaging_modality\"].value_counts())"
   ]
  },
  {
   "cell_type": "code",
   "execution_count": 34,
   "id": "59b577ab",
   "metadata": {},
   "outputs": [
    {
     "name": "stdout",
     "output_type": "stream",
     "text": [
      "body_group\n",
      "Abdomen/Pelvis    20\n",
      "Chest             20\n",
      "Head              20\n",
      "MSK               20\n",
      "Neck              20\n",
      "Name: count, dtype: int64\n",
      "imaging_modality\n",
      "CT     72\n",
      "MRI    25\n",
      "US      2\n",
      "XR      1\n",
      "Name: count, dtype: int64\n"
     ]
    }
   ],
   "source": [
    "print(reader_study_evaluation_dataset_reports[\"body_group\"].value_counts())\n",
    "print(reader_study_evaluation_dataset_reports[\"imaging_modality\"].value_counts())"
   ]
  },
  {
   "cell_type": "code",
   "execution_count": 35,
   "id": "a86dfb1e",
   "metadata": {},
   "outputs": [
    {
     "name": "stderr",
     "output_type": "stream",
     "text": [
      "100%|███████████████████████████████████████████████████████████████████████████| 20/20 [00:06<00:00,  3.01it/s]"
     ]
    },
    {
     "name": "stdout",
     "output_type": "stream",
     "text": [
      "Clinical Reader Study Rater Calibration Dataset\n",
      "====================\n",
      "n_notes 5545\n",
      "n_patients 20\n",
      "n_radiology reports 20\n"
     ]
    },
    {
     "name": "stderr",
     "output_type": "stream",
     "text": [
      "\n"
     ]
    }
   ],
   "source": [
    "reader_study_calibration_dataset = []\n",
    "for i in tqdm.tqdm(range(len(reader_study_calibration_dataset_reports))):\n",
    "    radiology_report = reader_study_calibration_dataset_reports.iloc[i]\n",
    "    patient_mrn = radiology_report[\"patientdurablekey\"]\n",
    "    patient_notes = clinical_indication_dataset_redactions[clinical_indication_dataset_redactions[\"patientdurablekey\"] == patient_mrn].copy()    \n",
    "    filtered_patient_notes = patient_notes[\n",
    "        (patient_notes[\"deid_service_date\"] < radiology_report[\"deid_service_date\"]) & \n",
    "        (patient_notes[\"note_type\"] != \"Imaging\")\n",
    "    ].sort_values(by=[\"deid_service_date\"], ascending=False).reset_index(drop=True)\n",
    "    reader_study_calibration_dataset.append(radiology_report.to_frame().T)\n",
    "    reader_study_calibration_dataset.append(filtered_patient_notes)\n",
    "\n",
    "reader_study_calibration_dataset = pd.concat(reader_study_calibration_dataset)\n",
    "\n",
    "print(\"Clinical Reader Study Rater Calibration Dataset\")\n",
    "print(\"=\"*20)\n",
    "print(\"n_notes\", len(reader_study_calibration_dataset))\n",
    "print(\"n_patients\", reader_study_calibration_dataset[\"patientdurablekey\"].nunique())\n",
    "print(\"n_radiology reports\", len(reader_study_calibration_dataset[~reader_study_calibration_dataset[\"exam_type\"].isna()]))"
   ]
  },
  {
   "cell_type": "code",
   "execution_count": 36,
   "id": "f5f13e0c",
   "metadata": {},
   "outputs": [
    {
     "name": "stderr",
     "output_type": "stream",
     "text": [
      "100%|█████████████████████████████████████████████████████████████████████████| 100/100 [00:30<00:00,  3.23it/s]"
     ]
    },
    {
     "name": "stdout",
     "output_type": "stream",
     "text": [
      "Clinical Reader Study Model Evaluation Dataset\n",
      "====================\n",
      "n_notes 21940\n",
      "n_patients 100\n",
      "n_radiology reports 100\n"
     ]
    },
    {
     "name": "stderr",
     "output_type": "stream",
     "text": [
      "\n"
     ]
    }
   ],
   "source": [
    "reader_study_evaluation_dataset = []\n",
    "for i in tqdm.tqdm(range(len(reader_study_evaluation_dataset_reports))):\n",
    "    radiology_report = reader_study_evaluation_dataset_reports.iloc[i]\n",
    "    patient_mrn = radiology_report[\"patientdurablekey\"]\n",
    "    patient_notes = clinical_indication_dataset_redactions[clinical_indication_dataset_redactions[\"patientdurablekey\"] == patient_mrn].copy()    \n",
    "    filtered_patient_notes = patient_notes[\n",
    "        (patient_notes[\"deid_service_date\"] < radiology_report[\"deid_service_date\"]) & \n",
    "        (patient_notes[\"note_type\"] != \"Imaging\")\n",
    "    ].sort_values(by=[\"deid_service_date\"], ascending=False).reset_index(drop=True)\n",
    "    reader_study_evaluation_dataset.append(radiology_report.to_frame().T)\n",
    "    reader_study_evaluation_dataset.append(filtered_patient_notes)\n",
    "\n",
    "reader_study_evaluation_dataset = pd.concat(reader_study_evaluation_dataset)\n",
    "\n",
    "print(\"Clinical Reader Study Model Evaluation Dataset\")\n",
    "print(\"=\"*20)\n",
    "print(\"n_notes\", len(reader_study_evaluation_dataset))\n",
    "print(\"n_patients\", reader_study_evaluation_dataset[\"patientdurablekey\"].nunique())\n",
    "print(\"n_radiology reports\", len(reader_study_evaluation_dataset[~reader_study_evaluation_dataset[\"exam_type\"].isna()]))"
   ]
  },
  {
   "cell_type": "code",
   "execution_count": 37,
   "id": "c5385dc8",
   "metadata": {},
   "outputs": [],
   "source": [
    "def generate_note_title(enc_dept_name, note_type, auth_prov_type, deid_service_date):\n",
    "    if enc_dept_name and note_type and auth_prov_type and deid_service_date:\n",
    "        return f\"{enc_dept_name} - {note_type} ({auth_prov_type}) | {deid_service_date}\"\n",
    "    elif enc_dept_name and note_type and deid_service_date:\n",
    "        return f\"{enc_dept_name} - {note_type} | {deid_service_date}\"\n",
    "    elif note_type and deid_service_date:\n",
    "        return f\"{note_type} | {deid_service_date}\"\n",
    "    elif deid_service_date:\n",
    "        return f\"Clinical Note | {deid_service_date}\"\n",
    "    return f\"Clinical Note\""
   ]
  },
  {
   "cell_type": "code",
   "execution_count": 38,
   "id": "3656e472",
   "metadata": {},
   "outputs": [
    {
     "name": "stderr",
     "output_type": "stream",
     "text": [
      "100%|███████████████████████████████████████████████████████████████████████████| 20/20 [00:06<00:00,  3.01it/s]\n"
     ]
    }
   ],
   "source": [
    "NUM_NOTES = 10\n",
    "reader_study_calibration_dataset_processed = pd.DataFrame(columns=[\n",
    "    \"patientdurablekey\",\n",
    "    \"exam_type\",\n",
    "    \"imaging_modality\",\n",
    "    \"body_group\",\n",
    "    \"report_deid_note_key\",\n",
    "    \"report_text\",\n",
    "    \"original_indication\",\n",
    "    \"radiologist_indication\",\n",
    "    \"enc_dept_names\",\n",
    "    \"note_types\",\n",
    "    \"auth_prov_types\",\n",
    "    \"deid_service_dates\",\n",
    "    \"note_titles\",\n",
    "    \"note_texts\",\n",
    "    \"note_texts_full\"\n",
    "])\n",
    "for i in tqdm.tqdm(range(len(reader_study_calibration_dataset_reports))):\n",
    "    radiology_report = reader_study_calibration_dataset_reports.iloc[i]\n",
    "    patient_mrn = radiology_report[\"patientdurablekey\"]\n",
    "    patient_notes = clinical_indication_dataset_redactions[clinical_indication_dataset_redactions[\"patientdurablekey\"] == patient_mrn].copy()    \n",
    "    filtered_patient_notes = patient_notes[\n",
    "        (patient_notes[\"deid_service_date\"] < radiology_report[\"deid_service_date\"]) & \n",
    "        (patient_notes[\"note_type\"] != \"Imaging\")\n",
    "    ].sort_values(by=[\"deid_service_date\"], ascending=False).reset_index(drop=True)\n",
    "    filtered_patient_notes['note_title'] = filtered_patient_notes.apply(lambda row: generate_note_title(\n",
    "        row['enc_dept_name'], row['note_type'], row['auth_prov_type'], row['deid_service_date']\n",
    "    ), axis=1)\n",
    "    enc_dept_names = filtered_patient_notes[:NUM_NOTES][[\"enc_dept_name\"]].squeeze().tolist()\n",
    "    note_types = filtered_patient_notes[:NUM_NOTES][[\"note_type\"]].squeeze().tolist()\n",
    "    auth_prov_types = filtered_patient_notes[:NUM_NOTES][[\"auth_prov_type\"]].squeeze().tolist()\n",
    "    deid_service_dates = filtered_patient_notes[:NUM_NOTES][[\"deid_service_date\"]].squeeze().tolist()\n",
    "    note_titles = filtered_patient_notes[:NUM_NOTES][[\"note_title\"]].squeeze().tolist()\n",
    "    note_texts = filtered_patient_notes[:NUM_NOTES][[\"note_text\"]].squeeze().tolist()\n",
    "    note_texts_full = filtered_patient_notes[[\"note_text\"]].squeeze().tolist()\n",
    "\n",
    "    row = {\n",
    "        \"patientdurablekey\": radiology_report[\"patientdurablekey\"],\n",
    "        \"exam_type\": radiology_report[\"exam_type\"],\n",
    "        \"imaging_modality\": radiology_report[\"imaging_modality\"],\n",
    "        \"body_group\": radiology_report[\"body_group\"],\n",
    "        \"report_deid_note_key\": radiology_report[\"deid_note_key\"],\n",
    "        \"report_text\": radiology_report[\"note_text\"],\n",
    "        \"original_indication\": radiology_report[\"original_indication\"],\n",
    "        \"radiologist_indication\": radiology_report[\"radiologist_indication\"],\n",
    "        \"enc_dept_names\": enc_dept_names,\n",
    "        \"note_types\": note_types,\n",
    "        \"auth_prov_types\": auth_prov_types,\n",
    "        \"deid_service_dates\": deid_service_dates,\n",
    "        \"note_titles\": note_titles,\n",
    "        \"note_texts\": note_texts,\n",
    "        \"note_texts_full\": note_texts_full\n",
    "    }\n",
    "    reader_study_calibration_dataset_processed.loc[\n",
    "        len(reader_study_calibration_dataset_processed)\n",
    "    ] = row\n",
    "reader_study_calibration_dataset_processed.to_parquet(\"reader_study_calibration_dataset_processed.parquet\")"
   ]
  },
  {
   "cell_type": "code",
   "execution_count": 39,
   "id": "1f3d36f0",
   "metadata": {},
   "outputs": [
    {
     "data": {
      "text/html": [
       "<div>\n",
       "<style scoped>\n",
       "    .dataframe tbody tr th:only-of-type {\n",
       "        vertical-align: middle;\n",
       "    }\n",
       "\n",
       "    .dataframe tbody tr th {\n",
       "        vertical-align: top;\n",
       "    }\n",
       "\n",
       "    .dataframe thead th {\n",
       "        text-align: right;\n",
       "    }\n",
       "</style>\n",
       "<table border=\"1\" class=\"dataframe\">\n",
       "  <thead>\n",
       "    <tr style=\"text-align: right;\">\n",
       "      <th></th>\n",
       "      <th>patientdurablekey</th>\n",
       "      <th>exam_type</th>\n",
       "      <th>imaging_modality</th>\n",
       "      <th>body_group</th>\n",
       "      <th>report_deid_note_key</th>\n",
       "      <th>report_text</th>\n",
       "      <th>original_indication</th>\n",
       "      <th>radiologist_indication</th>\n",
       "      <th>enc_dept_names</th>\n",
       "      <th>note_types</th>\n",
       "      <th>auth_prov_types</th>\n",
       "      <th>deid_service_dates</th>\n",
       "      <th>note_titles</th>\n",
       "      <th>note_texts</th>\n",
       "      <th>note_texts_full</th>\n",
       "    </tr>\n",
       "  </thead>\n",
       "  <tbody>\n",
       "    <tr>\n",
       "      <th>0</th>\n",
       "      <td>DB8470625F58D9</td>\n",
       "      <td>CT ABDOMEN/PELVIS WITH CONTRAST</td>\n",
       "      <td>CT</td>\n",
       "      <td>Abdomen/Pelvis</td>\n",
       "      <td>DD7ABE64ECF8D9</td>\n",
       "      <td>CT ABDOMEN/PELVIS WITH CONTRAST  07/10/2021 8:...</td>\n",
       "      <td>abdominal and flank pain.</td>\n",
       "      <td>UTI for the past week, started abx on Sunday. ...</td>\n",
       "      <td>[EMERGENCY DEPT PARN, EMERGENCY DEPT PARN, EME...</td>\n",
       "      <td>[Discharge Instructions, ED Provider Notes, EC...</td>\n",
       "      <td>[Physician, Resident, Physician, Physician, Ho...</td>\n",
       "      <td>[2021-07-10 22:49:00, 2021-07-10 17:31:00, 202...</td>\n",
       "      <td>[EMERGENCY DEPT PARN - Discharge Instructions ...</td>\n",
       "      <td>[Discharge instructions for ***** *****    You...</td>\n",
       "      <td>[Discharge instructions for ***** *****    You...</td>\n",
       "    </tr>\n",
       "    <tr>\n",
       "      <th>1</th>\n",
       "      <td>DCF5D0853DD7F2</td>\n",
       "      <td>CT ABDOMEN/PELVIS WITHOUT CONTRAST</td>\n",
       "      <td>CT</td>\n",
       "      <td>Abdomen/Pelvis</td>\n",
       "      <td>D17CB67DD1BE87</td>\n",
       "      <td>CT ABDOMEN/PELVIS WITHOUT CONTRAST    05/08/20...</td>\n",
       "      <td>Abdominal pain.</td>\n",
       "      <td>Found to have A. fib RVR in the ED</td>\n",
       "      <td>[None, None, None, 13L GEN SURG, None, 13L GEN...</td>\n",
       "      <td>[ECG, ECG, ECG, H&amp;P, Sticky Note, ED Provider ...</td>\n",
       "      <td>[None, None, None, Resident, None, Resident, N...</td>\n",
       "      <td>[2023-05-08 02:06:00, 2023-05-08 01:05:00, 202...</td>\n",
       "      <td>[ECG | 2023-05-08 02:06:00, ECG | 2023-05-08 0...</td>\n",
       "      <td>[IMPRESSION:   Sinus rhythm with Premature atr...</td>\n",
       "      <td>[IMPRESSION:   Sinus rhythm with Premature atr...</td>\n",
       "    </tr>\n",
       "    <tr>\n",
       "      <th>2</th>\n",
       "      <td>DC634AA2A4EC9B</td>\n",
       "      <td>CT ABDOMEN/PELVIS WITH CONTRAST</td>\n",
       "      <td>CT</td>\n",
       "      <td>Abdomen/Pelvis</td>\n",
       "      <td>DDD766258A0440</td>\n",
       "      <td>CT ABDOMEN/PELVIS WITH CONTRAST    08/14/2020 ...</td>\n",
       "      <td>Tachycardia and fever.</td>\n",
       "      <td>Recent anterior cervical discectomy and fusion...</td>\n",
       "      <td>[10LS CVT, 10LS CVT, 10LS CVT, 10LS CVT, None,...</td>\n",
       "      <td>[Plan of Care, H&amp;P, ED Provider Notes, ECG, EC...</td>\n",
       "      <td>[Registered Nurse, Resident, Physician Assista...</td>\n",
       "      <td>[2020-08-15 04:07:00, 2020-08-14 20:15:00, 202...</td>\n",
       "      <td>[10LS CVT - Plan of Care (Registered Nurse) | ...</td>\n",
       "      <td>[  Problem: Pain,  Acute / Chronic- Adult  Goa...</td>\n",
       "      <td>[  Problem: Pain,  Acute / Chronic- Adult  Goa...</td>\n",
       "    </tr>\n",
       "    <tr>\n",
       "      <th>3</th>\n",
       "      <td>D5E104EF1812AD</td>\n",
       "      <td>MR PELVIS WITH AND WITHOUT CONTRAST 11/10/2022...</td>\n",
       "      <td>MRI</td>\n",
       "      <td>Abdomen/Pelvis</td>\n",
       "      <td>D64FEB8A951B13</td>\n",
       "      <td>MR PELVIS WITH AND WITHOUT CONTRAST 11/10/2022...</td>\n",
       "      <td>perianal abscess, anal fistula evaluation</td>\n",
       "      <td>Chronic transsphincteric horseshoe perineal fi...</td>\n",
       "      <td>[COLORECTAL SURG MB 4, PERIOP MB, PERIOP MB, P...</td>\n",
       "      <td>[Progress Notes, Letter, IP AVS Snapshot, IP A...</td>\n",
       "      <td>[Nurse Practitioner, None, None, None, None, N...</td>\n",
       "      <td>[2022-11-04 00:00:00, 2022-08-30 15:34:00, 202...</td>\n",
       "      <td>[COLORECTAL SURG MB 4 - Progress Notes (Nurse ...</td>\n",
       "      <td>[This is an independent service.   The availab...</td>\n",
       "      <td>[This is an independent service.   The availab...</td>\n",
       "    </tr>\n",
       "    <tr>\n",
       "      <th>4</th>\n",
       "      <td>D34C07E1645953</td>\n",
       "      <td>CT CHEST PULMONARY EMBOLISM (CTPE)</td>\n",
       "      <td>CT</td>\n",
       "      <td>Chest</td>\n",
       "      <td>D496F446F36901</td>\n",
       "      <td>CT CHEST PULMONARY EMBOLISM (CTPE)    CLINICAL...</td>\n",
       "      <td>Active cancer treatment or palliation  Chest p...</td>\n",
       "      <td>alveolar rhabdomyosarcoma</td>\n",
       "      <td>[EMERGENCY DEPT PARN, EMERGENCY DEPT PARN, EME...</td>\n",
       "      <td>[Consults, Progress Notes, Consult, ED Provide...</td>\n",
       "      <td>[Resident, Physician Assistant, Physician, Res...</td>\n",
       "      <td>[2022-05-11 01:53:00, 2022-05-11 01:41:00, 202...</td>\n",
       "      <td>[EMERGENCY DEPT PARN - Consults (Resident) | 2...</td>\n",
       "      <td>[OPHTHALMOLOGY CONSULTATION    Date of initial...</td>\n",
       "      <td>[OPHTHALMOLOGY CONSULTATION    Date of initial...</td>\n",
       "    </tr>\n",
       "  </tbody>\n",
       "</table>\n",
       "</div>"
      ],
      "text/plain": [
       "  patientdurablekey                                          exam_type  \\\n",
       "0    DB8470625F58D9                    CT ABDOMEN/PELVIS WITH CONTRAST   \n",
       "1    DCF5D0853DD7F2                 CT ABDOMEN/PELVIS WITHOUT CONTRAST   \n",
       "2    DC634AA2A4EC9B                    CT ABDOMEN/PELVIS WITH CONTRAST   \n",
       "3    D5E104EF1812AD  MR PELVIS WITH AND WITHOUT CONTRAST 11/10/2022...   \n",
       "4    D34C07E1645953                 CT CHEST PULMONARY EMBOLISM (CTPE)   \n",
       "\n",
       "  imaging_modality      body_group report_deid_note_key  \\\n",
       "0               CT  Abdomen/Pelvis       DD7ABE64ECF8D9   \n",
       "1               CT  Abdomen/Pelvis       D17CB67DD1BE87   \n",
       "2               CT  Abdomen/Pelvis       DDD766258A0440   \n",
       "3              MRI  Abdomen/Pelvis       D64FEB8A951B13   \n",
       "4               CT           Chest       D496F446F36901   \n",
       "\n",
       "                                         report_text  \\\n",
       "0  CT ABDOMEN/PELVIS WITH CONTRAST  07/10/2021 8:...   \n",
       "1  CT ABDOMEN/PELVIS WITHOUT CONTRAST    05/08/20...   \n",
       "2  CT ABDOMEN/PELVIS WITH CONTRAST    08/14/2020 ...   \n",
       "3  MR PELVIS WITH AND WITHOUT CONTRAST 11/10/2022...   \n",
       "4  CT CHEST PULMONARY EMBOLISM (CTPE)    CLINICAL...   \n",
       "\n",
       "                                 original_indication  \\\n",
       "0                          abdominal and flank pain.   \n",
       "1                                    Abdominal pain.   \n",
       "2                             Tachycardia and fever.   \n",
       "3          perianal abscess, anal fistula evaluation   \n",
       "4  Active cancer treatment or palliation  Chest p...   \n",
       "\n",
       "                              radiologist_indication  \\\n",
       "0  UTI for the past week, started abx on Sunday. ...   \n",
       "1                 Found to have A. fib RVR in the ED   \n",
       "2  Recent anterior cervical discectomy and fusion...   \n",
       "3  Chronic transsphincteric horseshoe perineal fi...   \n",
       "4                          alveolar rhabdomyosarcoma   \n",
       "\n",
       "                                      enc_dept_names  \\\n",
       "0  [EMERGENCY DEPT PARN, EMERGENCY DEPT PARN, EME...   \n",
       "1  [None, None, None, 13L GEN SURG, None, 13L GEN...   \n",
       "2  [10LS CVT, 10LS CVT, 10LS CVT, 10LS CVT, None,...   \n",
       "3  [COLORECTAL SURG MB 4, PERIOP MB, PERIOP MB, P...   \n",
       "4  [EMERGENCY DEPT PARN, EMERGENCY DEPT PARN, EME...   \n",
       "\n",
       "                                          note_types  \\\n",
       "0  [Discharge Instructions, ED Provider Notes, EC...   \n",
       "1  [ECG, ECG, ECG, H&P, Sticky Note, ED Provider ...   \n",
       "2  [Plan of Care, H&P, ED Provider Notes, ECG, EC...   \n",
       "3  [Progress Notes, Letter, IP AVS Snapshot, IP A...   \n",
       "4  [Consults, Progress Notes, Consult, ED Provide...   \n",
       "\n",
       "                                     auth_prov_types  \\\n",
       "0  [Physician, Resident, Physician, Physician, Ho...   \n",
       "1  [None, None, None, Resident, None, Resident, N...   \n",
       "2  [Registered Nurse, Resident, Physician Assista...   \n",
       "3  [Nurse Practitioner, None, None, None, None, N...   \n",
       "4  [Resident, Physician Assistant, Physician, Res...   \n",
       "\n",
       "                                  deid_service_dates  \\\n",
       "0  [2021-07-10 22:49:00, 2021-07-10 17:31:00, 202...   \n",
       "1  [2023-05-08 02:06:00, 2023-05-08 01:05:00, 202...   \n",
       "2  [2020-08-15 04:07:00, 2020-08-14 20:15:00, 202...   \n",
       "3  [2022-11-04 00:00:00, 2022-08-30 15:34:00, 202...   \n",
       "4  [2022-05-11 01:53:00, 2022-05-11 01:41:00, 202...   \n",
       "\n",
       "                                         note_titles  \\\n",
       "0  [EMERGENCY DEPT PARN - Discharge Instructions ...   \n",
       "1  [ECG | 2023-05-08 02:06:00, ECG | 2023-05-08 0...   \n",
       "2  [10LS CVT - Plan of Care (Registered Nurse) | ...   \n",
       "3  [COLORECTAL SURG MB 4 - Progress Notes (Nurse ...   \n",
       "4  [EMERGENCY DEPT PARN - Consults (Resident) | 2...   \n",
       "\n",
       "                                          note_texts  \\\n",
       "0  [Discharge instructions for ***** *****    You...   \n",
       "1  [IMPRESSION:   Sinus rhythm with Premature atr...   \n",
       "2  [  Problem: Pain,  Acute / Chronic- Adult  Goa...   \n",
       "3  [This is an independent service.   The availab...   \n",
       "4  [OPHTHALMOLOGY CONSULTATION    Date of initial...   \n",
       "\n",
       "                                     note_texts_full  \n",
       "0  [Discharge instructions for ***** *****    You...  \n",
       "1  [IMPRESSION:   Sinus rhythm with Premature atr...  \n",
       "2  [  Problem: Pain,  Acute / Chronic- Adult  Goa...  \n",
       "3  [This is an independent service.   The availab...  \n",
       "4  [OPHTHALMOLOGY CONSULTATION    Date of initial...  "
      ]
     },
     "execution_count": 39,
     "metadata": {},
     "output_type": "execute_result"
    }
   ],
   "source": [
    "reader_study_calibration_dataset_processed.head()"
   ]
  },
  {
   "cell_type": "code",
   "execution_count": 40,
   "id": "9c08f146",
   "metadata": {},
   "outputs": [
    {
     "name": "stderr",
     "output_type": "stream",
     "text": [
      "100%|█████████████████████████████████████████████████████████████████████████| 100/100 [00:33<00:00,  2.96it/s]\n"
     ]
    }
   ],
   "source": [
    "NUM_NOTES = 10\n",
    "reader_study_evaluation_dataset_processed = pd.DataFrame(columns=[\n",
    "    \"patientdurablekey\",\n",
    "    \"exam_type\",\n",
    "    \"imaging_modality\",\n",
    "    \"body_group\",\n",
    "    \"report_deid_note_key\",\n",
    "    \"report_text\",\n",
    "    \"original_indication\",\n",
    "    \"radiologist_indication\",\n",
    "    \"enc_dept_names\",\n",
    "    \"note_types\",\n",
    "    \"auth_prov_types\",\n",
    "    \"deid_service_dates\",\n",
    "    \"note_titles\",\n",
    "    \"note_texts\",\n",
    "    \"note_texts_full\"\n",
    "])\n",
    "for i in tqdm.tqdm(range(len(reader_study_evaluation_dataset_reports))):\n",
    "    radiology_report = reader_study_evaluation_dataset_reports.iloc[i]\n",
    "    patient_mrn = radiology_report[\"patientdurablekey\"]\n",
    "    patient_notes = clinical_indication_dataset_redactions[clinical_indication_dataset_redactions[\"patientdurablekey\"] == patient_mrn].copy()    \n",
    "    filtered_patient_notes = patient_notes[\n",
    "        (patient_notes[\"deid_service_date\"] < radiology_report[\"deid_service_date\"]) & \n",
    "        (patient_notes[\"note_type\"] != \"Imaging\")\n",
    "    ].sort_values(by=[\"deid_service_date\"], ascending=False).reset_index(drop=True)\n",
    "    filtered_patient_notes['note_title'] = filtered_patient_notes.apply(lambda row: generate_note_title(\n",
    "        row['enc_dept_name'], row['note_type'], row['auth_prov_type'], row['deid_service_date']\n",
    "    ), axis=1)\n",
    "    enc_dept_names = filtered_patient_notes[:NUM_NOTES][[\"enc_dept_name\"]].squeeze().tolist()\n",
    "    note_types = filtered_patient_notes[:NUM_NOTES][[\"note_type\"]].squeeze().tolist()\n",
    "    auth_prov_types = filtered_patient_notes[:NUM_NOTES][[\"auth_prov_type\"]].squeeze().tolist()\n",
    "    deid_service_dates = filtered_patient_notes[:NUM_NOTES][[\"deid_service_date\"]].squeeze().tolist()\n",
    "    note_titles = filtered_patient_notes[:NUM_NOTES][[\"note_title\"]].squeeze().tolist()\n",
    "    note_texts = filtered_patient_notes[:NUM_NOTES][[\"note_text\"]].squeeze().tolist()\n",
    "    note_texts_full = filtered_patient_notes[[\"note_text\"]].squeeze().tolist()\n",
    "    row = {\n",
    "        \"patientdurablekey\": radiology_report[\"patientdurablekey\"],\n",
    "        \"exam_type\": radiology_report[\"exam_type\"],\n",
    "        \"imaging_modality\": radiology_report[\"imaging_modality\"],\n",
    "        \"body_group\": radiology_report[\"body_group\"],\n",
    "        \"report_deid_note_key\": radiology_report[\"deid_note_key\"],\n",
    "        \"report_text\": radiology_report[\"note_text\"],\n",
    "        \"original_indication\": radiology_report[\"original_indication\"],\n",
    "        \"radiologist_indication\": radiology_report[\"radiologist_indication\"],\n",
    "        \"enc_dept_names\": enc_dept_names,\n",
    "        \"note_types\": note_types,\n",
    "        \"auth_prov_types\": auth_prov_types,\n",
    "        \"deid_service_dates\": deid_service_dates,\n",
    "        \"note_titles\": note_titles,\n",
    "        \"note_texts\": note_texts,\n",
    "        \"note_texts_full\": note_texts_full\n",
    "    }\n",
    "    reader_study_evaluation_dataset_processed.loc[\n",
    "        len(reader_study_evaluation_dataset_processed)\n",
    "    ] = row\n",
    "reader_study_evaluation_dataset_processed.to_parquet(\"reader_study_evaluation_dataset_processed.parquet\")"
   ]
  },
  {
   "cell_type": "code",
   "execution_count": 41,
   "id": "4ca9759d",
   "metadata": {},
   "outputs": [
    {
     "data": {
      "text/plain": [
       "5545"
      ]
     },
     "execution_count": 41,
     "metadata": {},
     "output_type": "execute_result"
    }
   ],
   "source": [
    "reader_study_calibration_dataset_processed[\"note_texts_full\"].apply(len).sum() + len(reader_study_calibration_dataset_processed)"
   ]
  },
  {
   "cell_type": "code",
   "execution_count": 42,
   "id": "c30693a0",
   "metadata": {},
   "outputs": [
    {
     "data": {
      "text/plain": [
       "21940"
      ]
     },
     "execution_count": 42,
     "metadata": {},
     "output_type": "execute_result"
    }
   ],
   "source": [
    "reader_study_evaluation_dataset_processed[\"note_texts_full\"].apply(len).sum() + len(reader_study_evaluation_dataset_processed)"
   ]
  }
 ],
 "metadata": {
  "kernelspec": {
   "display_name": "report_gen",
   "language": "python",
   "name": "report_gen"
  },
  "language_info": {
   "codemirror_mode": {
    "name": "ipython",
    "version": 3
   },
   "file_extension": ".py",
   "mimetype": "text/x-python",
   "name": "python",
   "nbconvert_exporter": "python",
   "pygments_lexer": "ipython3",
   "version": "3.10.9"
  }
 },
 "nbformat": 4,
 "nbformat_minor": 5
}
