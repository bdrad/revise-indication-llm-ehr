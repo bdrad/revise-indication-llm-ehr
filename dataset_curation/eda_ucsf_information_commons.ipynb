{
 "cells": [
  {
   "cell_type": "code",
   "execution_count": 1,
   "id": "22158a63",
   "metadata": {},
   "outputs": [
    {
     "name": "stderr",
     "output_type": "stream",
     "text": [
      "/home/bdrad/miniconda3/envs/report_gen/lib/python3.10/site-packages/pandas/core/arrays/masked.py:60: UserWarning: Pandas requires version '1.3.6' or newer of 'bottleneck' (version '1.3.5' currently installed).\n",
      "  from pandas.core import (\n"
     ]
    }
   ],
   "source": [
    "import os\n",
    "import pandas as pd\n",
    "import tqdm\n",
    "import regex as re\n",
    "import polars as pl\n",
    "import tiktoken\n",
    "\n",
    "RANDOM_STATE = 123"
   ]
  },
  {
   "cell_type": "code",
   "execution_count": 2,
   "id": "28037f73",
   "metadata": {},
   "outputs": [],
   "source": [
    "def categorize_body_group(exam_type):\n",
    "    categories = {\n",
    "        \"Head\": [\"HEAD\", \"BRAIN\", \"STROKE PROTOCOL\", \"NEURO\"],\n",
    "        \"Abdomen/Pelvis\": [\"ABDOMEN\", \"PELVIS\", \"PROSTATE\", \"RENAL\", \"MRCP\", \"UROGRAM\"],\n",
    "        \"MSK\": [\"KNEE\", \"HIP\", \"SHOULDER\", \"EXTREMITY\", \"SPINE\", \"LUMBAR\", \n",
    "                \"CERVICAL\", \"SCOLIOSIS\", \"JOINT\"],\n",
    "        \"Chest\": [\"CHEST\", \"CARDIAC\", \"PULMONARY EMBOLISM\", \"CTA\", \"HEART\"],\n",
    "        \"Neck\": [\"FACE\", \"NECK\", \"CRANIOFACIAL\", \"MAXILLOFACIAL\", \"ORBIT\", \"TEMPORAL BONE\", \n",
    "                 \"SINUS\", \"THYROID\", \"MANDIBLE\", \"SKULL\"]\n",
    "    }\n",
    "    \n",
    "    for category, keywords in categories.items():\n",
    "        if any(keyword in exam_type for keyword in keywords):\n",
    "            return category\n",
    "    return \"Other\"\n",
    "\n",
    "def categorize_imaging_modality(exam_type):\n",
    "    categories = {\n",
    "        \"MRI\": [\"MR\", \"MRI\"],\n",
    "        \"CT\": [\"CT\", \"CTA\"],\n",
    "        \"XR\": [\"XR\"],\n",
    "        \"US\": [\"US\"]\n",
    "    }\n",
    "    \n",
    "    for category, keywords in categories.items():\n",
    "        if any(keyword in exam_type for keyword in keywords):\n",
    "            return category\n",
    "    return \"Other\""
   ]
  },
  {
   "cell_type": "markdown",
   "id": "c02d5093",
   "metadata": {},
   "source": [
    "# Clinical Indication Dataset"
   ]
  },
  {
   "cell_type": "code",
   "execution_count": null,
   "id": "3afc48f8",
   "metadata": {},
   "outputs": [],
   "source": [
    "clinical_indication_dataset = []\n",
    "for i in tqdm.tqdm(range(1, 7)):\n",
    "    clinical_indication_dataset.append(pd.read_parquet(f\"clinical_indication_dataset_shard{i}.parquet\"))\n",
    "clinical_indication_dataset = pd.concat(clinical_indication_dataset)"
   ]
  },
  {
   "cell_type": "markdown",
   "id": "c6a83a99",
   "metadata": {},
   "source": [
    "# LLM Balanced Test Dataset"
   ]
  },
  {
   "cell_type": "code",
   "execution_count": null,
   "id": "4053fd63",
   "metadata": {},
   "outputs": [],
   "source": [
    "llm_balanced_test_dataset = pd.read_parquet(\"llm_balanced_test_dataset.parquet\")"
   ]
  },
  {
   "cell_type": "code",
   "execution_count": 61,
   "id": "85f5498f",
   "metadata": {},
   "outputs": [
    {
     "data": {
      "text/plain": [
       "2332093"
      ]
     },
     "execution_count": 61,
     "metadata": {},
     "output_type": "execute_result"
    }
   ],
   "source": [
    "len(llm_balanced_test_dataset)"
   ]
  },
  {
   "cell_type": "code",
   "execution_count": 62,
   "id": "f90e43ee",
   "metadata": {},
   "outputs": [
    {
     "data": {
      "text/plain": [
       "8678"
      ]
     },
     "execution_count": 62,
     "metadata": {},
     "output_type": "execute_result"
    }
   ],
   "source": [
    "llm_balanced_test_dataset[\"patientdurablekey\"].nunique()"
   ]
  },
  {
   "cell_type": "code",
   "execution_count": 63,
   "id": "bf2a731d",
   "metadata": {},
   "outputs": [
    {
     "data": {
      "text/plain": [
       "10000"
      ]
     },
     "execution_count": 63,
     "metadata": {},
     "output_type": "execute_result"
    }
   ],
   "source": [
    "len(llm_balanced_test_dataset[~llm_balanced_test_dataset[\"exam_type\"].isna()])"
   ]
  },
  {
   "cell_type": "code",
   "execution_count": 64,
   "id": "b131c585",
   "metadata": {},
   "outputs": [
    {
     "data": {
      "text/plain": [
       "body_group\n",
       "Abdomen/Pelvis    2000\n",
       "Chest             2000\n",
       "Head              2000\n",
       "MSK               2000\n",
       "Neck              2000\n",
       "Name: count, dtype: int64"
      ]
     },
     "execution_count": 64,
     "metadata": {},
     "output_type": "execute_result"
    }
   ],
   "source": [
    "llm_balanced_test_dataset[\"body_group\"].value_counts()"
   ]
  },
  {
   "cell_type": "code",
   "execution_count": 65,
   "id": "4d19b1e7",
   "metadata": {},
   "outputs": [
    {
     "data": {
      "text/plain": [
       "imaging_modality\n",
       "CT     6998\n",
       "MRI    2822\n",
       "US      122\n",
       "XR       58\n",
       "Name: count, dtype: int64"
      ]
     },
     "execution_count": 65,
     "metadata": {},
     "output_type": "execute_result"
    }
   ],
   "source": [
    "llm_balanced_test_dataset[\"imaging_modality\"].value_counts()"
   ]
  },
  {
   "cell_type": "code",
   "execution_count": 66,
   "id": "524a6d3b",
   "metadata": {},
   "outputs": [
    {
     "data": {
      "text/plain": [
       "imaging_modality\n",
       "CT     69.98\n",
       "MRI    28.22\n",
       "US      1.22\n",
       "XR      0.58\n",
       "Name: proportion, dtype: float64"
      ]
     },
     "execution_count": 66,
     "metadata": {},
     "output_type": "execute_result"
    }
   ],
   "source": [
    "llm_balanced_test_dataset[\"imaging_modality\"].value_counts(normalize=True)*100"
   ]
  },
  {
   "cell_type": "code",
   "execution_count": 17,
   "id": "726dd03f",
   "metadata": {},
   "outputs": [],
   "source": [
    "llm_balanced_test_dataset_processed = pl.read_parquet(\"llm_balanced_test_dataset_processed.parquet\").to_pandas()"
   ]
  },
  {
   "cell_type": "code",
   "execution_count": 20,
   "id": "b18ab181",
   "metadata": {},
   "outputs": [
    {
     "data": {
      "text/plain": [
       "8678"
      ]
     },
     "execution_count": 20,
     "metadata": {},
     "output_type": "execute_result"
    }
   ],
   "source": [
    "llm_balanced_test_dataset_processed[\"patientdurablekey\"].nunique()"
   ]
  },
  {
   "cell_type": "code",
   "execution_count": 19,
   "id": "8d732e41",
   "metadata": {},
   "outputs": [
    {
     "data": {
      "text/plain": [
       "2332093"
      ]
     },
     "execution_count": 19,
     "metadata": {},
     "output_type": "execute_result"
    }
   ],
   "source": [
    "llm_balanced_test_dataset_processed[\"note_texts_full\"].apply(len).sum() + len(llm_balanced_test_dataset_processed)"
   ]
  },
  {
   "cell_type": "markdown",
   "id": "b50ed1ba",
   "metadata": {},
   "source": [
    "# Prompt"
   ]
  },
  {
   "cell_type": "code",
   "execution_count": 52,
   "id": "7934729b",
   "metadata": {},
   "outputs": [],
   "source": [
    "def generate_prompt(exam_type, original_indication, clinical_notes):\n",
    "    clinical_notes_string = \"\\n\".join([n[:2000] for n in clinical_notes])\n",
    "    return f\"\"\"Given the following set of CLINICAL NOTES and ORIGINAL INDICATION, generate a REVISED INDICATION\n",
    "that supplies the relevant clinical history which includes patient's sex and age which may optionally include\n",
    "biopsies, surgeries, resections, treatments, and relevant symptoms to the radiological exam of {exam_type}. \n",
    "If the ORIGINAL INDICATION is for evaluation of oncological or other chronic conditions, make sure to include\n",
    "surgeries, biopsies, and treatments with dates as applicable, up to 30 words. Otherwise, generate only up to \n",
    "15 words or less. Do not add any explanation. \n",
    "\n",
    "(SAMPLE) CLINICAL NOTE:\n",
    "FOLLOW-UP GASTROINTESTINAL MEDICAL ONCOLOGY VISIT \n",
    "Patient name ***** ***** \n",
    "DOB 08/31/1953 Medical record number ***** Date of service 06/16/2021 Referring Provider: Dr. \n",
    "***** ***** ***** ***** Subjective ***** ***** is a 67 y.o. female who presents with the following: \n",
    "Interval history and review of systems \n",
    "\n",
    "Interval History: -06/30/20: CT CAP ***** Pt remains off of pembrolizumab. She is doing well. \n",
    "Only rare loose stools but generally formed stools now . Occasional fatigue. \n",
    "Seeing Dr, ***** for labs and followup. Otherwise full 14-point ROS was negative in detail \n",
    "\n",
    "Oncologic history ***** ***** is a very pleasant 66 y.o. female who was seen in follow-up for esophageal \n",
    "squamous cell carcinoma at our Gastrointestinal Oncology Faculty Practice. The patient had\n",
    "been noticing ***** dysphagia in ***** ***** *****. An upper endoscopy was done on \n",
    "04/23/15 EGD: mass at 25 cm, biopsies demonstrate squamous cell carcinoma in situ. \n",
    "09/07/15 EGD: 1. Half circumferential mass, measuring 3 X 2cm in size, was found; \n",
    "nodular and sub-mucosal; multiple biopsies were performed 2. Hiatal hernia 3. Nodular mass in the\n",
    "proximal esophagus consistent with cancer Pathology: Esophagus, mass at 25 cm, biopsy: \n",
    "At least squamous cell carcinoma in situ; see comment. 08/19/2015: PET/CT Whole Body (vertex to thighs) \n",
    ", 1. Hypermetabolic esophageal mass measuring 2.1 x 1.4 cm, corresponding to the patient's known primary malignancy. \n",
    "No evidence of hypermetabolic lymphadenopathy or distant metastatic disease. \n",
    "2. Scattered solid pulmonary nodules measuring up to 7 mm without associated hypermetabolism.\n",
    "Recommend correlation to prior imaging, if available. Otherwise, further follow-up is \n",
    "recommended as per oncologic protocol. \n",
    "\n",
    "(SAMPLE) ORIGINAL INDICATION:\n",
    "Restaging.\n",
    "\n",
    "(SAMPLE) REVISED INDICATION:\n",
    "Esophageal SCC diagnosed 2015 s/p resection Nov 2015 with negative margins. Follow up FDG PET with \n",
    "suspicious superior mediastinal nodes, s/p adjuvant chemoradiation 2017 with radiation to mediastinal \n",
    "nodes.\n",
    "\n",
    "CLINICAL NOTES:\n",
    "{clinical_notes_string}\n",
    "\n",
    "ORIGINAL INDICATION:\n",
    "{original_indication}\n",
    "\n",
    "REVISED_INDICATION:\n",
    "    \"\"\"\n",
    "\n",
    "llm_balanced_test_dataset_processed[\"prompt\"] = llm_balanced_test_dataset_processed.apply(\n",
    "    lambda row: generate_prompt(\n",
    "        row[\"exam_type\"], \n",
    "        row[\"original_indication\"], \n",
    "        row[\"note_texts\"]\n",
    "    ), \n",
    "axis=1)\n",
    "\n",
    "tokenizer = tiktoken.get_encoding(\"cl100k_base\")\n",
    "llm_balanced_test_dataset_processed[\"input_token_count\"] = llm_balanced_test_dataset_processed[\"prompt\"].apply(lambda x: len(tokenizer.encode(x)))\n",
    "llm_balanced_test_dataset_processed[\"output_token_count\"] = llm_balanced_test_dataset_processed[\"radiologist_indication\"].apply(lambda x: len(tokenizer.encode(x)))"
   ]
  },
  {
   "cell_type": "code",
   "execution_count": 54,
   "id": "a00534c4",
   "metadata": {},
   "outputs": [
    {
     "name": "stdout",
     "output_type": "stream",
     "text": [
      "input tokens (median) 4270.0\n",
      "output tokens (median) 31.0\n"
     ]
    }
   ],
   "source": [
    "print(\"input tokens (median)\", llm_balanced_test_dataset_processed[\"input_token_count\"].median())\n",
    "print(\"output tokens (median)\", llm_balanced_test_dataset_processed[\"output_token_count\"].median())"
   ]
  },
  {
   "cell_type": "code",
   "execution_count": 55,
   "id": "681807e3",
   "metadata": {},
   "outputs": [
    {
     "name": "stdout",
     "output_type": "stream",
     "text": [
      "input tokens (max) 7725\n"
     ]
    }
   ],
   "source": [
    "print(\"input tokens (max)\", llm_balanced_test_dataset_processed[\"input_token_count\"].max())"
   ]
  },
  {
   "cell_type": "markdown",
   "id": "7b3de331",
   "metadata": {},
   "source": [
    "# Clinical Indication Dataset without Redactions"
   ]
  },
  {
   "cell_type": "code",
   "execution_count": 3,
   "id": "bc353d8f",
   "metadata": {},
   "outputs": [
    {
     "name": "stderr",
     "output_type": "stream",
     "text": [
      "100%|███████████████████████████████████████████████████████████████████████████████████████████████████████████████████████████████████████████████| 6/6 [03:08<00:00, 31.40s/it]\n"
     ]
    }
   ],
   "source": [
    "clinical_indication_dataset_redactions = []\n",
    "for i in tqdm.tqdm(range(1, 7)):\n",
    "    clinical_indication_dataset_redactions.append(pd.read_parquet(f\"clinical_indication_dataset_without_redactions_shard{i}.parquet\"))\n",
    "clinical_indication_dataset_redactions = pd.concat(clinical_indication_dataset_redactions)"
   ]
  },
  {
   "cell_type": "code",
   "execution_count": 4,
   "id": "11e9adcb",
   "metadata": {},
   "outputs": [
    {
     "data": {
      "text/plain": [
       "6210837"
      ]
     },
     "execution_count": 4,
     "metadata": {},
     "output_type": "execute_result"
    }
   ],
   "source": [
    "len(clinical_indication_dataset_redactions)"
   ]
  },
  {
   "cell_type": "code",
   "execution_count": 5,
   "id": "8590171c",
   "metadata": {},
   "outputs": [
    {
     "data": {
      "text/plain": [
       "33611"
      ]
     },
     "execution_count": 5,
     "metadata": {},
     "output_type": "execute_result"
    }
   ],
   "source": [
    "clinical_indication_dataset_redactions[\"patientdurablekey\"].nunique()"
   ]
  },
  {
   "cell_type": "code",
   "execution_count": 6,
   "id": "4afe8148",
   "metadata": {
    "scrolled": true
   },
   "outputs": [
    {
     "data": {
      "text/plain": [
       "58759"
      ]
     },
     "execution_count": 6,
     "metadata": {},
     "output_type": "execute_result"
    }
   ],
   "source": [
    "len(clinical_indication_dataset_redactions[~clinical_indication_dataset_redactions[\"exam_type\"].isna()])"
   ]
  },
  {
   "cell_type": "code",
   "execution_count": 7,
   "id": "87f849b2",
   "metadata": {},
   "outputs": [],
   "source": [
    "clinical_indication_dataset_redactions.loc[clinical_indication_dataset_redactions[\"exam_type\"].notna(), \"body_group\"] = clinical_indication_dataset_redactions.loc[clinical_indication_dataset_redactions[\"exam_type\"].notna()][\"exam_type\"].apply(categorize_body_group)\n",
    "clinical_indication_dataset_redactions.loc[clinical_indication_dataset_redactions[\"exam_type\"].notna(), \"imaging_modality\"] = clinical_indication_dataset_redactions.loc[clinical_indication_dataset_redactions[\"exam_type\"].notna()][\"exam_type\"].apply(categorize_imaging_modality)"
   ]
  },
  {
   "cell_type": "code",
   "execution_count": 8,
   "id": "fbfff457",
   "metadata": {},
   "outputs": [
    {
     "data": {
      "text/plain": [
       "body_group\n",
       "Head              35079\n",
       "MSK                7919\n",
       "Neck               7466\n",
       "Abdomen/Pelvis     4171\n",
       "Chest              3406\n",
       "Other               718\n",
       "Name: count, dtype: int64"
      ]
     },
     "execution_count": 8,
     "metadata": {},
     "output_type": "execute_result"
    }
   ],
   "source": [
    "clinical_indication_dataset_redactions[\"body_group\"].value_counts()"
   ]
  },
  {
   "cell_type": "code",
   "execution_count": 9,
   "id": "661fc6cc",
   "metadata": {},
   "outputs": [
    {
     "data": {
      "text/plain": [
       "imaging_modality\n",
       "CT       32044\n",
       "MRI      25666\n",
       "US         442\n",
       "Other      378\n",
       "XR         229\n",
       "Name: count, dtype: int64"
      ]
     },
     "execution_count": 9,
     "metadata": {},
     "output_type": "execute_result"
    }
   ],
   "source": [
    "clinical_indication_dataset_redactions[\"imaging_modality\"].value_counts()"
   ]
  },
  {
   "cell_type": "markdown",
   "id": "ba554b41",
   "metadata": {},
   "source": [
    "# Reader Study"
   ]
  },
  {
   "cell_type": "code",
   "execution_count": 157,
   "id": "574f1b3c",
   "metadata": {},
   "outputs": [
    {
     "name": "stderr",
     "output_type": "stream",
     "text": [
      "/tmp/ipykernel_992981/2723054183.py:9: UserWarning: This pattern is interpreted as a regular expression, and has match groups. To actually get the groups, use str.extract.\n",
      "  .str.contains(r\"COMPARISON|Comparison|TECHNIQUE|Technique|FINDINGS|Findings|IMPRESSION|Impression|(As above)|(Not available)|(No known contributory history)|(No clinical notes)|CT|MRI|US|None|none\")) &\n",
      "/tmp/ipykernel_992981/2723054183.py:11: UserWarning: This pattern is interpreted as a regular expression, and has match groups. To actually get the groups, use str.extract.\n",
      "  .str.contains(r\"COMPARISON|Comparison|TECHNIQUE|Technique|FINDINGS|Findings|IMPRESSION|Impression|(As above)|(Not available)|(No known contributory history)|(No clinical notes)|CT|MRI|US|None|none\"))\n"
     ]
    }
   ],
   "source": [
    "NUM_PER_BODY_GROUP = 24\n",
    "\n",
    "radiology_reports = clinical_indication_dataset_redactions[\n",
    "    (~clinical_indication_dataset_redactions[\"exam_type\"].isna()) & \n",
    "    (clinical_indication_dataset_redactions[\"body_group\"] != \"Other\")\n",
    "]\n",
    "radiology_reports = radiology_reports[\n",
    "    (~radiology_reports[\"original_indication\"]\n",
    "    .str.contains(r\"COMPARISON|Comparison|TECHNIQUE|Technique|FINDINGS|Findings|IMPRESSION|Impression|(As above)|(Not available)|(No known contributory history)|(No clinical notes)|CT|MRI|US|None|none\")) &  \n",
    "    (~radiology_reports[\"radiologist_indication\"]\n",
    "    .str.contains(r\"COMPARISON|Comparison|TECHNIQUE|Technique|FINDINGS|Findings|IMPRESSION|Impression|(As above)|(Not available)|(No known contributory history)|(No clinical notes)|CT|MRI|US|None|none\")) \n",
    "]\n",
    "\n",
    "reader_study_sampled_reports = radiology_reports.groupby('body_group').sample(n=NUM_PER_BODY_GROUP, random_state=RANDOM_STATE)"
   ]
  },
  {
   "cell_type": "code",
   "execution_count": 158,
   "id": "d5d50c02",
   "metadata": {},
   "outputs": [
    {
     "name": "stderr",
     "output_type": "stream",
     "text": [
      "100%|███████████████████████████████████████████████████████████████████████████████████████████████████████████████████████████████████████████| 120/120 [00:38<00:00,  3.14it/s]"
     ]
    },
    {
     "name": "stdout",
     "output_type": "stream",
     "text": [
      "Clinical Reader Study Model Evaluation Dataset\n",
      "====================\n",
      "n_notes 25324\n",
      "n_patients 120\n",
      "n_radiology reports 120\n"
     ]
    },
    {
     "name": "stderr",
     "output_type": "stream",
     "text": [
      "\n"
     ]
    }
   ],
   "source": [
    "reader_study_total_dataset = []\n",
    "for i in tqdm.tqdm(range(len(reader_study_sampled_reports))):\n",
    "    radiology_report = reader_study_sampled_reports.iloc[i]\n",
    "    patient_mrn = radiology_report[\"patientdurablekey\"]\n",
    "    patient_notes = clinical_indication_dataset_redactions[clinical_indication_dataset_redactions[\"patientdurablekey\"] == patient_mrn].copy()    \n",
    "    filtered_patient_notes = patient_notes[\n",
    "        (patient_notes[\"deid_service_date\"] < radiology_report[\"deid_service_date\"]) & \n",
    "        (patient_notes[\"note_type\"] != \"Imaging\")\n",
    "    ].sort_values(by=[\"deid_service_date\"], ascending=False).reset_index(drop=True)\n",
    "    reader_study_total_dataset.append(radiology_report.to_frame().T)\n",
    "    reader_study_total_dataset.append(filtered_patient_notes)\n",
    "\n",
    "reader_study_total_dataset = pd.concat(reader_study_total_dataset)\n",
    "\n",
    "print(\"Clinical Reader Study Model Evaluation Dataset\")\n",
    "print(\"=\"*20)\n",
    "print(\"n_notes\", len(reader_study_total_dataset))\n",
    "print(\"n_patients\", reader_study_total_dataset[\"patientdurablekey\"].nunique())\n",
    "print(\"n_radiology reports\", len(reader_study_total_dataset[~reader_study_total_dataset[\"exam_type\"].isna()]))"
   ]
  },
  {
   "cell_type": "code",
   "execution_count": 159,
   "id": "42b64174",
   "metadata": {},
   "outputs": [],
   "source": [
    "reader_study_calibration_dataset_reports = reader_study_sampled_reports.groupby('body_group').sample(n=4, random_state=RANDOM_STATE)\n",
    "reader_study_evaluation_dataset_reports = reader_study_sampled_reports.drop(reader_study_calibration_dataset_reports.index).groupby('body_group').sample(n=20, random_state=RANDOM_STATE)"
   ]
  },
  {
   "cell_type": "code",
   "execution_count": 160,
   "id": "3dd7bc74",
   "metadata": {},
   "outputs": [
    {
     "name": "stdout",
     "output_type": "stream",
     "text": [
      "body_group\n",
      "Abdomen/Pelvis    4\n",
      "Chest             4\n",
      "Head              4\n",
      "MSK               4\n",
      "Neck              4\n",
      "Name: count, dtype: int64\n",
      "imaging_modality\n",
      "CT     12\n",
      "MRI     8\n",
      "Name: count, dtype: int64\n"
     ]
    }
   ],
   "source": [
    "print(reader_study_calibration_dataset_reports[\"body_group\"].value_counts())\n",
    "print(reader_study_calibration_dataset_reports[\"imaging_modality\"].value_counts())"
   ]
  },
  {
   "cell_type": "code",
   "execution_count": 161,
   "id": "1b0fdfbf",
   "metadata": {},
   "outputs": [
    {
     "name": "stdout",
     "output_type": "stream",
     "text": [
      "body_group\n",
      "Abdomen/Pelvis    20\n",
      "Chest             20\n",
      "Head              20\n",
      "MSK               20\n",
      "Neck              20\n",
      "Name: count, dtype: int64\n",
      "imaging_modality\n",
      "CT     63\n",
      "MRI    33\n",
      "XR      3\n",
      "US      1\n",
      "Name: count, dtype: int64\n"
     ]
    }
   ],
   "source": [
    "print(reader_study_evaluation_dataset_reports[\"body_group\"].value_counts())\n",
    "print(reader_study_evaluation_dataset_reports[\"imaging_modality\"].value_counts())"
   ]
  },
  {
   "cell_type": "code",
   "execution_count": 162,
   "id": "7c4bdc72",
   "metadata": {},
   "outputs": [
    {
     "name": "stderr",
     "output_type": "stream",
     "text": [
      "100%|█████████████████████████████████████████████████████████████████████████████████████████████████████████████████████████████████████████████| 20/20 [00:06<00:00,  3.06it/s]"
     ]
    },
    {
     "name": "stdout",
     "output_type": "stream",
     "text": [
      "Clinical Reader Study Rater Calibration Dataset\n",
      "====================\n",
      "n_notes 5491\n",
      "n_patients 20\n",
      "n_radiology reports 20\n"
     ]
    },
    {
     "name": "stderr",
     "output_type": "stream",
     "text": [
      "\n"
     ]
    }
   ],
   "source": [
    "reader_study_calibration_dataset = []\n",
    "for i in tqdm.tqdm(range(len(reader_study_calibration_dataset_reports))):\n",
    "    radiology_report = reader_study_calibration_dataset_reports.iloc[i]\n",
    "    patient_mrn = radiology_report[\"patientdurablekey\"]\n",
    "    patient_notes = clinical_indication_dataset_redactions[clinical_indication_dataset_redactions[\"patientdurablekey\"] == patient_mrn].copy()    \n",
    "    filtered_patient_notes = patient_notes[\n",
    "        (patient_notes[\"deid_service_date\"] < radiology_report[\"deid_service_date\"]) & \n",
    "        (patient_notes[\"note_type\"] != \"Imaging\")\n",
    "    ].sort_values(by=[\"deid_service_date\"], ascending=False).reset_index(drop=True)\n",
    "    reader_study_calibration_dataset.append(radiology_report.to_frame().T)\n",
    "    reader_study_calibration_dataset.append(filtered_patient_notes)\n",
    "\n",
    "reader_study_calibration_dataset = pd.concat(reader_study_calibration_dataset)\n",
    "\n",
    "print(\"Clinical Reader Study Rater Calibration Dataset\")\n",
    "print(\"=\"*20)\n",
    "print(\"n_notes\", len(reader_study_calibration_dataset))\n",
    "print(\"n_patients\", reader_study_calibration_dataset[\"patientdurablekey\"].nunique())\n",
    "print(\"n_radiology reports\", len(reader_study_calibration_dataset[~reader_study_calibration_dataset[\"exam_type\"].isna()]))"
   ]
  },
  {
   "cell_type": "code",
   "execution_count": 163,
   "id": "f2b3c88a",
   "metadata": {},
   "outputs": [
    {
     "name": "stderr",
     "output_type": "stream",
     "text": [
      "100%|███████████████████████████████████████████████████████████████████████████████████████████████████████████████████████████████████████████| 100/100 [00:31<00:00,  3.13it/s]"
     ]
    },
    {
     "name": "stdout",
     "output_type": "stream",
     "text": [
      "Clinical Reader Study Model Evaluation Dataset\n",
      "====================\n",
      "n_notes 19833\n",
      "n_patients 100\n",
      "n_radiology reports 100\n"
     ]
    },
    {
     "name": "stderr",
     "output_type": "stream",
     "text": [
      "\n"
     ]
    }
   ],
   "source": [
    "reader_study_evaluation_dataset = []\n",
    "for i in tqdm.tqdm(range(len(reader_study_evaluation_dataset_reports))):\n",
    "    radiology_report = reader_study_evaluation_dataset_reports.iloc[i]\n",
    "    patient_mrn = radiology_report[\"patientdurablekey\"]\n",
    "    patient_notes = clinical_indication_dataset_redactions[clinical_indication_dataset_redactions[\"patientdurablekey\"] == patient_mrn].copy()    \n",
    "    filtered_patient_notes = patient_notes[\n",
    "        (patient_notes[\"deid_service_date\"] < radiology_report[\"deid_service_date\"]) & \n",
    "        (patient_notes[\"note_type\"] != \"Imaging\")\n",
    "    ].sort_values(by=[\"deid_service_date\"], ascending=False).reset_index(drop=True)\n",
    "    reader_study_evaluation_dataset.append(radiology_report.to_frame().T)\n",
    "    reader_study_evaluation_dataset.append(filtered_patient_notes)\n",
    "\n",
    "reader_study_evaluation_dataset = pd.concat(reader_study_evaluation_dataset)\n",
    "\n",
    "print(\"Clinical Reader Study Model Evaluation Dataset\")\n",
    "print(\"=\"*20)\n",
    "print(\"n_notes\", len(reader_study_evaluation_dataset))\n",
    "print(\"n_patients\", reader_study_evaluation_dataset[\"patientdurablekey\"].nunique())\n",
    "print(\"n_radiology reports\", len(reader_study_evaluation_dataset[~reader_study_evaluation_dataset[\"exam_type\"].isna()]))"
   ]
  },
  {
   "cell_type": "code",
   "execution_count": 164,
   "id": "3ff56484",
   "metadata": {},
   "outputs": [],
   "source": [
    "def generate_note_title(enc_dept_name, note_type, auth_prov_type, deid_service_date):\n",
    "    if enc_dept_name and note_type and auth_prov_type and deid_service_date:\n",
    "        return f\"{enc_dept_name} - {note_type} ({auth_prov_type}) | {deid_service_date}\"\n",
    "    elif enc_dept_name and note_type and deid_service_date:\n",
    "        return f\"{enc_dept_name} - {note_type} | {deid_service_date}\"\n",
    "    elif note_type and deid_service_date:\n",
    "        return f\"{note_type} | {deid_service_date}\"\n",
    "    elif deid_service_date:\n",
    "        return f\"Clinical Note | {deid_service_date}\"\n",
    "    return f\"Clinical Note\""
   ]
  },
  {
   "cell_type": "code",
   "execution_count": 165,
   "id": "2da724df",
   "metadata": {},
   "outputs": [
    {
     "name": "stderr",
     "output_type": "stream",
     "text": [
      "100%|█████████████████████████████████████████████████████████████████████████████████████████████████████████████████████████████████████████████| 20/20 [00:06<00:00,  3.02it/s]\n"
     ]
    }
   ],
   "source": [
    "NUM_NOTES = 10\n",
    "reader_study_calibration_dataset_processed = pd.DataFrame(columns=[\n",
    "    \"patientdurablekey\",\n",
    "    \"exam_type\",\n",
    "    \"imaging_modality\",\n",
    "    \"body_group\",\n",
    "    \"report_deid_note_key\",\n",
    "    \"report_text\",\n",
    "    \"original_indication\",\n",
    "    \"radiologist_indication\",\n",
    "    \"enc_dept_names\",\n",
    "    \"note_types\",\n",
    "    \"auth_prov_types\",\n",
    "    \"deid_service_dates\",\n",
    "    \"note_titles\",\n",
    "    \"note_texts\",\n",
    "    \"note_texts_full\"\n",
    "])\n",
    "for i in tqdm.tqdm(range(len(reader_study_calibration_dataset_reports))):\n",
    "    radiology_report = reader_study_calibration_dataset_reports.iloc[i]\n",
    "    patient_mrn = radiology_report[\"patientdurablekey\"]\n",
    "    patient_notes = clinical_indication_dataset_redactions[clinical_indication_dataset_redactions[\"patientdurablekey\"] == patient_mrn].copy()    \n",
    "    filtered_patient_notes = patient_notes[\n",
    "        (patient_notes[\"deid_service_date\"] < radiology_report[\"deid_service_date\"]) & \n",
    "        (patient_notes[\"note_type\"] != \"Imaging\")\n",
    "    ].sort_values(by=[\"deid_service_date\"], ascending=False).reset_index(drop=True)\n",
    "    filtered_patient_notes['note_title'] = filtered_patient_notes.apply(lambda row: generate_note_title(\n",
    "        row['enc_dept_name'], row['note_type'], row['auth_prov_type'], row['deid_service_date']\n",
    "    ), axis=1)\n",
    "    enc_dept_names = filtered_patient_notes[:NUM_NOTES][[\"enc_dept_name\"]].squeeze().tolist()\n",
    "    note_types = filtered_patient_notes[:NUM_NOTES][[\"note_type\"]].squeeze().tolist()\n",
    "    auth_prov_types = filtered_patient_notes[:NUM_NOTES][[\"auth_prov_type\"]].squeeze().tolist()\n",
    "    deid_service_dates = filtered_patient_notes[:NUM_NOTES][[\"deid_service_date\"]].squeeze().tolist()\n",
    "    note_titles = filtered_patient_notes[:NUM_NOTES][[\"note_title\"]].squeeze().tolist()\n",
    "    note_texts = filtered_patient_notes[:NUM_NOTES][[\"note_text\"]].squeeze().tolist()\n",
    "    note_texts_full = filtered_patient_notes[[\"note_text\"]].squeeze().tolist()\n",
    "\n",
    "    row = {\n",
    "        \"patientdurablekey\": radiology_report[\"patientdurablekey\"],\n",
    "        \"exam_type\": radiology_report[\"exam_type\"],\n",
    "        \"imaging_modality\": radiology_report[\"imaging_modality\"],\n",
    "        \"body_group\": radiology_report[\"body_group\"],\n",
    "        \"report_deid_note_key\": radiology_report[\"deid_note_key\"],\n",
    "        \"report_text\": radiology_report[\"note_text\"],\n",
    "        \"original_indication\": radiology_report[\"original_indication\"],\n",
    "        \"radiologist_indication\": radiology_report[\"radiologist_indication\"],\n",
    "        \"enc_dept_names\": enc_dept_names,\n",
    "        \"note_types\": note_types,\n",
    "        \"auth_prov_types\": auth_prov_types,\n",
    "        \"deid_service_dates\": deid_service_dates,\n",
    "        \"note_titles\": note_titles,\n",
    "        \"note_texts\": note_texts,\n",
    "        \"note_texts_full\": note_texts_full\n",
    "    }\n",
    "    reader_study_calibration_dataset_processed.loc[\n",
    "        len(reader_study_calibration_dataset_processed)\n",
    "    ] = row\n",
    "reader_study_calibration_dataset_processed.to_parquet(\"reader_study_calibration_dataset_processed.parquet\")"
   ]
  },
  {
   "cell_type": "code",
   "execution_count": 166,
   "id": "9b9a4bf0",
   "metadata": {},
   "outputs": [
    {
     "data": {
      "text/html": [
       "<div>\n",
       "<style scoped>\n",
       "    .dataframe tbody tr th:only-of-type {\n",
       "        vertical-align: middle;\n",
       "    }\n",
       "\n",
       "    .dataframe tbody tr th {\n",
       "        vertical-align: top;\n",
       "    }\n",
       "\n",
       "    .dataframe thead th {\n",
       "        text-align: right;\n",
       "    }\n",
       "</style>\n",
       "<table border=\"1\" class=\"dataframe\">\n",
       "  <thead>\n",
       "    <tr style=\"text-align: right;\">\n",
       "      <th></th>\n",
       "      <th>patientdurablekey</th>\n",
       "      <th>exam_type</th>\n",
       "      <th>imaging_modality</th>\n",
       "      <th>body_group</th>\n",
       "      <th>report_deid_note_key</th>\n",
       "      <th>report_text</th>\n",
       "      <th>original_indication</th>\n",
       "      <th>radiologist_indication</th>\n",
       "      <th>enc_dept_names</th>\n",
       "      <th>note_types</th>\n",
       "      <th>auth_prov_types</th>\n",
       "      <th>deid_service_dates</th>\n",
       "      <th>note_titles</th>\n",
       "      <th>note_texts</th>\n",
       "      <th>note_texts_full</th>\n",
       "    </tr>\n",
       "  </thead>\n",
       "  <tbody>\n",
       "    <tr>\n",
       "      <th>0</th>\n",
       "      <td>D16CA190FA80BB</td>\n",
       "      <td>CT ABDOMEN/PELVIS WITH CONTRAST</td>\n",
       "      <td>CT</td>\n",
       "      <td>Abdomen/Pelvis</td>\n",
       "      <td>D942F5BE2758E1</td>\n",
       "      <td>CT ABDOMEN/PELVIS WITH CONTRAST  12/28/2022 1:...</td>\n",
       "      <td>gastric cancer, restaging for clinical trial</td>\n",
       "      <td>gastric cancer with signet ring features metas...</td>\n",
       "      <td>[GI MED ONC MB 4, GI MED ONC MB 4, ADULT INFUS...</td>\n",
       "      <td>[Progress Notes, Letter, RN Note, RN Note, Pro...</td>\n",
       "      <td>[Physician, None, Registered Nurse, Registered...</td>\n",
       "      <td>[2022-12-19 00:00:00, 2022-12-19 00:00:00, 202...</td>\n",
       "      <td>[GI MED ONC MB 4 - Progress Notes (Physician) ...</td>\n",
       "      <td>[VIDEO VISIT  I performed this consultation us...</td>\n",
       "      <td>[VIDEO VISIT  I performed this consultation us...</td>\n",
       "    </tr>\n",
       "    <tr>\n",
       "      <th>1</th>\n",
       "      <td>D26B0E8A04E300</td>\n",
       "      <td>CT ABDOMEN/PELVIS WITHOUT CONTRAST</td>\n",
       "      <td>CT</td>\n",
       "      <td>Abdomen/Pelvis</td>\n",
       "      <td>D34C8F64685D55</td>\n",
       "      <td>CT ABDOMEN/PELVIS WITHOUT CONTRAST  08/07/2017...</td>\n",
       "      <td>concern R perinephric abscess</td>\n",
       "      <td>History of metastatic bladder cancer with brai...</td>\n",
       "      <td>[15L ADULT ACUTE CARE, 15L ADULT ACUTE CARE, 1...</td>\n",
       "      <td>[Plan of Care, Consults, ED Notes, H&amp;P, ED Not...</td>\n",
       "      <td>[Registered Nurse, Pharmacist, Registered Nurs...</td>\n",
       "      <td>[2017-08-08 02:19:00, 2017-08-07 22:29:00, 201...</td>\n",
       "      <td>[15L ADULT ACUTE CARE - Plan of Care (Register...</td>\n",
       "      <td>[Pt new admit to unit. S/p bilateral ankle fra...</td>\n",
       "      <td>[Pt new admit to unit. S/p bilateral ankle fra...</td>\n",
       "    </tr>\n",
       "    <tr>\n",
       "      <th>2</th>\n",
       "      <td>DEF9A819A4D6CE</td>\n",
       "      <td>CT ABDOMEN/PELVIS WITHOUT CONTRAST</td>\n",
       "      <td>CT</td>\n",
       "      <td>Abdomen/Pelvis</td>\n",
       "      <td>DF9877482DF456</td>\n",
       "      <td>CT ABDOMEN/PELVIS WITHOUT CONTRAST    10/22/20...</td>\n",
       "      <td>abd pain ? sepsis.</td>\n",
       "      <td>History of HIV, epigastric pain,</td>\n",
       "      <td>[15L ADULT ACUTE CARE, 15L ADULT ACUTE CARE, 1...</td>\n",
       "      <td>[Consult, Consult, Consults, Progress Notes, E...</td>\n",
       "      <td>[Physician, Physician, Pharmacist, Physician, ...</td>\n",
       "      <td>[2023-10-23 09:05:00, 2023-10-23 09:02:00, 202...</td>\n",
       "      <td>[15L ADULT ACUTE CARE - Consult (Physician) | ...</td>\n",
       "      <td>[***** *****, RN     10/23/2023 10:58 AM\"\\n\\na...</td>\n",
       "      <td>[***** *****, RN     10/23/2023 10:58 AM\"\\n\\na...</td>\n",
       "    </tr>\n",
       "    <tr>\n",
       "      <th>3</th>\n",
       "      <td>DFD86620184F55</td>\n",
       "      <td>CT ABDOMEN/PELVIS WITHOUT CONTRAST</td>\n",
       "      <td>CT</td>\n",
       "      <td>Abdomen/Pelvis</td>\n",
       "      <td>DD20946E836E7B</td>\n",
       "      <td>CT ABDOMEN/PELVIS WITHOUT CONTRAST  09/26/2016...</td>\n",
       "      <td>Intense RUQ pain, r/o free air or perforation,...</td>\n",
       "      <td>Admitted to surgery service with initial conce...</td>\n",
       "      <td>[PERIOP PARN, PERIOP PARN, PERIOP PARN, 13L GE...</td>\n",
       "      <td>[Anesthesia Transfer of Care, Anesthesia Post-...</td>\n",
       "      <td>[Physician, Physician, Physician, Registered N...</td>\n",
       "      <td>[2016-09-26 00:00:00, 2016-09-26 00:00:00, 201...</td>\n",
       "      <td>[PERIOP PARN - Anesthesia Transfer of Care (Ph...</td>\n",
       "      <td>[Anesthesia Case Summary  Scheduled date of Op...</td>\n",
       "      <td>[Anesthesia Case Summary  Scheduled date of Op...</td>\n",
       "    </tr>\n",
       "    <tr>\n",
       "      <th>4</th>\n",
       "      <td>DECE9B13953718</td>\n",
       "      <td>CT CHEST WITHOUT CONTRAST</td>\n",
       "      <td>CT</td>\n",
       "      <td>Chest</td>\n",
       "      <td>DB1900835B31BA</td>\n",
       "      <td>CT CHEST WITHOUT CONTRAST    CLINICAL HISTORY:...</td>\n",
       "      <td>S/p lung transplant</td>\n",
       "      <td>History of mixed connective tissue disease / s...</td>\n",
       "      <td>[12M MED/SURG/ACUTE TCU, 12M MED/SURG/ACUTE TC...</td>\n",
       "      <td>[H&amp;P, ECG, ECG, Progress Notes, Progress Notes...</td>\n",
       "      <td>[Physician, Physician, None, Physician, None, ...</td>\n",
       "      <td>[2019-10-08 02:28:00, 2019-10-07 20:14:00, 201...</td>\n",
       "      <td>[12M MED/SURG/ACUTE TCU - H&amp;P (Physician) | 20...</td>\n",
       "      <td>[ALD SERVICE H&amp;P NOTE - ***** ATTENDING     My...</td>\n",
       "      <td>[ALD SERVICE H&amp;P NOTE - ***** ATTENDING     My...</td>\n",
       "    </tr>\n",
       "  </tbody>\n",
       "</table>\n",
       "</div>"
      ],
      "text/plain": [
       "  patientdurablekey                           exam_type imaging_modality  \\\n",
       "0    D16CA190FA80BB     CT ABDOMEN/PELVIS WITH CONTRAST               CT   \n",
       "1    D26B0E8A04E300  CT ABDOMEN/PELVIS WITHOUT CONTRAST               CT   \n",
       "2    DEF9A819A4D6CE  CT ABDOMEN/PELVIS WITHOUT CONTRAST               CT   \n",
       "3    DFD86620184F55  CT ABDOMEN/PELVIS WITHOUT CONTRAST               CT   \n",
       "4    DECE9B13953718           CT CHEST WITHOUT CONTRAST               CT   \n",
       "\n",
       "       body_group report_deid_note_key  \\\n",
       "0  Abdomen/Pelvis       D942F5BE2758E1   \n",
       "1  Abdomen/Pelvis       D34C8F64685D55   \n",
       "2  Abdomen/Pelvis       DF9877482DF456   \n",
       "3  Abdomen/Pelvis       DD20946E836E7B   \n",
       "4           Chest       DB1900835B31BA   \n",
       "\n",
       "                                         report_text  \\\n",
       "0  CT ABDOMEN/PELVIS WITH CONTRAST  12/28/2022 1:...   \n",
       "1  CT ABDOMEN/PELVIS WITHOUT CONTRAST  08/07/2017...   \n",
       "2  CT ABDOMEN/PELVIS WITHOUT CONTRAST    10/22/20...   \n",
       "3  CT ABDOMEN/PELVIS WITHOUT CONTRAST  09/26/2016...   \n",
       "4  CT CHEST WITHOUT CONTRAST    CLINICAL HISTORY:...   \n",
       "\n",
       "                                 original_indication  \\\n",
       "0       gastric cancer, restaging for clinical trial   \n",
       "1                      concern R perinephric abscess   \n",
       "2                                 abd pain ? sepsis.   \n",
       "3  Intense RUQ pain, r/o free air or perforation,...   \n",
       "4                                S/p lung transplant   \n",
       "\n",
       "                              radiologist_indication  \\\n",
       "0  gastric cancer with signet ring features metas...   \n",
       "1  History of metastatic bladder cancer with brai...   \n",
       "2                   History of HIV, epigastric pain,   \n",
       "3  Admitted to surgery service with initial conce...   \n",
       "4  History of mixed connective tissue disease / s...   \n",
       "\n",
       "                                      enc_dept_names  \\\n",
       "0  [GI MED ONC MB 4, GI MED ONC MB 4, ADULT INFUS...   \n",
       "1  [15L ADULT ACUTE CARE, 15L ADULT ACUTE CARE, 1...   \n",
       "2  [15L ADULT ACUTE CARE, 15L ADULT ACUTE CARE, 1...   \n",
       "3  [PERIOP PARN, PERIOP PARN, PERIOP PARN, 13L GE...   \n",
       "4  [12M MED/SURG/ACUTE TCU, 12M MED/SURG/ACUTE TC...   \n",
       "\n",
       "                                          note_types  \\\n",
       "0  [Progress Notes, Letter, RN Note, RN Note, Pro...   \n",
       "1  [Plan of Care, Consults, ED Notes, H&P, ED Not...   \n",
       "2  [Consult, Consult, Consults, Progress Notes, E...   \n",
       "3  [Anesthesia Transfer of Care, Anesthesia Post-...   \n",
       "4  [H&P, ECG, ECG, Progress Notes, Progress Notes...   \n",
       "\n",
       "                                     auth_prov_types  \\\n",
       "0  [Physician, None, Registered Nurse, Registered...   \n",
       "1  [Registered Nurse, Pharmacist, Registered Nurs...   \n",
       "2  [Physician, Physician, Pharmacist, Physician, ...   \n",
       "3  [Physician, Physician, Physician, Registered N...   \n",
       "4  [Physician, Physician, None, Physician, None, ...   \n",
       "\n",
       "                                  deid_service_dates  \\\n",
       "0  [2022-12-19 00:00:00, 2022-12-19 00:00:00, 202...   \n",
       "1  [2017-08-08 02:19:00, 2017-08-07 22:29:00, 201...   \n",
       "2  [2023-10-23 09:05:00, 2023-10-23 09:02:00, 202...   \n",
       "3  [2016-09-26 00:00:00, 2016-09-26 00:00:00, 201...   \n",
       "4  [2019-10-08 02:28:00, 2019-10-07 20:14:00, 201...   \n",
       "\n",
       "                                         note_titles  \\\n",
       "0  [GI MED ONC MB 4 - Progress Notes (Physician) ...   \n",
       "1  [15L ADULT ACUTE CARE - Plan of Care (Register...   \n",
       "2  [15L ADULT ACUTE CARE - Consult (Physician) | ...   \n",
       "3  [PERIOP PARN - Anesthesia Transfer of Care (Ph...   \n",
       "4  [12M MED/SURG/ACUTE TCU - H&P (Physician) | 20...   \n",
       "\n",
       "                                          note_texts  \\\n",
       "0  [VIDEO VISIT  I performed this consultation us...   \n",
       "1  [Pt new admit to unit. S/p bilateral ankle fra...   \n",
       "2  [***** *****, RN     10/23/2023 10:58 AM\"\\n\\na...   \n",
       "3  [Anesthesia Case Summary  Scheduled date of Op...   \n",
       "4  [ALD SERVICE H&P NOTE - ***** ATTENDING     My...   \n",
       "\n",
       "                                     note_texts_full  \n",
       "0  [VIDEO VISIT  I performed this consultation us...  \n",
       "1  [Pt new admit to unit. S/p bilateral ankle fra...  \n",
       "2  [***** *****, RN     10/23/2023 10:58 AM\"\\n\\na...  \n",
       "3  [Anesthesia Case Summary  Scheduled date of Op...  \n",
       "4  [ALD SERVICE H&P NOTE - ***** ATTENDING     My...  "
      ]
     },
     "execution_count": 166,
     "metadata": {},
     "output_type": "execute_result"
    }
   ],
   "source": [
    "reader_study_calibration_dataset_processed.head()"
   ]
  },
  {
   "cell_type": "code",
   "execution_count": 167,
   "id": "8bea59bf",
   "metadata": {},
   "outputs": [
    {
     "name": "stderr",
     "output_type": "stream",
     "text": [
      "100%|███████████████████████████████████████████████████████████████████████████████████████████████████████████████████████████████████████████| 100/100 [00:31<00:00,  3.13it/s]\n"
     ]
    }
   ],
   "source": [
    "NUM_NOTES = 10\n",
    "reader_study_evaluation_dataset_processed = pd.DataFrame(columns=[\n",
    "    \"patientdurablekey\",\n",
    "    \"exam_type\",\n",
    "    \"imaging_modality\",\n",
    "    \"body_group\",\n",
    "    \"report_deid_note_key\",\n",
    "    \"report_text\",\n",
    "    \"original_indication\",\n",
    "    \"radiologist_indication\",\n",
    "    \"enc_dept_names\",\n",
    "    \"note_types\",\n",
    "    \"auth_prov_types\",\n",
    "    \"deid_service_dates\",\n",
    "    \"note_titles\",\n",
    "    \"note_texts\",\n",
    "    \"note_texts_full\"\n",
    "])\n",
    "for i in tqdm.tqdm(range(len(reader_study_evaluation_dataset_reports))):\n",
    "    radiology_report = reader_study_evaluation_dataset_reports.iloc[i]\n",
    "    patient_mrn = radiology_report[\"patientdurablekey\"]\n",
    "    patient_notes = clinical_indication_dataset_redactions[clinical_indication_dataset_redactions[\"patientdurablekey\"] == patient_mrn].copy()    \n",
    "    filtered_patient_notes = patient_notes[\n",
    "        (patient_notes[\"deid_service_date\"] < radiology_report[\"deid_service_date\"]) & \n",
    "        (patient_notes[\"note_type\"] != \"Imaging\")\n",
    "    ].sort_values(by=[\"deid_service_date\"], ascending=False).reset_index(drop=True)\n",
    "    filtered_patient_notes['note_title'] = filtered_patient_notes.apply(lambda row: generate_note_title(\n",
    "        row['enc_dept_name'], row['note_type'], row['auth_prov_type'], row['deid_service_date']\n",
    "    ), axis=1)\n",
    "    enc_dept_names = filtered_patient_notes[:NUM_NOTES][[\"enc_dept_name\"]].squeeze().tolist()\n",
    "    note_types = filtered_patient_notes[:NUM_NOTES][[\"note_type\"]].squeeze().tolist()\n",
    "    auth_prov_types = filtered_patient_notes[:NUM_NOTES][[\"auth_prov_type\"]].squeeze().tolist()\n",
    "    deid_service_dates = filtered_patient_notes[:NUM_NOTES][[\"deid_service_date\"]].squeeze().tolist()\n",
    "    note_titles = filtered_patient_notes[:NUM_NOTES][[\"note_title\"]].squeeze().tolist()\n",
    "    note_texts = filtered_patient_notes[:NUM_NOTES][[\"note_text\"]].squeeze().tolist()\n",
    "    note_texts_full = filtered_patient_notes[[\"note_text\"]].squeeze().tolist()\n",
    "    row = {\n",
    "        \"patientdurablekey\": radiology_report[\"patientdurablekey\"],\n",
    "        \"exam_type\": radiology_report[\"exam_type\"],\n",
    "        \"imaging_modality\": radiology_report[\"imaging_modality\"],\n",
    "        \"body_group\": radiology_report[\"body_group\"],\n",
    "        \"report_deid_note_key\": radiology_report[\"deid_note_key\"],\n",
    "        \"report_text\": radiology_report[\"note_text\"],\n",
    "        \"original_indication\": radiology_report[\"original_indication\"],\n",
    "        \"radiologist_indication\": radiology_report[\"radiologist_indication\"],\n",
    "        \"enc_dept_names\": enc_dept_names,\n",
    "        \"note_types\": note_types,\n",
    "        \"auth_prov_types\": auth_prov_types,\n",
    "        \"deid_service_dates\": deid_service_dates,\n",
    "        \"note_titles\": note_titles,\n",
    "        \"note_texts\": note_texts,\n",
    "        \"note_texts_full\": note_texts_full\n",
    "    }\n",
    "    reader_study_evaluation_dataset_processed.loc[\n",
    "        len(reader_study_evaluation_dataset_processed)\n",
    "    ] = row\n",
    "reader_study_evaluation_dataset_processed.to_parquet(\"reader_study_evaluation_dataset_processed.parquet\")"
   ]
  },
  {
   "cell_type": "code",
   "execution_count": 168,
   "id": "cb67a2c8",
   "metadata": {},
   "outputs": [
    {
     "data": {
      "text/plain": [
       "5491"
      ]
     },
     "execution_count": 168,
     "metadata": {},
     "output_type": "execute_result"
    }
   ],
   "source": [
    "reader_study_calibration_dataset_processed[\"note_texts_full\"].apply(len).sum() + len(reader_study_calibration_dataset_processed)"
   ]
  },
  {
   "cell_type": "code",
   "execution_count": 169,
   "id": "ce786a89",
   "metadata": {},
   "outputs": [
    {
     "data": {
      "text/plain": [
       "19833"
      ]
     },
     "execution_count": 169,
     "metadata": {},
     "output_type": "execute_result"
    }
   ],
   "source": [
    "reader_study_evaluation_dataset_processed[\"note_texts_full\"].apply(len).sum() + len(reader_study_evaluation_dataset_processed)"
   ]
  },
  {
   "cell_type": "code",
   "execution_count": 170,
   "id": "f2a8906d",
   "metadata": {},
   "outputs": [],
   "source": [
    "reader_study_calibration_dataset_processed[[\"exam_type\", \"original_indication\", \"radiologist_indication\"]].to_csv(\"reader_calibration_dataset.csv\", index=False)"
   ]
  },
  {
   "cell_type": "code",
   "execution_count": 171,
   "id": "a4ebee7b",
   "metadata": {},
   "outputs": [],
   "source": [
    "reader_study_evaluation_dataset_processed[[\"exam_type\", \"original_indication\", \"radiologist_indication\"]].to_csv(\"reader_evaluation_dataset.csv\", index=False)"
   ]
  },
  {
   "cell_type": "code",
   "execution_count": 173,
   "id": "29966692",
   "metadata": {},
   "outputs": [
    {
     "data": {
      "text/html": [
       "<div>\n",
       "<style scoped>\n",
       "    .dataframe tbody tr th:only-of-type {\n",
       "        vertical-align: middle;\n",
       "    }\n",
       "\n",
       "    .dataframe tbody tr th {\n",
       "        vertical-align: top;\n",
       "    }\n",
       "\n",
       "    .dataframe thead th {\n",
       "        text-align: right;\n",
       "    }\n",
       "</style>\n",
       "<table border=\"1\" class=\"dataframe\">\n",
       "  <thead>\n",
       "    <tr style=\"text-align: right;\">\n",
       "      <th></th>\n",
       "      <th>patientdurablekey</th>\n",
       "      <th>exam_type</th>\n",
       "      <th>imaging_modality</th>\n",
       "      <th>body_group</th>\n",
       "      <th>report_deid_note_key</th>\n",
       "      <th>report_text</th>\n",
       "      <th>original_indication</th>\n",
       "      <th>radiologist_indication</th>\n",
       "      <th>enc_dept_names</th>\n",
       "      <th>note_types</th>\n",
       "      <th>auth_prov_types</th>\n",
       "      <th>deid_service_dates</th>\n",
       "      <th>note_titles</th>\n",
       "      <th>note_texts</th>\n",
       "      <th>note_texts_full</th>\n",
       "    </tr>\n",
       "  </thead>\n",
       "  <tbody>\n",
       "    <tr>\n",
       "      <th>0</th>\n",
       "      <td>D16CA190FA80BB</td>\n",
       "      <td>CT ABDOMEN/PELVIS WITH CONTRAST</td>\n",
       "      <td>CT</td>\n",
       "      <td>Abdomen/Pelvis</td>\n",
       "      <td>D942F5BE2758E1</td>\n",
       "      <td>CT ABDOMEN/PELVIS WITH CONTRAST  12/28/2022 1:...</td>\n",
       "      <td>gastric cancer, restaging for clinical trial</td>\n",
       "      <td>gastric cancer with signet ring features metas...</td>\n",
       "      <td>[GI MED ONC MB 4, GI MED ONC MB 4, ADULT INFUS...</td>\n",
       "      <td>[Progress Notes, Letter, RN Note, RN Note, Pro...</td>\n",
       "      <td>[Physician, None, Registered Nurse, Registered...</td>\n",
       "      <td>[2022-12-19 00:00:00, 2022-12-19 00:00:00, 202...</td>\n",
       "      <td>[GI MED ONC MB 4 - Progress Notes (Physician) ...</td>\n",
       "      <td>[VIDEO VISIT  I performed this consultation us...</td>\n",
       "      <td>[VIDEO VISIT  I performed this consultation us...</td>\n",
       "    </tr>\n",
       "    <tr>\n",
       "      <th>1</th>\n",
       "      <td>D26B0E8A04E300</td>\n",
       "      <td>CT ABDOMEN/PELVIS WITHOUT CONTRAST</td>\n",
       "      <td>CT</td>\n",
       "      <td>Abdomen/Pelvis</td>\n",
       "      <td>D34C8F64685D55</td>\n",
       "      <td>CT ABDOMEN/PELVIS WITHOUT CONTRAST  08/07/2017...</td>\n",
       "      <td>concern R perinephric abscess</td>\n",
       "      <td>History of metastatic bladder cancer with brai...</td>\n",
       "      <td>[15L ADULT ACUTE CARE, 15L ADULT ACUTE CARE, 1...</td>\n",
       "      <td>[Plan of Care, Consults, ED Notes, H&amp;P, ED Not...</td>\n",
       "      <td>[Registered Nurse, Pharmacist, Registered Nurs...</td>\n",
       "      <td>[2017-08-08 02:19:00, 2017-08-07 22:29:00, 201...</td>\n",
       "      <td>[15L ADULT ACUTE CARE - Plan of Care (Register...</td>\n",
       "      <td>[Pt new admit to unit. S/p bilateral ankle fra...</td>\n",
       "      <td>[Pt new admit to unit. S/p bilateral ankle fra...</td>\n",
       "    </tr>\n",
       "    <tr>\n",
       "      <th>2</th>\n",
       "      <td>DEF9A819A4D6CE</td>\n",
       "      <td>CT ABDOMEN/PELVIS WITHOUT CONTRAST</td>\n",
       "      <td>CT</td>\n",
       "      <td>Abdomen/Pelvis</td>\n",
       "      <td>DF9877482DF456</td>\n",
       "      <td>CT ABDOMEN/PELVIS WITHOUT CONTRAST    10/22/20...</td>\n",
       "      <td>abd pain ? sepsis.</td>\n",
       "      <td>History of HIV, epigastric pain,</td>\n",
       "      <td>[15L ADULT ACUTE CARE, 15L ADULT ACUTE CARE, 1...</td>\n",
       "      <td>[Consult, Consult, Consults, Progress Notes, E...</td>\n",
       "      <td>[Physician, Physician, Pharmacist, Physician, ...</td>\n",
       "      <td>[2023-10-23 09:05:00, 2023-10-23 09:02:00, 202...</td>\n",
       "      <td>[15L ADULT ACUTE CARE - Consult (Physician) | ...</td>\n",
       "      <td>[***** *****, RN     10/23/2023 10:58 AM\"\\n\\na...</td>\n",
       "      <td>[***** *****, RN     10/23/2023 10:58 AM\"\\n\\na...</td>\n",
       "    </tr>\n",
       "    <tr>\n",
       "      <th>3</th>\n",
       "      <td>DFD86620184F55</td>\n",
       "      <td>CT ABDOMEN/PELVIS WITHOUT CONTRAST</td>\n",
       "      <td>CT</td>\n",
       "      <td>Abdomen/Pelvis</td>\n",
       "      <td>DD20946E836E7B</td>\n",
       "      <td>CT ABDOMEN/PELVIS WITHOUT CONTRAST  09/26/2016...</td>\n",
       "      <td>Intense RUQ pain, r/o free air or perforation,...</td>\n",
       "      <td>Admitted to surgery service with initial conce...</td>\n",
       "      <td>[PERIOP PARN, PERIOP PARN, PERIOP PARN, 13L GE...</td>\n",
       "      <td>[Anesthesia Transfer of Care, Anesthesia Post-...</td>\n",
       "      <td>[Physician, Physician, Physician, Registered N...</td>\n",
       "      <td>[2016-09-26 00:00:00, 2016-09-26 00:00:00, 201...</td>\n",
       "      <td>[PERIOP PARN - Anesthesia Transfer of Care (Ph...</td>\n",
       "      <td>[Anesthesia Case Summary  Scheduled date of Op...</td>\n",
       "      <td>[Anesthesia Case Summary  Scheduled date of Op...</td>\n",
       "    </tr>\n",
       "    <tr>\n",
       "      <th>4</th>\n",
       "      <td>DECE9B13953718</td>\n",
       "      <td>CT CHEST WITHOUT CONTRAST</td>\n",
       "      <td>CT</td>\n",
       "      <td>Chest</td>\n",
       "      <td>DB1900835B31BA</td>\n",
       "      <td>CT CHEST WITHOUT CONTRAST    CLINICAL HISTORY:...</td>\n",
       "      <td>S/p lung transplant</td>\n",
       "      <td>History of mixed connective tissue disease / s...</td>\n",
       "      <td>[12M MED/SURG/ACUTE TCU, 12M MED/SURG/ACUTE TC...</td>\n",
       "      <td>[H&amp;P, ECG, ECG, Progress Notes, Progress Notes...</td>\n",
       "      <td>[Physician, Physician, None, Physician, None, ...</td>\n",
       "      <td>[2019-10-08 02:28:00, 2019-10-07 20:14:00, 201...</td>\n",
       "      <td>[12M MED/SURG/ACUTE TCU - H&amp;P (Physician) | 20...</td>\n",
       "      <td>[ALD SERVICE H&amp;P NOTE - ***** ATTENDING     My...</td>\n",
       "      <td>[ALD SERVICE H&amp;P NOTE - ***** ATTENDING     My...</td>\n",
       "    </tr>\n",
       "    <tr>\n",
       "      <th>5</th>\n",
       "      <td>D8DB710446D2E9</td>\n",
       "      <td>CT CHEST WITH CONTRAST</td>\n",
       "      <td>CT</td>\n",
       "      <td>Chest</td>\n",
       "      <td>D6B5618FFE34F1</td>\n",
       "      <td>CT CHEST WITH CONTRAST    CLINICAL HISTORY:  p...</td>\n",
       "      <td>persistent neutropenic fever</td>\n",
       "      <td>relapsed AML presenting w/ neutropenic fever O...</td>\n",
       "      <td>[11L MEDSURG-ONC/BMT B, 11L MEDSURG-ONC/BMT B,...</td>\n",
       "      <td>[Plan of Care, Interdisciplinary, Consults, Pr...</td>\n",
       "      <td>[Registered Nurse, Social Worker, Registered N...</td>\n",
       "      <td>[2021-01-07 00:44:00, 2021-01-06 16:25:00, 202...</td>\n",
       "      <td>[11L MEDSURG-ONC/BMT B - Plan of Care (Registe...</td>\n",
       "      <td>[Pt more alert tonight. PRN oxy and ativan giv...</td>\n",
       "      <td>[Pt more alert tonight. PRN oxy and ativan giv...</td>\n",
       "    </tr>\n",
       "    <tr>\n",
       "      <th>6</th>\n",
       "      <td>DD86FC8BB5B04E</td>\n",
       "      <td>CT CHEST WITHOUT CONTRAST</td>\n",
       "      <td>CT</td>\n",
       "      <td>Chest</td>\n",
       "      <td>D30B20A758BB53</td>\n",
       "      <td>CT CHEST WITHOUT CONTRAST    CLINICAL HISTORY:...</td>\n",
       "      <td>Hypoxia  eval for infection, pneumonitis</td>\n",
       "      <td>Metastatic ocular melanoma with metastases to ...</td>\n",
       "      <td>[None, 14L MEDICINE, 14L MEDICINE, 14L MEDICIN...</td>\n",
       "      <td>[Sticky Note, ACP (Advance Care Planning), Lab...</td>\n",
       "      <td>[None, Physician, Physician, Physician, Physic...</td>\n",
       "      <td>[2021-12-17 02:05:00, 2021-12-17 01:29:00, 202...</td>\n",
       "      <td>[Sticky Note | 2021-12-17 02:05:00, 14L MEDICI...</td>\n",
       "      <td>[ipilimumab (IPI) ( inhibition of T-cell inact...</td>\n",
       "      <td>[ipilimumab (IPI) ( inhibition of T-cell inact...</td>\n",
       "    </tr>\n",
       "    <tr>\n",
       "      <th>7</th>\n",
       "      <td>DFD47DDE3AEF59</td>\n",
       "      <td>CT CHEST WITH CONTRAST</td>\n",
       "      <td>CT</td>\n",
       "      <td>Chest</td>\n",
       "      <td>D5B427AC62951E</td>\n",
       "      <td>CT CHEST WITH CONTRAST    03/07/2023 5:51 PM  ...</td>\n",
       "      <td>Fevers of unknown origin, L pleural effusion. ...</td>\n",
       "      <td>HIV (on ART) and HPV-negative SCC of tonsil w/...</td>\n",
       "      <td>[14M MS-HI-ACUITY, 14M MS-HI-ACUITY, 14M MS-HI...</td>\n",
       "      <td>[Plan of Care, Consults, Consults, Consults, P...</td>\n",
       "      <td>[Registered Nurse, Registered Nurse, Registere...</td>\n",
       "      <td>[2023-03-08 05:29:00, 2023-03-07 15:30:00, 202...</td>\n",
       "      <td>[14M MS-HI-ACUITY - Plan of Care (Registered N...</td>\n",
       "      <td>[  Problem: Discharge Planning - Adult  Goal: ...</td>\n",
       "      <td>[  Problem: Discharge Planning - Adult  Goal: ...</td>\n",
       "    </tr>\n",
       "    <tr>\n",
       "      <th>8</th>\n",
       "      <td>D6DE10FC3EE718</td>\n",
       "      <td>MR BRAIN WITH AND WITHOUT CONTRAST  10/10/2019...</td>\n",
       "      <td>MRI</td>\n",
       "      <td>Head</td>\n",
       "      <td>DFD12CA4895C48</td>\n",
       "      <td>MR BRAIN WITH AND WITHOUT CONTRAST : 10/10/201...</td>\n",
       "      <td>Cancer, recurrence suspected  Other reason tha...</td>\n",
       "      <td>Resection of scalp lesion with myocutaneous fl...</td>\n",
       "      <td>[None, RAD ONC MB 1, None, None, HEAD &amp; NECK S...</td>\n",
       "      <td>[HNO_MYC_LET_INFO|NOTE_ID, RN Note, ECG, HNO_M...</td>\n",
       "      <td>[None, Registered Nurse, None, None, Registere...</td>\n",
       "      <td>[2019-10-10 23:42:00, 2019-10-09 11:15:00, 201...</td>\n",
       "      <td>[HNO_MYC_LET_INFO|NOTE_ID | 2019-10-10 23:42:0...</td>\n",
       "      <td>[COVID-19 Screening Result    10/10/19    CLEA...</td>\n",
       "      <td>[COVID-19 Screening Result    10/10/19    CLEA...</td>\n",
       "    </tr>\n",
       "    <tr>\n",
       "      <th>9</th>\n",
       "      <td>DABCF6B64FFC0F</td>\n",
       "      <td>MR BRAIN WITH AND WITHOUT CONTRAST</td>\n",
       "      <td>MRI</td>\n",
       "      <td>Head</td>\n",
       "      <td>D1AD2491980CDD</td>\n",
       "      <td>MR BRAIN WITH AND WITHOUT CONTRAST:  11/04/202...</td>\n",
       "      <td>persistent encephalopathy, r/o stroke</td>\n",
       "      <td>History of decompensated EtOH cirrhosis, chron...</td>\n",
       "      <td>[14L MEDICINE, 14L MEDICINE, 14L MEDICINE, NON...</td>\n",
       "      <td>[Progress Notes, Consults, Consults, Anesthesi...</td>\n",
       "      <td>[Resident, Registered Dietitian, Speech and La...</td>\n",
       "      <td>[2020-11-04 09:29:00, 2020-11-04 09:20:00, 202...</td>\n",
       "      <td>[14L MEDICINE - Progress Notes (Resident) | 20...</td>\n",
       "      <td>[HOSPITAL MEDICINE PROGRESS NOTE       Admit d...</td>\n",
       "      <td>[HOSPITAL MEDICINE PROGRESS NOTE       Admit d...</td>\n",
       "    </tr>\n",
       "    <tr>\n",
       "      <th>10</th>\n",
       "      <td>DE113D62DCA4F8</td>\n",
       "      <td>MR BRAIN WITH AND WITHOUT CONTRAST</td>\n",
       "      <td>MRI</td>\n",
       "      <td>Head</td>\n",
       "      <td>D7A1FEDEF94F49</td>\n",
       "      <td>MR BRAIN WITH AND WITHOUT CONTRAST:  07/16/202...</td>\n",
       "      <td>Brain neoplasm (known or suspected)</td>\n",
       "      <td>Right frontal grade 2 astrocytoma, IDH mutant,...</td>\n",
       "      <td>[NEURO ONC PARN, NEURO ONC PSYCH PARN, NEURO O...</td>\n",
       "      <td>[Progress Notes, Progress Notes, Progress Note...</td>\n",
       "      <td>[Physician, Nurse Practitioner, Nurse Practiti...</td>\n",
       "      <td>[2021-07-16 00:00:00, 2021-07-04 00:00:00, 202...</td>\n",
       "      <td>[NEURO ONC PARN - Progress Notes (Physician) |...</td>\n",
       "      <td>[NEURO-ONCOLOGY FOLLOWUP PATIENT VISIT    DATE...</td>\n",
       "      <td>[NEURO-ONCOLOGY FOLLOWUP PATIENT VISIT    DATE...</td>\n",
       "    </tr>\n",
       "    <tr>\n",
       "      <th>11</th>\n",
       "      <td>DA66984E06EB60</td>\n",
       "      <td>MR BRAIN WITH AND WITHOUT CONTRAST</td>\n",
       "      <td>MRI</td>\n",
       "      <td>Head</td>\n",
       "      <td>D8D2FDAF970A99</td>\n",
       "      <td>MR BRAIN WITH AND WITHOUT CONTRAST:  11/12/202...</td>\n",
       "      <td>h/o embolic phenomenon, diffuse weakness</td>\n",
       "      <td>h/o schizophrenia and substance abuse who is c...</td>\n",
       "      <td>[None, 12M MED/SURG/ACUTE TCU, 12M MED/SURG/AC...</td>\n",
       "      <td>[ECG, Interdisciplinary, Interdisciplinary, EC...</td>\n",
       "      <td>[None, Case Manager, Social Worker, Physician,...</td>\n",
       "      <td>[2020-11-13 16:03:00, 2020-11-13 15:53:00, 202...</td>\n",
       "      <td>[ECG | 2020-11-13 16:03:00, 12M MED/SURG/ACUTE...</td>\n",
       "      <td>[IMPRESSION:   Otherwise normal ECG  Sinus tac...</td>\n",
       "      <td>[IMPRESSION:   Otherwise normal ECG  Sinus tac...</td>\n",
       "    </tr>\n",
       "    <tr>\n",
       "      <th>12</th>\n",
       "      <td>D2A52CEB885CA7</td>\n",
       "      <td>MR CERVICAL SPINE WITH AND WITHOUT CONTRAST, M...</td>\n",
       "      <td>MRI</td>\n",
       "      <td>MSK</td>\n",
       "      <td>D69D4EA9EB6F83</td>\n",
       "      <td>MR CERVICAL SPINE WITH AND WITHOUT CONTRAST, M...</td>\n",
       "      <td>Multiple sclerosis  MS, brisk LE reflexes</td>\n",
       "      <td>RR MS on Tecfidera.</td>\n",
       "      <td>[MS WEILL, MS WEILL, MS WEILL, MS WEILL, MS WE...</td>\n",
       "      <td>[Lab, Progress Notes, Progress Notes, Progress...</td>\n",
       "      <td>[Physician, Physician, Pharmacist, Physician, ...</td>\n",
       "      <td>[2021-02-25 16:41:00, 2021-02-25 00:00:00, 202...</td>\n",
       "      <td>[MS WEILL - Lab (Physician) | 2021-02-25 16:41...</td>\n",
       "      <td>[The following orders were created for panel o...</td>\n",
       "      <td>[The following orders were created for panel o...</td>\n",
       "    </tr>\n",
       "    <tr>\n",
       "      <th>13</th>\n",
       "      <td>DE9195320EA502</td>\n",
       "      <td>MR CERVICAL SPINE WITH AND WITHOUT CONTRAST</td>\n",
       "      <td>MRI</td>\n",
       "      <td>MSK</td>\n",
       "      <td>DABB2C84AC5F8A</td>\n",
       "      <td>MR CERVICAL SPINE WITH AND WITHOUT CONTRAST:  ...</td>\n",
       "      <td>Cervical radicular neurologic deficit</td>\n",
       "      <td>Numbness tingling and pain in the left hand.</td>\n",
       "      <td>[None, ORTHO PROS MB, None, ORTHO HAND MB, ORT...</td>\n",
       "      <td>[HNO_MYC_LET_INFO|NOTE_ID, Procedures, HNO_MYC...</td>\n",
       "      <td>[None, Physician, None, Physician, Nurse Pract...</td>\n",
       "      <td>[2020-11-18 23:41:00, 2020-11-18 00:00:00, 202...</td>\n",
       "      <td>[HNO_MYC_LET_INFO|NOTE_ID | 2020-11-18 23:41:0...</td>\n",
       "      <td>[COVID-19 Screening Result    11/18/20    CLEA...</td>\n",
       "      <td>[COVID-19 Screening Result    11/18/20    CLEA...</td>\n",
       "    </tr>\n",
       "    <tr>\n",
       "      <th>14</th>\n",
       "      <td>DE25DE834F065D</td>\n",
       "      <td>MR TOTAL SPINE WITH AND WITHOUT CONTRAST</td>\n",
       "      <td>MRI</td>\n",
       "      <td>MSK</td>\n",
       "      <td>D381E526471D7E</td>\n",
       "      <td>MR TOTAL SPINE WITH AND WITHOUT CONTRAST:  04/...</td>\n",
       "      <td>prior history of thoracic and lumbar spine mets</td>\n",
       "      <td>Esthesioneuroblastoma with intracranial extens...</td>\n",
       "      <td>[SOD PROSTH PARN, OHNS VOICE MZ POST, OHNS VOI...</td>\n",
       "      <td>[Progress Notes, Progress Notes, Letter, Disch...</td>\n",
       "      <td>[Dentist, Physician, None, Physician, Physicia...</td>\n",
       "      <td>[2023-04-12 00:00:00, 2023-04-07 00:00:00, 202...</td>\n",
       "      <td>[SOD PROSTH PARN - Progress Notes (Dentist) | ...</td>\n",
       "      <td>[***** ***** Pros: consultation and evaluation...</td>\n",
       "      <td>[***** ***** Pros: consultation and evaluation...</td>\n",
       "    </tr>\n",
       "    <tr>\n",
       "      <th>15</th>\n",
       "      <td>DA137B2E2219A9</td>\n",
       "      <td>MR CERVICAL SPINE WITH AND WITHOUT CONTRAST, M...</td>\n",
       "      <td>MRI</td>\n",
       "      <td>MSK</td>\n",
       "      <td>D6879055E9EE90</td>\n",
       "      <td>MR CERVICAL SPINE WITH AND WITHOUT CONTRAST, M...</td>\n",
       "      <td>Cancer metastatic to cervical spine  Other rea...</td>\n",
       "      <td>Stool incontinence since at least July 2017, a...</td>\n",
       "      <td>[8L NEUROSCIENCES, 8L NEUROSCIENCES, COLORECTA...</td>\n",
       "      <td>[H&amp;P, ED Provider Notes, Letter, Progress Note...</td>\n",
       "      <td>[Physician, Physician, None, Physician, None, ...</td>\n",
       "      <td>[2020-03-01 20:36:00, 2020-03-01 16:32:00, 202...</td>\n",
       "      <td>[8L NEUROSCIENCES - H&amp;P (Physician) | 2020-03-...</td>\n",
       "      <td>[HOSPITAL MEDICINE H&amp;P NOTE     Family/Surroga...</td>\n",
       "      <td>[HOSPITAL MEDICINE H&amp;P NOTE     Family/Surroga...</td>\n",
       "    </tr>\n",
       "    <tr>\n",
       "      <th>16</th>\n",
       "      <td>D6A4DCFF299D7E</td>\n",
       "      <td>CT NECK WITH CONTRAST (PETCT)</td>\n",
       "      <td>CT</td>\n",
       "      <td>Neck</td>\n",
       "      <td>DCDC6117ED8868</td>\n",
       "      <td>CT NECK WITH CONTRAST (PETCT):  03/27/2021 12:...</td>\n",
       "      <td>Cancer surveillance (no evidence of disease, n...</td>\n",
       "      <td>Left oral tongue squamous cell carcinoma statu...</td>\n",
       "      <td>[PATH FNA MB 2, HEAD &amp; NECK SURG MB 5, HEAD &amp; ...</td>\n",
       "      <td>[Progress Notes, Progress Notes, Letter, Progr...</td>\n",
       "      <td>[Physician, Physician, None, Physician, None, ...</td>\n",
       "      <td>[2021-03-28 00:00:00, 2021-03-28 00:00:00, 202...</td>\n",
       "      <td>[PATH FNA MB 2 - Progress Notes (Physician) | ...</td>\n",
       "      <td>[FNA Biopsy Consultation Note:    ***** ***** ...</td>\n",
       "      <td>[FNA Biopsy Consultation Note:    ***** ***** ...</td>\n",
       "    </tr>\n",
       "    <tr>\n",
       "      <th>17</th>\n",
       "      <td>D2AB42F32D9417</td>\n",
       "      <td>CT NECK WITH CONTRAST</td>\n",
       "      <td>CT</td>\n",
       "      <td>Neck</td>\n",
       "      <td>DD5679ED1A5ED5</td>\n",
       "      <td>CT NECK WITH CONTRAST:  11/11/2022 12:05 PM   ...</td>\n",
       "      <td>Neck soft tissue neoplasm suspected  No neck p...</td>\n",
       "      <td>status post thyroidectomy in 2013 for a long s...</td>\n",
       "      <td>[THYROID PARN, None, RAD ULTRASOUND PARN, RAD ...</td>\n",
       "      <td>[Progress Notes, Pathology and Cytology, Disch...</td>\n",
       "      <td>[Physician, None, Registered Nurse, Physician,...</td>\n",
       "      <td>[2022-11-06 00:00:00, 2022-10-15 12:04:00, 202...</td>\n",
       "      <td>[THYROID PARN - Progress Notes (Physician) | 2...</td>\n",
       "      <td>[Subjective:      Patient ID: ***** ***** ****...</td>\n",
       "      <td>[Subjective:      Patient ID: ***** ***** ****...</td>\n",
       "    </tr>\n",
       "    <tr>\n",
       "      <th>18</th>\n",
       "      <td>D52DC7B16ACF4F</td>\n",
       "      <td>CT NECK WITH CONTRAST (PETCT)</td>\n",
       "      <td>CT</td>\n",
       "      <td>Neck</td>\n",
       "      <td>D3D02F0EF45B33</td>\n",
       "      <td>CT NECK WITH CONTRAST (PETCT):  10/18/2023 5:2...</td>\n",
       "      <td>Right orbital mass - query lymphoma, vasculiti...</td>\n",
       "      <td>Surgery 08/19/2023 for an orbital mass showing...</td>\n",
       "      <td>[ZZZGENERIC EXTERNAL DATA DEPAR, ZZZGENERIC EX...</td>\n",
       "      <td>[Progress Notes, Progress Notes, Progress Note...</td>\n",
       "      <td>[None, None, None, None, None, Physician, Phys...</td>\n",
       "      <td>[2023-10-14 00:00:00, 2023-10-14 00:00:00, 202...</td>\n",
       "      <td>[ZZZGENERIC EXTERNAL DATA DEPAR - Progress Not...</td>\n",
       "      <td>[Subjective  Chief Complaint   Patient present...</td>\n",
       "      <td>[Subjective  Chief Complaint   Patient present...</td>\n",
       "    </tr>\n",
       "    <tr>\n",
       "      <th>19</th>\n",
       "      <td>D7ACFC1AF1150F</td>\n",
       "      <td>CT TEMPORAL BONE WITHOUT CONTRAST</td>\n",
       "      <td>CT</td>\n",
       "      <td>Neck</td>\n",
       "      <td>DF327C601596C1</td>\n",
       "      <td>CT TEMPORAL BONE WITHOUT CONTRAST:  07/23/2023...</td>\n",
       "      <td>Recurrent cholesteatoma.  as above</td>\n",
       "      <td>History of right sided otalgia, otorrhea, and ...</td>\n",
       "      <td>[OHNS OTOLOGY MZ, OHNS OTOLOGY MZ, OHNS OTOLOG...</td>\n",
       "      <td>[Letter, Progress Notes, Progress Notes, Lette...</td>\n",
       "      <td>[None, Physician, Physician, None, None, None,...</td>\n",
       "      <td>[2023-07-16 00:00:00, 2023-07-16 00:00:00, 202...</td>\n",
       "      <td>[OHNS OTOLOGY MZ - Letter | 2023-07-16 00:00:0...</td>\n",
       "      <td>[  07/22/2023    None Per Patient Provider    ...</td>\n",
       "      <td>[  07/22/2023    None Per Patient Provider    ...</td>\n",
       "    </tr>\n",
       "  </tbody>\n",
       "</table>\n",
       "</div>"
      ],
      "text/plain": [
       "   patientdurablekey                                          exam_type  \\\n",
       "0     D16CA190FA80BB                    CT ABDOMEN/PELVIS WITH CONTRAST   \n",
       "1     D26B0E8A04E300                 CT ABDOMEN/PELVIS WITHOUT CONTRAST   \n",
       "2     DEF9A819A4D6CE                 CT ABDOMEN/PELVIS WITHOUT CONTRAST   \n",
       "3     DFD86620184F55                 CT ABDOMEN/PELVIS WITHOUT CONTRAST   \n",
       "4     DECE9B13953718                          CT CHEST WITHOUT CONTRAST   \n",
       "5     D8DB710446D2E9                             CT CHEST WITH CONTRAST   \n",
       "6     DD86FC8BB5B04E                          CT CHEST WITHOUT CONTRAST   \n",
       "7     DFD47DDE3AEF59                             CT CHEST WITH CONTRAST   \n",
       "8     D6DE10FC3EE718  MR BRAIN WITH AND WITHOUT CONTRAST  10/10/2019...   \n",
       "9     DABCF6B64FFC0F                 MR BRAIN WITH AND WITHOUT CONTRAST   \n",
       "10    DE113D62DCA4F8                 MR BRAIN WITH AND WITHOUT CONTRAST   \n",
       "11    DA66984E06EB60                 MR BRAIN WITH AND WITHOUT CONTRAST   \n",
       "12    D2A52CEB885CA7  MR CERVICAL SPINE WITH AND WITHOUT CONTRAST, M...   \n",
       "13    DE9195320EA502        MR CERVICAL SPINE WITH AND WITHOUT CONTRAST   \n",
       "14    DE25DE834F065D           MR TOTAL SPINE WITH AND WITHOUT CONTRAST   \n",
       "15    DA137B2E2219A9  MR CERVICAL SPINE WITH AND WITHOUT CONTRAST, M...   \n",
       "16    D6A4DCFF299D7E                      CT NECK WITH CONTRAST (PETCT)   \n",
       "17    D2AB42F32D9417                              CT NECK WITH CONTRAST   \n",
       "18    D52DC7B16ACF4F                      CT NECK WITH CONTRAST (PETCT)   \n",
       "19    D7ACFC1AF1150F                  CT TEMPORAL BONE WITHOUT CONTRAST   \n",
       "\n",
       "   imaging_modality      body_group report_deid_note_key  \\\n",
       "0                CT  Abdomen/Pelvis       D942F5BE2758E1   \n",
       "1                CT  Abdomen/Pelvis       D34C8F64685D55   \n",
       "2                CT  Abdomen/Pelvis       DF9877482DF456   \n",
       "3                CT  Abdomen/Pelvis       DD20946E836E7B   \n",
       "4                CT           Chest       DB1900835B31BA   \n",
       "5                CT           Chest       D6B5618FFE34F1   \n",
       "6                CT           Chest       D30B20A758BB53   \n",
       "7                CT           Chest       D5B427AC62951E   \n",
       "8               MRI            Head       DFD12CA4895C48   \n",
       "9               MRI            Head       D1AD2491980CDD   \n",
       "10              MRI            Head       D7A1FEDEF94F49   \n",
       "11              MRI            Head       D8D2FDAF970A99   \n",
       "12              MRI             MSK       D69D4EA9EB6F83   \n",
       "13              MRI             MSK       DABB2C84AC5F8A   \n",
       "14              MRI             MSK       D381E526471D7E   \n",
       "15              MRI             MSK       D6879055E9EE90   \n",
       "16               CT            Neck       DCDC6117ED8868   \n",
       "17               CT            Neck       DD5679ED1A5ED5   \n",
       "18               CT            Neck       D3D02F0EF45B33   \n",
       "19               CT            Neck       DF327C601596C1   \n",
       "\n",
       "                                          report_text  \\\n",
       "0   CT ABDOMEN/PELVIS WITH CONTRAST  12/28/2022 1:...   \n",
       "1   CT ABDOMEN/PELVIS WITHOUT CONTRAST  08/07/2017...   \n",
       "2   CT ABDOMEN/PELVIS WITHOUT CONTRAST    10/22/20...   \n",
       "3   CT ABDOMEN/PELVIS WITHOUT CONTRAST  09/26/2016...   \n",
       "4   CT CHEST WITHOUT CONTRAST    CLINICAL HISTORY:...   \n",
       "5   CT CHEST WITH CONTRAST    CLINICAL HISTORY:  p...   \n",
       "6   CT CHEST WITHOUT CONTRAST    CLINICAL HISTORY:...   \n",
       "7   CT CHEST WITH CONTRAST    03/07/2023 5:51 PM  ...   \n",
       "8   MR BRAIN WITH AND WITHOUT CONTRAST : 10/10/201...   \n",
       "9   MR BRAIN WITH AND WITHOUT CONTRAST:  11/04/202...   \n",
       "10  MR BRAIN WITH AND WITHOUT CONTRAST:  07/16/202...   \n",
       "11  MR BRAIN WITH AND WITHOUT CONTRAST:  11/12/202...   \n",
       "12  MR CERVICAL SPINE WITH AND WITHOUT CONTRAST, M...   \n",
       "13  MR CERVICAL SPINE WITH AND WITHOUT CONTRAST:  ...   \n",
       "14  MR TOTAL SPINE WITH AND WITHOUT CONTRAST:  04/...   \n",
       "15  MR CERVICAL SPINE WITH AND WITHOUT CONTRAST, M...   \n",
       "16  CT NECK WITH CONTRAST (PETCT):  03/27/2021 12:...   \n",
       "17  CT NECK WITH CONTRAST:  11/11/2022 12:05 PM   ...   \n",
       "18  CT NECK WITH CONTRAST (PETCT):  10/18/2023 5:2...   \n",
       "19  CT TEMPORAL BONE WITHOUT CONTRAST:  07/23/2023...   \n",
       "\n",
       "                                  original_indication  \\\n",
       "0        gastric cancer, restaging for clinical trial   \n",
       "1                       concern R perinephric abscess   \n",
       "2                                  abd pain ? sepsis.   \n",
       "3   Intense RUQ pain, r/o free air or perforation,...   \n",
       "4                                 S/p lung transplant   \n",
       "5                        persistent neutropenic fever   \n",
       "6            Hypoxia  eval for infection, pneumonitis   \n",
       "7   Fevers of unknown origin, L pleural effusion. ...   \n",
       "8   Cancer, recurrence suspected  Other reason tha...   \n",
       "9               persistent encephalopathy, r/o stroke   \n",
       "10                Brain neoplasm (known or suspected)   \n",
       "11           h/o embolic phenomenon, diffuse weakness   \n",
       "12          Multiple sclerosis  MS, brisk LE reflexes   \n",
       "13              Cervical radicular neurologic deficit   \n",
       "14    prior history of thoracic and lumbar spine mets   \n",
       "15  Cancer metastatic to cervical spine  Other rea...   \n",
       "16  Cancer surveillance (no evidence of disease, n...   \n",
       "17  Neck soft tissue neoplasm suspected  No neck p...   \n",
       "18  Right orbital mass - query lymphoma, vasculiti...   \n",
       "19                 Recurrent cholesteatoma.  as above   \n",
       "\n",
       "                               radiologist_indication  \\\n",
       "0   gastric cancer with signet ring features metas...   \n",
       "1   History of metastatic bladder cancer with brai...   \n",
       "2                    History of HIV, epigastric pain,   \n",
       "3   Admitted to surgery service with initial conce...   \n",
       "4   History of mixed connective tissue disease / s...   \n",
       "5   relapsed AML presenting w/ neutropenic fever O...   \n",
       "6   Metastatic ocular melanoma with metastases to ...   \n",
       "7   HIV (on ART) and HPV-negative SCC of tonsil w/...   \n",
       "8   Resection of scalp lesion with myocutaneous fl...   \n",
       "9   History of decompensated EtOH cirrhosis, chron...   \n",
       "10  Right frontal grade 2 astrocytoma, IDH mutant,...   \n",
       "11  h/o schizophrenia and substance abuse who is c...   \n",
       "12                                RR MS on Tecfidera.   \n",
       "13       Numbness tingling and pain in the left hand.   \n",
       "14  Esthesioneuroblastoma with intracranial extens...   \n",
       "15  Stool incontinence since at least July 2017, a...   \n",
       "16  Left oral tongue squamous cell carcinoma statu...   \n",
       "17  status post thyroidectomy in 2013 for a long s...   \n",
       "18  Surgery 08/19/2023 for an orbital mass showing...   \n",
       "19  History of right sided otalgia, otorrhea, and ...   \n",
       "\n",
       "                                       enc_dept_names  \\\n",
       "0   [GI MED ONC MB 4, GI MED ONC MB 4, ADULT INFUS...   \n",
       "1   [15L ADULT ACUTE CARE, 15L ADULT ACUTE CARE, 1...   \n",
       "2   [15L ADULT ACUTE CARE, 15L ADULT ACUTE CARE, 1...   \n",
       "3   [PERIOP PARN, PERIOP PARN, PERIOP PARN, 13L GE...   \n",
       "4   [12M MED/SURG/ACUTE TCU, 12M MED/SURG/ACUTE TC...   \n",
       "5   [11L MEDSURG-ONC/BMT B, 11L MEDSURG-ONC/BMT B,...   \n",
       "6   [None, 14L MEDICINE, 14L MEDICINE, 14L MEDICIN...   \n",
       "7   [14M MS-HI-ACUITY, 14M MS-HI-ACUITY, 14M MS-HI...   \n",
       "8   [None, RAD ONC MB 1, None, None, HEAD & NECK S...   \n",
       "9   [14L MEDICINE, 14L MEDICINE, 14L MEDICINE, NON...   \n",
       "10  [NEURO ONC PARN, NEURO ONC PSYCH PARN, NEURO O...   \n",
       "11  [None, 12M MED/SURG/ACUTE TCU, 12M MED/SURG/AC...   \n",
       "12  [MS WEILL, MS WEILL, MS WEILL, MS WEILL, MS WE...   \n",
       "13  [None, ORTHO PROS MB, None, ORTHO HAND MB, ORT...   \n",
       "14  [SOD PROSTH PARN, OHNS VOICE MZ POST, OHNS VOI...   \n",
       "15  [8L NEUROSCIENCES, 8L NEUROSCIENCES, COLORECTA...   \n",
       "16  [PATH FNA MB 2, HEAD & NECK SURG MB 5, HEAD & ...   \n",
       "17  [THYROID PARN, None, RAD ULTRASOUND PARN, RAD ...   \n",
       "18  [ZZZGENERIC EXTERNAL DATA DEPAR, ZZZGENERIC EX...   \n",
       "19  [OHNS OTOLOGY MZ, OHNS OTOLOGY MZ, OHNS OTOLOG...   \n",
       "\n",
       "                                           note_types  \\\n",
       "0   [Progress Notes, Letter, RN Note, RN Note, Pro...   \n",
       "1   [Plan of Care, Consults, ED Notes, H&P, ED Not...   \n",
       "2   [Consult, Consult, Consults, Progress Notes, E...   \n",
       "3   [Anesthesia Transfer of Care, Anesthesia Post-...   \n",
       "4   [H&P, ECG, ECG, Progress Notes, Progress Notes...   \n",
       "5   [Plan of Care, Interdisciplinary, Consults, Pr...   \n",
       "6   [Sticky Note, ACP (Advance Care Planning), Lab...   \n",
       "7   [Plan of Care, Consults, Consults, Consults, P...   \n",
       "8   [HNO_MYC_LET_INFO|NOTE_ID, RN Note, ECG, HNO_M...   \n",
       "9   [Progress Notes, Consults, Consults, Anesthesi...   \n",
       "10  [Progress Notes, Progress Notes, Progress Note...   \n",
       "11  [ECG, Interdisciplinary, Interdisciplinary, EC...   \n",
       "12  [Lab, Progress Notes, Progress Notes, Progress...   \n",
       "13  [HNO_MYC_LET_INFO|NOTE_ID, Procedures, HNO_MYC...   \n",
       "14  [Progress Notes, Progress Notes, Letter, Disch...   \n",
       "15  [H&P, ED Provider Notes, Letter, Progress Note...   \n",
       "16  [Progress Notes, Progress Notes, Letter, Progr...   \n",
       "17  [Progress Notes, Pathology and Cytology, Disch...   \n",
       "18  [Progress Notes, Progress Notes, Progress Note...   \n",
       "19  [Letter, Progress Notes, Progress Notes, Lette...   \n",
       "\n",
       "                                      auth_prov_types  \\\n",
       "0   [Physician, None, Registered Nurse, Registered...   \n",
       "1   [Registered Nurse, Pharmacist, Registered Nurs...   \n",
       "2   [Physician, Physician, Pharmacist, Physician, ...   \n",
       "3   [Physician, Physician, Physician, Registered N...   \n",
       "4   [Physician, Physician, None, Physician, None, ...   \n",
       "5   [Registered Nurse, Social Worker, Registered N...   \n",
       "6   [None, Physician, Physician, Physician, Physic...   \n",
       "7   [Registered Nurse, Registered Nurse, Registere...   \n",
       "8   [None, Registered Nurse, None, None, Registere...   \n",
       "9   [Resident, Registered Dietitian, Speech and La...   \n",
       "10  [Physician, Nurse Practitioner, Nurse Practiti...   \n",
       "11  [None, Case Manager, Social Worker, Physician,...   \n",
       "12  [Physician, Physician, Pharmacist, Physician, ...   \n",
       "13  [None, Physician, None, Physician, Nurse Pract...   \n",
       "14  [Dentist, Physician, None, Physician, Physicia...   \n",
       "15  [Physician, Physician, None, Physician, None, ...   \n",
       "16  [Physician, Physician, None, Physician, None, ...   \n",
       "17  [Physician, None, Registered Nurse, Physician,...   \n",
       "18  [None, None, None, None, None, Physician, Phys...   \n",
       "19  [None, Physician, Physician, None, None, None,...   \n",
       "\n",
       "                                   deid_service_dates  \\\n",
       "0   [2022-12-19 00:00:00, 2022-12-19 00:00:00, 202...   \n",
       "1   [2017-08-08 02:19:00, 2017-08-07 22:29:00, 201...   \n",
       "2   [2023-10-23 09:05:00, 2023-10-23 09:02:00, 202...   \n",
       "3   [2016-09-26 00:00:00, 2016-09-26 00:00:00, 201...   \n",
       "4   [2019-10-08 02:28:00, 2019-10-07 20:14:00, 201...   \n",
       "5   [2021-01-07 00:44:00, 2021-01-06 16:25:00, 202...   \n",
       "6   [2021-12-17 02:05:00, 2021-12-17 01:29:00, 202...   \n",
       "7   [2023-03-08 05:29:00, 2023-03-07 15:30:00, 202...   \n",
       "8   [2019-10-10 23:42:00, 2019-10-09 11:15:00, 201...   \n",
       "9   [2020-11-04 09:29:00, 2020-11-04 09:20:00, 202...   \n",
       "10  [2021-07-16 00:00:00, 2021-07-04 00:00:00, 202...   \n",
       "11  [2020-11-13 16:03:00, 2020-11-13 15:53:00, 202...   \n",
       "12  [2021-02-25 16:41:00, 2021-02-25 00:00:00, 202...   \n",
       "13  [2020-11-18 23:41:00, 2020-11-18 00:00:00, 202...   \n",
       "14  [2023-04-12 00:00:00, 2023-04-07 00:00:00, 202...   \n",
       "15  [2020-03-01 20:36:00, 2020-03-01 16:32:00, 202...   \n",
       "16  [2021-03-28 00:00:00, 2021-03-28 00:00:00, 202...   \n",
       "17  [2022-11-06 00:00:00, 2022-10-15 12:04:00, 202...   \n",
       "18  [2023-10-14 00:00:00, 2023-10-14 00:00:00, 202...   \n",
       "19  [2023-07-16 00:00:00, 2023-07-16 00:00:00, 202...   \n",
       "\n",
       "                                          note_titles  \\\n",
       "0   [GI MED ONC MB 4 - Progress Notes (Physician) ...   \n",
       "1   [15L ADULT ACUTE CARE - Plan of Care (Register...   \n",
       "2   [15L ADULT ACUTE CARE - Consult (Physician) | ...   \n",
       "3   [PERIOP PARN - Anesthesia Transfer of Care (Ph...   \n",
       "4   [12M MED/SURG/ACUTE TCU - H&P (Physician) | 20...   \n",
       "5   [11L MEDSURG-ONC/BMT B - Plan of Care (Registe...   \n",
       "6   [Sticky Note | 2021-12-17 02:05:00, 14L MEDICI...   \n",
       "7   [14M MS-HI-ACUITY - Plan of Care (Registered N...   \n",
       "8   [HNO_MYC_LET_INFO|NOTE_ID | 2019-10-10 23:42:0...   \n",
       "9   [14L MEDICINE - Progress Notes (Resident) | 20...   \n",
       "10  [NEURO ONC PARN - Progress Notes (Physician) |...   \n",
       "11  [ECG | 2020-11-13 16:03:00, 12M MED/SURG/ACUTE...   \n",
       "12  [MS WEILL - Lab (Physician) | 2021-02-25 16:41...   \n",
       "13  [HNO_MYC_LET_INFO|NOTE_ID | 2020-11-18 23:41:0...   \n",
       "14  [SOD PROSTH PARN - Progress Notes (Dentist) | ...   \n",
       "15  [8L NEUROSCIENCES - H&P (Physician) | 2020-03-...   \n",
       "16  [PATH FNA MB 2 - Progress Notes (Physician) | ...   \n",
       "17  [THYROID PARN - Progress Notes (Physician) | 2...   \n",
       "18  [ZZZGENERIC EXTERNAL DATA DEPAR - Progress Not...   \n",
       "19  [OHNS OTOLOGY MZ - Letter | 2023-07-16 00:00:0...   \n",
       "\n",
       "                                           note_texts  \\\n",
       "0   [VIDEO VISIT  I performed this consultation us...   \n",
       "1   [Pt new admit to unit. S/p bilateral ankle fra...   \n",
       "2   [***** *****, RN     10/23/2023 10:58 AM\"\\n\\na...   \n",
       "3   [Anesthesia Case Summary  Scheduled date of Op...   \n",
       "4   [ALD SERVICE H&P NOTE - ***** ATTENDING     My...   \n",
       "5   [Pt more alert tonight. PRN oxy and ativan giv...   \n",
       "6   [ipilimumab (IPI) ( inhibition of T-cell inact...   \n",
       "7   [  Problem: Discharge Planning - Adult  Goal: ...   \n",
       "8   [COVID-19 Screening Result    10/10/19    CLEA...   \n",
       "9   [HOSPITAL MEDICINE PROGRESS NOTE       Admit d...   \n",
       "10  [NEURO-ONCOLOGY FOLLOWUP PATIENT VISIT    DATE...   \n",
       "11  [IMPRESSION:   Otherwise normal ECG  Sinus tac...   \n",
       "12  [The following orders were created for panel o...   \n",
       "13  [COVID-19 Screening Result    11/18/20    CLEA...   \n",
       "14  [***** ***** Pros: consultation and evaluation...   \n",
       "15  [HOSPITAL MEDICINE H&P NOTE     Family/Surroga...   \n",
       "16  [FNA Biopsy Consultation Note:    ***** ***** ...   \n",
       "17  [Subjective:      Patient ID: ***** ***** ****...   \n",
       "18  [Subjective  Chief Complaint   Patient present...   \n",
       "19  [  07/22/2023    None Per Patient Provider    ...   \n",
       "\n",
       "                                      note_texts_full  \n",
       "0   [VIDEO VISIT  I performed this consultation us...  \n",
       "1   [Pt new admit to unit. S/p bilateral ankle fra...  \n",
       "2   [***** *****, RN     10/23/2023 10:58 AM\"\\n\\na...  \n",
       "3   [Anesthesia Case Summary  Scheduled date of Op...  \n",
       "4   [ALD SERVICE H&P NOTE - ***** ATTENDING     My...  \n",
       "5   [Pt more alert tonight. PRN oxy and ativan giv...  \n",
       "6   [ipilimumab (IPI) ( inhibition of T-cell inact...  \n",
       "7   [  Problem: Discharge Planning - Adult  Goal: ...  \n",
       "8   [COVID-19 Screening Result    10/10/19    CLEA...  \n",
       "9   [HOSPITAL MEDICINE PROGRESS NOTE       Admit d...  \n",
       "10  [NEURO-ONCOLOGY FOLLOWUP PATIENT VISIT    DATE...  \n",
       "11  [IMPRESSION:   Otherwise normal ECG  Sinus tac...  \n",
       "12  [The following orders were created for panel o...  \n",
       "13  [COVID-19 Screening Result    11/18/20    CLEA...  \n",
       "14  [***** ***** Pros: consultation and evaluation...  \n",
       "15  [HOSPITAL MEDICINE H&P NOTE     Family/Surroga...  \n",
       "16  [FNA Biopsy Consultation Note:    ***** ***** ...  \n",
       "17  [Subjective:      Patient ID: ***** ***** ****...  \n",
       "18  [Subjective  Chief Complaint   Patient present...  \n",
       "19  [  07/22/2023    None Per Patient Provider    ...  "
      ]
     },
     "execution_count": 173,
     "metadata": {},
     "output_type": "execute_result"
    }
   ],
   "source": [
    "reader_study_calibration_dataset_processed"
   ]
  }
 ],
 "metadata": {
  "kernelspec": {
   "display_name": "report_gen",
   "language": "python",
   "name": "report_gen"
  },
  "language_info": {
   "codemirror_mode": {
    "name": "ipython",
    "version": 3
   },
   "file_extension": ".py",
   "mimetype": "text/x-python",
   "name": "python",
   "nbconvert_exporter": "python",
   "pygments_lexer": "ipython3",
   "version": "3.10.9"
  }
 },
 "nbformat": 4,
 "nbformat_minor": 5
}
