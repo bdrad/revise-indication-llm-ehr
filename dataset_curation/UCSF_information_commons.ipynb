{
 "cells": [
  {
   "cell_type": "code",
   "execution_count": 2,
   "id": "0cad3b22",
   "metadata": {},
   "outputs": [
    {
     "name": "stderr",
     "output_type": "stream",
     "text": [
      "/home/bdrad/miniconda3/envs/report_gen/lib/python3.10/site-packages/pandas/core/arrays/masked.py:60: UserWarning: Pandas requires version '1.3.6' or newer of 'bottleneck' (version '1.3.5' currently installed).\n",
      "  from pandas.core import (\n"
     ]
    }
   ],
   "source": [
    "import os\n",
    "import pandas as pd\n",
    "import tqdm\n",
    "import regex as re\n",
    "\n",
    "RANDOM_STATE = 123"
   ]
  },
  {
   "cell_type": "code",
   "execution_count": null,
   "id": "8d3d92dc",
   "metadata": {},
   "outputs": [],
   "source": [
    "def categorize_body_group(exam_type):\n",
    "    categories = {\n",
    "        \"Head\": [\"HEAD\", \"BRAIN\", \"STROKE PROTOCOL\", \"NEURO\"],\n",
    "        \"Abdomen/Pelvis\": [\"ABDOMEN\", \"PELVIS\", \"PROSTATE\", \"RENAL\", \"MRCP\", \"UROGRAM\"],\n",
    "        \"MSK\": [\"KNEE\", \"HIP\", \"SHOULDER\", \"EXTREMITY\", \"SPINE\", \"LUMBAR\", \n",
    "                \"CERVICAL\", \"SCOLIOSIS\", \"JOINT\"],\n",
    "        \"Chest\": [\"CHEST\", \"CARDIAC\", \"PULMONARY EMBOLISM\", \"CTA\", \"HEART\"],\n",
    "        \"Neck\": [\"FACE\", \"NECK\", \"CRANIOFACIAL\", \"MAXILLOFACIAL\", \"ORBIT\", \"TEMPORAL BONE\", \n",
    "                 \"SINUS\", \"THYROID\", \"MANDIBLE\", \"SKULL\"]\n",
    "    }\n",
    "    \n",
    "    for category, keywords in categories.items():\n",
    "        if any(keyword in exam_type for keyword in keywords):\n",
    "            return category\n",
    "    return \"Other\"\n",
    "\n",
    "def categorize_imaging_modality(exam_type):\n",
    "    categories = {\n",
    "        \"MRI\": [\"MR\", \"MRI\"],\n",
    "        \"CT\": [\"CT\", \"CTA\"],\n",
    "        \"XR\": [\"XR\"],\n",
    "        \"US\": [\"US\"]\n",
    "    }\n",
    "    \n",
    "    for category, keywords in categories.items():\n",
    "        if any(keyword in exam_type for keyword in keywords):\n",
    "            return category\n",
    "    return \"Other\""
   ]
  },
  {
   "cell_type": "markdown",
   "id": "0b364dfd",
   "metadata": {},
   "source": [
    "## LLM Balanced Test Dataset"
   ]
  },
  {
   "cell_type": "code",
   "execution_count": 3,
   "id": "e8721378",
   "metadata": {},
   "outputs": [],
   "source": [
    "llm_balanced_test_dataset_processed = pd.read_parquet(\"llm_balanced_test_dataset_processed.parquet\")\n",
    "llm_balanced_test_dataset_processed[\"note_texts\"].apply(len).min()"
   ]
  },
  {
   "cell_type": "markdown",
   "id": "7bf59872",
   "metadata": {},
   "source": [
    "# Clinical Indication Dataset without Redactions"
   ]
  },
  {
   "cell_type": "code",
   "execution_count": 27,
   "id": "bd28dab7",
   "metadata": {},
   "outputs": [
    {
     "name": "stderr",
     "output_type": "stream",
     "text": [
      "100%|█████████████████████████████████████████████████████████████████████████████| 6/6 [02:55<00:00, 29.20s/it]\n"
     ]
    }
   ],
   "source": [
    "clinical_indication_dataset_redactions = []\n",
    "for i in tqdm.tqdm(range(1, 7)):\n",
    "    clinical_indication_dataset_redactions.append(pd.read_parquet(f\"clinical_indication_dataset_without_redactions_shard{i}.parquet\"))\n",
    "clinical_indication_dataset_redactions = pd.concat(clinical_indication_dataset_redactions)"
   ]
  },
  {
   "cell_type": "code",
   "execution_count": 28,
   "id": "82dee1b1",
   "metadata": {},
   "outputs": [
    {
     "data": {
      "text/plain": [
       "6391890"
      ]
     },
     "execution_count": 28,
     "metadata": {},
     "output_type": "execute_result"
    }
   ],
   "source": [
    "len(clinical_indication_dataset_redactions)"
   ]
  },
  {
   "cell_type": "code",
   "execution_count": 29,
   "id": "96b6b3c5",
   "metadata": {},
   "outputs": [
    {
     "data": {
      "text/plain": [
       "37216"
      ]
     },
     "execution_count": 29,
     "metadata": {},
     "output_type": "execute_result"
    }
   ],
   "source": [
    "clinical_indication_dataset_redactions[\"patientdurablekey\"].nunique()"
   ]
  },
  {
   "cell_type": "code",
   "execution_count": 32,
   "id": "79f8813b",
   "metadata": {},
   "outputs": [],
   "source": [
    "clinical_indication_dataset_redactions.loc[clinical_indication_dataset_redactions[\"exam_type\"].notna(), \"body_group\"] = clinical_indication_dataset_redactions.loc[clinical_indication_dataset_redactions[\"exam_type\"].notna()][\"exam_type\"].apply(categorize_body_group)\n",
    "clinical_indication_dataset_redactions.loc[clinical_indication_dataset_redactions[\"exam_type\"].notna(), \"imaging_modality\"] = clinical_indication_dataset_redactions.loc[clinical_indication_dataset_redactions[\"exam_type\"].notna()][\"exam_type\"].apply(categorize_imaging_modality)"
   ]
  },
  {
   "cell_type": "code",
   "execution_count": 33,
   "id": "4017acb2",
   "metadata": {},
   "outputs": [
    {
     "data": {
      "text/plain": [
       "body_group\n",
       "Head              38726\n",
       "MSK                8737\n",
       "Neck               8538\n",
       "Abdomen/Pelvis     4373\n",
       "Chest              3533\n",
       "Other               819\n",
       "Name: count, dtype: int64"
      ]
     },
     "execution_count": 33,
     "metadata": {},
     "output_type": "execute_result"
    }
   ],
   "source": [
    "clinical_indication_dataset_redactions[\"body_group\"].value_counts()"
   ]
  },
  {
   "cell_type": "code",
   "execution_count": 34,
   "id": "2f2360fa",
   "metadata": {},
   "outputs": [
    {
     "data": {
      "text/plain": [
       "body_group\n",
       "Head              0.598307\n",
       "MSK               0.134984\n",
       "Neck              0.131910\n",
       "Abdomen/Pelvis    0.067562\n",
       "Chest             0.054584\n",
       "Other             0.012653\n",
       "Name: proportion, dtype: float64"
      ]
     },
     "execution_count": 34,
     "metadata": {},
     "output_type": "execute_result"
    }
   ],
   "source": [
    "clinical_indication_dataset_redactions[\"body_group\"].value_counts(normalize=True)"
   ]
  },
  {
   "cell_type": "code",
   "execution_count": 37,
   "id": "b509ec50",
   "metadata": {},
   "outputs": [
    {
     "data": {
      "text/plain": [
       "imaging_modality\n",
       "CT       54.770880\n",
       "MRI      43.339616\n",
       "US        0.818836\n",
       "Other     0.633439\n",
       "XR        0.437228\n",
       "Name: proportion, dtype: float64"
      ]
     },
     "execution_count": 37,
     "metadata": {},
     "output_type": "execute_result"
    }
   ],
   "source": [
    "clinical_indication_dataset_redactions[\"imaging_modality\"].value_counts(normalize=True) * 100"
   ]
  },
  {
   "cell_type": "markdown",
   "id": "632d098e",
   "metadata": {},
   "source": [
    "# Reader Study"
   ]
  },
  {
   "cell_type": "code",
   "execution_count": 82,
   "id": "92514275",
   "metadata": {},
   "outputs": [],
   "source": [
    "radiology_reports = clinical_indication_dataset_redactions[\n",
    "    (~clinical_indication_dataset_redactions[\"exam_type\"].isna()) & \n",
    "    (clinical_indication_dataset_redactions[\"body_group\"] != \"Other\")\n",
    "]\n",
    "reader_study_sampled_reports = radiology_reports.groupby('body_group').sample(n=22, random_state=RANDOM_STATE)"
   ]
  },
  {
   "cell_type": "code",
   "execution_count": 91,
   "id": "12a65e81",
   "metadata": {},
   "outputs": [
    {
     "name": "stderr",
     "output_type": "stream",
     "text": [
      "100%|█████████████████████████████████████████████████████████████████████████| 110/110 [00:35<00:00,  3.08it/s]"
     ]
    },
    {
     "name": "stdout",
     "output_type": "stream",
     "text": [
      "Clinical Reader Study Model Evaluation Dataset\n",
      "====================\n",
      "n_notes 21192\n",
      "n_patients 110\n",
      "n_radiology reports 110\n"
     ]
    },
    {
     "name": "stderr",
     "output_type": "stream",
     "text": [
      "\n"
     ]
    }
   ],
   "source": [
    "reader_study_total_dataset = []\n",
    "for i in tqdm.tqdm(range(len(reader_study_sampled_reports))):\n",
    "    radiology_report = reader_study_sampled_reports.iloc[i]\n",
    "    patient_mrn = radiology_report[\"patientdurablekey\"]\n",
    "    patient_notes = clinical_indication_dataset_redactions[clinical_indication_dataset_redactions[\"patientdurablekey\"] == patient_mrn].copy()    \n",
    "    filtered_patient_notes = patient_notes[\n",
    "        (patient_notes[\"deid_service_date\"] < radiology_report[\"deid_service_date\"]) & \n",
    "        (patient_notes[\"note_type\"] != \"Imaging\")\n",
    "    ].sort_values(by=[\"deid_service_date\"], ascending=False).reset_index(drop=True)\n",
    "    reader_study_total_dataset.append(radiology_report.to_frame().T)\n",
    "    reader_study_total_dataset.append(filtered_patient_notes)\n",
    "\n",
    "reader_study_total_dataset = pd.concat(reader_study_total_dataset)\n",
    "\n",
    "print(\"Clinical Reader Study Model Evaluation Dataset\")\n",
    "print(\"=\"*20)\n",
    "print(\"n_notes\", len(reader_study_total_dataset))\n",
    "print(\"n_patients\", reader_study_total_dataset[\"patientdurablekey\"].nunique())\n",
    "print(\"n_radiology reports\", len(reader_study_total_dataset[~reader_study_total_dataset[\"exam_type\"].isna()]))"
   ]
  },
  {
   "cell_type": "code",
   "execution_count": 83,
   "id": "ee76cde8",
   "metadata": {},
   "outputs": [],
   "source": [
    "reader_study_calibration_dataset_reports = reader_study_sampled_reports.groupby('body_group').sample(n=2, random_state=RANDOM_STATE)\n",
    "reader_study_evaluation_dataset_reports = reader_study_sampled_reports.drop(reader_study_calibration_dataset_reports.index).groupby('body_group').sample(n=20, random_state=RANDOM_STATE)"
   ]
  },
  {
   "cell_type": "code",
   "execution_count": 84,
   "id": "1eca46f8",
   "metadata": {},
   "outputs": [
    {
     "name": "stdout",
     "output_type": "stream",
     "text": [
      "body_group\n",
      "Abdomen/Pelvis    2\n",
      "Chest             2\n",
      "Head              2\n",
      "MSK               2\n",
      "Neck              2\n",
      "Name: count, dtype: int64\n",
      "imaging_modality\n",
      "CT     7\n",
      "MRI    3\n",
      "Name: count, dtype: int64\n"
     ]
    }
   ],
   "source": [
    "print(reader_study_calibration_dataset_reports[\"body_group\"].value_counts())\n",
    "print(reader_study_calibration_dataset_reports[\"imaging_modality\"].value_counts())"
   ]
  },
  {
   "cell_type": "code",
   "execution_count": 85,
   "id": "04f64cbd",
   "metadata": {},
   "outputs": [
    {
     "name": "stdout",
     "output_type": "stream",
     "text": [
      "body_group\n",
      "Abdomen/Pelvis    20\n",
      "Chest             20\n",
      "Head              20\n",
      "MSK               20\n",
      "Neck              20\n",
      "Name: count, dtype: int64\n",
      "imaging_modality\n",
      "CT     73\n",
      "MRI    24\n",
      "US      2\n",
      "XR      1\n",
      "Name: count, dtype: int64\n"
     ]
    }
   ],
   "source": [
    "print(reader_study_evaluation_dataset_reports[\"body_group\"].value_counts())\n",
    "print(reader_study_evaluation_dataset_reports[\"imaging_modality\"].value_counts())"
   ]
  },
  {
   "cell_type": "code",
   "execution_count": 86,
   "id": "8a5b7a4f",
   "metadata": {},
   "outputs": [
    {
     "name": "stderr",
     "output_type": "stream",
     "text": [
      "100%|█████████████████████████████████████████████████████████████████████████| 100/100 [00:30<00:00,  3.31it/s]"
     ]
    },
    {
     "name": "stdout",
     "output_type": "stream",
     "text": [
      "Clinical Reader Study Model Evaluation Dataset\n",
      "====================\n",
      "n_notes 18645\n",
      "n_patients 100\n",
      "n_radiology reports 100\n"
     ]
    },
    {
     "name": "stderr",
     "output_type": "stream",
     "text": [
      "\n"
     ]
    }
   ],
   "source": [
    "reader_study_evaluation_dataset = []\n",
    "for i in tqdm.tqdm(range(len(reader_study_evaluation_dataset_reports))):\n",
    "    radiology_report = reader_study_evaluation_dataset_reports.iloc[i]\n",
    "    patient_mrn = radiology_report[\"patientdurablekey\"]\n",
    "    patient_notes = clinical_indication_dataset_redactions[clinical_indication_dataset_redactions[\"patientdurablekey\"] == patient_mrn].copy()    \n",
    "    filtered_patient_notes = patient_notes[\n",
    "        (patient_notes[\"deid_service_date\"] < radiology_report[\"deid_service_date\"]) & \n",
    "        (patient_notes[\"note_type\"] != \"Imaging\")\n",
    "    ].sort_values(by=[\"deid_service_date\"], ascending=False).reset_index(drop=True)\n",
    "    reader_study_evaluation_dataset.append(radiology_report.to_frame().T)\n",
    "    reader_study_evaluation_dataset.append(filtered_patient_notes)\n",
    "\n",
    "reader_study_evaluation_dataset = pd.concat(reader_study_evaluation_dataset)\n",
    "\n",
    "print(\"Clinical Reader Study Model Evaluation Dataset\")\n",
    "print(\"=\"*20)\n",
    "print(\"n_notes\", len(reader_study_evaluation_dataset))\n",
    "print(\"n_patients\", reader_study_evaluation_dataset[\"patientdurablekey\"].nunique())\n",
    "print(\"n_radiology reports\", len(reader_study_evaluation_dataset[~reader_study_evaluation_dataset[\"exam_type\"].isna()]))"
   ]
  },
  {
   "cell_type": "code",
   "execution_count": 87,
   "id": "1180b03a",
   "metadata": {},
   "outputs": [
    {
     "name": "stderr",
     "output_type": "stream",
     "text": [
      "100%|███████████████████████████████████████████████████████████████████████████| 10/10 [00:03<00:00,  3.31it/s]"
     ]
    },
    {
     "name": "stdout",
     "output_type": "stream",
     "text": [
      "Clinical Reader Study Model Evaluation Dataset\n",
      "====================\n",
      "n_notes 2547\n",
      "n_patients 10\n",
      "n_radiology reports 10\n"
     ]
    },
    {
     "name": "stderr",
     "output_type": "stream",
     "text": [
      "\n"
     ]
    }
   ],
   "source": [
    "reader_study_calibration_dataset = []\n",
    "for i in tqdm.tqdm(range(len(reader_study_calibration_dataset_reports))):\n",
    "    radiology_report = reader_study_calibration_dataset_reports.iloc[i]\n",
    "    patient_mrn = radiology_report[\"patientdurablekey\"]\n",
    "    patient_notes = clinical_indication_dataset_redactions[clinical_indication_dataset_redactions[\"patientdurablekey\"] == patient_mrn].copy()    \n",
    "    filtered_patient_notes = patient_notes[\n",
    "        (patient_notes[\"deid_service_date\"] < radiology_report[\"deid_service_date\"]) & \n",
    "        (patient_notes[\"note_type\"] != \"Imaging\")\n",
    "    ].sort_values(by=[\"deid_service_date\"], ascending=False).reset_index(drop=True)\n",
    "    reader_study_calibration_dataset.append(radiology_report.to_frame().T)\n",
    "    reader_study_calibration_dataset.append(filtered_patient_notes)\n",
    "\n",
    "reader_study_calibration_dataset = pd.concat(reader_study_calibration_dataset)\n",
    "\n",
    "print(\"Clinical Reader Study Model Evaluation Dataset\")\n",
    "print(\"=\"*20)\n",
    "print(\"n_notes\", len(reader_study_calibration_dataset))\n",
    "print(\"n_patients\", reader_study_calibration_dataset[\"patientdurablekey\"].nunique())\n",
    "print(\"n_radiology reports\", len(reader_study_calibration_dataset[~reader_study_calibration_dataset[\"exam_type\"].isna()]))"
   ]
  },
  {
   "cell_type": "code",
   "execution_count": 124,
   "id": "d41b7e50",
   "metadata": {},
   "outputs": [],
   "source": [
    "def generate_note_title(enc_dept_name, note_type, auth_prov_type, deid_service_date):\n",
    "    if enc_dept_name and note_type and auth_prov_type and deid_service_date:\n",
    "        return f\"{enc_dept_name} - {note_type} ({auth_prov_type}) | {deid_service_date}\"\n",
    "    elif enc_dept_name and note_type and deid_service_date:\n",
    "        return f\"{enc_dept_name} - {note_type} | {deid_service_date}\"\n",
    "    elif note_type and deid_service_date:\n",
    "        return f\"{note_type} | {deid_service_date}\"\n",
    "    elif deid_service_date:\n",
    "        return f\"Clinical Note | {deid_service_date}\"\n",
    "    return f\"Clinical Note\""
   ]
  },
  {
   "cell_type": "code",
   "execution_count": 128,
   "id": "8382e0fb",
   "metadata": {},
   "outputs": [
    {
     "name": "stderr",
     "output_type": "stream",
     "text": [
      "100%|███████████████████████████████████████████████████████████████████████████| 10/10 [00:03<00:00,  3.29it/s]\n"
     ]
    }
   ],
   "source": [
    "NUM_NOTES = 10\n",
    "reader_study_calibration_dataset_processed = pd.DataFrame(columns=[\n",
    "    \"exam_type\",\n",
    "    \"imaging_modality\",\n",
    "    \"body_group\",\n",
    "    \"report_text\",\n",
    "    \"original_indication\",\n",
    "    \"radiologist_indication\",\n",
    "    \"enc_dept_names\",\n",
    "    \"note_types\",\n",
    "    \"auth_prov_types\",\n",
    "    \"deid_service_dates\",\n",
    "    \"note_titles\",\n",
    "    \"note_texts\"\n",
    "])\n",
    "for i in tqdm.tqdm(range(len(reader_study_calibration_dataset_reports))):\n",
    "    radiology_report = reader_study_calibration_dataset_reports.iloc[i]\n",
    "    patient_mrn = radiology_report[\"patientdurablekey\"]\n",
    "    patient_notes = clinical_indication_dataset_redactions[clinical_indication_dataset_redactions[\"patientdurablekey\"] == patient_mrn].copy()    \n",
    "    filtered_patient_notes = patient_notes[\n",
    "        (patient_notes[\"deid_service_date\"] < radiology_report[\"deid_service_date\"]) & \n",
    "        (patient_notes[\"note_type\"] != \"Imaging\")\n",
    "    ].sort_values(by=[\"deid_service_date\"], ascending=False).reset_index(drop=True)\n",
    "    filtered_patient_notes['note_title'] = filtered_patient_notes.apply(lambda row: generate_note_title(\n",
    "        row['enc_dept_name'], row['note_type'], row['auth_prov_type'], row['deid_service_date']\n",
    "    ), axis=1)\n",
    "    enc_dept_names = filtered_patient_notes[:NUM_NOTES][[\"enc_dept_name\"]].squeeze().tolist()\n",
    "    note_types = filtered_patient_notes[:NUM_NOTES][[\"note_type\"]].squeeze().tolist()\n",
    "    auth_prov_types = filtered_patient_notes[:NUM_NOTES][[\"auth_prov_type\"]].squeeze().tolist()\n",
    "    deid_service_dates = filtered_patient_notes[:NUM_NOTES][[\"deid_service_date\"]].squeeze().tolist()\n",
    "    note_titles = filtered_patient_notes[:NUM_NOTES][[\"note_title\"]].squeeze().tolist()\n",
    "    note_texts = filtered_patient_notes[:NUM_NOTES][[\"note_text\"]].squeeze().tolist()\n",
    "    row = {\n",
    "        \"exam_type\": radiology_report[\"exam_type\"],\n",
    "        \"imaging_modality\": radiology_report[\"imaging_modality\"],\n",
    "        \"body_group\": radiology_report[\"body_group\"],\n",
    "        \"report_text\": radiology_report[\"note_text\"],\n",
    "        \"original_indication\": radiology_report[\"original_indication\"],\n",
    "        \"radiologist_indication\": radiology_report[\"radiologist_indication\"],\n",
    "        \"enc_dept_names\": enc_dept_names,\n",
    "        \"note_types\": note_types,\n",
    "        \"auth_prov_types\": auth_prov_types,\n",
    "        \"deid_service_dates\": deid_service_dates,\n",
    "        \"note_titles\": note_titles,\n",
    "        \"note_texts\": note_texts\n",
    "    }\n",
    "    reader_study_calibration_dataset_processed.loc[\n",
    "        len(reader_study_calibration_dataset_processed)\n",
    "    ] = row\n",
    "reader_study_calibration_dataset_processed.to_parquet(\"reader_study_calibration_dataset_processed.parquet\")"
   ]
  },
  {
   "cell_type": "code",
   "execution_count": 142,
   "id": "16bb2fb8",
   "metadata": {},
   "outputs": [
    {
     "data": {
      "text/html": [
       "<div>\n",
       "<style scoped>\n",
       "    .dataframe tbody tr th:only-of-type {\n",
       "        vertical-align: middle;\n",
       "    }\n",
       "\n",
       "    .dataframe tbody tr th {\n",
       "        vertical-align: top;\n",
       "    }\n",
       "\n",
       "    .dataframe thead th {\n",
       "        text-align: right;\n",
       "    }\n",
       "</style>\n",
       "<table border=\"1\" class=\"dataframe\">\n",
       "  <thead>\n",
       "    <tr style=\"text-align: right;\">\n",
       "      <th></th>\n",
       "      <th>exam_type</th>\n",
       "      <th>imaging_modality</th>\n",
       "      <th>body_group</th>\n",
       "      <th>report_text</th>\n",
       "      <th>original_indication</th>\n",
       "      <th>radiologist_indication</th>\n",
       "      <th>enc_dept_names</th>\n",
       "      <th>note_types</th>\n",
       "      <th>auth_prov_types</th>\n",
       "      <th>deid_service_dates</th>\n",
       "      <th>note_titles</th>\n",
       "    </tr>\n",
       "  </thead>\n",
       "  <tbody>\n",
       "    <tr>\n",
       "      <th>0</th>\n",
       "      <td>CT ABDOMEN/PELVIS WITH CONTRAST</td>\n",
       "      <td>CT</td>\n",
       "      <td>Abdomen/Pelvis</td>\n",
       "      <td>CT ABDOMEN/PELVIS WITH CONTRAST  10/06/2017 8:...</td>\n",
       "      <td>Concern for SBO</td>\n",
       "      <td>Colon cancer with peritoneal carcinomatosis on...</td>\n",
       "      <td>[14L MEDICINE, 14L MEDICINE, 14L MEDICINE, ADU...</td>\n",
       "      <td>[RN Note, H&amp;P, ED Provider Notes, RN Note, RN ...</td>\n",
       "      <td>[Registered Nurse, None, Physician, Registered...</td>\n",
       "      <td>[2017-10-07 07:07:00, 2017-10-07 01:12:00, 201...</td>\n",
       "      <td>[14L MEDICINE - RN Note (Registered Nurse) | 2...</td>\n",
       "    </tr>\n",
       "    <tr>\n",
       "      <th>1</th>\n",
       "      <td>CT ABDOMEN/PELVIS WITH CONTRAST</td>\n",
       "      <td>CT</td>\n",
       "      <td>Abdomen/Pelvis</td>\n",
       "      <td>CT ABDOMEN/PELVIS WITH CONTRAST    12/18/2023 ...</td>\n",
       "      <td>erythema, inc warmth over R groin, r/o fat str...</td>\n",
       "      <td>History of metastatic breast cancer.</td>\n",
       "      <td>[EMERGENCY DEPT PARN, POPULATION HLTH ADMIN, E...</td>\n",
       "      <td>[Progress Notes, Progress Notes, ED Provider N...</td>\n",
       "      <td>[Physician Assistant, Registered Nurse, Physic...</td>\n",
       "      <td>[2023-12-19 00:00:00, 2023-12-19 00:00:00, 202...</td>\n",
       "      <td>[EMERGENCY DEPT PARN - Progress Notes (Physici...</td>\n",
       "    </tr>\n",
       "    <tr>\n",
       "      <th>2</th>\n",
       "      <td>CT CHEST WITH CONTRAST</td>\n",
       "      <td>CT</td>\n",
       "      <td>Chest</td>\n",
       "      <td>CT CHEST WITH CONTRAST    CLINICAL HISTORY:  C...</td>\n",
       "      <td>Cancer surveillance (no evidence of disease, n...</td>\n",
       "      <td>History of pancreatic head mass complicated by...</td>\n",
       "      <td>[None, GI SURG ONC MB 4, None, PATH SURGICAL P...</td>\n",
       "      <td>[HNO_MYC_LET_INFO|NOTE_ID, Progress Notes, Pat...</td>\n",
       "      <td>[None, Nurse Practitioner, None, None, Residen...</td>\n",
       "      <td>[2022-02-03 23:19:00, 2022-02-03 00:00:00, 202...</td>\n",
       "      <td>[HNO_MYC_LET_INFO|NOTE_ID | 2022-02-03 23:19:0...</td>\n",
       "    </tr>\n",
       "    <tr>\n",
       "      <th>3</th>\n",
       "      <td>CT CHEST WITHOUT CONTRAST</td>\n",
       "      <td>CT</td>\n",
       "      <td>Chest</td>\n",
       "      <td>CT CHEST WITHOUT CONTRAST    CLINICAL HISTORY:...</td>\n",
       "      <td>heart transplant evaluation</td>\n",
       "      <td>History of bicuspid aortic valve status post r...</td>\n",
       "      <td>[None, None, ADVANCED HEART FAIL PARN, 10LS CV...</td>\n",
       "      <td>[Imaging-Vasc, Imaging-Vasc, Progress Notes, P...</td>\n",
       "      <td>[None, None, Registered Nurse, Physician, Phys...</td>\n",
       "      <td>[2022-03-02 05:05:00, 2022-03-02 05:05:00, 202...</td>\n",
       "      <td>[Imaging-Vasc | 2022-03-02 05:05:00, Imaging-V...</td>\n",
       "    </tr>\n",
       "    <tr>\n",
       "      <th>4</th>\n",
       "      <td>MR BRAINNAV WITH AND WITHOUT CONTRAST DTI</td>\n",
       "      <td>MRI</td>\n",
       "      <td>Head</td>\n",
       "      <td>MR BRAINNAV WITH AND WITHOUT CONTRAST DTI:  10...</td>\n",
       "      <td>post-op needed October 11</td>\n",
       "      <td>History of GBM status post resection and TMZ/X...</td>\n",
       "      <td>[15M NEURO SPECIALTY, 15M NEURO SPECIALTY, 15M...</td>\n",
       "      <td>[Plan of Care, Discharge Summary, Consults, Di...</td>\n",
       "      <td>[Resident, Resident, Physical Therapist, Resid...</td>\n",
       "      <td>[2021-10-13 15:43:00, 2021-10-13 15:43:00, 202...</td>\n",
       "      <td>[15M NEURO SPECIALTY - Plan of Care (Resident)...</td>\n",
       "    </tr>\n",
       "    <tr>\n",
       "      <th>5</th>\n",
       "      <td>CT BRAIN WITHOUT CONTRAST</td>\n",
       "      <td>CT</td>\n",
       "      <td>Head</td>\n",
       "      <td>CT BRAIN WITHOUT CONTRAST    03/20/2021 10:48 ...</td>\n",
       "      <td>Altered mental status.</td>\n",
       "      <td>Metastatic lung cancer with intracranial metas...</td>\n",
       "      <td>[None, None, 14M MS-HI-ACUITY, 14M MS-HI-ACUIT...</td>\n",
       "      <td>[ECG, ECG, H&amp;P, ECG, ED Information Exchange, ...</td>\n",
       "      <td>[None, None, Physician, Physician, None, Resid...</td>\n",
       "      <td>[2021-03-21 03:05:00, 2021-03-21 03:05:00, 202...</td>\n",
       "      <td>[ECG | 2021-03-21 03:05:00, ECG | 2021-03-21 0...</td>\n",
       "    </tr>\n",
       "    <tr>\n",
       "      <th>6</th>\n",
       "      <td>MR LUMBAR SPINE WITH AND WITHOUT CONTRAST</td>\n",
       "      <td>MRI</td>\n",
       "      <td>MSK</td>\n",
       "      <td>MR LUMBAR SPINE WITH AND WITHOUT CONTRAST:  09...</td>\n",
       "      <td>Low back pain, less than 6 weeks</td>\n",
       "      <td>IgG lambda multiple myeloma, afib, CKD, BPH wh...</td>\n",
       "      <td>[13L GEN SURG, 13L GEN SURG, 13L GEN SURG, TRA...</td>\n",
       "      <td>[Discharge Instructions, ED Provider Notes, ED...</td>\n",
       "      <td>[Resident, Resident, Physician Assistant, Regi...</td>\n",
       "      <td>[2023-09-02 22:06:00, 2023-09-02 18:10:00, 202...</td>\n",
       "      <td>[13L GEN SURG - Discharge Instructions (Reside...</td>\n",
       "    </tr>\n",
       "    <tr>\n",
       "      <th>7</th>\n",
       "      <td>MR LUMBAR SPINE WITH AND WITHOUT CONTRAST</td>\n",
       "      <td>MRI</td>\n",
       "      <td>MSK</td>\n",
       "      <td>MR LUMBAR SPINE WITH AND WITHOUT CONTRAST:  06...</td>\n",
       "      <td>? Large disc extrusion left; left leg pain</td>\n",
       "      <td>[The right leg pain with suspected adjacent se...</td>\n",
       "      <td>[NEURO SPINE PARN 2, NEURO SPINE PARN 2, NEURO...</td>\n",
       "      <td>[Progress Notes, Letter, Progress Notes, Disch...</td>\n",
       "      <td>[Physician Assistant, None, Physician Assistan...</td>\n",
       "      <td>[2023-06-03 00:00:00, 2023-06-03 00:00:00, 202...</td>\n",
       "      <td>[NEURO SPINE PARN 2 - Progress Notes (Physicia...</td>\n",
       "    </tr>\n",
       "    <tr>\n",
       "      <th>8</th>\n",
       "      <td>CT MAXILLOFACIAL WITHOUT CONTRAST</td>\n",
       "      <td>CT</td>\n",
       "      <td>Neck</td>\n",
       "      <td>CT MAXILLOFACIAL WITHOUT CONTRAST    05/28/202...</td>\n",
       "      <td>Heart Transplant Eval.</td>\n",
       "      <td>CAD status post 3-v-CABG (2018), PCI to LCX (A...</td>\n",
       "      <td>[None, None, None, None, 9NE M/S ICU, 9NE M/S ...</td>\n",
       "      <td>[Imaging-Vasc, Imaging-Vasc, Imaging-Vasc, Ima...</td>\n",
       "      <td>[None, None, None, None, Physician, Resident, ...</td>\n",
       "      <td>[2023-05-30 04:16:00, 2023-05-30 04:16:00, 202...</td>\n",
       "      <td>[Imaging-Vasc | 2023-05-30 04:16:00, Imaging-V...</td>\n",
       "    </tr>\n",
       "    <tr>\n",
       "      <th>9</th>\n",
       "      <td>CT MAXILLOFACIAL WITHOUT CONTRAST</td>\n",
       "      <td>CT</td>\n",
       "      <td>Neck</td>\n",
       "      <td>CT MAXILLOFACIAL WITHOUT CONTRAST:  05/09/2022...</td>\n",
       "      <td>Poor dentition. Pre transplant dental eval</td>\n",
       "      <td>Lung transplant eval; history of IPF and COPD</td>\n",
       "      <td>[10LS CVT, None, 10LS CVT, 10LS CVT, 10LS CVT,...</td>\n",
       "      <td>[Echocardiography, Echocardiography, Progress ...</td>\n",
       "      <td>[Physician, None, Physician, Registered Nurse,...</td>\n",
       "      <td>[2022-05-09 09:21:00, 2022-05-09 08:07:00, 202...</td>\n",
       "      <td>[10LS CVT - Echocardiography (Physician) | 202...</td>\n",
       "    </tr>\n",
       "  </tbody>\n",
       "</table>\n",
       "</div>"
      ],
      "text/plain": [
       "                                   exam_type imaging_modality      body_group  \\\n",
       "0            CT ABDOMEN/PELVIS WITH CONTRAST               CT  Abdomen/Pelvis   \n",
       "1            CT ABDOMEN/PELVIS WITH CONTRAST               CT  Abdomen/Pelvis   \n",
       "2                     CT CHEST WITH CONTRAST               CT           Chest   \n",
       "3                  CT CHEST WITHOUT CONTRAST               CT           Chest   \n",
       "4  MR BRAINNAV WITH AND WITHOUT CONTRAST DTI              MRI            Head   \n",
       "5                  CT BRAIN WITHOUT CONTRAST               CT            Head   \n",
       "6  MR LUMBAR SPINE WITH AND WITHOUT CONTRAST              MRI             MSK   \n",
       "7  MR LUMBAR SPINE WITH AND WITHOUT CONTRAST              MRI             MSK   \n",
       "8          CT MAXILLOFACIAL WITHOUT CONTRAST               CT            Neck   \n",
       "9          CT MAXILLOFACIAL WITHOUT CONTRAST               CT            Neck   \n",
       "\n",
       "                                         report_text  \\\n",
       "0  CT ABDOMEN/PELVIS WITH CONTRAST  10/06/2017 8:...   \n",
       "1  CT ABDOMEN/PELVIS WITH CONTRAST    12/18/2023 ...   \n",
       "2  CT CHEST WITH CONTRAST    CLINICAL HISTORY:  C...   \n",
       "3  CT CHEST WITHOUT CONTRAST    CLINICAL HISTORY:...   \n",
       "4  MR BRAINNAV WITH AND WITHOUT CONTRAST DTI:  10...   \n",
       "5  CT BRAIN WITHOUT CONTRAST    03/20/2021 10:48 ...   \n",
       "6  MR LUMBAR SPINE WITH AND WITHOUT CONTRAST:  09...   \n",
       "7  MR LUMBAR SPINE WITH AND WITHOUT CONTRAST:  06...   \n",
       "8  CT MAXILLOFACIAL WITHOUT CONTRAST    05/28/202...   \n",
       "9  CT MAXILLOFACIAL WITHOUT CONTRAST:  05/09/2022...   \n",
       "\n",
       "                                 original_indication  \\\n",
       "0                                    Concern for SBO   \n",
       "1  erythema, inc warmth over R groin, r/o fat str...   \n",
       "2  Cancer surveillance (no evidence of disease, n...   \n",
       "3                        heart transplant evaluation   \n",
       "4                          post-op needed October 11   \n",
       "5                             Altered mental status.   \n",
       "6                   Low back pain, less than 6 weeks   \n",
       "7         ? Large disc extrusion left; left leg pain   \n",
       "8                             Heart Transplant Eval.   \n",
       "9         Poor dentition. Pre transplant dental eval   \n",
       "\n",
       "                              radiologist_indication  \\\n",
       "0  Colon cancer with peritoneal carcinomatosis on...   \n",
       "1               History of metastatic breast cancer.   \n",
       "2  History of pancreatic head mass complicated by...   \n",
       "3  History of bicuspid aortic valve status post r...   \n",
       "4  History of GBM status post resection and TMZ/X...   \n",
       "5  Metastatic lung cancer with intracranial metas...   \n",
       "6  IgG lambda multiple myeloma, afib, CKD, BPH wh...   \n",
       "7  [The right leg pain with suspected adjacent se...   \n",
       "8  CAD status post 3-v-CABG (2018), PCI to LCX (A...   \n",
       "9      Lung transplant eval; history of IPF and COPD   \n",
       "\n",
       "                                      enc_dept_names  \\\n",
       "0  [14L MEDICINE, 14L MEDICINE, 14L MEDICINE, ADU...   \n",
       "1  [EMERGENCY DEPT PARN, POPULATION HLTH ADMIN, E...   \n",
       "2  [None, GI SURG ONC MB 4, None, PATH SURGICAL P...   \n",
       "3  [None, None, ADVANCED HEART FAIL PARN, 10LS CV...   \n",
       "4  [15M NEURO SPECIALTY, 15M NEURO SPECIALTY, 15M...   \n",
       "5  [None, None, 14M MS-HI-ACUITY, 14M MS-HI-ACUIT...   \n",
       "6  [13L GEN SURG, 13L GEN SURG, 13L GEN SURG, TRA...   \n",
       "7  [NEURO SPINE PARN 2, NEURO SPINE PARN 2, NEURO...   \n",
       "8  [None, None, None, None, 9NE M/S ICU, 9NE M/S ...   \n",
       "9  [10LS CVT, None, 10LS CVT, 10LS CVT, 10LS CVT,...   \n",
       "\n",
       "                                          note_types  \\\n",
       "0  [RN Note, H&P, ED Provider Notes, RN Note, RN ...   \n",
       "1  [Progress Notes, Progress Notes, ED Provider N...   \n",
       "2  [HNO_MYC_LET_INFO|NOTE_ID, Progress Notes, Pat...   \n",
       "3  [Imaging-Vasc, Imaging-Vasc, Progress Notes, P...   \n",
       "4  [Plan of Care, Discharge Summary, Consults, Di...   \n",
       "5  [ECG, ECG, H&P, ECG, ED Information Exchange, ...   \n",
       "6  [Discharge Instructions, ED Provider Notes, ED...   \n",
       "7  [Progress Notes, Letter, Progress Notes, Disch...   \n",
       "8  [Imaging-Vasc, Imaging-Vasc, Imaging-Vasc, Ima...   \n",
       "9  [Echocardiography, Echocardiography, Progress ...   \n",
       "\n",
       "                                     auth_prov_types  \\\n",
       "0  [Registered Nurse, None, Physician, Registered...   \n",
       "1  [Physician Assistant, Registered Nurse, Physic...   \n",
       "2  [None, Nurse Practitioner, None, None, Residen...   \n",
       "3  [None, None, Registered Nurse, Physician, Phys...   \n",
       "4  [Resident, Resident, Physical Therapist, Resid...   \n",
       "5  [None, None, Physician, Physician, None, Resid...   \n",
       "6  [Resident, Resident, Physician Assistant, Regi...   \n",
       "7  [Physician Assistant, None, Physician Assistan...   \n",
       "8  [None, None, None, None, Physician, Resident, ...   \n",
       "9  [Physician, None, Physician, Registered Nurse,...   \n",
       "\n",
       "                                  deid_service_dates  \\\n",
       "0  [2017-10-07 07:07:00, 2017-10-07 01:12:00, 201...   \n",
       "1  [2023-12-19 00:00:00, 2023-12-19 00:00:00, 202...   \n",
       "2  [2022-02-03 23:19:00, 2022-02-03 00:00:00, 202...   \n",
       "3  [2022-03-02 05:05:00, 2022-03-02 05:05:00, 202...   \n",
       "4  [2021-10-13 15:43:00, 2021-10-13 15:43:00, 202...   \n",
       "5  [2021-03-21 03:05:00, 2021-03-21 03:05:00, 202...   \n",
       "6  [2023-09-02 22:06:00, 2023-09-02 18:10:00, 202...   \n",
       "7  [2023-06-03 00:00:00, 2023-06-03 00:00:00, 202...   \n",
       "8  [2023-05-30 04:16:00, 2023-05-30 04:16:00, 202...   \n",
       "9  [2022-05-09 09:21:00, 2022-05-09 08:07:00, 202...   \n",
       "\n",
       "                                         note_titles  \n",
       "0  [14L MEDICINE - RN Note (Registered Nurse) | 2...  \n",
       "1  [EMERGENCY DEPT PARN - Progress Notes (Physici...  \n",
       "2  [HNO_MYC_LET_INFO|NOTE_ID | 2022-02-03 23:19:0...  \n",
       "3  [Imaging-Vasc | 2022-03-02 05:05:00, Imaging-V...  \n",
       "4  [15M NEURO SPECIALTY - Plan of Care (Resident)...  \n",
       "5  [ECG | 2021-03-21 03:05:00, ECG | 2021-03-21 0...  \n",
       "6  [13L GEN SURG - Discharge Instructions (Reside...  \n",
       "7  [NEURO SPINE PARN 2 - Progress Notes (Physicia...  \n",
       "8  [Imaging-Vasc | 2023-05-30 04:16:00, Imaging-V...  \n",
       "9  [10LS CVT - Echocardiography (Physician) | 202...  "
      ]
     },
     "execution_count": 142,
     "metadata": {},
     "output_type": "execute_result"
    }
   ],
   "source": [
    "reader_study_calibration_dataset_processed"
   ]
  },
  {
   "cell_type": "code",
   "execution_count": 143,
   "id": "2361cf78",
   "metadata": {},
   "outputs": [
    {
     "name": "stderr",
     "output_type": "stream",
     "text": [
      " 97%|███████████████████████████████████████████████████████████████████████▊  | 97/100 [00:32<00:00,  3.03it/s]\n"
     ]
    },
    {
     "ename": "AttributeError",
     "evalue": "'NoneType' object has no attribute 'tolist'",
     "output_type": "error",
     "traceback": [
      "\u001b[0;31m---------------------------------------------------------------------------\u001b[0m",
      "\u001b[0;31mAttributeError\u001b[0m                            Traceback (most recent call last)",
      "Cell \u001b[0;32mIn[143], line 26\u001b[0m\n\u001b[1;32m     19\u001b[0m filtered_patient_notes \u001b[38;5;241m=\u001b[39m patient_notes[\n\u001b[1;32m     20\u001b[0m     (patient_notes[\u001b[38;5;124m\"\u001b[39m\u001b[38;5;124mdeid_service_date\u001b[39m\u001b[38;5;124m\"\u001b[39m] \u001b[38;5;241m<\u001b[39m radiology_report[\u001b[38;5;124m\"\u001b[39m\u001b[38;5;124mdeid_service_date\u001b[39m\u001b[38;5;124m\"\u001b[39m]) \u001b[38;5;241m&\u001b[39m \n\u001b[1;32m     21\u001b[0m     (patient_notes[\u001b[38;5;124m\"\u001b[39m\u001b[38;5;124mnote_type\u001b[39m\u001b[38;5;124m\"\u001b[39m] \u001b[38;5;241m!=\u001b[39m \u001b[38;5;124m\"\u001b[39m\u001b[38;5;124mImaging\u001b[39m\u001b[38;5;124m\"\u001b[39m)\n\u001b[1;32m     22\u001b[0m ]\u001b[38;5;241m.\u001b[39msort_values(by\u001b[38;5;241m=\u001b[39m[\u001b[38;5;124m\"\u001b[39m\u001b[38;5;124mdeid_service_date\u001b[39m\u001b[38;5;124m\"\u001b[39m], ascending\u001b[38;5;241m=\u001b[39m\u001b[38;5;28;01mFalse\u001b[39;00m)\u001b[38;5;241m.\u001b[39mreset_index(drop\u001b[38;5;241m=\u001b[39m\u001b[38;5;28;01mTrue\u001b[39;00m)\n\u001b[1;32m     23\u001b[0m filtered_patient_notes[\u001b[38;5;124m'\u001b[39m\u001b[38;5;124mnote_title\u001b[39m\u001b[38;5;124m'\u001b[39m] \u001b[38;5;241m=\u001b[39m filtered_patient_notes\u001b[38;5;241m.\u001b[39mapply(\u001b[38;5;28;01mlambda\u001b[39;00m row: generate_note_title(\n\u001b[1;32m     24\u001b[0m     row[\u001b[38;5;124m'\u001b[39m\u001b[38;5;124menc_dept_name\u001b[39m\u001b[38;5;124m'\u001b[39m], row[\u001b[38;5;124m'\u001b[39m\u001b[38;5;124mnote_type\u001b[39m\u001b[38;5;124m'\u001b[39m], row[\u001b[38;5;124m'\u001b[39m\u001b[38;5;124mauth_prov_type\u001b[39m\u001b[38;5;124m'\u001b[39m], row[\u001b[38;5;124m'\u001b[39m\u001b[38;5;124mdeid_service_date\u001b[39m\u001b[38;5;124m'\u001b[39m]\n\u001b[1;32m     25\u001b[0m ), axis\u001b[38;5;241m=\u001b[39m\u001b[38;5;241m1\u001b[39m)\n\u001b[0;32m---> 26\u001b[0m enc_dept_names \u001b[38;5;241m=\u001b[39m \u001b[43mfiltered_patient_notes\u001b[49m\u001b[43m[\u001b[49m\u001b[43m:\u001b[49m\u001b[43mNUM_NOTES\u001b[49m\u001b[43m]\u001b[49m\u001b[43m[\u001b[49m\u001b[43m[\u001b[49m\u001b[38;5;124;43m\"\u001b[39;49m\u001b[38;5;124;43menc_dept_name\u001b[39;49m\u001b[38;5;124;43m\"\u001b[39;49m\u001b[43m]\u001b[49m\u001b[43m]\u001b[49m\u001b[38;5;241;43m.\u001b[39;49m\u001b[43msqueeze\u001b[49m\u001b[43m(\u001b[49m\u001b[43m)\u001b[49m\u001b[38;5;241;43m.\u001b[39;49m\u001b[43mtolist\u001b[49m()\n\u001b[1;32m     27\u001b[0m note_types \u001b[38;5;241m=\u001b[39m filtered_patient_notes[:NUM_NOTES][[\u001b[38;5;124m\"\u001b[39m\u001b[38;5;124mnote_type\u001b[39m\u001b[38;5;124m\"\u001b[39m]]\u001b[38;5;241m.\u001b[39msqueeze()\u001b[38;5;241m.\u001b[39mtolist()\n\u001b[1;32m     28\u001b[0m auth_prov_types \u001b[38;5;241m=\u001b[39m filtered_patient_notes[:NUM_NOTES][[\u001b[38;5;124m\"\u001b[39m\u001b[38;5;124mauth_prov_type\u001b[39m\u001b[38;5;124m\"\u001b[39m]]\u001b[38;5;241m.\u001b[39msqueeze()\u001b[38;5;241m.\u001b[39mtolist()\n",
      "\u001b[0;31mAttributeError\u001b[0m: 'NoneType' object has no attribute 'tolist'"
     ]
    }
   ],
   "source": [
    "NUM_NOTES = 10\n",
    "reader_study_evaluation_dataset_processed = pd.DataFrame(columns=[\n",
    "    \"exam_type\",\n",
    "    \"imaging_modality\",\n",
    "    \"body_group\",\n",
    "    \"report_text\",\n",
    "    \"original_indication\",\n",
    "    \"radiologist_indication\",\n",
    "    \"enc_dept_names\",\n",
    "    \"note_types\",\n",
    "    \"auth_prov_types\",\n",
    "    \"deid_service_dates\",\n",
    "    \"note_titles\",\n",
    "    \"note_texts\"\n",
    "])\n",
    "for i in tqdm.tqdm(range(len(reader_study_evaluation_dataset_reports))):\n",
    "    radiology_report = reader_study_evaluation_dataset_reports.iloc[i]\n",
    "    patient_mrn = radiology_report[\"patientdurablekey\"]\n",
    "    patient_notes = clinical_indication_dataset_redactions[clinical_indication_dataset_redactions[\"patientdurablekey\"] == patient_mrn].copy()    \n",
    "    filtered_patient_notes = patient_notes[\n",
    "        (patient_notes[\"deid_service_date\"] < radiology_report[\"deid_service_date\"]) & \n",
    "        (patient_notes[\"note_type\"] != \"Imaging\")\n",
    "    ].sort_values(by=[\"deid_service_date\"], ascending=False).reset_index(drop=True)\n",
    "    filtered_patient_notes['note_title'] = filtered_patient_notes.apply(lambda row: generate_note_title(\n",
    "        row['enc_dept_name'], row['note_type'], row['auth_prov_type'], row['deid_service_date']\n",
    "    ), axis=1)\n",
    "    enc_dept_names = filtered_patient_notes[:NUM_NOTES][[\"enc_dept_name\"]].squeeze().tolist()\n",
    "    note_types = filtered_patient_notes[:NUM_NOTES][[\"note_type\"]].squeeze().tolist()\n",
    "    auth_prov_types = filtered_patient_notes[:NUM_NOTES][[\"auth_prov_type\"]].squeeze().tolist()\n",
    "    deid_service_dates = filtered_patient_notes[:NUM_NOTES][[\"deid_service_date\"]].squeeze().tolist()\n",
    "    note_titles = filtered_patient_notes[:NUM_NOTES][[\"note_title\"]].squeeze().tolist()\n",
    "    note_texts = filtered_patient_notes[:NUM_NOTES][[\"note_text\"]].squeeze().tolist()\n",
    "    row = {\n",
    "        \"exam_type\": radiology_report[\"exam_type\"],\n",
    "        \"imaging_modality\": radiology_report[\"imaging_modality\"],\n",
    "        \"body_group\": radiology_report[\"body_group\"],\n",
    "        \"report_text\": radiology_report[\"note_text\"],\n",
    "        \"original_indication\": radiology_report[\"original_indication\"],\n",
    "        \"radiologist_indication\": radiology_report[\"radiologist_indication\"],\n",
    "        \"enc_dept_names\": enc_dept_names,\n",
    "        \"note_types\": note_types,\n",
    "        \"auth_prov_types\": auth_prov_types,\n",
    "        \"deid_service_dates\": deid_service_dates,\n",
    "        \"note_titles\": note_titles\n",
    "    }\n",
    "    reader_study_evaluation_dataset_processed.loc[\n",
    "        len(reader_study_evaluation_dataset_processed)\n",
    "    ] = row\n",
    "reader_study_evaluation_dataset_processed.to_parquet(\"reader_study_evaluation_dataset_processed.parquet\")"
   ]
  }
 ],
 "metadata": {
  "kernelspec": {
   "display_name": "report_gen",
   "language": "python",
   "name": "report_gen"
  },
  "language_info": {
   "codemirror_mode": {
    "name": "ipython",
    "version": 3
   },
   "file_extension": ".py",
   "mimetype": "text/x-python",
   "name": "python",
   "nbconvert_exporter": "python",
   "pygments_lexer": "ipython3",
   "version": "3.10.9"
  }
 },
 "nbformat": 4,
 "nbformat_minor": 5
}
