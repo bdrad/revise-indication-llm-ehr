{
 "cells": [
  {
   "cell_type": "code",
   "execution_count": 1,
   "id": "85b13d0f",
   "metadata": {},
   "outputs": [
    {
     "name": "stderr",
     "output_type": "stream",
     "text": [
      "/home/bdrad/miniconda3/envs/report_gen/lib/python3.10/site-packages/pandas/core/arrays/masked.py:60: UserWarning: Pandas requires version '1.3.6' or newer of 'bottleneck' (version '1.3.5' currently installed).\n",
      "  from pandas.core import (\n"
     ]
    }
   ],
   "source": [
    "import os\n",
    "import pandas as pd\n",
    "import tqdm\n",
    "import regex as re"
   ]
  },
  {
   "cell_type": "code",
   "execution_count": 100,
   "id": "0f0e3478",
   "metadata": {},
   "outputs": [
    {
     "name": "stdout",
     "output_type": "stream",
     "text": [
      "====================\n",
      "UCSF Information Commons De-identified Clinical Notes Additional History Subset\n",
      "====================\n"
     ]
    }
   ],
   "source": [
    "print(\"=\"*20)\n",
    "print(\"UCSF Information Commons De-identified Clinical Notes Additional History Subset\")\n",
    "print(\"=\"*20)"
   ]
  },
  {
   "cell_type": "code",
   "execution_count": 2,
   "id": "91c8595e",
   "metadata": {
    "scrolled": false
   },
   "outputs": [
    {
     "name": "stdout",
     "output_type": "stream",
     "text": [
      "n_notes 629457\n",
      "n_patients 1000\n"
     ]
    }
   ],
   "source": [
    "additional_history_file = \"/mnt/sohn2022/UCSF_secure_data_info_commons_clinical_notes/additional_history/notes/shard1/additional_history_0.parquet\"\n",
    "data = pd.read_parquet(additional_history_file)\n",
    "print(\"n_notes\", len(data))\n",
    "print(\"n_patients\", data[\"patientdurablekey\"].nunique())"
   ]
  },
  {
   "cell_type": "markdown",
   "id": "cb5f0f62",
   "metadata": {},
   "source": [
    "## Note Type Exclusion\n",
    "We remove all clinical notes that are telephone encounters of patient instructions or have a `note_type` of `None`. We also filter out notes that have < 20 words, regardless of type."
   ]
  },
  {
   "cell_type": "code",
   "execution_count": 101,
   "id": "8e8762cc",
   "metadata": {},
   "outputs": [
    {
     "name": "stdout",
     "output_type": "stream",
     "text": [
      "====================\n",
      "Note Type Exclusion\n",
      "====================\n"
     ]
    }
   ],
   "source": [
    "print(\"=\"*20)\n",
    "print(\"Note Type Exclusion\")\n",
    "print(\"=\"*20)"
   ]
  },
  {
   "cell_type": "code",
   "execution_count": 3,
   "id": "c6d4dea5",
   "metadata": {},
   "outputs": [],
   "source": [
    "filtered_data_note_type = data[\n",
    "    ~(data[\"note_type\"].isna()) & \n",
    "    ~(data[\"note_type\"].isin([\"Telephone Encounter\", \"Patient Instructions\"])) & \n",
    "    ~(data[\"note_type\"].isna()) &\n",
    "    ~(data[\"note_text\"].apply(lambda s: len(s.split()) < 20))\n",
    "]"
   ]
  },
  {
   "cell_type": "code",
   "execution_count": 4,
   "id": "e104742a",
   "metadata": {},
   "outputs": [
    {
     "name": "stdout",
     "output_type": "stream",
     "text": [
      "n_notes 421233\n",
      "n_patients 1000\n"
     ]
    }
   ],
   "source": [
    "print(\"n_notes\", len(filtered_data_note_type))\n",
    "print(\"n_patients\", filtered_data_note_type[\"patientdurablekey\"].nunique())"
   ]
  },
  {
   "cell_type": "code",
   "execution_count": 97,
   "id": "5cc4664f",
   "metadata": {},
   "outputs": [
    {
     "name": "stdout",
     "output_type": "stream",
     "text": [
      "--------------------\n"
     ]
    }
   ],
   "source": [
    "print(\"-\"*20)"
   ]
  },
  {
   "cell_type": "code",
   "execution_count": 5,
   "id": "31e0c740",
   "metadata": {},
   "outputs": [
    {
     "name": "stdout",
     "output_type": "stream",
     "text": [
      "n_notes (excluded) 208224\n",
      "n_patients (excluded) 0\n"
     ]
    }
   ],
   "source": [
    "print(\"n_notes (excluded)\", len(data) - len(filtered_data_note_type))\n",
    "print(\"n_patients (excluded)\", data[\"patientdurablekey\"].nunique() - filtered_data_note_type[\"patientdurablekey\"].nunique())"
   ]
  },
  {
   "cell_type": "markdown",
   "id": "8d51e4a8",
   "metadata": {},
   "source": [
    "## Radiology Report Exclusion\n",
    "We filter out all the radiology reports with an additional history of `None` and other miscellaneous preprocessing steps. We also make sure to filter out all notes that occur before the `deid_service_date` of the radiological exam. We assume that all previous notes that will not mention the radiology report to prevent data leakage."
   ]
  },
  {
   "cell_type": "code",
   "execution_count": 102,
   "id": "e39f1d40",
   "metadata": {},
   "outputs": [
    {
     "name": "stdout",
     "output_type": "stream",
     "text": [
      "====================\n",
      "Radiology Report Exclusion\n",
      "====================\n"
     ]
    }
   ],
   "source": [
    "print(\"=\"*20)\n",
    "print(\"Radiology Report Exclusion\")\n",
    "print(\"=\"*20)"
   ]
  },
  {
   "cell_type": "code",
   "execution_count": 64,
   "id": "0835e8c0",
   "metadata": {
    "scrolled": false
   },
   "outputs": [
    {
     "name": "stderr",
     "output_type": "stream",
     "text": [
      "100%|███████████████████████████████████████| 1000/1000 [00:38<00:00, 26.10it/s]\n"
     ]
    }
   ],
   "source": [
    "patient_mrns = filtered_data_note_type[\"patientdurablekey\"].unique()\n",
    "filtered_data_radiology_report = []\n",
    "for i in tqdm.tqdm(range(len(patient_mrns))):\n",
    "    patient_mrn = patient_mrns[i]\n",
    "    patient_notes = filtered_data_note_type[filtered_data_note_type[\"patientdurablekey\"] == patient_mrn]\n",
    "    radiology_reports = patient_notes[\n",
    "        (patient_notes[\"note_type\"] == \"Imaging\") &\n",
    "        (patient_notes[\"auth_prov_type\"].isna()) & \n",
    "        (~patient_notes[\"note_text\"].str.contains(\"RADIOLOGY PRELIMINARY INTERPRETATION\")) &\n",
    "        (~patient_notes[\"note_text\"].str.contains(\"ADDITIONAL HISTORY: None\")) &\n",
    "        (patient_notes[\"note_text\"].str.contains(\"ADDITIONAL HISTORY\"))  \n",
    "    ].copy()    \n",
    "    if len(radiology_reports) > 0:\n",
    "        radiology_reports.loc[:, \"exam_type\"] = radiology_reports[\"note_text\"].str.split(\"  \").apply(lambda l: l[0]).str.replace(\":\", \"\", regex=False).str.strip()\n",
    "        def extract_history(report_text):\n",
    "            match = re.search(r'(?:CLINICAL HISTORY:|INDICATION \\(as provided by referring clinician\\):)\\s*(.*?)\\s*ADDITIONAL HISTORY:\\s*(.*?)(?:\\s*COMPARISON:|$)', report_text)\n",
    "            if match:\n",
    "                clinical_history = match.group(1).strip()\n",
    "                additional_history = match.group(2).strip()\n",
    "                return clinical_history, additional_history\n",
    "            return None, None\n",
    "        radiology_reports[['original_indication', 'radiologist_indication']] = radiology_reports['note_text'].apply(lambda x: pd.Series(extract_history(x)))\n",
    "        radiology_reports = radiology_reports[\n",
    "            (radiology_reports[\"exam_type\"] != \"\") &\n",
    "            (~radiology_reports[\"exam_type\"].str.contains(\"\\*\")) &\n",
    "            (~radiology_reports[\"radiologist_indication\"].isna())\n",
    "        ].drop_duplicates(subset=[\"deid_service_date\"]).sort_values(by=[\"deid_service_date\"], ascending=False)\n",
    "    for j in range(len(radiology_reports)):\n",
    "        radiology_report = radiology_reports.iloc[j]\n",
    "        filtered_patient_notes = patient_notes[\n",
    "            (patient_notes[\"deid_service_date\"] < radiology_report[\"deid_service_date\"]) & \n",
    "            (patient_notes[\"note_type\"] != \"Imaging\")\n",
    "        ].sort_values(by=[\"deid_service_date\"], ascending=False).reset_index(drop=True)\n",
    "        filtered_data_radiology_report.append(radiology_report.to_frame().T)\n",
    "        filtered_data_radiology_report.append(filtered_patient_notes)\n",
    "filtered_data_radiology_report = pd.concat(filtered_data_radiology_report).drop_duplicates(subset=[\"deid_note_key\"])"
   ]
  },
  {
   "cell_type": "code",
   "execution_count": 89,
   "id": "442d35d2",
   "metadata": {},
   "outputs": [
    {
     "name": "stdout",
     "output_type": "stream",
     "text": [
      "n_notes 219052\n",
      "n_patients 727\n",
      "n_radiology reports  6135\n"
     ]
    }
   ],
   "source": [
    "n_filtered_radiology_reports = len(filtered_data_radiology_report[~filtered_data_radiology_report[\"exam_type\"].isna()])\n",
    "\n",
    "print(\"n_notes\", len(filtered_data_radiology_report))\n",
    "print(\"n_patients\", filtered_data_radiology_report[\"patientdurablekey\"].nunique())\n",
    "print(\"n_radiology reports \", n_filtered_radiology_reports)"
   ]
  },
  {
   "cell_type": "code",
   "execution_count": 99,
   "id": "d19a128e",
   "metadata": {},
   "outputs": [
    {
     "name": "stdout",
     "output_type": "stream",
     "text": [
      "--------------------\n"
     ]
    }
   ],
   "source": [
    "print(\"-\"*20)"
   ]
  },
  {
   "cell_type": "code",
   "execution_count": 70,
   "id": "b214b37c",
   "metadata": {},
   "outputs": [
    {
     "name": "stdout",
     "output_type": "stream",
     "text": [
      "n_notes (excluded) 202181\n",
      "n_patients (excluded) 273\n"
     ]
    }
   ],
   "source": [
    "print(\"n_notes (excluded)\", len(filtered_data_note_type) - len(filtered_data_radiology_report))\n",
    "print(\"n_patients (excluded)\", filtered_data_note_type[\"patientdurablekey\"].nunique() - filtered_data_radiology_report[\"patientdurablekey\"].nunique())"
   ]
  },
  {
   "cell_type": "code",
   "execution_count": 108,
   "id": "71737ee8",
   "metadata": {},
   "outputs": [],
   "source": [
    "filtered_data_radiology_report.to_parquet(\"clinical_indication_dataset.parquet\")"
   ]
  },
  {
   "cell_type": "markdown",
   "id": "0ba1c8e5",
   "metadata": {},
   "source": [
    "## Radiology Report without Redaction of Original Indication and Revised Indication"
   ]
  },
  {
   "cell_type": "code",
   "execution_count": 103,
   "id": "0c089969",
   "metadata": {},
   "outputs": [
    {
     "name": "stdout",
     "output_type": "stream",
     "text": [
      "====================\n",
      "Radiology Report without Redaction of Original Indication and Revised Indication\n",
      "====================\n"
     ]
    }
   ],
   "source": [
    "print(\"=\"*20)\n",
    "print(\"Radiology Report without Redaction of Original Indication and Revised Indication\")\n",
    "print(\"=\"*20)"
   ]
  },
  {
   "cell_type": "code",
   "execution_count": 81,
   "id": "a6694c93",
   "metadata": {},
   "outputs": [
    {
     "name": "stderr",
     "output_type": "stream",
     "text": [
      "100%|█████████████████████████████████████████| 727/727 [00:11<00:00, 61.16it/s]\n"
     ]
    }
   ],
   "source": [
    "patient_mrns = filtered_data_radiology_report[\"patientdurablekey\"].unique()\n",
    "filtered_data_report_redactions = []\n",
    "for i in tqdm.tqdm(range(len(patient_mrns))):\n",
    "    patient_mrn = patient_mrns[i]\n",
    "    patient_notes = filtered_data_radiology_report[filtered_data_radiology_report[\"patientdurablekey\"] == patient_mrn]\n",
    "    radiology_reports = patient_notes[\n",
    "        (~patient_notes[\"exam_type\"].isna()) & \n",
    "        (~patient_notes[\"original_indication\"].astype(str).str.contains(\"\\*\")) &\n",
    "        (~patient_notes[\"radiologist_indication\"].astype(str).str.contains(\"\\*\"))\n",
    "    ].copy()    \n",
    "    for j in range(len(radiology_reports)):\n",
    "        radiology_report = radiology_reports.iloc[j]\n",
    "        filtered_patient_notes = patient_notes[\n",
    "            (patient_notes[\"deid_service_date\"] < radiology_report[\"deid_service_date\"]) & \n",
    "            (patient_notes[\"note_type\"] != \"Imaging\")\n",
    "        ].sort_values(by=[\"deid_service_date\"], ascending=False).reset_index(drop=True)\n",
    "        filtered_data_report_redactions.append(radiology_report.to_frame().T)\n",
    "        filtered_data_report_redactions.append(filtered_patient_notes)\n",
    "filtered_data_report_redactions = pd.concat(filtered_data_report_redactions).drop_duplicates(subset=[\"deid_note_key\"])"
   ]
  },
  {
   "cell_type": "code",
   "execution_count": 87,
   "id": "65517611",
   "metadata": {},
   "outputs": [
    {
     "name": "stdout",
     "output_type": "stream",
     "text": [
      "n_notes 156666\n",
      "n_patients 536\n",
      "n_radiology reports  2655\n"
     ]
    }
   ],
   "source": [
    "n_radiology_report_redactions = len(filtered_data_report_redactions[~filtered_data_report_redactions[\"exam_type\"].isna()])\n",
    "\n",
    "print(\"n_notes\", len(filtered_data_report_redactions))\n",
    "print(\"n_patients\", filtered_data_report_redactions[\"patientdurablekey\"].nunique())\n",
    "print(\"n_radiology reports \", n_radiology_report_redactions)"
   ]
  },
  {
   "cell_type": "code",
   "execution_count": 98,
   "id": "514d1495",
   "metadata": {},
   "outputs": [
    {
     "name": "stdout",
     "output_type": "stream",
     "text": [
      "--------------------\n"
     ]
    }
   ],
   "source": [
    "print(\"-\"*20)"
   ]
  },
  {
   "cell_type": "code",
   "execution_count": 83,
   "id": "57881db9",
   "metadata": {},
   "outputs": [
    {
     "name": "stdout",
     "output_type": "stream",
     "text": [
      "n_notes (excluded) 62386\n",
      "n_patients (excluded) 191\n"
     ]
    }
   ],
   "source": [
    "print(\"n_notes (excluded)\", len(filtered_data_radiology_report) - len(filtered_data_report_redactions))\n",
    "print(\"n_patients (excluded)\", filtered_data_radiology_report[\"patientdurablekey\"].nunique() - filtered_data_report_redactions[\"patientdurablekey\"].nunique())"
   ]
  },
  {
   "cell_type": "code",
   "execution_count": 109,
   "id": "02ef5a8e",
   "metadata": {},
   "outputs": [],
   "source": [
    "filtered_data_report_redactions.to_parquet(\"clinical_indication_dataset_without_redactions.parquet\")"
   ]
  },
  {
   "cell_type": "markdown",
   "id": "f8ad7abd",
   "metadata": {},
   "source": [
    "## Clinical Indication Dataset"
   ]
  },
  {
   "cell_type": "code",
   "execution_count": 2,
   "id": "583c258c",
   "metadata": {},
   "outputs": [],
   "source": [
    "clinical_indication_dataset = pd.read_parquet(\"clinical_indication_dataset_shard6.parquet\")"
   ]
  },
  {
   "cell_type": "code",
   "execution_count": 18,
   "id": "6a931716",
   "metadata": {
    "scrolled": true
   },
   "outputs": [],
   "source": [
    "def categorize_body_group(exam_type):\n",
    "    categories = {\n",
    "        \"Head\": [\"HEAD\", \"BRAIN\", \"STROKE PROTOCOL\", \"NEURO\"],\n",
    "        \"Abdomen/Pelvis\": [\"ABDOMEN\", \"PELVIS\", \"PROSTATE\", \"RENAL\", \"MRCP\"],\n",
    "        \"MSK\": [\"KNEE\", \"HIP\", \"SHOULDER\", \"EXTREMITY\", \"SPINE\", \"LUMBAR\", \n",
    "                \"UROGRAM\", \"CERVICAL\", \"SCOLIOSIS\", \"JOINT\"],\n",
    "        \"Chest\": [\"CHEST\", \"CARDIAC\", \"PULMONARY EMBOLISM\", \"CTA\", \"HEART\"],\n",
    "        \"Neck\": [\"FACE\", \"NECK\", \"CRANIOFACIAL\", \"MAXILLOFACIAL\", \"ORBIT\", \"TEMPORAL BONE\", \n",
    "                 \"SINUS\", \"THYROID\", \"MANDIBLE\", \"SKULL\"]\n",
    "    }\n",
    "    \n",
    "    for category, keywords in categories.items():\n",
    "        if any(keyword in exam_type for keyword in keywords):\n",
    "            return category\n",
    "    return \"Other\"\n",
    "\n",
    "def categorize_imaging_modality(exam_type):\n",
    "    categories = {\n",
    "        \"MRI\": [\"MR\", \"MRI\"],\n",
    "        \"CT\": [\"CT\", \"CTA\"],\n",
    "        \"XR\": [\"XR\"],\n",
    "        \"US\": [\"US\"]\n",
    "    }\n",
    "    \n",
    "    for category, keywords in categories.items():\n",
    "        if any(keyword in exam_type for keyword in keywords):\n",
    "            return category\n",
    "    return \"Other\"\n",
    "\n",
    "clinical_indication_dataset.loc[clinical_indication_dataset[\"exam_type\"].notna(), \"body_group\"] = clinical_indication_dataset.loc[clinical_indication_dataset[\"exam_type\"].notna()][\"exam_type\"].apply(categorize_body_group)\n",
    "clinical_indication_dataset.loc[clinical_indication_dataset[\"exam_type\"].notna(), \"imaging_modality\"] = clinical_indication_dataset.loc[clinical_indication_dataset[\"exam_type\"].notna()][\"exam_type\"].apply(categorize_imaging_modality)"
   ]
  },
  {
   "cell_type": "code",
   "execution_count": 21,
   "id": "bf8dbdc5",
   "metadata": {},
   "outputs": [
    {
     "data": {
      "text/plain": [
       "body_group\n",
       "Head              49.586777\n",
       "Neck              26.363636\n",
       "MSK               10.853994\n",
       "Abdomen/Pelvis     7.162534\n",
       "Chest              4.545455\n",
       "Other              1.487603\n",
       "Name: proportion, dtype: float64"
      ]
     },
     "execution_count": 21,
     "metadata": {},
     "output_type": "execute_result"
    }
   ],
   "source": [
    "clinical_indication_dataset[\"body_group\"].value_counts(normalize=True) * 100"
   ]
  },
  {
   "cell_type": "code",
   "execution_count": 12,
   "id": "3bc776ae",
   "metadata": {},
   "outputs": [
    {
     "data": {
      "text/plain": [
       "imaging_modality\n",
       "CT      2065\n",
       "MRI     1489\n",
       "US        29\n",
       "XR        29\n",
       "None      18\n",
       "Name: count, dtype: int64"
      ]
     },
     "execution_count": 12,
     "metadata": {},
     "output_type": "execute_result"
    }
   ],
   "source": [
    "clinical_indication_dataset[\"imaging_modality\"] == "
   ]
  },
  {
   "cell_type": "code",
   "execution_count": 92,
   "id": "5d24eef2",
   "metadata": {},
   "outputs": [
    {
     "data": {
      "text/plain": [
       "'MR BRAIN WITH AND WITHOUT CONTRAST:  03/18/2023 10:25 AM    INDICATION (as provided by referring clinician): history of craniotomy, has titanium in skull  Diplopia  Ptosis, bilateral    ADDITIONAL HISTORY: History of 2 craniotomies, has titanium in skull.    Additional clinical history: history of frontal bone osteomyelitis and associated meningoencephalitis, s/p craniotomy, ongoing emotional changes and difficulty with school since then, with a FH of his twin brother and paternal uncle with ptosis, diagnosed as MG, who presents with 1 mo of ptosis and diplopia. On exam severe bilateral ptosis and left eye *****, right eye only abduction intact but with nystagmus.     COMPARISON: MR brain 10/16/2019, 09/01/2019    TECHNIQUE: Multiple sequences through the brain were acquired at 3.0 tesla.    MEDICATIONS:  Dotarem - 23.9 mL - Intravenous    FINDINGS:    Prior right frontal craniotomy. Similar extent of right frontal subcortical FLAIR hyperintensity and encephalomalacia and gliosis. ***** thickening along the right greater than left frontal convexity, left temporal convexity, and falx is more apparent on current exam due to differences in acquisition technique.    No acute hemorrhage. No herniation. No reduced diffusion or abnormal susceptibility. No abnormal parenchymal  enhancement.    Ventricles within normal limits of size for age.      IMPRESSION:     Postsurgical changes from prior craniotomy and infection. No acute intracranial abnormality. No structural etiology for patient\\'s ptosis and ophthalmoplegia identified.     Report dictated by: ***** *****, MD, signed by: ***** *****, MD PhD  Department of Radiology and Biomedical Imaging  \"\\n'"
      ]
     },
     "execution_count": 92,
     "metadata": {},
     "output_type": "execute_result"
    }
   ],
   "source": [
    "clinical_indication_dataset[\n",
    "    (~clinical_indication_dataset[\"body_group\"].isna())\n",
    "].iloc[0][\"note_text\"]"
   ]
  },
  {
   "cell_type": "code",
   "execution_count": 101,
   "id": "e3c2e9bf",
   "metadata": {},
   "outputs": [
    {
     "data": {
      "text/html": [
       "<div>\n",
       "<style scoped>\n",
       "    .dataframe tbody tr th:only-of-type {\n",
       "        vertical-align: middle;\n",
       "    }\n",
       "\n",
       "    .dataframe tbody tr th {\n",
       "        vertical-align: top;\n",
       "    }\n",
       "\n",
       "    .dataframe thead th {\n",
       "        text-align: right;\n",
       "    }\n",
       "</style>\n",
       "<table border=\"1\" class=\"dataframe\">\n",
       "  <thead>\n",
       "    <tr style=\"text-align: right;\">\n",
       "      <th></th>\n",
       "      <th>patientepicid</th>\n",
       "      <th>patientdurablekey</th>\n",
       "      <th>deid_note_key</th>\n",
       "      <th>deid_note_id</th>\n",
       "      <th>deid_note_csn_id</th>\n",
       "      <th>procedureorderfactid</th>\n",
       "      <th>accessionnumber</th>\n",
       "      <th>accessionnumber2</th>\n",
       "      <th>accessionnumber3</th>\n",
       "      <th>encounterfactid</th>\n",
       "      <th>...</th>\n",
       "      <th>prov_specialty</th>\n",
       "      <th>deid_service_date</th>\n",
       "      <th>redact_date</th>\n",
       "      <th>deid_note_key_1</th>\n",
       "      <th>note_text</th>\n",
       "      <th>exam_type</th>\n",
       "      <th>original_indication</th>\n",
       "      <th>radiologist_indication</th>\n",
       "      <th>body_group</th>\n",
       "      <th>imaging_modality</th>\n",
       "    </tr>\n",
       "  </thead>\n",
       "  <tbody>\n",
       "    <tr>\n",
       "      <th>192289</th>\n",
       "      <td>DFC1F318D5C202</td>\n",
       "      <td>DAB2C4F4F8B502</td>\n",
       "      <td>DC01C376258351</td>\n",
       "      <td>DD5E7F03730F9E</td>\n",
       "      <td>D21A6411F90443</td>\n",
       "      <td>None</td>\n",
       "      <td>D7A3854B517269</td>\n",
       "      <td>None</td>\n",
       "      <td>None</td>\n",
       "      <td>None</td>\n",
       "      <td>...</td>\n",
       "      <td>None</td>\n",
       "      <td>2023-03-21 13:05:00</td>\n",
       "      <td>2024-08-04</td>\n",
       "      <td>DC01C376258351</td>\n",
       "      <td>MR BRAIN WITH AND WITHOUT CONTRAST:  03/18/202...</td>\n",
       "      <td>MR BRAIN WITH AND WITHOUT CONTRAST</td>\n",
       "      <td>history of craniotomy, has titanium in skull  ...</td>\n",
       "      <td>History of 2 craniotomies, has titanium in sku...</td>\n",
       "      <td>Head</td>\n",
       "      <td>MRI</td>\n",
       "    </tr>\n",
       "    <tr>\n",
       "      <th>0</th>\n",
       "      <td>DFC1F318D5C202</td>\n",
       "      <td>DAB2C4F4F8B502</td>\n",
       "      <td>D0DD6CE23342F5</td>\n",
       "      <td>DA4FE3E0461CC5</td>\n",
       "      <td>DFA4AA1A0D7023</td>\n",
       "      <td>None</td>\n",
       "      <td>None</td>\n",
       "      <td>None</td>\n",
       "      <td>None</td>\n",
       "      <td>DE8E6B862005CC</td>\n",
       "      <td>...</td>\n",
       "      <td>Pediatric Neurology</td>\n",
       "      <td>2023-03-11 00:00:00</td>\n",
       "      <td>2024-07-29</td>\n",
       "      <td>D0DD6CE23342F5</td>\n",
       "      <td>Subjective    ***** ***** is a ***** y.o. *...</td>\n",
       "      <td>None</td>\n",
       "      <td>None</td>\n",
       "      <td>None</td>\n",
       "      <td>NaN</td>\n",
       "      <td>NaN</td>\n",
       "    </tr>\n",
       "    <tr>\n",
       "      <th>1</th>\n",
       "      <td>DFC1F318D5C202</td>\n",
       "      <td>DAB2C4F4F8B502</td>\n",
       "      <td>DBD4D1EC158E9D</td>\n",
       "      <td>D7DD23E5C6D6BB</td>\n",
       "      <td>D2A607582E48FA</td>\n",
       "      <td>None</td>\n",
       "      <td>None</td>\n",
       "      <td>None</td>\n",
       "      <td>None</td>\n",
       "      <td>DE8E6B862005CC</td>\n",
       "      <td>...</td>\n",
       "      <td>None</td>\n",
       "      <td>2023-03-11 00:00:00</td>\n",
       "      <td>2024-07-29</td>\n",
       "      <td>DBD4D1EC158E9D</td>\n",
       "      <td>BCH ***** *****  ***** ***** *****  ***** ...</td>\n",
       "      <td>None</td>\n",
       "      <td>None</td>\n",
       "      <td>None</td>\n",
       "      <td>NaN</td>\n",
       "      <td>NaN</td>\n",
       "    </tr>\n",
       "    <tr>\n",
       "      <th>2</th>\n",
       "      <td>DFC1F318D5C202</td>\n",
       "      <td>DAB2C4F4F8B502</td>\n",
       "      <td>D6D89DA20440D5</td>\n",
       "      <td>D09224EA347862</td>\n",
       "      <td>D3D16EFD558B25</td>\n",
       "      <td>None</td>\n",
       "      <td>None</td>\n",
       "      <td>None</td>\n",
       "      <td>None</td>\n",
       "      <td>DF043595F0DF98</td>\n",
       "      <td>...</td>\n",
       "      <td>None</td>\n",
       "      <td>2023-02-25 00:00:00</td>\n",
       "      <td>2024-07-25</td>\n",
       "      <td>D6D89DA20440D5</td>\n",
       "      <td>BCH ***** *****  ***** ***** *****  ***** ...</td>\n",
       "      <td>None</td>\n",
       "      <td>None</td>\n",
       "      <td>None</td>\n",
       "      <td>NaN</td>\n",
       "      <td>NaN</td>\n",
       "    </tr>\n",
       "    <tr>\n",
       "      <th>3</th>\n",
       "      <td>DFC1F318D5C202</td>\n",
       "      <td>DAB2C4F4F8B502</td>\n",
       "      <td>DE69EB7BBA1705</td>\n",
       "      <td>None</td>\n",
       "      <td>D805CC9A4C4516</td>\n",
       "      <td>None</td>\n",
       "      <td>None</td>\n",
       "      <td>None</td>\n",
       "      <td>None</td>\n",
       "      <td>D19C0568557A82</td>\n",
       "      <td>...</td>\n",
       "      <td>Pediatric Neurology</td>\n",
       "      <td>2023-02-11 11:37:00</td>\n",
       "      <td>2024-08-10</td>\n",
       "      <td>DE69EB7BBA1705</td>\n",
       "      <td>Performed at:  03 - Labcorp ***** *****\"\\n\\n**...</td>\n",
       "      <td>None</td>\n",
       "      <td>None</td>\n",
       "      <td>None</td>\n",
       "      <td>NaN</td>\n",
       "      <td>NaN</td>\n",
       "    </tr>\n",
       "    <tr>\n",
       "      <th>...</th>\n",
       "      <td>...</td>\n",
       "      <td>...</td>\n",
       "      <td>...</td>\n",
       "      <td>...</td>\n",
       "      <td>...</td>\n",
       "      <td>...</td>\n",
       "      <td>...</td>\n",
       "      <td>...</td>\n",
       "      <td>...</td>\n",
       "      <td>...</td>\n",
       "      <td>...</td>\n",
       "      <td>...</td>\n",
       "      <td>...</td>\n",
       "      <td>...</td>\n",
       "      <td>...</td>\n",
       "      <td>...</td>\n",
       "      <td>...</td>\n",
       "      <td>...</td>\n",
       "      <td>...</td>\n",
       "      <td>...</td>\n",
       "      <td>...</td>\n",
       "    </tr>\n",
       "    <tr>\n",
       "      <th>88</th>\n",
       "      <td>D33976366DCC17</td>\n",
       "      <td>DC7C985786BF03</td>\n",
       "      <td>D14537E2932E56</td>\n",
       "      <td>DEE839BF19A5C4</td>\n",
       "      <td>DE8FA593264131</td>\n",
       "      <td>None</td>\n",
       "      <td>None</td>\n",
       "      <td>None</td>\n",
       "      <td>None</td>\n",
       "      <td>D1F63BA504867A</td>\n",
       "      <td>...</td>\n",
       "      <td>None</td>\n",
       "      <td>2015-12-31 00:00:00</td>\n",
       "      <td>2024-07-31</td>\n",
       "      <td>D14537E2932E56</td>\n",
       "      <td>12/31/2015    ***** *****  ***** ***** *****  ...</td>\n",
       "      <td>None</td>\n",
       "      <td>None</td>\n",
       "      <td>None</td>\n",
       "      <td>NaN</td>\n",
       "      <td>NaN</td>\n",
       "    </tr>\n",
       "    <tr>\n",
       "      <th>89</th>\n",
       "      <td>D33976366DCC17</td>\n",
       "      <td>DC7C985786BF03</td>\n",
       "      <td>D8079347536E6C</td>\n",
       "      <td>DEAB40422A1413</td>\n",
       "      <td>DC1A20B9279C60</td>\n",
       "      <td>None</td>\n",
       "      <td>None</td>\n",
       "      <td>None</td>\n",
       "      <td>None</td>\n",
       "      <td>D6CC95F288B853</td>\n",
       "      <td>...</td>\n",
       "      <td>Neurosurgery</td>\n",
       "      <td>2015-09-19 00:00:00</td>\n",
       "      <td>2024-08-02</td>\n",
       "      <td>D8079347536E6C</td>\n",
       "      <td>Thank-you for referring ***** ***** to the Uni...</td>\n",
       "      <td>None</td>\n",
       "      <td>None</td>\n",
       "      <td>None</td>\n",
       "      <td>NaN</td>\n",
       "      <td>NaN</td>\n",
       "    </tr>\n",
       "    <tr>\n",
       "      <th>90</th>\n",
       "      <td>D33976366DCC17</td>\n",
       "      <td>DC7C985786BF03</td>\n",
       "      <td>D3B64B8D25932F</td>\n",
       "      <td>DDF85CA0638175</td>\n",
       "      <td>DE6EB01EB963E1</td>\n",
       "      <td>None</td>\n",
       "      <td>None</td>\n",
       "      <td>None</td>\n",
       "      <td>None</td>\n",
       "      <td>D6CC95F288B853</td>\n",
       "      <td>...</td>\n",
       "      <td>None</td>\n",
       "      <td>2015-09-19 00:00:00</td>\n",
       "      <td>2024-07-30</td>\n",
       "      <td>D3B64B8D25932F</td>\n",
       "      <td>UCSF Medical Center - After Visit Summary    ...</td>\n",
       "      <td>None</td>\n",
       "      <td>None</td>\n",
       "      <td>None</td>\n",
       "      <td>NaN</td>\n",
       "      <td>NaN</td>\n",
       "    </tr>\n",
       "    <tr>\n",
       "      <th>91</th>\n",
       "      <td>D33976366DCC17</td>\n",
       "      <td>DC7C985786BF03</td>\n",
       "      <td>D8BDF965F4C13C</td>\n",
       "      <td>D47D8C9547DED3</td>\n",
       "      <td>D4BF60272635B2</td>\n",
       "      <td>None</td>\n",
       "      <td>None</td>\n",
       "      <td>None</td>\n",
       "      <td>None</td>\n",
       "      <td>D6CC95F288B853</td>\n",
       "      <td>...</td>\n",
       "      <td>None</td>\n",
       "      <td>2015-09-19 00:00:00</td>\n",
       "      <td>2024-07-28</td>\n",
       "      <td>D8BDF965F4C13C</td>\n",
       "      <td>09/19/2015      ***** *****  ***** ***** *****...</td>\n",
       "      <td>None</td>\n",
       "      <td>None</td>\n",
       "      <td>None</td>\n",
       "      <td>NaN</td>\n",
       "      <td>NaN</td>\n",
       "    </tr>\n",
       "    <tr>\n",
       "      <th>162472</th>\n",
       "      <td>DD2B372AD32C20</td>\n",
       "      <td>D3080A10C73966</td>\n",
       "      <td>DB712B705D562A</td>\n",
       "      <td>DCAD107018D5F3</td>\n",
       "      <td>DA944E2B29EE63</td>\n",
       "      <td>None</td>\n",
       "      <td>D78EB29DE8A902</td>\n",
       "      <td>None</td>\n",
       "      <td>None</td>\n",
       "      <td>None</td>\n",
       "      <td>...</td>\n",
       "      <td>None</td>\n",
       "      <td>2022-10-20 07:06:00</td>\n",
       "      <td>2024-07-26</td>\n",
       "      <td>DB712B705D562A</td>\n",
       "      <td>CT BRAIN WITHOUT CONTRAST:  10/20/2022 7:53 AM...</td>\n",
       "      <td>CT BRAIN WITHOUT CONTRAST</td>\n",
       "      <td>POSSIBLE OSTEOMA</td>\n",
       "      <td></td>\n",
       "      <td>Head</td>\n",
       "      <td>CT</td>\n",
       "    </tr>\n",
       "  </tbody>\n",
       "</table>\n",
       "<p>280352 rows × 33 columns</p>\n",
       "</div>"
      ],
      "text/plain": [
       "         patientepicid patientdurablekey   deid_note_key    deid_note_id  \\\n",
       "192289  DFC1F318D5C202    DAB2C4F4F8B502  DC01C376258351  DD5E7F03730F9E   \n",
       "0       DFC1F318D5C202    DAB2C4F4F8B502  D0DD6CE23342F5  DA4FE3E0461CC5   \n",
       "1       DFC1F318D5C202    DAB2C4F4F8B502  DBD4D1EC158E9D  D7DD23E5C6D6BB   \n",
       "2       DFC1F318D5C202    DAB2C4F4F8B502  D6D89DA20440D5  D09224EA347862   \n",
       "3       DFC1F318D5C202    DAB2C4F4F8B502  DE69EB7BBA1705            None   \n",
       "...                ...               ...             ...             ...   \n",
       "88      D33976366DCC17    DC7C985786BF03  D14537E2932E56  DEE839BF19A5C4   \n",
       "89      D33976366DCC17    DC7C985786BF03  D8079347536E6C  DEAB40422A1413   \n",
       "90      D33976366DCC17    DC7C985786BF03  D3B64B8D25932F  DDF85CA0638175   \n",
       "91      D33976366DCC17    DC7C985786BF03  D8BDF965F4C13C  D47D8C9547DED3   \n",
       "162472  DD2B372AD32C20    D3080A10C73966  DB712B705D562A  DCAD107018D5F3   \n",
       "\n",
       "       deid_note_csn_id procedureorderfactid accessionnumber accessionnumber2  \\\n",
       "192289   D21A6411F90443                 None  D7A3854B517269             None   \n",
       "0        DFA4AA1A0D7023                 None            None             None   \n",
       "1        D2A607582E48FA                 None            None             None   \n",
       "2        D3D16EFD558B25                 None            None             None   \n",
       "3        D805CC9A4C4516                 None            None             None   \n",
       "...                 ...                  ...             ...              ...   \n",
       "88       DE8FA593264131                 None            None             None   \n",
       "89       DC1A20B9279C60                 None            None             None   \n",
       "90       DE6EB01EB963E1                 None            None             None   \n",
       "91       D4BF60272635B2                 None            None             None   \n",
       "162472   DA944E2B29EE63                 None  D78EB29DE8A902             None   \n",
       "\n",
       "       accessionnumber3 encounterfactid  ...       prov_specialty  \\\n",
       "192289             None            None  ...                 None   \n",
       "0                  None  DE8E6B862005CC  ...  Pediatric Neurology   \n",
       "1                  None  DE8E6B862005CC  ...                 None   \n",
       "2                  None  DF043595F0DF98  ...                 None   \n",
       "3                  None  D19C0568557A82  ...  Pediatric Neurology   \n",
       "...                 ...             ...  ...                  ...   \n",
       "88                 None  D1F63BA504867A  ...                 None   \n",
       "89                 None  D6CC95F288B853  ...         Neurosurgery   \n",
       "90                 None  D6CC95F288B853  ...                 None   \n",
       "91                 None  D6CC95F288B853  ...                 None   \n",
       "162472             None            None  ...                 None   \n",
       "\n",
       "         deid_service_date redact_date deid_note_key_1  \\\n",
       "192289 2023-03-21 13:05:00  2024-08-04  DC01C376258351   \n",
       "0      2023-03-11 00:00:00  2024-07-29  D0DD6CE23342F5   \n",
       "1      2023-03-11 00:00:00  2024-07-29  DBD4D1EC158E9D   \n",
       "2      2023-02-25 00:00:00  2024-07-25  D6D89DA20440D5   \n",
       "3      2023-02-11 11:37:00  2024-08-10  DE69EB7BBA1705   \n",
       "...                    ...         ...             ...   \n",
       "88     2015-12-31 00:00:00  2024-07-31  D14537E2932E56   \n",
       "89     2015-09-19 00:00:00  2024-08-02  D8079347536E6C   \n",
       "90     2015-09-19 00:00:00  2024-07-30  D3B64B8D25932F   \n",
       "91     2015-09-19 00:00:00  2024-07-28  D8BDF965F4C13C   \n",
       "162472 2022-10-20 07:06:00  2024-07-26  DB712B705D562A   \n",
       "\n",
       "                                                note_text  \\\n",
       "192289  MR BRAIN WITH AND WITHOUT CONTRAST:  03/18/202...   \n",
       "0          Subjective    ***** ***** is a ***** y.o. *...   \n",
       "1           BCH ***** *****  ***** ***** *****  ***** ...   \n",
       "2           BCH ***** *****  ***** ***** *****  ***** ...   \n",
       "3       Performed at:  03 - Labcorp ***** *****\"\\n\\n**...   \n",
       "...                                                   ...   \n",
       "88      12/31/2015    ***** *****  ***** ***** *****  ...   \n",
       "89      Thank-you for referring ***** ***** to the Uni...   \n",
       "90       UCSF Medical Center - After Visit Summary    ...   \n",
       "91      09/19/2015      ***** *****  ***** ***** *****...   \n",
       "162472  CT BRAIN WITHOUT CONTRAST:  10/20/2022 7:53 AM...   \n",
       "\n",
       "                                 exam_type  \\\n",
       "192289  MR BRAIN WITH AND WITHOUT CONTRAST   \n",
       "0                                     None   \n",
       "1                                     None   \n",
       "2                                     None   \n",
       "3                                     None   \n",
       "...                                    ...   \n",
       "88                                    None   \n",
       "89                                    None   \n",
       "90                                    None   \n",
       "91                                    None   \n",
       "162472           CT BRAIN WITHOUT CONTRAST   \n",
       "\n",
       "                                      original_indication  \\\n",
       "192289  history of craniotomy, has titanium in skull  ...   \n",
       "0                                                    None   \n",
       "1                                                    None   \n",
       "2                                                    None   \n",
       "3                                                    None   \n",
       "...                                                   ...   \n",
       "88                                                   None   \n",
       "89                                                   None   \n",
       "90                                                   None   \n",
       "91                                                   None   \n",
       "162472                                   POSSIBLE OSTEOMA   \n",
       "\n",
       "                                   radiologist_indication body_group  \\\n",
       "192289  History of 2 craniotomies, has titanium in sku...       Head   \n",
       "0                                                    None        NaN   \n",
       "1                                                    None        NaN   \n",
       "2                                                    None        NaN   \n",
       "3                                                    None        NaN   \n",
       "...                                                   ...        ...   \n",
       "88                                                   None        NaN   \n",
       "89                                                   None        NaN   \n",
       "90                                                   None        NaN   \n",
       "91                                                   None        NaN   \n",
       "162472                                                          Head   \n",
       "\n",
       "       imaging_modality  \n",
       "192289              MRI  \n",
       "0                   NaN  \n",
       "1                   NaN  \n",
       "2                   NaN  \n",
       "3                   NaN  \n",
       "...                 ...  \n",
       "88                  NaN  \n",
       "89                  NaN  \n",
       "90                  NaN  \n",
       "91                  NaN  \n",
       "162472               CT  \n",
       "\n",
       "[280352 rows x 33 columns]"
      ]
     },
     "execution_count": 101,
     "metadata": {},
     "output_type": "execute_result"
    }
   ],
   "source": [
    "clinical_indication_dataset"
   ]
  },
  {
   "cell_type": "code",
   "execution_count": 100,
   "id": "08727f01",
   "metadata": {},
   "outputs": [
    {
     "data": {
      "text/plain": [
       "'MR BRAIN WITH AND WITHOUT CONTRAST:  03/18/2023 10:25 AM    INDICATION (as provided by referring clinician): history of craniotomy, has titanium in skull  Diplopia  Ptosis, bilateral    ADDITIONAL HISTORY: History of 2 craniotomies, has titanium in skull.    Additional clinical history: history of frontal bone osteomyelitis and associated meningoencephalitis, s/p craniotomy, ongoing emotional changes and difficulty with school since then, with a FH of his twin brother and paternal uncle with ptosis, diagnosed as MG, who presents with 1 mo of ptosis and diplopia. On exam severe bilateral ptosis and left eye *****, right eye only abduction intact but with nystagmus.     COMPARISON: MR brain 10/16/2019, 09/01/2019    TECHNIQUE: Multiple sequences through the brain were acquired at 3.0 tesla.    MEDICATIONS:  Dotarem - 23.9 mL - Intravenous    FINDINGS:    Prior right frontal craniotomy. Similar extent of right frontal subcortical FLAIR hyperintensity and encephalomalacia and gliosis. ***** thickening along the right greater than left frontal convexity, left temporal convexity, and falx is more apparent on current exam due to differences in acquisition technique.    No acute hemorrhage. No herniation. No reduced diffusion or abnormal susceptibility. No abnormal parenchymal  enhancement.    Ventricles within normal limits of size for age.      IMPRESSION:     Postsurgical changes from prior craniotomy and infection. No acute intracranial abnormality. No structural etiology for patient\\'s ptosis and ophthalmoplegia identified.     Report dictated by: ***** *****, MD, signed by: ***** *****, MD PhD  Department of Radiology and Biomedical Imaging  \"\\n'"
      ]
     },
     "execution_count": 100,
     "metadata": {},
     "output_type": "execute_result"
    }
   ],
   "source": [
    "clinical_indication_dataset[\n",
    "    (~clinical_indication_dataset[\"body_group\"].isna())\n",
    "][\"note_text\"].iloc[0]"
   ]
  },
  {
   "cell_type": "code",
   "execution_count": 79,
   "id": "b87f41a8",
   "metadata": {},
   "outputs": [
    {
     "data": {
      "text/html": [
       "<div>\n",
       "<style scoped>\n",
       "    .dataframe tbody tr th:only-of-type {\n",
       "        vertical-align: middle;\n",
       "    }\n",
       "\n",
       "    .dataframe tbody tr th {\n",
       "        vertical-align: top;\n",
       "    }\n",
       "\n",
       "    .dataframe thead th {\n",
       "        text-align: right;\n",
       "    }\n",
       "</style>\n",
       "<table border=\"1\" class=\"dataframe\">\n",
       "  <thead>\n",
       "    <tr style=\"text-align: right;\">\n",
       "      <th></th>\n",
       "      <th>patientepicid</th>\n",
       "      <th>patientdurablekey</th>\n",
       "      <th>deid_note_key</th>\n",
       "      <th>deid_note_id</th>\n",
       "      <th>deid_note_csn_id</th>\n",
       "      <th>procedureorderfactid</th>\n",
       "      <th>accessionnumber</th>\n",
       "      <th>accessionnumber2</th>\n",
       "      <th>accessionnumber3</th>\n",
       "      <th>encounterfactid</th>\n",
       "      <th>...</th>\n",
       "      <th>auth_prov_type</th>\n",
       "      <th>prov_specialty</th>\n",
       "      <th>deid_service_date</th>\n",
       "      <th>redact_date</th>\n",
       "      <th>deid_note_key_1</th>\n",
       "      <th>note_text</th>\n",
       "      <th>exam_type</th>\n",
       "      <th>original_indication</th>\n",
       "      <th>radiologist_indication</th>\n",
       "      <th>body_group</th>\n",
       "    </tr>\n",
       "  </thead>\n",
       "  <tbody>\n",
       "    <tr>\n",
       "      <th>192289</th>\n",
       "      <td>DFC1F318D5C202</td>\n",
       "      <td>DAB2C4F4F8B502</td>\n",
       "      <td>DC01C376258351</td>\n",
       "      <td>DD5E7F03730F9E</td>\n",
       "      <td>D21A6411F90443</td>\n",
       "      <td>None</td>\n",
       "      <td>D7A3854B517269</td>\n",
       "      <td>None</td>\n",
       "      <td>None</td>\n",
       "      <td>None</td>\n",
       "      <td>...</td>\n",
       "      <td>None</td>\n",
       "      <td>None</td>\n",
       "      <td>2023-03-21 13:05:00</td>\n",
       "      <td>2024-08-04</td>\n",
       "      <td>DC01C376258351</td>\n",
       "      <td>MR BRAIN WITH AND WITHOUT CONTRAST:  03/18/202...</td>\n",
       "      <td>MR BRAIN WITH AND WITHOUT CONTRAST</td>\n",
       "      <td>history of craniotomy, has titanium in skull  ...</td>\n",
       "      <td>History of 2 craniotomies, has titanium in sku...</td>\n",
       "      <td>Head</td>\n",
       "    </tr>\n",
       "    <tr>\n",
       "      <th>218024</th>\n",
       "      <td>DFC1F318D5C202</td>\n",
       "      <td>DAB2C4F4F8B502</td>\n",
       "      <td>D7A790BBFB05D5</td>\n",
       "      <td>D1ACA9AF9C0C38</td>\n",
       "      <td>DCDDAB24D6D9E8</td>\n",
       "      <td>None</td>\n",
       "      <td>D7A3854B517269</td>\n",
       "      <td>None</td>\n",
       "      <td>None</td>\n",
       "      <td>None</td>\n",
       "      <td>...</td>\n",
       "      <td>None</td>\n",
       "      <td>None</td>\n",
       "      <td>2023-03-18 11:09:00</td>\n",
       "      <td>2024-07-25</td>\n",
       "      <td>D7A790BBFB05D5</td>\n",
       "      <td>MR BRAIN WITH AND WITHOUT CONTRAST:  03/18/202...</td>\n",
       "      <td>MR BRAIN WITH AND WITHOUT CONTRAST</td>\n",
       "      <td>history of craniotomy, has titanium in skull  ...</td>\n",
       "      <td>History of 2 craniotomies, has titanium in sku...</td>\n",
       "      <td>Head</td>\n",
       "    </tr>\n",
       "    <tr>\n",
       "      <th>168777</th>\n",
       "      <td>DBF5663B57CAFF</td>\n",
       "      <td>DBCE3F7A3B1347</td>\n",
       "      <td>DF8C4FD2D9B71E</td>\n",
       "      <td>D4292C84EBB0B5</td>\n",
       "      <td>DD19B225593CDC</td>\n",
       "      <td>None</td>\n",
       "      <td>D78FEA153219E2</td>\n",
       "      <td>None</td>\n",
       "      <td>None</td>\n",
       "      <td>None</td>\n",
       "      <td>...</td>\n",
       "      <td>None</td>\n",
       "      <td>None</td>\n",
       "      <td>2023-08-21 12:06:00</td>\n",
       "      <td>2024-07-25</td>\n",
       "      <td>DF8C4FD2D9B71E</td>\n",
       "      <td>MRI BRAIN, MRA BRAIN, MRA NECK - WITHOUT CONTR...</td>\n",
       "      <td>MRI BRAIN, MRA BRAIN, MRA NECK - WITHOUT CONTR...</td>\n",
       "      <td>r/o stroke</td>\n",
       "      <td>***** on 08/18/23</td>\n",
       "      <td>Head</td>\n",
       "    </tr>\n",
       "    <tr>\n",
       "      <th>15321</th>\n",
       "      <td>DBF5663B57CAFF</td>\n",
       "      <td>DBCE3F7A3B1347</td>\n",
       "      <td>D92F83561112A8</td>\n",
       "      <td>DB411297BA01E7</td>\n",
       "      <td>D3C66064EF291F</td>\n",
       "      <td>None</td>\n",
       "      <td>D78FEA153219E2</td>\n",
       "      <td>None</td>\n",
       "      <td>None</td>\n",
       "      <td>None</td>\n",
       "      <td>...</td>\n",
       "      <td>None</td>\n",
       "      <td>None</td>\n",
       "      <td>2023-08-21 11:07:00</td>\n",
       "      <td>2024-08-05</td>\n",
       "      <td>D92F83561112A8</td>\n",
       "      <td>MRI BRAIN, MRA BRAIN, MRA NECK - WITHOUT CONTR...</td>\n",
       "      <td>MRI BRAIN, MRA BRAIN, MRA NECK - WITHOUT CONTR...</td>\n",
       "      <td>r/o stroke</td>\n",
       "      <td>***** on 08/18/23</td>\n",
       "      <td>Head</td>\n",
       "    </tr>\n",
       "    <tr>\n",
       "      <th>64001</th>\n",
       "      <td>DBF5663B57CAFF</td>\n",
       "      <td>DBCE3F7A3B1347</td>\n",
       "      <td>D0F40E73D8616B</td>\n",
       "      <td>D576D98C3FD408</td>\n",
       "      <td>DC5A87FC8362CA</td>\n",
       "      <td>None</td>\n",
       "      <td>D78FEA153219E2</td>\n",
       "      <td>None</td>\n",
       "      <td>None</td>\n",
       "      <td>None</td>\n",
       "      <td>...</td>\n",
       "      <td>None</td>\n",
       "      <td>None</td>\n",
       "      <td>2023-08-21 10:10:00</td>\n",
       "      <td>2024-07-23</td>\n",
       "      <td>D0F40E73D8616B</td>\n",
       "      <td>MRI BRAIN, MRA BRAIN, MRA NECK - WITHOUT CONTR...</td>\n",
       "      <td>MRI BRAIN, MRA BRAIN, MRA NECK - WITHOUT CONTR...</td>\n",
       "      <td>r/o stroke</td>\n",
       "      <td>***** on 08/18/23</td>\n",
       "      <td>Head</td>\n",
       "    </tr>\n",
       "    <tr>\n",
       "      <th>...</th>\n",
       "      <td>...</td>\n",
       "      <td>...</td>\n",
       "      <td>...</td>\n",
       "      <td>...</td>\n",
       "      <td>...</td>\n",
       "      <td>...</td>\n",
       "      <td>...</td>\n",
       "      <td>...</td>\n",
       "      <td>...</td>\n",
       "      <td>...</td>\n",
       "      <td>...</td>\n",
       "      <td>...</td>\n",
       "      <td>...</td>\n",
       "      <td>...</td>\n",
       "      <td>...</td>\n",
       "      <td>...</td>\n",
       "      <td>...</td>\n",
       "      <td>...</td>\n",
       "      <td>...</td>\n",
       "      <td>...</td>\n",
       "      <td>...</td>\n",
       "    </tr>\n",
       "    <tr>\n",
       "      <th>206543</th>\n",
       "      <td>DD7DC4FAFE58A0</td>\n",
       "      <td>D966487D0EB461</td>\n",
       "      <td>DCB5B30901D9FC</td>\n",
       "      <td>D15FE88CE55F79</td>\n",
       "      <td>D82E262BBAB61D</td>\n",
       "      <td>DC446A4073AB16</td>\n",
       "      <td>DE1451AC2CD52B</td>\n",
       "      <td>None</td>\n",
       "      <td>None</td>\n",
       "      <td>None</td>\n",
       "      <td>...</td>\n",
       "      <td>None</td>\n",
       "      <td>None</td>\n",
       "      <td>2020-04-05 14:05:00</td>\n",
       "      <td>2024-07-22</td>\n",
       "      <td>DCB5B30901D9FC</td>\n",
       "      <td>MR BRAIN WITH AND WITHOUT CONTRAST : 04/04/202...</td>\n",
       "      <td>MR BRAIN WITH AND WITHOUT CONTRAST  04/04/2020...</td>\n",
       "      <td>6 mo. S/P ICH and resection of cavernoma in th...</td>\n",
       "      <td></td>\n",
       "      <td>Head</td>\n",
       "    </tr>\n",
       "    <tr>\n",
       "      <th>259911</th>\n",
       "      <td>D8378B2FED1830</td>\n",
       "      <td>D71EBF868D31BF</td>\n",
       "      <td>D85A5961F8C6E2</td>\n",
       "      <td>DE673A0BAAB67F</td>\n",
       "      <td>D6CC43905ABAEC</td>\n",
       "      <td>D50354B13B18FA</td>\n",
       "      <td>D3820B223E4C55</td>\n",
       "      <td>None</td>\n",
       "      <td>None</td>\n",
       "      <td>None</td>\n",
       "      <td>...</td>\n",
       "      <td>None</td>\n",
       "      <td>None</td>\n",
       "      <td>2022-06-08 05:06:00</td>\n",
       "      <td>2024-08-05</td>\n",
       "      <td>D85A5961F8C6E2</td>\n",
       "      <td>MR LUMBAR SPINE WITH AND WITHOUT CONTRAST:  06...</td>\n",
       "      <td>MR LUMBAR SPINE WITH AND WITHOUT CONTRAST</td>\n",
       "      <td>L-spine neoplasm suspected  Lumbar radiculopat...</td>\n",
       "      <td></td>\n",
       "      <td>MSK</td>\n",
       "    </tr>\n",
       "    <tr>\n",
       "      <th>171659</th>\n",
       "      <td>DE16A432286C65</td>\n",
       "      <td>DC4B53B3B85BA4</td>\n",
       "      <td>D58C7B33916F37</td>\n",
       "      <td>D52C82F9FF584C</td>\n",
       "      <td>DA04E1D4594E28</td>\n",
       "      <td>D91D875D70EFBC</td>\n",
       "      <td>D2D03D989E4EB4</td>\n",
       "      <td>None</td>\n",
       "      <td>None</td>\n",
       "      <td>None</td>\n",
       "      <td>...</td>\n",
       "      <td>None</td>\n",
       "      <td>None</td>\n",
       "      <td>2020-04-02 04:05:00</td>\n",
       "      <td>2024-07-28</td>\n",
       "      <td>D58C7B33916F37</td>\n",
       "      <td>US PREGNANCY &lt; 14 WEEKS OB (RADIOLOGY PERFORME...</td>\n",
       "      <td>US PREGNANCY &lt; 14 WEEKS OB (RADIOLOGY PERFORMED)</td>\n",
       "      <td>spotting in early pregnancy</td>\n",
       "      <td>Small volume spotting 1 week ago.</td>\n",
       "      <td>None</td>\n",
       "    </tr>\n",
       "    <tr>\n",
       "      <th>201778</th>\n",
       "      <td>D33976366DCC17</td>\n",
       "      <td>DC7C985786BF03</td>\n",
       "      <td>DC1549DE08530A</td>\n",
       "      <td>DD414998C5DAAB</td>\n",
       "      <td>D0A63EE6E80F1D</td>\n",
       "      <td>DDE6073EFAC92F</td>\n",
       "      <td>DB01813D1C0E18</td>\n",
       "      <td>None</td>\n",
       "      <td>None</td>\n",
       "      <td>None</td>\n",
       "      <td>...</td>\n",
       "      <td>None</td>\n",
       "      <td>None</td>\n",
       "      <td>2019-09-08 03:05:00</td>\n",
       "      <td>2024-07-21</td>\n",
       "      <td>DC1549DE08530A</td>\n",
       "      <td>MR CERVICAL SPINE WITH AND WITHOUT CONTRAST : ...</td>\n",
       "      <td>MR CERVICAL SPINE WITH AND WITHOUT CONTRAST  0...</td>\n",
       "      <td>Ependymoma  No iodinated contrast contraindica...</td>\n",
       "      <td>Treatment History:  1. October 2014: Presented...</td>\n",
       "      <td>MSK</td>\n",
       "    </tr>\n",
       "    <tr>\n",
       "      <th>162472</th>\n",
       "      <td>DD2B372AD32C20</td>\n",
       "      <td>D3080A10C73966</td>\n",
       "      <td>DB712B705D562A</td>\n",
       "      <td>DCAD107018D5F3</td>\n",
       "      <td>DA944E2B29EE63</td>\n",
       "      <td>None</td>\n",
       "      <td>D78EB29DE8A902</td>\n",
       "      <td>None</td>\n",
       "      <td>None</td>\n",
       "      <td>None</td>\n",
       "      <td>...</td>\n",
       "      <td>None</td>\n",
       "      <td>None</td>\n",
       "      <td>2022-10-20 07:06:00</td>\n",
       "      <td>2024-07-26</td>\n",
       "      <td>DB712B705D562A</td>\n",
       "      <td>CT BRAIN WITHOUT CONTRAST:  10/20/2022 7:53 AM...</td>\n",
       "      <td>CT BRAIN WITHOUT CONTRAST</td>\n",
       "      <td>POSSIBLE OSTEOMA</td>\n",
       "      <td></td>\n",
       "      <td>Head</td>\n",
       "    </tr>\n",
       "  </tbody>\n",
       "</table>\n",
       "<p>5179 rows × 32 columns</p>\n",
       "</div>"
      ],
      "text/plain": [
       "         patientepicid patientdurablekey   deid_note_key    deid_note_id  \\\n",
       "192289  DFC1F318D5C202    DAB2C4F4F8B502  DC01C376258351  DD5E7F03730F9E   \n",
       "218024  DFC1F318D5C202    DAB2C4F4F8B502  D7A790BBFB05D5  D1ACA9AF9C0C38   \n",
       "168777  DBF5663B57CAFF    DBCE3F7A3B1347  DF8C4FD2D9B71E  D4292C84EBB0B5   \n",
       "15321   DBF5663B57CAFF    DBCE3F7A3B1347  D92F83561112A8  DB411297BA01E7   \n",
       "64001   DBF5663B57CAFF    DBCE3F7A3B1347  D0F40E73D8616B  D576D98C3FD408   \n",
       "...                ...               ...             ...             ...   \n",
       "206543  DD7DC4FAFE58A0    D966487D0EB461  DCB5B30901D9FC  D15FE88CE55F79   \n",
       "259911  D8378B2FED1830    D71EBF868D31BF  D85A5961F8C6E2  DE673A0BAAB67F   \n",
       "171659  DE16A432286C65    DC4B53B3B85BA4  D58C7B33916F37  D52C82F9FF584C   \n",
       "201778  D33976366DCC17    DC7C985786BF03  DC1549DE08530A  DD414998C5DAAB   \n",
       "162472  DD2B372AD32C20    D3080A10C73966  DB712B705D562A  DCAD107018D5F3   \n",
       "\n",
       "       deid_note_csn_id procedureorderfactid accessionnumber accessionnumber2  \\\n",
       "192289   D21A6411F90443                 None  D7A3854B517269             None   \n",
       "218024   DCDDAB24D6D9E8                 None  D7A3854B517269             None   \n",
       "168777   DD19B225593CDC                 None  D78FEA153219E2             None   \n",
       "15321    D3C66064EF291F                 None  D78FEA153219E2             None   \n",
       "64001    DC5A87FC8362CA                 None  D78FEA153219E2             None   \n",
       "...                 ...                  ...             ...              ...   \n",
       "206543   D82E262BBAB61D       DC446A4073AB16  DE1451AC2CD52B             None   \n",
       "259911   D6CC43905ABAEC       D50354B13B18FA  D3820B223E4C55             None   \n",
       "171659   DA04E1D4594E28       D91D875D70EFBC  D2D03D989E4EB4             None   \n",
       "201778   D0A63EE6E80F1D       DDE6073EFAC92F  DB01813D1C0E18             None   \n",
       "162472   DA944E2B29EE63                 None  D78EB29DE8A902             None   \n",
       "\n",
       "       accessionnumber3 encounterfactid  ... auth_prov_type prov_specialty  \\\n",
       "192289             None            None  ...           None           None   \n",
       "218024             None            None  ...           None           None   \n",
       "168777             None            None  ...           None           None   \n",
       "15321              None            None  ...           None           None   \n",
       "64001              None            None  ...           None           None   \n",
       "...                 ...             ...  ...            ...            ...   \n",
       "206543             None            None  ...           None           None   \n",
       "259911             None            None  ...           None           None   \n",
       "171659             None            None  ...           None           None   \n",
       "201778             None            None  ...           None           None   \n",
       "162472             None            None  ...           None           None   \n",
       "\n",
       "         deid_service_date redact_date deid_note_key_1  \\\n",
       "192289 2023-03-21 13:05:00  2024-08-04  DC01C376258351   \n",
       "218024 2023-03-18 11:09:00  2024-07-25  D7A790BBFB05D5   \n",
       "168777 2023-08-21 12:06:00  2024-07-25  DF8C4FD2D9B71E   \n",
       "15321  2023-08-21 11:07:00  2024-08-05  D92F83561112A8   \n",
       "64001  2023-08-21 10:10:00  2024-07-23  D0F40E73D8616B   \n",
       "...                    ...         ...             ...   \n",
       "206543 2020-04-05 14:05:00  2024-07-22  DCB5B30901D9FC   \n",
       "259911 2022-06-08 05:06:00  2024-08-05  D85A5961F8C6E2   \n",
       "171659 2020-04-02 04:05:00  2024-07-28  D58C7B33916F37   \n",
       "201778 2019-09-08 03:05:00  2024-07-21  DC1549DE08530A   \n",
       "162472 2022-10-20 07:06:00  2024-07-26  DB712B705D562A   \n",
       "\n",
       "                                                note_text  \\\n",
       "192289  MR BRAIN WITH AND WITHOUT CONTRAST:  03/18/202...   \n",
       "218024  MR BRAIN WITH AND WITHOUT CONTRAST:  03/18/202...   \n",
       "168777  MRI BRAIN, MRA BRAIN, MRA NECK - WITHOUT CONTR...   \n",
       "15321   MRI BRAIN, MRA BRAIN, MRA NECK - WITHOUT CONTR...   \n",
       "64001   MRI BRAIN, MRA BRAIN, MRA NECK - WITHOUT CONTR...   \n",
       "...                                                   ...   \n",
       "206543  MR BRAIN WITH AND WITHOUT CONTRAST : 04/04/202...   \n",
       "259911  MR LUMBAR SPINE WITH AND WITHOUT CONTRAST:  06...   \n",
       "171659  US PREGNANCY < 14 WEEKS OB (RADIOLOGY PERFORME...   \n",
       "201778  MR CERVICAL SPINE WITH AND WITHOUT CONTRAST : ...   \n",
       "162472  CT BRAIN WITHOUT CONTRAST:  10/20/2022 7:53 AM...   \n",
       "\n",
       "                                                exam_type  \\\n",
       "192289                 MR BRAIN WITH AND WITHOUT CONTRAST   \n",
       "218024                 MR BRAIN WITH AND WITHOUT CONTRAST   \n",
       "168777  MRI BRAIN, MRA BRAIN, MRA NECK - WITHOUT CONTR...   \n",
       "15321   MRI BRAIN, MRA BRAIN, MRA NECK - WITHOUT CONTR...   \n",
       "64001   MRI BRAIN, MRA BRAIN, MRA NECK - WITHOUT CONTR...   \n",
       "...                                                   ...   \n",
       "206543  MR BRAIN WITH AND WITHOUT CONTRAST  04/04/2020...   \n",
       "259911          MR LUMBAR SPINE WITH AND WITHOUT CONTRAST   \n",
       "171659   US PREGNANCY < 14 WEEKS OB (RADIOLOGY PERFORMED)   \n",
       "201778  MR CERVICAL SPINE WITH AND WITHOUT CONTRAST  0...   \n",
       "162472                          CT BRAIN WITHOUT CONTRAST   \n",
       "\n",
       "                                      original_indication  \\\n",
       "192289  history of craniotomy, has titanium in skull  ...   \n",
       "218024  history of craniotomy, has titanium in skull  ...   \n",
       "168777                                         r/o stroke   \n",
       "15321                                          r/o stroke   \n",
       "64001                                          r/o stroke   \n",
       "...                                                   ...   \n",
       "206543  6 mo. S/P ICH and resection of cavernoma in th...   \n",
       "259911  L-spine neoplasm suspected  Lumbar radiculopat...   \n",
       "171659                        spotting in early pregnancy   \n",
       "201778  Ependymoma  No iodinated contrast contraindica...   \n",
       "162472                                   POSSIBLE OSTEOMA   \n",
       "\n",
       "                                   radiologist_indication body_group  \n",
       "192289  History of 2 craniotomies, has titanium in sku...       Head  \n",
       "218024  History of 2 craniotomies, has titanium in sku...       Head  \n",
       "168777                                  ***** on 08/18/23       Head  \n",
       "15321                                   ***** on 08/18/23       Head  \n",
       "64001                                   ***** on 08/18/23       Head  \n",
       "...                                                   ...        ...  \n",
       "206543                                                          Head  \n",
       "259911                                                           MSK  \n",
       "171659                  Small volume spotting 1 week ago.       None  \n",
       "201778  Treatment History:  1. October 2014: Presented...        MSK  \n",
       "162472                                                          Head  \n",
       "\n",
       "[5179 rows x 32 columns]"
      ]
     },
     "execution_count": 79,
     "metadata": {},
     "output_type": "execute_result"
    }
   ],
   "source": [
    "clinical_indication_dataset.loc[clinical_indication_dataset[\"exam_type\"].notna()]"
   ]
  },
  {
   "cell_type": "code",
   "execution_count": 75,
   "id": "180ae929",
   "metadata": {},
   "outputs": [
    {
     "data": {
      "text/plain": [
       "exam_type\n",
       "MR BRAIN WITH AND WITHOUT CONTRAST                                         918\n",
       "CT BRAIN WITHOUT CONTRAST                                                  789\n",
       "CT SINUSES WITHOUT CONTRAST                                                245\n",
       "CT ABDOMEN/PELVIS WITH CONTRAST                                            224\n",
       "CT NECK WITH CONTRAST                                                      223\n",
       "                                                                          ... \n",
       "CT SINUSES WITHOUT CONTRAST  12/17/2019 403 PM                               1\n",
       "MRI BRAIN, MRA BRAIN - WITHOUT AND WITH CONTRAST                             1\n",
       "CT ANGIOGRAM ABDOMEN/PELVIS WITH AND WITHOUT CONTRAST 11/01/2023 800 AM      1\n",
       "MR THORACIC SPINE WITH AND WITHOUT CONTRAST  03/15/2020 318 PM               1\n",
       "MR CERVICAL SPINE WITH AND WITHOUT CONTRAST  09/07/2019 714 PM               1\n",
       "Name: count, Length: 336, dtype: int64"
      ]
     },
     "execution_count": 75,
     "metadata": {},
     "output_type": "execute_result"
    }
   ],
   "source": [
    "clinical_indication_dataset[\"exam_type\"].value_counts()"
   ]
  },
  {
   "cell_type": "code",
   "execution_count": 62,
   "id": "de0dedbd",
   "metadata": {
    "scrolled": false
   },
   "outputs": [
    {
     "data": {
      "text/plain": [
       "exam_type\n",
       "1.                                                  195\n",
       "CT GUIDED EPIDURAL BLOOD PATCH                       40\n",
       "XR SHUNT EVALUATION                                  15\n",
       "CT ESOPHAGRAM                                        13\n",
       "CT GUIDED SYNOVIAL FLUID ASPIRATION OR INJECTION     12\n",
       "                                                   ... \n",
       "XR HUMERUS 2 VIEWS, LEFT, XR ELBOW 2 VIEWS, LEFT      1\n",
       "MRI Pelvis without and with contrast                  1\n",
       "MR WRIST WITH AND WITHOUT CONTRAST, RIGHT             1\n",
       "CT GUIDED FIBRIN GLUE and EPIDURAL BLOOD PATCH        1\n",
       "MR IAC WITH AND WITHOUT CONTRAST                      1\n",
       "Name: count, Length: 118, dtype: int64"
      ]
     },
     "execution_count": 62,
     "metadata": {},
     "output_type": "execute_result"
    }
   ],
   "source": [
    "clinical_indication_dataset[clinical_indication_dataset[\"body_group\"] == \"None\"][\"exam_type\"].value_counts()"
   ]
  }
 ],
 "metadata": {
  "kernelspec": {
   "display_name": "report_gen",
   "language": "python",
   "name": "report_gen"
  },
  "language_info": {
   "codemirror_mode": {
    "name": "ipython",
    "version": 3
   },
   "file_extension": ".py",
   "mimetype": "text/x-python",
   "name": "python",
   "nbconvert_exporter": "python",
   "pygments_lexer": "ipython3",
   "version": "3.10.9"
  }
 },
 "nbformat": 4,
 "nbformat_minor": 5
}
