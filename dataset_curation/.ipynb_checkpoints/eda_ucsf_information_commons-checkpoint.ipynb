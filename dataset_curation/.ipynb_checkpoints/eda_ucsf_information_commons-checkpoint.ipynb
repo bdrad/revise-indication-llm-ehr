{
 "cells": [
  {
   "cell_type": "code",
   "execution_count": 1,
   "id": "73f318b8",
   "metadata": {},
   "outputs": [
    {
     "name": "stderr",
     "output_type": "stream",
     "text": [
      "/home/bdrad/miniconda3/envs/report_gen/lib/python3.10/site-packages/pandas/core/arrays/masked.py:60: UserWarning: Pandas requires version '1.3.6' or newer of 'bottleneck' (version '1.3.5' currently installed).\n",
      "  from pandas.core import (\n"
     ]
    }
   ],
   "source": [
    "import os\n",
    "import pandas as pd\n",
    "import tqdm\n",
    "import regex as re\n",
    "\n",
    "RANDOM_STATE = 123"
   ]
  },
  {
   "cell_type": "code",
   "execution_count": 2,
   "id": "c5504ea8",
   "metadata": {},
   "outputs": [],
   "source": [
    "def categorize_body_group(exam_type):\n",
    "    categories = {\n",
    "        \"Head\": [\"HEAD\", \"BRAIN\", \"STROKE PROTOCOL\", \"NEURO\"],\n",
    "        \"Abdomen/Pelvis\": [\"ABDOMEN\", \"PELVIS\", \"PROSTATE\", \"RENAL\", \"MRCP\", \"UROGRAM\"],\n",
    "        \"MSK\": [\"KNEE\", \"HIP\", \"SHOULDER\", \"EXTREMITY\", \"SPINE\", \"LUMBAR\", \n",
    "                \"CERVICAL\", \"SCOLIOSIS\", \"JOINT\"],\n",
    "        \"Chest\": [\"CHEST\", \"CARDIAC\", \"PULMONARY EMBOLISM\", \"CTA\", \"HEART\"],\n",
    "        \"Neck\": [\"FACE\", \"NECK\", \"CRANIOFACIAL\", \"MAXILLOFACIAL\", \"ORBIT\", \"TEMPORAL BONE\", \n",
    "                 \"SINUS\", \"THYROID\", \"MANDIBLE\", \"SKULL\"]\n",
    "    }\n",
    "    \n",
    "    for category, keywords in categories.items():\n",
    "        if any(keyword in exam_type for keyword in keywords):\n",
    "            return category\n",
    "    return \"Other\"\n",
    "\n",
    "def categorize_imaging_modality(exam_type):\n",
    "    categories = {\n",
    "        \"MRI\": [\"MR\", \"MRI\"],\n",
    "        \"CT\": [\"CT\", \"CTA\"],\n",
    "        \"XR\": [\"XR\"],\n",
    "        \"US\": [\"US\"]\n",
    "    }\n",
    "    \n",
    "    for category, keywords in categories.items():\n",
    "        if any(keyword in exam_type for keyword in keywords):\n",
    "            return category\n",
    "    return \"Other\""
   ]
  },
  {
   "cell_type": "markdown",
   "id": "d46ffe31",
   "metadata": {},
   "source": [
    "# LLM Balanced Test Dataset"
   ]
  },
  {
   "cell_type": "code",
   "execution_count": 48,
   "id": "316e064e",
   "metadata": {},
   "outputs": [],
   "source": [
    "llm_balanced_test_dataset = pd.read_parquet(\"llm_balanced_test_dataset.parquet\")"
   ]
  },
  {
   "cell_type": "code",
   "execution_count": 49,
   "id": "f7a43764",
   "metadata": {},
   "outputs": [
    {
     "data": {
      "text/plain": [
       "2350575"
      ]
     },
     "execution_count": 49,
     "metadata": {},
     "output_type": "execute_result"
    }
   ],
   "source": [
    "len(llm_balanced_test_dataset)"
   ]
  },
  {
   "cell_type": "code",
   "execution_count": 50,
   "id": "cad3055c",
   "metadata": {},
   "outputs": [
    {
     "data": {
      "text/plain": [
       "8695"
      ]
     },
     "execution_count": 50,
     "metadata": {},
     "output_type": "execute_result"
    }
   ],
   "source": [
    "llm_balanced_test_dataset[\"patientdurablekey\"].nunique()"
   ]
  },
  {
   "cell_type": "code",
   "execution_count": 52,
   "id": "2e9e5f45",
   "metadata": {},
   "outputs": [
    {
     "data": {
      "text/plain": [
       "10000"
      ]
     },
     "execution_count": 52,
     "metadata": {},
     "output_type": "execute_result"
    }
   ],
   "source": [
    "len(llm_balanced_test_dataset[~llm_balanced_test_dataset[\"exam_type\"].isna()])"
   ]
  },
  {
   "cell_type": "code",
   "execution_count": 55,
   "id": "ef04549c",
   "metadata": {},
   "outputs": [
    {
     "data": {
      "text/plain": [
       "body_group\n",
       "Abdomen/Pelvis    2000\n",
       "Chest             2000\n",
       "Head              2000\n",
       "MSK               2000\n",
       "Neck              2000\n",
       "Name: count, dtype: int64"
      ]
     },
     "execution_count": 55,
     "metadata": {},
     "output_type": "execute_result"
    }
   ],
   "source": [
    "llm_balanced_test_dataset[\"body_group\"].value_counts()"
   ]
  },
  {
   "cell_type": "code",
   "execution_count": 51,
   "id": "e1c0ccc8",
   "metadata": {},
   "outputs": [
    {
     "data": {
      "text/plain": [
       "imaging_modality\n",
       "CT     6960\n",
       "MRI    2853\n",
       "US      125\n",
       "XR       62\n",
       "Name: count, dtype: int64"
      ]
     },
     "execution_count": 51,
     "metadata": {},
     "output_type": "execute_result"
    }
   ],
   "source": [
    "llm_balanced_test_dataset[\"imaging_modality\"].value_counts()"
   ]
  },
  {
   "cell_type": "code",
   "execution_count": 53,
   "id": "6e5f8e7e",
   "metadata": {},
   "outputs": [
    {
     "data": {
      "text/plain": [
       "imaging_modality\n",
       "CT     69.60\n",
       "MRI    28.53\n",
       "US      1.25\n",
       "XR      0.62\n",
       "Name: proportion, dtype: float64"
      ]
     },
     "execution_count": 53,
     "metadata": {},
     "output_type": "execute_result"
    }
   ],
   "source": [
    "llm_balanced_test_dataset[\"imaging_modality\"].value_counts(normalize=True)*100"
   ]
  },
  {
   "cell_type": "code",
   "execution_count": null,
   "id": "8c7aefcb",
   "metadata": {},
   "outputs": [],
   "source": [
    "llm_balanced_test_dataset_processed = pd.read_parquet(\"llm_balanced_test_dataset_processed.parquet\")"
   ]
  },
  {
   "cell_type": "code",
   "execution_count": 11,
   "id": "3ba74773",
   "metadata": {},
   "outputs": [
    {
     "data": {
      "text/plain": [
       "98298"
      ]
     },
     "execution_count": 11,
     "metadata": {},
     "output_type": "execute_result"
    }
   ],
   "source": [
    "llm_balanced_test_dataset_processed[\"note_texts_full\"].apply(len).sum() + len(llm_balanced_test_dataset_processed)"
   ]
  },
  {
   "cell_type": "markdown",
   "id": "3079e6a8",
   "metadata": {},
   "source": [
    "# Clinical Indication Dataset without Redactions"
   ]
  },
  {
   "cell_type": "code",
   "execution_count": 12,
   "id": "7ac97a39",
   "metadata": {},
   "outputs": [
    {
     "name": "stderr",
     "output_type": "stream",
     "text": [
      "100%|█████████████████████████████████████████████████████████████████████████████| 6/6 [02:54<00:00, 29.06s/it]\n"
     ]
    }
   ],
   "source": [
    "clinical_indication_dataset_redactions = []\n",
    "for i in tqdm.tqdm(range(1, 7)):\n",
    "    clinical_indication_dataset_redactions.append(pd.read_parquet(f\"clinical_indication_dataset_without_redactions_shard{i}.parquet\"))\n",
    "clinical_indication_dataset_redactions = pd.concat(clinical_indication_dataset_redactions)"
   ]
  },
  {
   "cell_type": "code",
   "execution_count": 13,
   "id": "f264edbb",
   "metadata": {},
   "outputs": [
    {
     "data": {
      "text/plain": [
       "6382247"
      ]
     },
     "execution_count": 13,
     "metadata": {},
     "output_type": "execute_result"
    }
   ],
   "source": [
    "len(clinical_indication_dataset_redactions)"
   ]
  },
  {
   "cell_type": "code",
   "execution_count": 14,
   "id": "798d1ff5",
   "metadata": {},
   "outputs": [
    {
     "data": {
      "text/plain": [
       "34543"
      ]
     },
     "execution_count": 14,
     "metadata": {},
     "output_type": "execute_result"
    }
   ],
   "source": [
    "clinical_indication_dataset_redactions[\"patientdurablekey\"].nunique()"
   ]
  },
  {
   "cell_type": "code",
   "execution_count": 16,
   "id": "bf83b54e",
   "metadata": {
    "scrolled": true
   },
   "outputs": [
    {
     "data": {
      "text/plain": [
       "61051"
      ]
     },
     "execution_count": 16,
     "metadata": {},
     "output_type": "execute_result"
    }
   ],
   "source": [
    "len(clinical_indication_dataset_redactions[~clinical_indication_dataset_redactions[\"exam_type\"].isna()])"
   ]
  },
  {
   "cell_type": "code",
   "execution_count": 17,
   "id": "eb65a183",
   "metadata": {},
   "outputs": [],
   "source": [
    "clinical_indication_dataset_redactions.loc[clinical_indication_dataset_redactions[\"exam_type\"].notna(), \"body_group\"] = clinical_indication_dataset_redactions.loc[clinical_indication_dataset_redactions[\"exam_type\"].notna()][\"exam_type\"].apply(categorize_body_group)\n",
    "clinical_indication_dataset_redactions.loc[clinical_indication_dataset_redactions[\"exam_type\"].notna(), \"imaging_modality\"] = clinical_indication_dataset_redactions.loc[clinical_indication_dataset_redactions[\"exam_type\"].notna()][\"exam_type\"].apply(categorize_imaging_modality)"
   ]
  },
  {
   "cell_type": "code",
   "execution_count": 18,
   "id": "24a72419",
   "metadata": {},
   "outputs": [
    {
     "data": {
      "text/plain": [
       "body_group\n",
       "Head              36598\n",
       "MSK                8312\n",
       "Neck               7786\n",
       "Abdomen/Pelvis     4199\n",
       "Chest              3422\n",
       "Other               734\n",
       "Name: count, dtype: int64"
      ]
     },
     "execution_count": 18,
     "metadata": {},
     "output_type": "execute_result"
    }
   ],
   "source": [
    "clinical_indication_dataset_redactions[\"body_group\"].value_counts()"
   ]
  },
  {
   "cell_type": "code",
   "execution_count": 20,
   "id": "e1baf942",
   "metadata": {},
   "outputs": [
    {
     "data": {
      "text/plain": [
       "imaging_modality\n",
       "CT       33067\n",
       "MRI      26902\n",
       "US         447\n",
       "Other      384\n",
       "XR         251\n",
       "Name: count, dtype: int64"
      ]
     },
     "execution_count": 20,
     "metadata": {},
     "output_type": "execute_result"
    }
   ],
   "source": [
    "clinical_indication_dataset_redactions[\"imaging_modality\"].value_counts()"
   ]
  },
  {
   "cell_type": "markdown",
   "id": "6f07e0d0",
   "metadata": {},
   "source": [
    "# Reader Study"
   ]
  },
  {
   "cell_type": "code",
   "execution_count": 56,
   "id": "53d9489b",
   "metadata": {},
   "outputs": [],
   "source": [
    "NUM_PER_BODY_GROUP = 24\n",
    "\n",
    "radiology_reports = clinical_indication_dataset_redactions[\n",
    "    (~clinical_indication_dataset_redactions[\"exam_type\"].isna()) & \n",
    "    (clinical_indication_dataset_redactions[\"body_group\"] != \"Other\")\n",
    "]\n",
    "reader_study_sampled_reports = radiology_reports.groupby('body_group').sample(n=NUM_PER_BODY_GROUP, random_state=RANDOM_STATE)"
   ]
  },
  {
   "cell_type": "code",
   "execution_count": 57,
   "id": "e83e1f0c",
   "metadata": {},
   "outputs": [
    {
     "name": "stderr",
     "output_type": "stream",
     "text": [
      "100%|█████████████████████████████████████████████████████████████████████████| 120/120 [00:37<00:00,  3.21it/s]"
     ]
    },
    {
     "name": "stdout",
     "output_type": "stream",
     "text": [
      "Clinical Reader Study Model Evaluation Dataset\n",
      "====================\n",
      "n_notes 26404\n",
      "n_patients 120\n",
      "n_radiology reports 120\n"
     ]
    },
    {
     "name": "stderr",
     "output_type": "stream",
     "text": [
      "\n"
     ]
    }
   ],
   "source": [
    "reader_study_total_dataset = []\n",
    "for i in tqdm.tqdm(range(len(reader_study_sampled_reports))):\n",
    "    radiology_report = reader_study_sampled_reports.iloc[i]\n",
    "    patient_mrn = radiology_report[\"patientdurablekey\"]\n",
    "    patient_notes = clinical_indication_dataset_redactions[clinical_indication_dataset_redactions[\"patientdurablekey\"] == patient_mrn].copy()    \n",
    "    filtered_patient_notes = patient_notes[\n",
    "        (patient_notes[\"deid_service_date\"] < radiology_report[\"deid_service_date\"]) & \n",
    "        (patient_notes[\"note_type\"] != \"Imaging\")\n",
    "    ].sort_values(by=[\"deid_service_date\"], ascending=False).reset_index(drop=True)\n",
    "    reader_study_total_dataset.append(radiology_report.to_frame().T)\n",
    "    reader_study_total_dataset.append(filtered_patient_notes)\n",
    "\n",
    "reader_study_total_dataset = pd.concat(reader_study_total_dataset)\n",
    "\n",
    "print(\"Clinical Reader Study Model Evaluation Dataset\")\n",
    "print(\"=\"*20)\n",
    "print(\"n_notes\", len(reader_study_total_dataset))\n",
    "print(\"n_patients\", reader_study_total_dataset[\"patientdurablekey\"].nunique())\n",
    "print(\"n_radiology reports\", len(reader_study_total_dataset[~reader_study_total_dataset[\"exam_type\"].isna()]))"
   ]
  },
  {
   "cell_type": "code",
   "execution_count": 69,
   "id": "16205cce",
   "metadata": {},
   "outputs": [],
   "source": [
    "reader_study_calibration_dataset_reports = reader_study_sampled_reports.groupby('body_group').sample(n=4, random_state=RANDOM_STATE)\n",
    "reader_study_evaluation_dataset_reports = reader_study_sampled_reports.drop(reader_study_calibration_dataset_reports.index).groupby('body_group').sample(n=20, random_state=RANDOM_STATE)"
   ]
  },
  {
   "cell_type": "code",
   "execution_count": 70,
   "id": "588ec5a2",
   "metadata": {},
   "outputs": [
    {
     "name": "stdout",
     "output_type": "stream",
     "text": [
      "body_group\n",
      "Abdomen/Pelvis    4\n",
      "Chest             4\n",
      "Head              4\n",
      "MSK               4\n",
      "Neck              4\n",
      "Name: count, dtype: int64\n",
      "imaging_modality\n",
      "CT     18\n",
      "MRI     2\n",
      "Name: count, dtype: int64\n"
     ]
    }
   ],
   "source": [
    "print(reader_study_calibration_dataset_reports[\"body_group\"].value_counts())\n",
    "print(reader_study_calibration_dataset_reports[\"imaging_modality\"].value_counts())"
   ]
  },
  {
   "cell_type": "code",
   "execution_count": 71,
   "id": "33d18164",
   "metadata": {},
   "outputs": [
    {
     "name": "stdout",
     "output_type": "stream",
     "text": [
      "body_group\n",
      "Abdomen/Pelvis    20\n",
      "Chest             20\n",
      "Head              20\n",
      "MSK               20\n",
      "Neck              20\n",
      "Name: count, dtype: int64\n",
      "imaging_modality\n",
      "CT     77\n",
      "MRI    20\n",
      "XR      2\n",
      "US      1\n",
      "Name: count, dtype: int64\n"
     ]
    }
   ],
   "source": [
    "print(reader_study_evaluation_dataset_reports[\"body_group\"].value_counts())\n",
    "print(reader_study_evaluation_dataset_reports[\"imaging_modality\"].value_counts())"
   ]
  },
  {
   "cell_type": "code",
   "execution_count": 72,
   "id": "6e002450",
   "metadata": {},
   "outputs": [
    {
     "name": "stderr",
     "output_type": "stream",
     "text": [
      "100%|█████████████████████████████████████████████████████████████████████████| 100/100 [00:30<00:00,  3.23it/s]"
     ]
    },
    {
     "name": "stdout",
     "output_type": "stream",
     "text": [
      "Clinical Reader Study Model Evaluation Dataset\n",
      "====================\n",
      "n_notes 22233\n",
      "n_patients 100\n",
      "n_radiology reports 100\n"
     ]
    },
    {
     "name": "stderr",
     "output_type": "stream",
     "text": [
      "\n"
     ]
    }
   ],
   "source": [
    "reader_study_evaluation_dataset = []\n",
    "for i in tqdm.tqdm(range(len(reader_study_evaluation_dataset_reports))):\n",
    "    radiology_report = reader_study_evaluation_dataset_reports.iloc[i]\n",
    "    patient_mrn = radiology_report[\"patientdurablekey\"]\n",
    "    patient_notes = clinical_indication_dataset_redactions[clinical_indication_dataset_redactions[\"patientdurablekey\"] == patient_mrn].copy()    \n",
    "    filtered_patient_notes = patient_notes[\n",
    "        (patient_notes[\"deid_service_date\"] < radiology_report[\"deid_service_date\"]) & \n",
    "        (patient_notes[\"note_type\"] != \"Imaging\")\n",
    "    ].sort_values(by=[\"deid_service_date\"], ascending=False).reset_index(drop=True)\n",
    "    reader_study_evaluation_dataset.append(radiology_report.to_frame().T)\n",
    "    reader_study_evaluation_dataset.append(filtered_patient_notes)\n",
    "\n",
    "reader_study_evaluation_dataset = pd.concat(reader_study_evaluation_dataset)\n",
    "\n",
    "print(\"Clinical Reader Study Model Evaluation Dataset\")\n",
    "print(\"=\"*20)\n",
    "print(\"n_notes\", len(reader_study_evaluation_dataset))\n",
    "print(\"n_patients\", reader_study_evaluation_dataset[\"patientdurablekey\"].nunique())\n",
    "print(\"n_radiology reports\", len(reader_study_evaluation_dataset[~reader_study_evaluation_dataset[\"exam_type\"].isna()]))"
   ]
  },
  {
   "cell_type": "code",
   "execution_count": 73,
   "id": "9e46a99c",
   "metadata": {},
   "outputs": [
    {
     "name": "stderr",
     "output_type": "stream",
     "text": [
      "100%|███████████████████████████████████████████████████████████████████████████| 20/20 [00:06<00:00,  3.29it/s]"
     ]
    },
    {
     "name": "stdout",
     "output_type": "stream",
     "text": [
      "Clinical Reader Study Rater Calibration Dataset\n",
      "====================\n",
      "n_notes 4171\n",
      "n_patients 20\n",
      "n_radiology reports 20\n"
     ]
    },
    {
     "name": "stderr",
     "output_type": "stream",
     "text": [
      "\n"
     ]
    }
   ],
   "source": [
    "reader_study_calibration_dataset = []\n",
    "for i in tqdm.tqdm(range(len(reader_study_calibration_dataset_reports))):\n",
    "    radiology_report = reader_study_calibration_dataset_reports.iloc[i]\n",
    "    patient_mrn = radiology_report[\"patientdurablekey\"]\n",
    "    patient_notes = clinical_indication_dataset_redactions[clinical_indication_dataset_redactions[\"patientdurablekey\"] == patient_mrn].copy()    \n",
    "    filtered_patient_notes = patient_notes[\n",
    "        (patient_notes[\"deid_service_date\"] < radiology_report[\"deid_service_date\"]) & \n",
    "        (patient_notes[\"note_type\"] != \"Imaging\")\n",
    "    ].sort_values(by=[\"deid_service_date\"], ascending=False).reset_index(drop=True)\n",
    "    reader_study_calibration_dataset.append(radiology_report.to_frame().T)\n",
    "    reader_study_calibration_dataset.append(filtered_patient_notes)\n",
    "\n",
    "reader_study_calibration_dataset = pd.concat(reader_study_calibration_dataset)\n",
    "\n",
    "print(\"Clinical Reader Study Rater Calibration Dataset\")\n",
    "print(\"=\"*20)\n",
    "print(\"n_notes\", len(reader_study_calibration_dataset))\n",
    "print(\"n_patients\", reader_study_calibration_dataset[\"patientdurablekey\"].nunique())\n",
    "print(\"n_radiology reports\", len(reader_study_calibration_dataset[~reader_study_calibration_dataset[\"exam_type\"].isna()]))"
   ]
  },
  {
   "cell_type": "code",
   "execution_count": 74,
   "id": "d40bcfa0",
   "metadata": {},
   "outputs": [],
   "source": [
    "def generate_note_title(enc_dept_name, note_type, auth_prov_type, deid_service_date):\n",
    "    if enc_dept_name and note_type and auth_prov_type and deid_service_date:\n",
    "        return f\"{enc_dept_name} - {note_type} ({auth_prov_type}) | {deid_service_date}\"\n",
    "    elif enc_dept_name and note_type and deid_service_date:\n",
    "        return f\"{enc_dept_name} - {note_type} | {deid_service_date}\"\n",
    "    elif note_type and deid_service_date:\n",
    "        return f\"{note_type} | {deid_service_date}\"\n",
    "    elif deid_service_date:\n",
    "        return f\"Clinical Note | {deid_service_date}\"\n",
    "    return f\"Clinical Note\""
   ]
  },
  {
   "cell_type": "code",
   "execution_count": 75,
   "id": "1f519864",
   "metadata": {},
   "outputs": [
    {
     "name": "stderr",
     "output_type": "stream",
     "text": [
      "100%|███████████████████████████████████████████████████████████████████████████| 20/20 [00:06<00:00,  3.08it/s]\n"
     ]
    }
   ],
   "source": [
    "NUM_NOTES = 10\n",
    "reader_study_calibration_dataset_processed = pd.DataFrame(columns=[\n",
    "    \"patientdurablekey\",\n",
    "    \"exam_type\",\n",
    "    \"imaging_modality\",\n",
    "    \"body_group\",\n",
    "    \"report_text\",\n",
    "    \"original_indication\",\n",
    "    \"radiologist_indication\",\n",
    "    \"enc_dept_names\",\n",
    "    \"note_types\",\n",
    "    \"auth_prov_types\",\n",
    "    \"deid_service_dates\",\n",
    "    \"note_titles\",\n",
    "    \"note_texts\",\n",
    "    \"note_texts_full\"\n",
    "])\n",
    "for i in tqdm.tqdm(range(len(reader_study_calibration_dataset_reports))):\n",
    "    radiology_report = reader_study_calibration_dataset_reports.iloc[i]\n",
    "    patient_mrn = radiology_report[\"patientdurablekey\"]\n",
    "    patient_notes = clinical_indication_dataset_redactions[clinical_indication_dataset_redactions[\"patientdurablekey\"] == patient_mrn].copy()    \n",
    "    filtered_patient_notes = patient_notes[\n",
    "        (patient_notes[\"deid_service_date\"] < radiology_report[\"deid_service_date\"]) & \n",
    "        (patient_notes[\"note_type\"] != \"Imaging\")\n",
    "    ].sort_values(by=[\"deid_service_date\"], ascending=False).reset_index(drop=True)\n",
    "    filtered_patient_notes['note_title'] = filtered_patient_notes.apply(lambda row: generate_note_title(\n",
    "        row['enc_dept_name'], row['note_type'], row['auth_prov_type'], row['deid_service_date']\n",
    "    ), axis=1)\n",
    "    enc_dept_names = filtered_patient_notes[:NUM_NOTES][[\"enc_dept_name\"]].squeeze().tolist()\n",
    "    note_types = filtered_patient_notes[:NUM_NOTES][[\"note_type\"]].squeeze().tolist()\n",
    "    auth_prov_types = filtered_patient_notes[:NUM_NOTES][[\"auth_prov_type\"]].squeeze().tolist()\n",
    "    deid_service_dates = filtered_patient_notes[:NUM_NOTES][[\"deid_service_date\"]].squeeze().tolist()\n",
    "    note_titles = filtered_patient_notes[:NUM_NOTES][[\"note_title\"]].squeeze().tolist()\n",
    "    note_texts = filtered_patient_notes[:NUM_NOTES][[\"note_text\"]].squeeze().tolist()\n",
    "    note_texts_full = filtered_patient_notes[[\"note_text\"]].squeeze().tolist()\n",
    "\n",
    "    row = {\n",
    "        \"patientdurablekey\": radiology_report[\"patientdurablekey\"],\n",
    "        \"exam_type\": radiology_report[\"exam_type\"],\n",
    "        \"imaging_modality\": radiology_report[\"imaging_modality\"],\n",
    "        \"body_group\": radiology_report[\"body_group\"],\n",
    "        \"report_text\": radiology_report[\"note_text\"],\n",
    "        \"original_indication\": radiology_report[\"original_indication\"],\n",
    "        \"radiologist_indication\": radiology_report[\"radiologist_indication\"],\n",
    "        \"enc_dept_names\": enc_dept_names,\n",
    "        \"note_types\": note_types,\n",
    "        \"auth_prov_types\": auth_prov_types,\n",
    "        \"deid_service_dates\": deid_service_dates,\n",
    "        \"note_titles\": note_titles,\n",
    "        \"note_texts\": note_texts,\n",
    "        \"note_texts_full\": note_texts_full\n",
    "    }\n",
    "    reader_study_calibration_dataset_processed.loc[\n",
    "        len(reader_study_calibration_dataset_processed)\n",
    "    ] = row\n",
    "reader_study_calibration_dataset_processed.to_parquet(\"reader_study_calibration_dataset_processed.parquet\")"
   ]
  },
  {
   "cell_type": "code",
   "execution_count": 76,
   "id": "8274da4a",
   "metadata": {},
   "outputs": [
    {
     "data": {
      "text/html": [
       "<div>\n",
       "<style scoped>\n",
       "    .dataframe tbody tr th:only-of-type {\n",
       "        vertical-align: middle;\n",
       "    }\n",
       "\n",
       "    .dataframe tbody tr th {\n",
       "        vertical-align: top;\n",
       "    }\n",
       "\n",
       "    .dataframe thead th {\n",
       "        text-align: right;\n",
       "    }\n",
       "</style>\n",
       "<table border=\"1\" class=\"dataframe\">\n",
       "  <thead>\n",
       "    <tr style=\"text-align: right;\">\n",
       "      <th></th>\n",
       "      <th>patientdurablekey</th>\n",
       "      <th>exam_type</th>\n",
       "      <th>imaging_modality</th>\n",
       "      <th>body_group</th>\n",
       "      <th>report_text</th>\n",
       "      <th>original_indication</th>\n",
       "      <th>radiologist_indication</th>\n",
       "      <th>enc_dept_names</th>\n",
       "      <th>note_types</th>\n",
       "      <th>auth_prov_types</th>\n",
       "      <th>deid_service_dates</th>\n",
       "      <th>note_titles</th>\n",
       "      <th>note_texts</th>\n",
       "      <th>note_texts_full</th>\n",
       "    </tr>\n",
       "  </thead>\n",
       "  <tbody>\n",
       "    <tr>\n",
       "      <th>0</th>\n",
       "      <td>D6180CD2E0466F</td>\n",
       "      <td>CT ABDOMEN/PELVIS WITH CONTRAST</td>\n",
       "      <td>CT</td>\n",
       "      <td>Abdomen/Pelvis</td>\n",
       "      <td>CT ABDOMEN/PELVIS WITH CONTRAST    09/05/2017 ...</td>\n",
       "      <td>Abdominal pain, left sided, diarrhea and ? fever.</td>\n",
       "      <td>history of smoking</td>\n",
       "      <td>[EMERGENCY DEPT PARN, ZZZOPHTH CORNEA PARN, ZZ...</td>\n",
       "      <td>[ED Provider Notes, Progress Notes, Assessment...</td>\n",
       "      <td>[Physician, Physician, Physician, Physician, P...</td>\n",
       "      <td>[2017-09-05 15:50:00, 2017-04-11 00:00:00, 201...</td>\n",
       "      <td>[EMERGENCY DEPT PARN - ED Provider Notes (Phys...</td>\n",
       "      <td>[  ED First Attending       History     Chief ...</td>\n",
       "      <td>[  ED First Attending       History     Chief ...</td>\n",
       "    </tr>\n",
       "    <tr>\n",
       "      <th>1</th>\n",
       "      <td>D467EBAF5821FB</td>\n",
       "      <td>CT ABDOMEN/PELVIS WITH AND WITHOUT CONTRAST QU...</td>\n",
       "      <td>CT</td>\n",
       "      <td>Abdomen/Pelvis</td>\n",
       "      <td>CT ABDOMEN/PELVIS WITH AND WITHOUT CONTRAST QU...</td>\n",
       "      <td>leukocytosis eval for GI infection, new cirrho...</td>\n",
       "      <td>History of chronic alcohol abuse, and TBI in 2...</td>\n",
       "      <td>[11NE NICU, 11NE NICU, 11NE NICU, 11NE NICU, 1...</td>\n",
       "      <td>[Consults, Progress Notes, Interdisciplinary, ...</td>\n",
       "      <td>[Pharmacist, Physician, Social Worker, Physici...</td>\n",
       "      <td>[2017-11-29 16:46:00, 2017-11-29 15:26:00, 201...</td>\n",
       "      <td>[11NE NICU - Consults (Pharmacist) | 2017-11-2...</td>\n",
       "      <td>[    ANTIMICROBIAL STEWARDSHIP CONSULT     Thi...</td>\n",
       "      <td>[    ANTIMICROBIAL STEWARDSHIP CONSULT     Thi...</td>\n",
       "    </tr>\n",
       "    <tr>\n",
       "      <th>2</th>\n",
       "      <td>DF0FE5DDF1E041</td>\n",
       "      <td>CT ABDOMEN/PELVIS WITH CONTRAST</td>\n",
       "      <td>CT</td>\n",
       "      <td>Abdomen/Pelvis</td>\n",
       "      <td>CT ABDOMEN/PELVIS WITH CONTRAST    01/12/2024 ...</td>\n",
       "      <td>vomiting.</td>\n",
       "      <td>Atrial fibrillation, renal cell carcinoma stat...</td>\n",
       "      <td>[EMERGENCY DEPT PARN, EMERGENCY DEPT PARN, EME...</td>\n",
       "      <td>[Discharge Instructions, Progress Notes, H&amp;P, ...</td>\n",
       "      <td>[Resident, Resident, Resident, Resident, Regis...</td>\n",
       "      <td>[2024-01-12 10:54:00, 2024-01-12 09:36:00, 202...</td>\n",
       "      <td>[EMERGENCY DEPT PARN - Discharge Instructions ...</td>\n",
       "      <td>[You were seen in the ER for evaluation of nau...</td>\n",
       "      <td>[You were seen in the ER for evaluation of nau...</td>\n",
       "    </tr>\n",
       "    <tr>\n",
       "      <th>3</th>\n",
       "      <td>D030EA8C4DC22D</td>\n",
       "      <td>CT ABDOMEN/PELVIS WITH AND WITHOUT CONTRAST QU...</td>\n",
       "      <td>CT</td>\n",
       "      <td>Abdomen/Pelvis</td>\n",
       "      <td>CT ABDOMEN/PELVIS WITH AND WITHOUT CONTRAST QU...</td>\n",
       "      <td>metastatic sigmoid colon ca to liver</td>\n",
       "      <td>Hepatic arterial infusion pump planning.</td>\n",
       "      <td>[GI SURG ONC MB 4, ZZZGENERIC EXTERNAL DATA DE...</td>\n",
       "      <td>[Progress Notes, H&amp;P, Progress Notes, Progress...</td>\n",
       "      <td>[Nurse Practitioner, None, None, None, None, N...</td>\n",
       "      <td>[2023-11-18 00:00:00, 2023-11-18 00:00:00, 202...</td>\n",
       "      <td>[GI SURG ONC MB 4 - Progress Notes (Nurse Prac...</td>\n",
       "      <td>[GI Surgical Oncology     Follow Up    Referri...</td>\n",
       "      <td>[GI Surgical Oncology     Follow Up    Referri...</td>\n",
       "    </tr>\n",
       "    <tr>\n",
       "      <th>4</th>\n",
       "      <td>DB5F48897682E7</td>\n",
       "      <td>CT ANGIOGRAM CHEST</td>\n",
       "      <td>CT</td>\n",
       "      <td>Chest</td>\n",
       "      <td>CT ANGIOGRAM CHEST    04/17/2023 8:56 PM    CL...</td>\n",
       "      <td>Chest pain radiating to the back, evaluate for...</td>\n",
       "      <td>PMH of CAD s/p 2-vessel CABG in 2019</td>\n",
       "      <td>[EMERGENCY DEPT PARN, EMERGENCY DEPT PARN, EME...</td>\n",
       "      <td>[Discharge Instructions, ED Provider Notes, ED...</td>\n",
       "      <td>[Resident, Resident, Physician Assistant, Resi...</td>\n",
       "      <td>[2023-04-17 22:35:00, 2023-04-17 16:50:00, 202...</td>\n",
       "      <td>[EMERGENCY DEPT PARN - Discharge Instructions ...</td>\n",
       "      <td>[You were evaluated in the Emergency Departmen...</td>\n",
       "      <td>[You were evaluated in the Emergency Departmen...</td>\n",
       "    </tr>\n",
       "  </tbody>\n",
       "</table>\n",
       "</div>"
      ],
      "text/plain": [
       "  patientdurablekey                                          exam_type  \\\n",
       "0    D6180CD2E0466F                    CT ABDOMEN/PELVIS WITH CONTRAST   \n",
       "1    D467EBAF5821FB  CT ABDOMEN/PELVIS WITH AND WITHOUT CONTRAST QU...   \n",
       "2    DF0FE5DDF1E041                    CT ABDOMEN/PELVIS WITH CONTRAST   \n",
       "3    D030EA8C4DC22D  CT ABDOMEN/PELVIS WITH AND WITHOUT CONTRAST QU...   \n",
       "4    DB5F48897682E7                                 CT ANGIOGRAM CHEST   \n",
       "\n",
       "  imaging_modality      body_group  \\\n",
       "0               CT  Abdomen/Pelvis   \n",
       "1               CT  Abdomen/Pelvis   \n",
       "2               CT  Abdomen/Pelvis   \n",
       "3               CT  Abdomen/Pelvis   \n",
       "4               CT           Chest   \n",
       "\n",
       "                                         report_text  \\\n",
       "0  CT ABDOMEN/PELVIS WITH CONTRAST    09/05/2017 ...   \n",
       "1  CT ABDOMEN/PELVIS WITH AND WITHOUT CONTRAST QU...   \n",
       "2  CT ABDOMEN/PELVIS WITH CONTRAST    01/12/2024 ...   \n",
       "3  CT ABDOMEN/PELVIS WITH AND WITHOUT CONTRAST QU...   \n",
       "4  CT ANGIOGRAM CHEST    04/17/2023 8:56 PM    CL...   \n",
       "\n",
       "                                 original_indication  \\\n",
       "0  Abdominal pain, left sided, diarrhea and ? fever.   \n",
       "1  leukocytosis eval for GI infection, new cirrho...   \n",
       "2                                          vomiting.   \n",
       "3               metastatic sigmoid colon ca to liver   \n",
       "4  Chest pain radiating to the back, evaluate for...   \n",
       "\n",
       "                              radiologist_indication  \\\n",
       "0                                 history of smoking   \n",
       "1  History of chronic alcohol abuse, and TBI in 2...   \n",
       "2  Atrial fibrillation, renal cell carcinoma stat...   \n",
       "3           Hepatic arterial infusion pump planning.   \n",
       "4               PMH of CAD s/p 2-vessel CABG in 2019   \n",
       "\n",
       "                                      enc_dept_names  \\\n",
       "0  [EMERGENCY DEPT PARN, ZZZOPHTH CORNEA PARN, ZZ...   \n",
       "1  [11NE NICU, 11NE NICU, 11NE NICU, 11NE NICU, 1...   \n",
       "2  [EMERGENCY DEPT PARN, EMERGENCY DEPT PARN, EME...   \n",
       "3  [GI SURG ONC MB 4, ZZZGENERIC EXTERNAL DATA DE...   \n",
       "4  [EMERGENCY DEPT PARN, EMERGENCY DEPT PARN, EME...   \n",
       "\n",
       "                                          note_types  \\\n",
       "0  [ED Provider Notes, Progress Notes, Assessment...   \n",
       "1  [Consults, Progress Notes, Interdisciplinary, ...   \n",
       "2  [Discharge Instructions, Progress Notes, H&P, ...   \n",
       "3  [Progress Notes, H&P, Progress Notes, Progress...   \n",
       "4  [Discharge Instructions, ED Provider Notes, ED...   \n",
       "\n",
       "                                     auth_prov_types  \\\n",
       "0  [Physician, Physician, Physician, Physician, P...   \n",
       "1  [Pharmacist, Physician, Social Worker, Physici...   \n",
       "2  [Resident, Resident, Resident, Resident, Regis...   \n",
       "3  [Nurse Practitioner, None, None, None, None, N...   \n",
       "4  [Resident, Resident, Physician Assistant, Resi...   \n",
       "\n",
       "                                  deid_service_dates  \\\n",
       "0  [2017-09-05 15:50:00, 2017-04-11 00:00:00, 201...   \n",
       "1  [2017-11-29 16:46:00, 2017-11-29 15:26:00, 201...   \n",
       "2  [2024-01-12 10:54:00, 2024-01-12 09:36:00, 202...   \n",
       "3  [2023-11-18 00:00:00, 2023-11-18 00:00:00, 202...   \n",
       "4  [2023-04-17 22:35:00, 2023-04-17 16:50:00, 202...   \n",
       "\n",
       "                                         note_titles  \\\n",
       "0  [EMERGENCY DEPT PARN - ED Provider Notes (Phys...   \n",
       "1  [11NE NICU - Consults (Pharmacist) | 2017-11-2...   \n",
       "2  [EMERGENCY DEPT PARN - Discharge Instructions ...   \n",
       "3  [GI SURG ONC MB 4 - Progress Notes (Nurse Prac...   \n",
       "4  [EMERGENCY DEPT PARN - Discharge Instructions ...   \n",
       "\n",
       "                                          note_texts  \\\n",
       "0  [  ED First Attending       History     Chief ...   \n",
       "1  [    ANTIMICROBIAL STEWARDSHIP CONSULT     Thi...   \n",
       "2  [You were seen in the ER for evaluation of nau...   \n",
       "3  [GI Surgical Oncology     Follow Up    Referri...   \n",
       "4  [You were evaluated in the Emergency Departmen...   \n",
       "\n",
       "                                     note_texts_full  \n",
       "0  [  ED First Attending       History     Chief ...  \n",
       "1  [    ANTIMICROBIAL STEWARDSHIP CONSULT     Thi...  \n",
       "2  [You were seen in the ER for evaluation of nau...  \n",
       "3  [GI Surgical Oncology     Follow Up    Referri...  \n",
       "4  [You were evaluated in the Emergency Departmen...  "
      ]
     },
     "execution_count": 76,
     "metadata": {},
     "output_type": "execute_result"
    }
   ],
   "source": [
    "reader_study_calibration_dataset_processed.head()"
   ]
  },
  {
   "cell_type": "code",
   "execution_count": 77,
   "id": "5f061068",
   "metadata": {},
   "outputs": [
    {
     "name": "stderr",
     "output_type": "stream",
     "text": [
      "100%|█████████████████████████████████████████████████████████████████████████| 100/100 [00:31<00:00,  3.20it/s]\n"
     ]
    }
   ],
   "source": [
    "NUM_NOTES = 10\n",
    "reader_study_evaluation_dataset_processed = pd.DataFrame(columns=[\n",
    "    \"patientdurablekey\",\n",
    "    \"exam_type\",\n",
    "    \"imaging_modality\",\n",
    "    \"body_group\",\n",
    "    \"report_text\",\n",
    "    \"original_indication\",\n",
    "    \"radiologist_indication\",\n",
    "    \"enc_dept_names\",\n",
    "    \"note_types\",\n",
    "    \"auth_prov_types\",\n",
    "    \"deid_service_dates\",\n",
    "    \"note_titles\",\n",
    "    \"note_texts\",\n",
    "    \"note_texts_full\"\n",
    "])\n",
    "for i in tqdm.tqdm(range(len(reader_study_evaluation_dataset_reports))):\n",
    "    radiology_report = reader_study_evaluation_dataset_reports.iloc[i]\n",
    "    patient_mrn = radiology_report[\"patientdurablekey\"]\n",
    "    patient_notes = clinical_indication_dataset_redactions[clinical_indication_dataset_redactions[\"patientdurablekey\"] == patient_mrn].copy()    \n",
    "    filtered_patient_notes = patient_notes[\n",
    "        (patient_notes[\"deid_service_date\"] < radiology_report[\"deid_service_date\"]) & \n",
    "        (patient_notes[\"note_type\"] != \"Imaging\")\n",
    "    ].sort_values(by=[\"deid_service_date\"], ascending=False).reset_index(drop=True)\n",
    "    filtered_patient_notes['note_title'] = filtered_patient_notes.apply(lambda row: generate_note_title(\n",
    "        row['enc_dept_name'], row['note_type'], row['auth_prov_type'], row['deid_service_date']\n",
    "    ), axis=1)\n",
    "    enc_dept_names = filtered_patient_notes[:NUM_NOTES][[\"enc_dept_name\"]].squeeze().tolist()\n",
    "    note_types = filtered_patient_notes[:NUM_NOTES][[\"note_type\"]].squeeze().tolist()\n",
    "    auth_prov_types = filtered_patient_notes[:NUM_NOTES][[\"auth_prov_type\"]].squeeze().tolist()\n",
    "    deid_service_dates = filtered_patient_notes[:NUM_NOTES][[\"deid_service_date\"]].squeeze().tolist()\n",
    "    note_titles = filtered_patient_notes[:NUM_NOTES][[\"note_title\"]].squeeze().tolist()\n",
    "    note_texts = filtered_patient_notes[:NUM_NOTES][[\"note_text\"]].squeeze().tolist()\n",
    "    note_texts_full = filtered_patient_notes[[\"note_text\"]].squeeze().tolist()\n",
    "    row = {\n",
    "        \"patientdurablekey\": radiology_report[\"patientdurablekey\"],\n",
    "        \"exam_type\": radiology_report[\"exam_type\"],\n",
    "        \"imaging_modality\": radiology_report[\"imaging_modality\"],\n",
    "        \"body_group\": radiology_report[\"body_group\"],\n",
    "        \"report_text\": radiology_report[\"note_text\"],\n",
    "        \"original_indication\": radiology_report[\"original_indication\"],\n",
    "        \"radiologist_indication\": radiology_report[\"radiologist_indication\"],\n",
    "        \"enc_dept_names\": enc_dept_names,\n",
    "        \"note_types\": note_types,\n",
    "        \"auth_prov_types\": auth_prov_types,\n",
    "        \"deid_service_dates\": deid_service_dates,\n",
    "        \"note_titles\": note_titles,\n",
    "        \"note_texts\": note_texts,\n",
    "        \"note_texts_full\": note_texts_full\n",
    "    }\n",
    "    reader_study_evaluation_dataset_processed.loc[\n",
    "        len(reader_study_evaluation_dataset_processed)\n",
    "    ] = row\n",
    "reader_study_evaluation_dataset_processed.to_parquet(\"reader_study_evaluation_dataset_processed.parquet\")"
   ]
  },
  {
   "cell_type": "code",
   "execution_count": 78,
   "id": "ac0217a0",
   "metadata": {},
   "outputs": [
    {
     "data": {
      "text/plain": [
       "4171"
      ]
     },
     "execution_count": 78,
     "metadata": {},
     "output_type": "execute_result"
    }
   ],
   "source": [
    "reader_study_calibration_dataset_processed[\"note_texts_full\"].apply(len).sum() + len(reader_study_calibration_dataset_processed)"
   ]
  },
  {
   "cell_type": "code",
   "execution_count": 79,
   "id": "2b41d793",
   "metadata": {},
   "outputs": [
    {
     "data": {
      "text/plain": [
       "22233"
      ]
     },
     "execution_count": 79,
     "metadata": {},
     "output_type": "execute_result"
    }
   ],
   "source": [
    "reader_study_evaluation_dataset_processed[\"note_texts_full\"].apply(len).sum() + len(reader_study_evaluation_dataset_processed)"
   ]
  },
  {
   "cell_type": "code",
   "execution_count": null,
   "id": "d42c97cc",
   "metadata": {},
   "outputs": [],
   "source": []
  }
 ],
 "metadata": {
  "kernelspec": {
   "display_name": "report_gen",
   "language": "python",
   "name": "report_gen"
  },
  "language_info": {
   "codemirror_mode": {
    "name": "ipython",
    "version": 3
   },
   "file_extension": ".py",
   "mimetype": "text/x-python",
   "name": "python",
   "nbconvert_exporter": "python",
   "pygments_lexer": "ipython3",
   "version": "3.10.9"
  }
 },
 "nbformat": 4,
 "nbformat_minor": 5
}
