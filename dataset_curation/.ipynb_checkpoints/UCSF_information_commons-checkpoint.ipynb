{
 "cells": [
  {
   "cell_type": "code",
   "execution_count": 60,
   "id": "e8056c81",
   "metadata": {},
   "outputs": [],
   "source": [
    "import os\n",
    "import pandas as pd\n",
    "import tqdm\n",
    "import regex as re\n",
    "\n",
    "RANDOM_STATE = 123"
   ]
  },
  {
   "cell_type": "markdown",
   "id": "72d301ed",
   "metadata": {},
   "source": [
    "## Clinical Indication Dataset"
   ]
  },
  {
   "cell_type": "code",
   "execution_count": 22,
   "id": "bc9db267",
   "metadata": {},
   "outputs": [
    {
     "name": "stderr",
     "output_type": "stream",
     "text": [
      "100%|█████████████████████████████████████████████████████████████████████████████| 6/6 [04:12<00:00, 42.09s/it]\n"
     ]
    }
   ],
   "source": [
    "clinical_indication_dataset = []\n",
    "for i in tqdm.tqdm(range(1, 7)):\n",
    "    clinical_indication_dataset.append(pd.read_parquet(f\"clinical_indication_dataset_shard{i}.parquet\"))\n",
    "clinical_indication_dataset = pd.concat(clinical_indication_dataset)"
   ]
  },
  {
   "cell_type": "code",
   "execution_count": 31,
   "id": "da695e7c",
   "metadata": {},
   "outputs": [
    {
     "data": {
      "text/plain": [
       "9745792"
      ]
     },
     "execution_count": 31,
     "metadata": {},
     "output_type": "execute_result"
    }
   ],
   "source": [
    "len(clinical_indication_dataset)"
   ]
  },
  {
   "cell_type": "code",
   "execution_count": 23,
   "id": "cca6f87f",
   "metadata": {},
   "outputs": [
    {
     "data": {
      "text/plain": [
       "57609"
      ]
     },
     "execution_count": 23,
     "metadata": {},
     "output_type": "execute_result"
    }
   ],
   "source": [
    "clinical_indication_dataset[\"patientdurablekey\"].nunique()"
   ]
  },
  {
   "cell_type": "code",
   "execution_count": 24,
   "id": "35f37590",
   "metadata": {
    "scrolled": true
   },
   "outputs": [],
   "source": [
    "def categorize_body_group(exam_type):\n",
    "    categories = {\n",
    "        \"Head\": [\"HEAD\", \"BRAIN\", \"STROKE PROTOCOL\", \"NEURO\"],\n",
    "        \"Abdomen/Pelvis\": [\"ABDOMEN\", \"PELVIS\", \"PROSTATE\", \"RENAL\", \"MRCP\", \"UROGRAM\"],\n",
    "        \"MSK\": [\"KNEE\", \"HIP\", \"SHOULDER\", \"EXTREMITY\", \"SPINE\", \"LUMBAR\", \n",
    "                \"CERVICAL\", \"SCOLIOSIS\", \"JOINT\"],\n",
    "        \"Chest\": [\"CHEST\", \"CARDIAC\", \"PULMONARY EMBOLISM\", \"CTA\", \"HEART\"],\n",
    "        \"Neck\": [\"FACE\", \"NECK\", \"CRANIOFACIAL\", \"MAXILLOFACIAL\", \"ORBIT\", \"TEMPORAL BONE\", \n",
    "                 \"SINUS\", \"THYROID\", \"MANDIBLE\", \"SKULL\"]\n",
    "    }\n",
    "    \n",
    "    for category, keywords in categories.items():\n",
    "        if any(keyword in exam_type for keyword in keywords):\n",
    "            return category\n",
    "    return \"Other\"\n",
    "\n",
    "def categorize_imaging_modality(exam_type):\n",
    "    categories = {\n",
    "        \"MRI\": [\"MR\", \"MRI\"],\n",
    "        \"CT\": [\"CT\", \"CTA\"],\n",
    "        \"XR\": [\"XR\"],\n",
    "        \"US\": [\"US\"]\n",
    "    }\n",
    "    \n",
    "    for category, keywords in categories.items():\n",
    "        if any(keyword in exam_type for keyword in keywords):\n",
    "            return category\n",
    "    return \"Other\"\n",
    "\n",
    "clinical_indication_dataset.loc[clinical_indication_dataset[\"exam_type\"].notna(), \"body_group\"] = clinical_indication_dataset.loc[clinical_indication_dataset[\"exam_type\"].notna()][\"exam_type\"].apply(categorize_body_group)\n",
    "clinical_indication_dataset.loc[clinical_indication_dataset[\"exam_type\"].notna(), \"imaging_modality\"] = clinical_indication_dataset.loc[clinical_indication_dataset[\"exam_type\"].notna()][\"exam_type\"].apply(categorize_imaging_modality)"
   ]
  },
  {
   "cell_type": "code",
   "execution_count": 30,
   "id": "b5542e93",
   "metadata": {},
   "outputs": [
    {
     "data": {
      "text/plain": [
       "body_group\n",
       "Head              81805\n",
       "Neck              19426\n",
       "MSK               16747\n",
       "Abdomen/Pelvis     8443\n",
       "Chest              6490\n",
       "Other              1792\n",
       "Name: count, dtype: int64"
      ]
     },
     "execution_count": 30,
     "metadata": {},
     "output_type": "execute_result"
    }
   ],
   "source": [
    "clinical_indication_dataset[\"body_group\"].value_counts() "
   ]
  },
  {
   "cell_type": "code",
   "execution_count": 25,
   "id": "bed60976",
   "metadata": {},
   "outputs": [
    {
     "data": {
      "text/plain": [
       "body_group\n",
       "Head              60.729902\n",
       "Neck              14.421357\n",
       "MSK               12.432537\n",
       "Abdomen/Pelvis     6.267863\n",
       "Chest              4.818007\n",
       "Other              1.330334\n",
       "Name: proportion, dtype: float64"
      ]
     },
     "execution_count": 25,
     "metadata": {},
     "output_type": "execute_result"
    }
   ],
   "source": [
    "clinical_indication_dataset[\"body_group\"].value_counts(normalize=True) * 100"
   ]
  },
  {
   "cell_type": "code",
   "execution_count": 26,
   "id": "62933b0f",
   "metadata": {},
   "outputs": [
    {
     "data": {
      "text/plain": [
       "imaging_modality\n",
       "CT       52.489551\n",
       "MRI      45.736175\n",
       "Other     0.729754\n",
       "US        0.637699\n",
       "XR        0.406821\n",
       "Name: proportion, dtype: float64"
      ]
     },
     "execution_count": 26,
     "metadata": {},
     "output_type": "execute_result"
    }
   ],
   "source": [
    "clinical_indication_dataset[\"imaging_modality\"].value_counts(normalize=True) * 100"
   ]
  },
  {
   "cell_type": "markdown",
   "id": "4f9576f2",
   "metadata": {},
   "source": [
    "## Clinical Indication Dataset without Redactions"
   ]
  },
  {
   "cell_type": "code",
   "execution_count": 27,
   "id": "9e86444c",
   "metadata": {},
   "outputs": [
    {
     "name": "stderr",
     "output_type": "stream",
     "text": [
      "100%|█████████████████████████████████████████████████████████████████████████████| 6/6 [02:55<00:00, 29.20s/it]\n"
     ]
    }
   ],
   "source": [
    "clinical_indication_dataset_redactions = []\n",
    "for i in tqdm.tqdm(range(1, 7)):\n",
    "    clinical_indication_dataset_redactions.append(pd.read_parquet(f\"clinical_indication_dataset_without_redactions_shard{i}.parquet\"))\n",
    "clinical_indication_dataset_redactions = pd.concat(clinical_indication_dataset_redactions)"
   ]
  },
  {
   "cell_type": "code",
   "execution_count": 28,
   "id": "6e7e78f0",
   "metadata": {},
   "outputs": [
    {
     "data": {
      "text/plain": [
       "6391890"
      ]
     },
     "execution_count": 28,
     "metadata": {},
     "output_type": "execute_result"
    }
   ],
   "source": [
    "len(clinical_indication_dataset_redactions)"
   ]
  },
  {
   "cell_type": "code",
   "execution_count": 29,
   "id": "32cdd8e9",
   "metadata": {},
   "outputs": [
    {
     "data": {
      "text/plain": [
       "37216"
      ]
     },
     "execution_count": 29,
     "metadata": {},
     "output_type": "execute_result"
    }
   ],
   "source": [
    "clinical_indication_dataset_redactions[\"patientdurablekey\"].nunique()"
   ]
  },
  {
   "cell_type": "code",
   "execution_count": 32,
   "id": "132c8360",
   "metadata": {},
   "outputs": [],
   "source": [
    "clinical_indication_dataset_redactions.loc[clinical_indication_dataset_redactions[\"exam_type\"].notna(), \"body_group\"] = clinical_indication_dataset_redactions.loc[clinical_indication_dataset_redactions[\"exam_type\"].notna()][\"exam_type\"].apply(categorize_body_group)\n",
    "clinical_indication_dataset_redactions.loc[clinical_indication_dataset_redactions[\"exam_type\"].notna(), \"imaging_modality\"] = clinical_indication_dataset_redactions.loc[clinical_indication_dataset_redactions[\"exam_type\"].notna()][\"exam_type\"].apply(categorize_imaging_modality)"
   ]
  },
  {
   "cell_type": "code",
   "execution_count": 33,
   "id": "2103228c",
   "metadata": {},
   "outputs": [
    {
     "data": {
      "text/plain": [
       "body_group\n",
       "Head              38726\n",
       "MSK                8737\n",
       "Neck               8538\n",
       "Abdomen/Pelvis     4373\n",
       "Chest              3533\n",
       "Other               819\n",
       "Name: count, dtype: int64"
      ]
     },
     "execution_count": 33,
     "metadata": {},
     "output_type": "execute_result"
    }
   ],
   "source": [
    "clinical_indication_dataset_redactions[\"body_group\"].value_counts()"
   ]
  },
  {
   "cell_type": "code",
   "execution_count": 34,
   "id": "4be156d6",
   "metadata": {},
   "outputs": [
    {
     "data": {
      "text/plain": [
       "body_group\n",
       "Head              0.598307\n",
       "MSK               0.134984\n",
       "Neck              0.131910\n",
       "Abdomen/Pelvis    0.067562\n",
       "Chest             0.054584\n",
       "Other             0.012653\n",
       "Name: proportion, dtype: float64"
      ]
     },
     "execution_count": 34,
     "metadata": {},
     "output_type": "execute_result"
    }
   ],
   "source": [
    "clinical_indication_dataset_redactions[\"body_group\"].value_counts(normalize=True)"
   ]
  },
  {
   "cell_type": "code",
   "execution_count": 37,
   "id": "fc8510ca",
   "metadata": {},
   "outputs": [
    {
     "data": {
      "text/plain": [
       "imaging_modality\n",
       "CT       54.770880\n",
       "MRI      43.339616\n",
       "US        0.818836\n",
       "Other     0.633439\n",
       "XR        0.437228\n",
       "Name: proportion, dtype: float64"
      ]
     },
     "execution_count": 37,
     "metadata": {},
     "output_type": "execute_result"
    }
   ],
   "source": [
    "clinical_indication_dataset_redactions[\"imaging_modality\"].value_counts(normalize=True) * 100"
   ]
  },
  {
   "cell_type": "markdown",
   "id": "1b65e783",
   "metadata": {},
   "source": [
    "## Stratified Random Sampling (Reader Study)"
   ]
  },
  {
   "cell_type": "code",
   "execution_count": 82,
   "id": "d3982b21",
   "metadata": {},
   "outputs": [],
   "source": [
    "radiology_reports = clinical_indication_dataset_redactions[\n",
    "    (~clinical_indication_dataset_redactions[\"exam_type\"].isna()) & \n",
    "    (clinical_indication_dataset_redactions[\"body_group\"] != \"Other\")\n",
    "]\n",
    "reader_study_sampled_reports = radiology_reports.groupby('body_group').sample(n=22, random_state=RANDOM_STATE)"
   ]
  },
  {
   "cell_type": "code",
   "execution_count": 91,
   "id": "54c0d743",
   "metadata": {},
   "outputs": [
    {
     "name": "stderr",
     "output_type": "stream",
     "text": [
      "100%|█████████████████████████████████████████████████████████████████████████| 110/110 [00:35<00:00,  3.08it/s]"
     ]
    },
    {
     "name": "stdout",
     "output_type": "stream",
     "text": [
      "Clinical Reader Study Model Evaluation Dataset\n",
      "====================\n",
      "n_notes 21192\n",
      "n_patients 110\n",
      "n_radiology reports 110\n"
     ]
    },
    {
     "name": "stderr",
     "output_type": "stream",
     "text": [
      "\n"
     ]
    }
   ],
   "source": [
    "reader_study_total_dataset = []\n",
    "for i in tqdm.tqdm(range(len(reader_study_sampled_reports))):\n",
    "    radiology_report = reader_study_sampled_reports.iloc[i]\n",
    "    patient_mrn = radiology_report[\"patientdurablekey\"]\n",
    "    patient_notes = clinical_indication_dataset_redactions[clinical_indication_dataset_redactions[\"patientdurablekey\"] == patient_mrn].copy()    \n",
    "    filtered_patient_notes = patient_notes[\n",
    "        (patient_notes[\"deid_service_date\"] < radiology_report[\"deid_service_date\"]) & \n",
    "        (patient_notes[\"note_type\"] != \"Imaging\")\n",
    "    ].sort_values(by=[\"deid_service_date\"], ascending=False).reset_index(drop=True)\n",
    "    reader_study_total_dataset.append(radiology_report.to_frame().T)\n",
    "    reader_study_total_dataset.append(filtered_patient_notes)\n",
    "\n",
    "reader_study_total_dataset = pd.concat(reader_study_total_dataset)\n",
    "\n",
    "print(\"Clinical Reader Study Model Evaluation Dataset\")\n",
    "print(\"=\"*20)\n",
    "print(\"n_notes\", len(reader_study_total_dataset))\n",
    "print(\"n_patients\", reader_study_total_dataset[\"patientdurablekey\"].nunique())\n",
    "print(\"n_radiology reports\", len(reader_study_total_dataset[~reader_study_total_dataset[\"exam_type\"].isna()]))"
   ]
  },
  {
   "cell_type": "code",
   "execution_count": 83,
   "id": "bdf1f4da",
   "metadata": {},
   "outputs": [],
   "source": [
    "reader_study_calibration_dataset_reports = reader_study_sampled_reports.groupby('body_group').sample(n=2, random_state=RANDOM_STATE)\n",
    "reader_study_evaluation_dataset_reports = reader_study_sampled_reports.drop(reader_study_calibration_dataset_reports.index).groupby('body_group').sample(n=20, random_state=RANDOM_STATE)"
   ]
  },
  {
   "cell_type": "code",
   "execution_count": 84,
   "id": "a950b77c",
   "metadata": {},
   "outputs": [
    {
     "name": "stdout",
     "output_type": "stream",
     "text": [
      "body_group\n",
      "Abdomen/Pelvis    2\n",
      "Chest             2\n",
      "Head              2\n",
      "MSK               2\n",
      "Neck              2\n",
      "Name: count, dtype: int64\n",
      "imaging_modality\n",
      "CT     7\n",
      "MRI    3\n",
      "Name: count, dtype: int64\n"
     ]
    }
   ],
   "source": [
    "print(reader_study_calibration_dataset_reports[\"body_group\"].value_counts())\n",
    "print(reader_study_calibration_dataset_reports[\"imaging_modality\"].value_counts())"
   ]
  },
  {
   "cell_type": "code",
   "execution_count": 85,
   "id": "db6149a8",
   "metadata": {},
   "outputs": [
    {
     "name": "stdout",
     "output_type": "stream",
     "text": [
      "body_group\n",
      "Abdomen/Pelvis    20\n",
      "Chest             20\n",
      "Head              20\n",
      "MSK               20\n",
      "Neck              20\n",
      "Name: count, dtype: int64\n",
      "imaging_modality\n",
      "CT     73\n",
      "MRI    24\n",
      "US      2\n",
      "XR      1\n",
      "Name: count, dtype: int64\n"
     ]
    }
   ],
   "source": [
    "print(reader_study_evaluation_dataset_reports[\"body_group\"].value_counts())\n",
    "print(reader_study_evaluation_dataset_reports[\"imaging_modality\"].value_counts())"
   ]
  },
  {
   "cell_type": "code",
   "execution_count": 86,
   "id": "b06aa769",
   "metadata": {},
   "outputs": [
    {
     "name": "stderr",
     "output_type": "stream",
     "text": [
      "100%|█████████████████████████████████████████████████████████████████████████| 100/100 [00:30<00:00,  3.31it/s]"
     ]
    },
    {
     "name": "stdout",
     "output_type": "stream",
     "text": [
      "Clinical Reader Study Model Evaluation Dataset\n",
      "====================\n",
      "n_notes 18645\n",
      "n_patients 100\n",
      "n_radiology reports 100\n"
     ]
    },
    {
     "name": "stderr",
     "output_type": "stream",
     "text": [
      "\n"
     ]
    }
   ],
   "source": [
    "reader_study_evaluation_dataset = []\n",
    "for i in tqdm.tqdm(range(len(reader_study_evaluation_dataset_reports))):\n",
    "    radiology_report = reader_study_evaluation_dataset_reports.iloc[i]\n",
    "    patient_mrn = radiology_report[\"patientdurablekey\"]\n",
    "    patient_notes = clinical_indication_dataset_redactions[clinical_indication_dataset_redactions[\"patientdurablekey\"] == patient_mrn].copy()    \n",
    "    filtered_patient_notes = patient_notes[\n",
    "        (patient_notes[\"deid_service_date\"] < radiology_report[\"deid_service_date\"]) & \n",
    "        (patient_notes[\"note_type\"] != \"Imaging\")\n",
    "    ].sort_values(by=[\"deid_service_date\"], ascending=False).reset_index(drop=True)\n",
    "    reader_study_evaluation_dataset.append(radiology_report.to_frame().T)\n",
    "    reader_study_evaluation_dataset.append(filtered_patient_notes)\n",
    "\n",
    "reader_study_evaluation_dataset = pd.concat(reader_study_evaluation_dataset)\n",
    "\n",
    "print(\"Clinical Reader Study Model Evaluation Dataset\")\n",
    "print(\"=\"*20)\n",
    "print(\"n_notes\", len(reader_study_evaluation_dataset))\n",
    "print(\"n_patients\", reader_study_evaluation_dataset[\"patientdurablekey\"].nunique())\n",
    "print(\"n_radiology reports\", len(reader_study_evaluation_dataset[~reader_study_evaluation_dataset[\"exam_type\"].isna()]))"
   ]
  },
  {
   "cell_type": "code",
   "execution_count": 87,
   "id": "3f8203e0",
   "metadata": {},
   "outputs": [
    {
     "name": "stderr",
     "output_type": "stream",
     "text": [
      "100%|███████████████████████████████████████████████████████████████████████████| 10/10 [00:03<00:00,  3.31it/s]"
     ]
    },
    {
     "name": "stdout",
     "output_type": "stream",
     "text": [
      "Clinical Reader Study Model Evaluation Dataset\n",
      "====================\n",
      "n_notes 2547\n",
      "n_patients 10\n",
      "n_radiology reports 10\n"
     ]
    },
    {
     "name": "stderr",
     "output_type": "stream",
     "text": [
      "\n"
     ]
    }
   ],
   "source": [
    "reader_study_calibration_dataset = []\n",
    "for i in tqdm.tqdm(range(len(reader_study_calibration_dataset_reports))):\n",
    "    radiology_report = reader_study_calibration_dataset_reports.iloc[i]\n",
    "    patient_mrn = radiology_report[\"patientdurablekey\"]\n",
    "    patient_notes = clinical_indication_dataset_redactions[clinical_indication_dataset_redactions[\"patientdurablekey\"] == patient_mrn].copy()    \n",
    "    filtered_patient_notes = patient_notes[\n",
    "        (patient_notes[\"deid_service_date\"] < radiology_report[\"deid_service_date\"]) & \n",
    "        (patient_notes[\"note_type\"] != \"Imaging\")\n",
    "    ].sort_values(by=[\"deid_service_date\"], ascending=False).reset_index(drop=True)\n",
    "    reader_study_calibration_dataset.append(radiology_report.to_frame().T)\n",
    "    reader_study_calibration_dataset.append(filtered_patient_notes)\n",
    "\n",
    "reader_study_calibration_dataset = pd.concat(reader_study_calibration_dataset)\n",
    "\n",
    "print(\"Clinical Reader Study Model Evaluation Dataset\")\n",
    "print(\"=\"*20)\n",
    "print(\"n_notes\", len(reader_study_calibration_dataset))\n",
    "print(\"n_patients\", reader_study_calibration_dataset[\"patientdurablekey\"].nunique())\n",
    "print(\"n_radiology reports\", len(reader_study_calibration_dataset[~reader_study_calibration_dataset[\"exam_type\"].isna()]))"
   ]
  }
 ],
 "metadata": {
  "kernelspec": {
   "display_name": "report_gen",
   "language": "python",
   "name": "report_gen"
  },
  "language_info": {
   "codemirror_mode": {
    "name": "ipython",
    "version": 3
   },
   "file_extension": ".py",
   "mimetype": "text/x-python",
   "name": "python",
   "nbconvert_exporter": "python",
   "pygments_lexer": "ipython3",
   "version": "3.10.9"
  }
 },
 "nbformat": 4,
 "nbformat_minor": 5
}
