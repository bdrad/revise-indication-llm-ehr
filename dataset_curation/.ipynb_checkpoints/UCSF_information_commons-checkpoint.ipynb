{
 "cells": [
  {
   "cell_type": "code",
   "execution_count": 2,
   "id": "5739bfb4",
   "metadata": {},
   "outputs": [
    {
     "name": "stderr",
     "output_type": "stream",
     "text": [
      "/home/bdrad/miniconda3/envs/report_gen/lib/python3.10/site-packages/pandas/core/arrays/masked.py:60: UserWarning: Pandas requires version '1.3.6' or newer of 'bottleneck' (version '1.3.5' currently installed).\n",
      "  from pandas.core import (\n"
     ]
    }
   ],
   "source": [
    "import os\n",
    "import pandas as pd\n",
    "import tqdm"
   ]
  },
  {
   "cell_type": "code",
   "execution_count": 213,
   "id": "e2dd8736",
   "metadata": {
    "scrolled": false
   },
   "outputs": [
    {
     "name": "stdout",
     "output_type": "stream",
     "text": [
      "n_notes 629457\n",
      "n_patients 1000\n"
     ]
    }
   ],
   "source": [
    "additional_history_file = \"/mnt/sohn2022/UCSF_secure_data_info_commons_clinical_notes/additional_history/notes/shard1/additional_history_0.parquet\"\n",
    "data = pd.read_parquet(additional_history_file)\n",
    "print(\"n_notes\", len(data))\n",
    "print(\"n_patients\", data[\"patientdurablekey\"].nunique())"
   ]
  },
  {
   "cell_type": "markdown",
   "id": "07799733",
   "metadata": {},
   "source": [
    "## Note Type Exclusion\n",
    "We remove all clinical notes that are telephone encounters of patient instructions or have a `note_type` of `None`. We also filter out notes that have < 20 words, regardless of type."
   ]
  },
  {
   "cell_type": "code",
   "execution_count": 214,
   "id": "ab864ec2",
   "metadata": {},
   "outputs": [],
   "source": [
    "filtered_data_note_type = data[\n",
    "    ~(data[\"note_type\"].isna()) & \n",
    "    ~(data[\"note_type\"].isin([\"Telephone Encounter\", \"Patient Instructions\"])) & \n",
    "    ~(data[\"note_type\"].isna()) &\n",
    "    ~(data[\"note_text\"].apply(lambda s: len(s.split()) < 20))\n",
    "]"
   ]
  },
  {
   "cell_type": "code",
   "execution_count": 215,
   "id": "b7176a28",
   "metadata": {},
   "outputs": [
    {
     "name": "stdout",
     "output_type": "stream",
     "text": [
      "n_notes 421233\n",
      "n_patients 1000\n"
     ]
    }
   ],
   "source": [
    "print(\"n_notes\", len(filtered_data_note_type))\n",
    "print(\"n_patients\", filtered_data_note_type[\"patientdurablekey\"].nunique())"
   ]
  },
  {
   "cell_type": "code",
   "execution_count": 216,
   "id": "88630b43",
   "metadata": {},
   "outputs": [
    {
     "name": "stdout",
     "output_type": "stream",
     "text": [
      "n_notes (excluded) 208224\n",
      "n_patients (excluded) 0\n"
     ]
    }
   ],
   "source": [
    "print(\"n_notes (excluded)\", len(data) - len(filtered_data_note_type))\n",
    "print(\"n_patients (excluded)\", data[\"patientdurablekey\"].nunique() - filtered_data_note_type[\"patientdurablekey\"].nunique())"
   ]
  },
  {
   "cell_type": "markdown",
   "id": "d3d66465",
   "metadata": {},
   "source": [
    "## Radiology Report Exclusion\n",
    "We filter out all the radiology reports with an additional history of `None` and other miscellaneous preprocessing steps. We also make sure to filter out all notes that occur before the `deid_service_date` of the radiological exam. We assume that all previous notes that will not mention the radiology report to prevent data leakage."
   ]
  },
  {
   "cell_type": "code",
   "execution_count": 217,
   "id": "5ae221f0",
   "metadata": {
    "scrolled": false
   },
   "outputs": [
    {
     "name": "stderr",
     "output_type": "stream",
     "text": [
      "100%|███████████████████████████████████████████████████████████████████████████████████████████████████████| 1000/1000 [00:32<00:00, 30.50it/s]\n"
     ]
    }
   ],
   "source": [
    "patient_mrns = filtered_data_note_type[\"patientdurablekey\"].unique()\n",
    "filtered_data_radiology_report = []\n",
    "for i in tqdm.tqdm(range(len(patient_mrns))):\n",
    "    patient_mrn = patient_mrns[i]\n",
    "    patient_notes = filtered_data_note_type[filtered_data_note_type[\"patientdurablekey\"] == patient_mrn]\n",
    "    radiology_reports = patient_notes[\n",
    "        (patient_notes[\"note_type\"] == \"Imaging\") &\n",
    "        (patient_notes[\"auth_prov_type\"].isna()) & \n",
    "        (~patient_notes[\"note_text\"].str.contains(\"RADIOLOGY PRELIMINARY INTERPRETATION\")) &\n",
    "        (~patient_notes[\"note_text\"].str.contains(\"ADDITIONAL HISTORY: None\")) &\n",
    "        (patient_notes[\"note_text\"].str.contains(\"ADDITIONAL HISTORY\"))  \n",
    "    ].copy()    \n",
    "    radiology_reports.loc[:, \"exam_type\"] = radiology_reports[\"note_text\"].str.split(\"  \").apply(lambda l: l[0]).str.replace(\":\", \"\", regex=False).str.strip()\n",
    "    radiology_reports = radiology_reports[\n",
    "        (radiology_reports[\"exam_type\"] != \"\") &\n",
    "        (~radiology_reports[\"exam_type\"].str.contains(\"\\*\"))\n",
    "    ].sort_values(by=[\"deid_service_date\"], ascending=False)\n",
    "    if len(radiology_reports) > 0:\n",
    "        latest_radiology_report = radiology_reports.iloc[0]\n",
    "        filtered_patient_notes = patient_notes[patient_notes[\"deid_service_date\"] < latest_radiology_report[\"deid_service_date\"]].sort_values(by=[\"deid_service_date\"], ascending=False).reset_index(drop=True)\n",
    "        filtered_data_radiology_report.append(filtered_patient_notes)\n",
    "\n",
    "filtered_data_radiology_report = pd.concat(filtered_data_radiology_report)"
   ]
  },
  {
   "cell_type": "code",
   "execution_count": 220,
   "id": "6f0fff95",
   "metadata": {},
   "outputs": [
    {
     "name": "stdout",
     "output_type": "stream",
     "text": [
      "n_notes 296392\n",
      "n_patients 745\n"
     ]
    }
   ],
   "source": [
    "print(\"n_notes\", len(filtered_data_radiology_report))\n",
    "print(\"n_patients\", filtered_data_radiology_report[\"patientdurablekey\"].nunique())"
   ]
  },
  {
   "cell_type": "code",
   "execution_count": 221,
   "id": "106a5fb9",
   "metadata": {},
   "outputs": [
    {
     "name": "stdout",
     "output_type": "stream",
     "text": [
      "n_notes (excluded) 124841\n",
      "n_patients (excluded) 255\n"
     ]
    }
   ],
   "source": [
    "print(\"n_notes (excluded)\", len(filtered_data_note_type) - len(filtered_data_radiology_report))\n",
    "print(\"n_patients (excluded)\", filtered_data_note_type[\"patientdurablekey\"].nunique() - filtered_data_radiology_report[\"patientdurablekey\"].nunique())"
   ]
  },
  {
   "cell_type": "markdown",
   "id": "81018fde",
   "metadata": {},
   "source": [
    "## Radiology Report Datasets"
   ]
  },
  {
   "cell_type": "code",
   "execution_count": null,
   "id": "4ced9b3d",
   "metadata": {},
   "outputs": [],
   "source": []
  },
  {
   "cell_type": "code",
   "execution_count": null,
   "id": "ee008e63",
   "metadata": {},
   "outputs": [],
   "source": []
  }
 ],
 "metadata": {
  "kernelspec": {
   "display_name": "report_gen",
   "language": "python",
   "name": "report_gen"
  },
  "language_info": {
   "codemirror_mode": {
    "name": "ipython",
    "version": 3
   },
   "file_extension": ".py",
   "mimetype": "text/x-python",
   "name": "python",
   "nbconvert_exporter": "python",
   "pygments_lexer": "ipython3",
   "version": "3.10.9"
  }
 },
 "nbformat": 4,
 "nbformat_minor": 5
}
