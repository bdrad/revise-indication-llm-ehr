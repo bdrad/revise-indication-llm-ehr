{
 "cells": [
  {
   "cell_type": "code",
   "execution_count": 1,
   "id": "e60e0be6",
   "metadata": {},
   "outputs": [
    {
     "name": "stderr",
     "output_type": "stream",
     "text": [
      "/home/bdrad/miniconda3/envs/report_gen/lib/python3.10/site-packages/pandas/core/arrays/masked.py:60: UserWarning: Pandas requires version '1.3.6' or newer of 'bottleneck' (version '1.3.5' currently installed).\n",
      "  from pandas.core import (\n"
     ]
    }
   ],
   "source": [
    "import os\n",
    "import pandas as pd\n",
    "import tqdm\n",
    "import regex as re"
   ]
  },
  {
   "cell_type": "code",
   "execution_count": 100,
   "id": "7f6388b2",
   "metadata": {},
   "outputs": [
    {
     "name": "stdout",
     "output_type": "stream",
     "text": [
      "====================\n",
      "UCSF Information Commons De-identified Clinical Notes Additional History Subset\n",
      "====================\n"
     ]
    }
   ],
   "source": [
    "print(\"=\"*20)\n",
    "print(\"UCSF Information Commons De-identified Clinical Notes Additional History Subset\")\n",
    "print(\"=\"*20)"
   ]
  },
  {
   "cell_type": "code",
   "execution_count": 2,
   "id": "7ef6fd50",
   "metadata": {
    "scrolled": false
   },
   "outputs": [
    {
     "name": "stdout",
     "output_type": "stream",
     "text": [
      "n_notes 629457\n",
      "n_patients 1000\n"
     ]
    }
   ],
   "source": [
    "additional_history_file = \"/mnt/sohn2022/UCSF_secure_data_info_commons_clinical_notes/additional_history/notes/shard1/additional_history_0.parquet\"\n",
    "data = pd.read_parquet(additional_history_file)\n",
    "print(\"n_notes\", len(data))\n",
    "print(\"n_patients\", data[\"patientdurablekey\"].nunique())"
   ]
  },
  {
   "cell_type": "markdown",
   "id": "137c9d62",
   "metadata": {},
   "source": [
    "## Note Type Exclusion\n",
    "We remove all clinical notes that are telephone encounters of patient instructions or have a `note_type` of `None`. We also filter out notes that have < 20 words, regardless of type."
   ]
  },
  {
   "cell_type": "code",
   "execution_count": 101,
   "id": "b4f09fdd",
   "metadata": {},
   "outputs": [
    {
     "name": "stdout",
     "output_type": "stream",
     "text": [
      "====================\n",
      "Note Type Exclusion\n",
      "====================\n"
     ]
    }
   ],
   "source": [
    "print(\"=\"*20)\n",
    "print(\"Note Type Exclusion\")\n",
    "print(\"=\"*20)"
   ]
  },
  {
   "cell_type": "code",
   "execution_count": 3,
   "id": "8cd81520",
   "metadata": {},
   "outputs": [],
   "source": [
    "filtered_data_note_type = data[\n",
    "    ~(data[\"note_type\"].isna()) & \n",
    "    ~(data[\"note_type\"].isin([\"Telephone Encounter\", \"Patient Instructions\"])) & \n",
    "    ~(data[\"note_type\"].isna()) &\n",
    "    ~(data[\"note_text\"].apply(lambda s: len(s.split()) < 20))\n",
    "]"
   ]
  },
  {
   "cell_type": "code",
   "execution_count": 4,
   "id": "78a75fc8",
   "metadata": {},
   "outputs": [
    {
     "name": "stdout",
     "output_type": "stream",
     "text": [
      "n_notes 421233\n",
      "n_patients 1000\n"
     ]
    }
   ],
   "source": [
    "print(\"n_notes\", len(filtered_data_note_type))\n",
    "print(\"n_patients\", filtered_data_note_type[\"patientdurablekey\"].nunique())"
   ]
  },
  {
   "cell_type": "code",
   "execution_count": 97,
   "id": "1d422c10",
   "metadata": {},
   "outputs": [
    {
     "name": "stdout",
     "output_type": "stream",
     "text": [
      "--------------------\n"
     ]
    }
   ],
   "source": [
    "print(\"-\"*20)"
   ]
  },
  {
   "cell_type": "code",
   "execution_count": 5,
   "id": "278de51e",
   "metadata": {},
   "outputs": [
    {
     "name": "stdout",
     "output_type": "stream",
     "text": [
      "n_notes (excluded) 208224\n",
      "n_patients (excluded) 0\n"
     ]
    }
   ],
   "source": [
    "print(\"n_notes (excluded)\", len(data) - len(filtered_data_note_type))\n",
    "print(\"n_patients (excluded)\", data[\"patientdurablekey\"].nunique() - filtered_data_note_type[\"patientdurablekey\"].nunique())"
   ]
  },
  {
   "cell_type": "markdown",
   "id": "21f6697d",
   "metadata": {},
   "source": [
    "## Radiology Report Exclusion\n",
    "We filter out all the radiology reports with an additional history of `None` and other miscellaneous preprocessing steps. We also make sure to filter out all notes that occur before the `deid_service_date` of the radiological exam. We assume that all previous notes that will not mention the radiology report to prevent data leakage."
   ]
  },
  {
   "cell_type": "code",
   "execution_count": 102,
   "id": "afbc5ab6",
   "metadata": {},
   "outputs": [
    {
     "name": "stdout",
     "output_type": "stream",
     "text": [
      "====================\n",
      "Radiology Report Exclusion\n",
      "====================\n"
     ]
    }
   ],
   "source": [
    "print(\"=\"*20)\n",
    "print(\"Radiology Report Exclusion\")\n",
    "print(\"=\"*20)"
   ]
  },
  {
   "cell_type": "code",
   "execution_count": 64,
   "id": "4ecf5800",
   "metadata": {
    "scrolled": false
   },
   "outputs": [
    {
     "name": "stderr",
     "output_type": "stream",
     "text": [
      "100%|███████████████████████████████████████| 1000/1000 [00:38<00:00, 26.10it/s]\n"
     ]
    }
   ],
   "source": [
    "patient_mrns = filtered_data_note_type[\"patientdurablekey\"].unique()\n",
    "filtered_data_radiology_report = []\n",
    "for i in tqdm.tqdm(range(len(patient_mrns))):\n",
    "    patient_mrn = patient_mrns[i]\n",
    "    patient_notes = filtered_data_note_type[filtered_data_note_type[\"patientdurablekey\"] == patient_mrn]\n",
    "    radiology_reports = patient_notes[\n",
    "        (patient_notes[\"note_type\"] == \"Imaging\") &\n",
    "        (patient_notes[\"auth_prov_type\"].isna()) & \n",
    "        (~patient_notes[\"note_text\"].str.contains(\"RADIOLOGY PRELIMINARY INTERPRETATION\")) &\n",
    "        (~patient_notes[\"note_text\"].str.contains(\"ADDITIONAL HISTORY: None\")) &\n",
    "        (patient_notes[\"note_text\"].str.contains(\"ADDITIONAL HISTORY\"))  \n",
    "    ].copy()    \n",
    "    if len(radiology_reports) > 0:\n",
    "        radiology_reports.loc[:, \"exam_type\"] = radiology_reports[\"note_text\"].str.split(\"  \").apply(lambda l: l[0]).str.replace(\":\", \"\", regex=False).str.strip()\n",
    "        def extract_history(report_text):\n",
    "            match = re.search(r'(?:CLINICAL HISTORY:|INDICATION \\(as provided by referring clinician\\):)\\s*(.*?)\\s*ADDITIONAL HISTORY:\\s*(.*?)(?:\\s*COMPARISON:|$)', report_text)\n",
    "            if match:\n",
    "                clinical_history = match.group(1).strip()\n",
    "                additional_history = match.group(2).strip()\n",
    "                return clinical_history, additional_history\n",
    "            return None, None\n",
    "        radiology_reports[['original_indication', 'radiologist_indication']] = radiology_reports['note_text'].apply(lambda x: pd.Series(extract_history(x)))\n",
    "        radiology_reports = radiology_reports[\n",
    "            (radiology_reports[\"exam_type\"] != \"\") &\n",
    "            (~radiology_reports[\"exam_type\"].str.contains(\"\\*\")) &\n",
    "            (~radiology_reports[\"radiologist_indication\"].isna())\n",
    "        ].drop_duplicates(subset=[\"deid_service_date\"]).sort_values(by=[\"deid_service_date\"], ascending=False)\n",
    "    for j in range(len(radiology_reports)):\n",
    "        radiology_report = radiology_reports.iloc[j]\n",
    "        filtered_patient_notes = patient_notes[\n",
    "            (patient_notes[\"deid_service_date\"] < radiology_report[\"deid_service_date\"]) & \n",
    "            (patient_notes[\"note_type\"] != \"Imaging\")\n",
    "        ].sort_values(by=[\"deid_service_date\"], ascending=False).reset_index(drop=True)\n",
    "        filtered_data_radiology_report.append(radiology_report.to_frame().T)\n",
    "        filtered_data_radiology_report.append(filtered_patient_notes)\n",
    "filtered_data_radiology_report = pd.concat(filtered_data_radiology_report).drop_duplicates(subset=[\"deid_note_key\"])"
   ]
  },
  {
   "cell_type": "code",
   "execution_count": 89,
   "id": "2b83b930",
   "metadata": {},
   "outputs": [
    {
     "name": "stdout",
     "output_type": "stream",
     "text": [
      "n_notes 219052\n",
      "n_patients 727\n",
      "n_radiology reports  6135\n"
     ]
    }
   ],
   "source": [
    "n_filtered_radiology_reports = len(filtered_data_radiology_report[~filtered_data_radiology_report[\"exam_type\"].isna()])\n",
    "\n",
    "print(\"n_notes\", len(filtered_data_radiology_report))\n",
    "print(\"n_patients\", filtered_data_radiology_report[\"patientdurablekey\"].nunique())\n",
    "print(\"n_radiology reports \", n_filtered_radiology_reports)"
   ]
  },
  {
   "cell_type": "code",
   "execution_count": 99,
   "id": "c4b7b68c",
   "metadata": {},
   "outputs": [
    {
     "name": "stdout",
     "output_type": "stream",
     "text": [
      "--------------------\n"
     ]
    }
   ],
   "source": [
    "print(\"-\"*20)"
   ]
  },
  {
   "cell_type": "code",
   "execution_count": 70,
   "id": "78980333",
   "metadata": {},
   "outputs": [
    {
     "name": "stdout",
     "output_type": "stream",
     "text": [
      "n_notes (excluded) 202181\n",
      "n_patients (excluded) 273\n"
     ]
    }
   ],
   "source": [
    "print(\"n_notes (excluded)\", len(filtered_data_note_type) - len(filtered_data_radiology_report))\n",
    "print(\"n_patients (excluded)\", filtered_data_note_type[\"patientdurablekey\"].nunique() - filtered_data_radiology_report[\"patientdurablekey\"].nunique())"
   ]
  },
  {
   "cell_type": "code",
   "execution_count": 108,
   "id": "9ef91f78",
   "metadata": {},
   "outputs": [],
   "source": [
    "filtered_data_radiology_report.to_parquet(\"clinical_indication_dataset.parquet\")"
   ]
  },
  {
   "cell_type": "markdown",
   "id": "e1ce6f07",
   "metadata": {},
   "source": [
    "## Radiology Report without Redaction of Original Indication and Revised Indication"
   ]
  },
  {
   "cell_type": "code",
   "execution_count": 103,
   "id": "e83bec92",
   "metadata": {},
   "outputs": [
    {
     "name": "stdout",
     "output_type": "stream",
     "text": [
      "====================\n",
      "Radiology Report without Redaction of Original Indication and Revised Indication\n",
      "====================\n"
     ]
    }
   ],
   "source": [
    "print(\"=\"*20)\n",
    "print(\"Radiology Report without Redaction of Original Indication and Revised Indication\")\n",
    "print(\"=\"*20)"
   ]
  },
  {
   "cell_type": "code",
   "execution_count": 81,
   "id": "8a6445f6",
   "metadata": {},
   "outputs": [
    {
     "name": "stderr",
     "output_type": "stream",
     "text": [
      "100%|█████████████████████████████████████████| 727/727 [00:11<00:00, 61.16it/s]\n"
     ]
    }
   ],
   "source": [
    "patient_mrns = filtered_data_radiology_report[\"patientdurablekey\"].unique()\n",
    "filtered_data_report_redactions = []\n",
    "for i in tqdm.tqdm(range(len(patient_mrns))):\n",
    "    patient_mrn = patient_mrns[i]\n",
    "    patient_notes = filtered_data_radiology_report[filtered_data_radiology_report[\"patientdurablekey\"] == patient_mrn]\n",
    "    radiology_reports = patient_notes[\n",
    "        (~patient_notes[\"exam_type\"].isna()) & \n",
    "        (~patient_notes[\"original_indication\"].astype(str).str.contains(\"\\*\")) &\n",
    "        (~patient_notes[\"radiologist_indication\"].astype(str).str.contains(\"\\*\"))\n",
    "    ].copy()    \n",
    "    for j in range(len(radiology_reports)):\n",
    "        radiology_report = radiology_reports.iloc[j]\n",
    "        filtered_patient_notes = patient_notes[\n",
    "            (patient_notes[\"deid_service_date\"] < radiology_report[\"deid_service_date\"]) & \n",
    "            (patient_notes[\"note_type\"] != \"Imaging\")\n",
    "        ].sort_values(by=[\"deid_service_date\"], ascending=False).reset_index(drop=True)\n",
    "        filtered_data_report_redactions.append(radiology_report.to_frame().T)\n",
    "        filtered_data_report_redactions.append(filtered_patient_notes)\n",
    "filtered_data_report_redactions = pd.concat(filtered_data_report_redactions).drop_duplicates(subset=[\"deid_note_key\"])"
   ]
  },
  {
   "cell_type": "code",
   "execution_count": 87,
   "id": "0e9f1ec0",
   "metadata": {},
   "outputs": [
    {
     "name": "stdout",
     "output_type": "stream",
     "text": [
      "n_notes 156666\n",
      "n_patients 536\n",
      "n_radiology reports  2655\n"
     ]
    }
   ],
   "source": [
    "n_radiology_report_redactions = len(filtered_data_report_redactions[~filtered_data_report_redactions[\"exam_type\"].isna()])\n",
    "\n",
    "print(\"n_notes\", len(filtered_data_report_redactions))\n",
    "print(\"n_patients\", filtered_data_report_redactions[\"patientdurablekey\"].nunique())\n",
    "print(\"n_radiology reports \", n_radiology_report_redactions)"
   ]
  },
  {
   "cell_type": "code",
   "execution_count": 98,
   "id": "0d0c26b5",
   "metadata": {},
   "outputs": [
    {
     "name": "stdout",
     "output_type": "stream",
     "text": [
      "--------------------\n"
     ]
    }
   ],
   "source": [
    "print(\"-\"*20)"
   ]
  },
  {
   "cell_type": "code",
   "execution_count": 83,
   "id": "bb13aecc",
   "metadata": {},
   "outputs": [
    {
     "name": "stdout",
     "output_type": "stream",
     "text": [
      "n_notes (excluded) 62386\n",
      "n_patients (excluded) 191\n"
     ]
    }
   ],
   "source": [
    "print(\"n_notes (excluded)\", len(filtered_data_radiology_report) - len(filtered_data_report_redactions))\n",
    "print(\"n_patients (excluded)\", filtered_data_radiology_report[\"patientdurablekey\"].nunique() - filtered_data_report_redactions[\"patientdurablekey\"].nunique())"
   ]
  },
  {
   "cell_type": "code",
   "execution_count": 109,
   "id": "31d4818d",
   "metadata": {},
   "outputs": [],
   "source": [
    "filtered_data_report_redactions.to_parquet(\"clinical_indication_dataset_without_redactions.parquet\")"
   ]
  }
 ],
 "metadata": {
  "kernelspec": {
   "display_name": "report_gen",
   "language": "python",
   "name": "report_gen"
  },
  "language_info": {
   "codemirror_mode": {
    "name": "ipython",
    "version": 3
   },
   "file_extension": ".py",
   "mimetype": "text/x-python",
   "name": "python",
   "nbconvert_exporter": "python",
   "pygments_lexer": "ipython3",
   "version": "3.10.9"
  }
 },
 "nbformat": 4,
 "nbformat_minor": 5
}
