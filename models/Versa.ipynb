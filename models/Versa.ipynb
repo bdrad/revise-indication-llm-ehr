{
 "cells": [
  {
   "cell_type": "code",
   "execution_count": 1,
   "id": "a054c10a",
   "metadata": {},
   "outputs": [],
   "source": [
    "import os\n",
    "import re\n",
    "import json\n",
    "import base64\n",
    "import requests\n",
    "import time\n",
    "import urllib.parse\n",
    "from dotenv import load_dotenv\n",
    "import pandas as pd\n",
    "import ast\n",
    "import tqdm"
   ]
  },
  {
   "cell_type": "code",
   "execution_count": 12,
   "id": "b8ca8416",
   "metadata": {},
   "outputs": [],
   "source": [
    "load_dotenv('.env')\n",
    "\n",
    "API_KEY = os.environ.get('VERSA_API_KEY')  # Match the environment variable name to the name you used in the .env file\n",
    "API_VERSION = os.environ.get('VERSA_API_VERSION')\n",
    "RESOURCE_ENDPOINT = os.environ.get('RESOURCE_ENDPOINT')\n",
    "\n",
    "DEPLOYMENT_ID = 'gpt-4-turbo-128k'\n",
    "API_VERSION = '2024-05-01-preview'\n",
    "\n",
    "# These are configurable parameters for managing re-attempts for API calls\n",
    "RETRY_SECS = 15  # Seconds between attempts\n",
    "MAX_RETRIES = 5  # Max number of re-attempts\n",
    "\n",
    "error_msg = \"\\nProvided your configuration parameters (API_KEY, API_VERSION, RESOURCE_ENDPOINT, deployment name) are valid, the majority of errors you may encounter with this code are attributable to temporary issues such as Azure server outages or other users who have triggered shared API rate limits for a given deployment. Please try again in a few minutes. However, if you receive a 401 Unauthorized access error, while your API key may have the correct length, most likely it is not a valid key for some other reason. In that event, please open a ticket with the Versa team at versa@ucsf.edu to review the key.\\n\"\n",
    "\n",
    "def chat(prompt):\n",
    "    url = f'{RESOURCE_ENDPOINT}/openai/deployments/{DEPLOYMENT_ID}/chat/completions?api-version={API_VERSION}'\n",
    "    body = json.dumps({\n",
    "        \"seed\": 1234,\n",
    "        \"messages\": [{\"role\": \"user\", \"content\": prompt}]\n",
    "    })\n",
    "    headers = {'Content-Type': 'application/json', 'api-key': API_KEY}\n",
    "    retries = 0\n",
    "    while True:\n",
    "        try:\n",
    "            response = post_request(url, headers, body)\n",
    "            output = json.loads(response.text).get('choices')[0].get('message').get('content')\n",
    "            return output\n",
    "            break\n",
    "        except Exception as e:\n",
    "            retries = exception_code(retries, DEPLOYMENT_ID, e)\n",
    "\n",
    "# These two functions are helper functions\n",
    "def post_request(url, headers, body):\n",
    "    response = requests.post(url, headers=headers, data=body)\n",
    "        \n",
    "    response.raise_for_status()\n",
    "    return response\n",
    "\n",
    "def exception_code(retries, deployment_id, e):\n",
    "    if retries >= MAX_RETRIES:\n",
    "        print(f'Failed attempt {retries+1} of {MAX_RETRIES+1}.')\n",
    "        print(error_msg)\n",
    "        \n",
    "        assert False, f\"Test failed for deployment: {deployment_id}, Error received: {e}\"\n",
    "    else:\n",
    "        print(f'Failed attempt {retries+1} of {MAX_RETRIES + 1}. Waiting {RETRY_SECS} secs before next attempt...')\n",
    "        \n",
    "    retries += 1\n",
    "    time.sleep(RETRY_SECS)\n",
    "    \n",
    "    return retries"
   ]
  },
  {
   "cell_type": "code",
   "execution_count": 13,
   "id": "45d0a994",
   "metadata": {},
   "outputs": [],
   "source": [
    "def generate_example(i):\n",
    "     return '\\nClinical History:\\n'+ generate_summary(sample_data.iloc[i]) + '\\nIndication:\\n' + sample_histories[i]\n",
    "\n",
    "def notes_to_prompt(notes):\n",
    "    note_prompt = ''\n",
    "    for i, note in enumerate(notes):\n",
    "        note_prompt += f'\\nNOTE {i+1}\\n' + note[:1000] \n",
    "    return note_prompt\n",
    "    \n",
    "def generate_summary(row):\n",
    "    note_prompt = ''\n",
    "    notes = row['NOTE_TEXTS'][:10]\n",
    "    for i, note in enumerate(notes):\n",
    "        note_prompt += f'\\nNOTE {i+1}\\n' + note[:1000]   \n",
    "    prompt = (\n",
    "        \"Summarize these clinical notes into one paragraph, noting patient age, gender, ethnicity.\\n\"+\\\n",
    "        \"Also note relevant medical conditions, lab tests, procedures, and clinical history.\"+\\\n",
    "        \"\\nNotes:\"+\\\n",
    "        note_prompt+\\\n",
    "        '\\nSummary:\\n'\n",
    "    )  \n",
    "    return chat(prompt)\n"
   ]
  },
  {
   "cell_type": "code",
   "execution_count": 4,
   "id": "0a874b2b",
   "metadata": {},
   "outputs": [],
   "source": [
    "data = pd.read_csv('data/processed_notes.csv')\n",
    "data['NOTE_TEXTS'] = data['NOTE_TEXTS'].apply(ast.literal_eval)"
   ]
  },
  {
   "cell_type": "code",
   "execution_count": 5,
   "id": "455fa836",
   "metadata": {},
   "outputs": [],
   "source": [
    "sample_data = data.drop_duplicates(subset=['SUBJECT_ID']).dropna(subset=['RADIOLOGY_REPORT_MEDICAL_CONDITION', 'RADIOLOGY_REPORT_REASON_FOR_EXAM'])\n",
    "sample_data['RADIOLOGY_REPORT_INDICATION'] = sample_data['RADIOLOGY_REPORT_MEDICAL_CONDITION'] + \" \" + sample_data['RADIOLOGY_REPORT_REASON_FOR_EXAM']\n",
    "sample_data = sample_data[sample_data['NOTE_TEXTS'].apply(len) >= 5].reset_index(drop=True)"
   ]
  },
  {
   "cell_type": "code",
   "execution_count": 6,
   "id": "ac5f28c2",
   "metadata": {},
   "outputs": [],
   "source": [
    "sample_data = sample_data[sample_data['RADIOLOGY_REPORT_DESCRIPTION'].str.contains('CT HEAD')].reset_index(drop=True)"
   ]
  },
  {
   "cell_type": "code",
   "execution_count": 10,
   "id": "c1666287",
   "metadata": {},
   "outputs": [],
   "source": [
    "# results = []\n",
    "# for i in tqdm.tqdm(range(25)):\n",
    "#     row = sample_data.iloc[i]\n",
    "#     notes = notes_to_prompt(row['NOTE_TEXTS'][:15])\n",
    "#     neurologic_conditions = chat(\"Identify the single most critical head-related medical condition. Example: brain tumor metastases\\n\" + notes)\n",
    "#     print(neurologic_conditions)\n",
    "#     clinical_notes_prompt = \"Write a clinical indication (a one-sentence summary describing the patient's medical condition with gender, age, procedures done (s/p), diseases to rule out (r/o)) for a \"+\\\n",
    "#     row['RADIOLOGY_REPORT_DESCRIPTION']+\\\n",
    "#     f\"\\nInclude the patient's pre-existing condition of {neurologic_conditions}\\n\"+\\\n",
    "#     '\\nNotes:\\n' + notes+ '\\nIndication:\\n'\n",
    "#     generated_indication = chat(clinical_notes_prompt)\n",
    "#     results.append({\n",
    "#         'SUBJECT_ID': row['SUBJECT_ID'],\n",
    "#         'HADM_ID': row['HADM_ID'],\n",
    "#         'ORIGINAL_INDICATION': row['RADIOLOGY_REPORT_INDICATION'],\n",
    "#         'GENERATED_INDICATION': generated_indication\n",
    "#     })"
   ]
  },
  {
   "cell_type": "code",
   "execution_count": 15,
   "id": "d16ced69",
   "metadata": {
    "scrolled": true
   },
   "outputs": [
    {
     "name": "stderr",
     "output_type": "stream",
     "text": [
      "100%|██████████████████████████████████████████████████████████████████████████████████████████████████████████████████████████████████████████████████████████████████████| 50/50 [01:55<00:00,  2.31s/it]\n"
     ]
    }
   ],
   "source": [
    "results = []\n",
    "for i in tqdm.tqdm(range(50)):\n",
    "    row = sample_data.iloc[i]\n",
    "    notes = notes_to_prompt(row['NOTE_TEXTS'])\n",
    "    clinical_notes_prompt = \"Write a clinical indication (a one-sentence summary less than 20 words describing the patient's medical condition with gender, age, relevant surgical procedures done, and conditions to rule out for a \"+\\\n",
    "    row['RADIOLOGY_REPORT_DESCRIPTION']+\\\n",
    "    \"\\nYou may OPTIONALLY consider history of/rule out of stroke, trauma, seizures, bleed, intraventricular hemorrhage (IVH), tumor mass, intracranial process, interval change AS APPROPRIATE.\\n\"+\\\n",
    "    '\\nNotes:\\n' + notes+ '\\nIndication:\\n'\n",
    "    generated_indication = chat(clinical_notes_prompt)\n",
    "    results.append({\n",
    "        'SUBJECT_ID': row['SUBJECT_ID'],\n",
    "        'HADM_ID': row['HADM_ID'],\n",
    "        'ORIGINAL_INDICATION': row['RADIOLOGY_REPORT_INDICATION'],\n",
    "        'GENERATED_INDICATION': generated_indication\n",
    "    })"
   ]
  },
  {
   "cell_type": "code",
   "execution_count": 20,
   "id": "e8677339",
   "metadata": {},
   "outputs": [
    {
     "name": "stdout",
     "output_type": "stream",
     "text": [
      "Collecting datasets\n",
      "  Downloading datasets-2.20.0-py3-none-any.whl.metadata (19 kB)\n",
      "Requirement already satisfied: filelock in /home/bdrad/miniconda3/envs/report_gen/lib/python3.10/site-packages (from datasets) (3.9.0)\n",
      "Requirement already satisfied: numpy>=1.17 in /home/bdrad/miniconda3/envs/report_gen/lib/python3.10/site-packages (from datasets) (1.23.5)\n",
      "Requirement already satisfied: pyarrow>=15.0.0 in /home/bdrad/miniconda3/envs/report_gen/lib/python3.10/site-packages (from datasets) (16.1.0)\n",
      "Requirement already satisfied: pyarrow-hotfix in /home/bdrad/miniconda3/envs/report_gen/lib/python3.10/site-packages (from datasets) (0.6)\n",
      "Requirement already satisfied: dill<0.3.9,>=0.3.0 in /home/bdrad/miniconda3/envs/report_gen/lib/python3.10/site-packages (from datasets) (0.3.6)\n",
      "Requirement already satisfied: pandas in /home/bdrad/miniconda3/envs/report_gen/lib/python3.10/site-packages (from datasets) (1.4.2)\n",
      "Requirement already satisfied: requests>=2.32.2 in /home/bdrad/miniconda3/envs/report_gen/lib/python3.10/site-packages (from datasets) (2.32.2)\n",
      "Collecting tqdm>=4.66.3 (from datasets)\n",
      "  Downloading tqdm-4.66.4-py3-none-any.whl.metadata (57 kB)\n",
      "\u001b[2K     \u001b[38;2;114;156;31m━━━━━━━━━━━━━━━━━━━━━━━━━━━━━━━━━━━━━━━━\u001b[0m \u001b[32m57.6/57.6 kB\u001b[0m \u001b[31m4.2 MB/s\u001b[0m eta \u001b[36m0:00:00\u001b[0m\n",
      "\u001b[?25hRequirement already satisfied: xxhash in /home/bdrad/miniconda3/envs/report_gen/lib/python3.10/site-packages (from datasets) (2.0.2)\n",
      "Requirement already satisfied: multiprocess in /home/bdrad/miniconda3/envs/report_gen/lib/python3.10/site-packages (from datasets) (0.70.14)\n",
      "Requirement already satisfied: fsspec<=2024.5.0,>=2023.1.0 in /home/bdrad/miniconda3/envs/report_gen/lib/python3.10/site-packages (from fsspec[http]<=2024.5.0,>=2023.1.0->datasets) (2023.10.0)\n",
      "Requirement already satisfied: aiohttp in /home/bdrad/miniconda3/envs/report_gen/lib/python3.10/site-packages (from datasets) (3.8.3)\n",
      "Requirement already satisfied: huggingface-hub>=0.21.2 in /home/bdrad/miniconda3/envs/report_gen/lib/python3.10/site-packages (from datasets) (0.23.1)\n",
      "Requirement already satisfied: packaging in /home/bdrad/.local/lib/python3.10/site-packages (from datasets) (23.2)\n",
      "Requirement already satisfied: pyyaml>=5.1 in /home/bdrad/miniconda3/envs/report_gen/lib/python3.10/site-packages (from datasets) (6.0)\n",
      "Requirement already satisfied: attrs>=17.3.0 in /home/bdrad/miniconda3/envs/report_gen/lib/python3.10/site-packages (from aiohttp->datasets) (23.2.0)\n",
      "Requirement already satisfied: charset-normalizer<3.0,>=2.0 in /home/bdrad/miniconda3/envs/report_gen/lib/python3.10/site-packages (from aiohttp->datasets) (2.0.4)\n",
      "Requirement already satisfied: multidict<7.0,>=4.5 in /home/bdrad/miniconda3/envs/report_gen/lib/python3.10/site-packages (from aiohttp->datasets) (6.0.2)\n",
      "Requirement already satisfied: async-timeout<5.0,>=4.0.0a3 in /home/bdrad/miniconda3/envs/report_gen/lib/python3.10/site-packages (from aiohttp->datasets) (4.0.2)\n",
      "Requirement already satisfied: yarl<2.0,>=1.0 in /home/bdrad/miniconda3/envs/report_gen/lib/python3.10/site-packages (from aiohttp->datasets) (1.8.1)\n",
      "Requirement already satisfied: frozenlist>=1.1.1 in /home/bdrad/miniconda3/envs/report_gen/lib/python3.10/site-packages (from aiohttp->datasets) (1.3.3)\n",
      "Requirement already satisfied: aiosignal>=1.1.2 in /home/bdrad/miniconda3/envs/report_gen/lib/python3.10/site-packages (from aiohttp->datasets) (1.2.0)\n",
      "Requirement already satisfied: typing-extensions>=3.7.4.3 in /home/bdrad/miniconda3/envs/report_gen/lib/python3.10/site-packages (from huggingface-hub>=0.21.2->datasets) (4.12.0)\n",
      "Requirement already satisfied: idna<4,>=2.5 in /home/bdrad/miniconda3/envs/report_gen/lib/python3.10/site-packages (from requests>=2.32.2->datasets) (3.4)\n",
      "Requirement already satisfied: urllib3<3,>=1.21.1 in /home/bdrad/miniconda3/envs/report_gen/lib/python3.10/site-packages (from requests>=2.32.2->datasets) (2.2.1)\n",
      "Requirement already satisfied: certifi>=2017.4.17 in /home/bdrad/miniconda3/envs/report_gen/lib/python3.10/site-packages (from requests>=2.32.2->datasets) (2024.2.2)\n",
      "Requirement already satisfied: python-dateutil>=2.8.1 in /home/bdrad/.local/lib/python3.10/site-packages (from pandas->datasets) (2.8.2)\n",
      "Requirement already satisfied: pytz>=2020.1 in /home/bdrad/miniconda3/envs/report_gen/lib/python3.10/site-packages (from pandas->datasets) (2022.7)\n",
      "Requirement already satisfied: six>=1.5 in /home/bdrad/miniconda3/envs/report_gen/lib/python3.10/site-packages (from python-dateutil>=2.8.1->pandas->datasets) (1.16.0)\n",
      "Downloading datasets-2.20.0-py3-none-any.whl (547 kB)\n",
      "\u001b[2K   \u001b[38;2;114;156;31m━━━━━━━━━━━━━━━━━━━━━━━━━━━━━━━━━━━━━━━━\u001b[0m \u001b[32m547.8/547.8 kB\u001b[0m \u001b[31m21.4 MB/s\u001b[0m eta \u001b[36m0:00:00\u001b[0m\n",
      "\u001b[?25hDownloading tqdm-4.66.4-py3-none-any.whl (78 kB)\n",
      "\u001b[2K   \u001b[38;2;114;156;31m━━━━━━━━━━━━━━━━━━━━━━━━━━━━━━━━━━━━━━━━\u001b[0m \u001b[32m78.3/78.3 kB\u001b[0m \u001b[31m36.7 MB/s\u001b[0m eta \u001b[36m0:00:00\u001b[0m\n",
      "\u001b[?25hInstalling collected packages: tqdm, datasets\n",
      "  Attempting uninstall: tqdm\n",
      "    Found existing installation: tqdm 4.65.0\n",
      "    Uninstalling tqdm-4.65.0:\n",
      "      Successfully uninstalled tqdm-4.65.0\n",
      "\u001b[31mERROR: pip's dependency resolver does not currently take into account all the packages that are installed. This behaviour is the source of the following dependency conflicts.\n",
      "lungmask 0.2.16 requires more-itertools, which is not installed.\u001b[0m\u001b[31m\n",
      "\u001b[0mSuccessfully installed datasets-2.20.0 tqdm-4.64.1\n",
      "{'rouge1': 0.2557981742735843, 'rouge2': 0.0877837593333066, 'rougeL': 0.22870532531751114, 'rougeLsum': 0.22777526563512349}\n"
     ]
    }
   ],
   "source": [
    "!pip install datasets\n",
    "import evaluate\n",
    "rouge = evaluate.load('rouge')\n",
    "\n",
    "results = pd.DataFrame(results)\n",
    "results['ORIGINAL_INDICATION'] = results['ORIGINAL_INDICATION'].str.replace('No contraindications for IV contrast', '')\n",
    "rouge_scores = rouge.compute(predictions=results['GENERATED_INDICATION'], references=results['ORIGINAL_INDICATION'])\n",
    "\n",
    "print(rouge_scores)"
   ]
  },
  {
   "cell_type": "code",
   "execution_count": 31,
   "id": "e1a2aa4a",
   "metadata": {},
   "outputs": [
    {
     "name": "stdout",
     "output_type": "stream",
     "text": [
      "ORIGINAL\n",
      "87 year old man with ich, from OH S/p stroke CONTRAINDICATIONS for IV CONTRAST: crea\n",
      "GENERATED\n",
      "60-year-old male with intraparenchymal hemorrhage, hypotension, and junctional bradycardia; assess progression/rule out new intracranial events.\n"
     ]
    }
   ],
   "source": [
    "i = 1\n",
    "\n",
    "print('ORIGINAL')\n",
    "print(results.iloc[i]['ORIGINAL_INDICATION'])\n",
    "print('GENERATED')\n",
    "print(results.iloc[i]['GENERATED_INDICATION'])"
   ]
  },
  {
   "cell_type": "code",
   "execution_count": 33,
   "id": "a86bbf3f",
   "metadata": {},
   "outputs": [
    {
     "name": "stdout",
     "output_type": "stream",
     "text": [
      "NPN 5a-7a\n",
      "Pt. admitted from EW at 5am with intraparenchymal bleed. (see FHPA).\n",
      "pt responds to pain-withdraws, more on R than L.  Has been off all sedation since 5:30-was briefly on propofol for a line placement.  Was initially requiring nipride and labatelol for BP but has been hypotensive-90's since admission to MICU and off all vasodilators.  Also found to be in a junctional rhythm with rate 45-47.  Does have corneal reflex and PERL.  Plan for MRI today to further assess bleed.\n",
      "ID: afebrile\n",
      "Resp: CMV 50% 600x14 5 PEEP. Clear breath sounds.  no sputum\n",
      "GI: NPO OGT connected to low continuous suction.  Hypoactive bowel sounds.\n",
      "GU: Foley placed in EW-draining clear yellow urine.\n",
      "Access: 2 peripheral IV's.  Aline placed in R radial.\n",
      "Endo: fingerstick at 6am 327-8u given per sliding scale.\n",
      "Social: Daughter arrived with patient and she believes pt. wife will be the spokesperson but this will be decided once the wife arrives.\n",
      "\n",
      "Nursing Progress Note 0700-1900 hours:\n",
      "NEURO: Pt s/p interparench bleed.  More response seen now then in beginning of shift. Responds to pain and stimulation-have seen pt move all ext's except upper left arm-does not follow any commands but moving spotaneously.  No form of communication. pearl-at pinpoint and very difficult to assess response.  Positive corneal on left but not on the right. Does have gag, does have cough.\n",
      "\n",
      "CARDIAC: in junct escape rhythm with HR 40's-50's.  Ck's being monitored-last ck in 200's-trop pending. SBP via aline (with good sharp pattern) has been 100-150...several intermittent episodes of sbp up to 160 transiently during nursing care-at rest comes back down below 50.\n",
      "\n",
      "resp care\n",
      "remains ett/vent support in ac mode. abg wnl. bs ess cta anteriorly. sxned for scant white to yellowish sputum. +gag/cough. c/w airway protection/vent support. evaluate for spont mode in a.m.\n",
      "\n",
      "Nursing note continued:\n",
      "Cardiac:  Pt given 1 dose of hydralazine with good effect-sbp was up to 170's with agitation-came down to 130's s/p hydralazine.\n",
      "\n",
      "RESP: Remains intubated with no vent changes made today despite adequate abg-was ? whether pt was going to travel to MRI and will travel for head CT tomorrow -so wanted pt to stay on current settings of 50%/ac 14/tv 600/peep 5.  Sats >97% and rr of 14-18.  Scant sputum via ett-white.  Lungs clear with diminished bases.\n",
      "\n",
      "GI/GU:  NPO status.  IV maintenance fluid infusing.  UO poor-some hours of no urine at best 15cc-20cc/hr. Bolused with total of 1.5 L with little effect-foley irrigated-patent, no clots-good return of irrigant.  MD reported that pt with palpable stool/constipation upon exam-given enema x1 -pending results.\n",
      "\n",
      "ENDO: Pt with ss SQ coverage as orderd-fs being checked q 2 hours-much better.\n",
      "\n",
      "ID: pt spiked temp to 101.1 today-sputum trap in line -unable to obtain enough sputum for sample thus far.  Blood cultures x2 sent.  Foley clamped and awaiting urine specimen to send.\n",
      "\n",
      "PSYCHOSOCIAL: Family in to visit-updated; all questions answered.  Very involved.  Pt remains a full code-md's to address code status change with family.\n",
      "\n",
      "PLAN:  Tight control of BP to minimize further complications.  Hemodynamic monitoring with neuro checks.  Head CT in am for follow-up.\n",
      "\n",
      "neuro: Unchanged. moves right side > left. no left upper hand movement.\n",
      "cv/resp.\n",
      "junctional bradycardia now is in sinus tach. rates around 110. spiked temp 102.8 rectal rx'd with tylenol. attempted to move to pressuresupport ventilation but pt. became more restless. tachypnic. began to drop sats after a fluid bolus. propofol started. hypertensive and tacycardia. extra dose of hgydralazine given.\n",
      "called md [**First Name (Titles) **] [**Last Name (Titles) **] administered with good effect. fio2 increased to .6 and peep increased to 8cm. o2 sats improved and bp dropped some. able to stop propofol. eventually started  lopressor. iv fluids stopped.\n",
      "gi/gu foley uop with [**Last Name (Titles) **] noted. npo. ngt to lws. stools large amt.x2.\n",
      "plan: cont.as planned monitor for pulm edema/chf.\n",
      "\n",
      "Resp Care: Pt continues intubated and on ventilatory support, mult vent changes overnoc, tol trial of psv poorly d/t tacypnea/desat to 89%, returned to a/c with peep/fio2 increased; bs crackles bilat, sxn thick white/yell secretions, will cont full support.\n",
      "\n",
      "episode of hypotension this am after turning onto left side. systolic down in the 70's with low uop. 500cc ns fluid bolus given with some improvement of bp. uop still down. Now withdraws lue to painful stimuli.\n",
      "\n"
     ]
    }
   ],
   "source": [
    "for note in sample_data.iloc[i]['NOTE_TEXTS']:\n",
    "    print(note)"
   ]
  },
  {
   "cell_type": "code",
   "execution_count": null,
   "id": "dccaf68e",
   "metadata": {},
   "outputs": [],
   "source": [
    "# risk factors in the past\n",
    "# what treatments have they gotten\n",
    "# different diseases \n"
   ]
  },
  {
   "cell_type": "code",
   "execution_count": null,
   "id": "dc67fd4e",
   "metadata": {},
   "outputs": [],
   "source": [
    "# NEONATAL HEAD PORTABLE\n",
    "# IVH or Intracranial anomaly\n",
    "# PVL or periventricular leukomalacia\n",
    "# IVH\n",
    "# periventricular leukomalacia\n",
    "# intracranial hemorrhage\n",
    "# IVH\n",
    "# Intracranial hemorrhage\n",
    "# PVL or other abnormality\n",
    "# intracranial hemorrhage \n",
    "# r/o pvl\n",
    "# r/o IVH\n",
    "# assess for ivh\n",
    "\n",
    "\n",
    "# Bleeding in the brain\n",
    "# Hydrocephalus\n",
    "# periventricular leukomalacia --> brainmatter malforms --> hypoxic injury (US)\n",
    "# \n",
    "\n",
    "# CT HEAD\n",
    "# Assess for recent hemorrhage or infarction\n",
    "# Assess for hemorrhage\n",
    "# Subdural hematoma\n",
    "# subdurals\n",
    "# SDH\n",
    "# infarct, hemorrhage\n",
    "# subdural drain removal\n",
    "# Acute intracranial processes\n",
    "# Assess interval change from prior CT\n",
    "\n",
    "# Bleeds\n",
    "# Stroke, contrast, usually MRI\n",
    "# Acute intracranial processes --> anything? --> Not that useful\n",
    "# Fall/Trauma\n",
    "\n",
    "# increase specificity/sensitivity \n",
    "# if everyone looks up notes --> time savings\n",
    "# if no time to read notes --> specificity/sensitivity\n",
    "# + generated history --> increase? specificty/sensitivyt decrease? time savings"
   ]
  },
  {
   "cell_type": "code",
   "execution_count": null,
   "id": "c8f15162",
   "metadata": {},
   "outputs": [],
   "source": [
    "# Plan\n",
    "\n",
    "# RAG to select 5 notes for current generation\n",
    "\n",
    "# Add to the prompt the type of study being ordered"
   ]
  },
  {
   "cell_type": "code",
   "execution_count": null,
   "id": "7f1ae374",
   "metadata": {},
   "outputs": [],
   "source": [
    "# How long indications are (histogram) and statistics"
   ]
  },
  {
   "cell_type": "code",
   "execution_count": 1492,
   "id": "ead994c6",
   "metadata": {},
   "outputs": [],
   "source": [
    "radiology_reports = data[data['CATEGORY'].str.contains('Radiology')]"
   ]
  },
  {
   "cell_type": "code",
   "execution_count": 1495,
   "id": "9115497f",
   "metadata": {},
   "outputs": [
    {
     "data": {
      "text/plain": [
       "CHEST (PORTABLE AP)                                169270\n",
       "CHEST (PA & LAT)                                    43158\n",
       "CT HEAD W/O CONTRAST                                34485\n",
       "CHEST PORT. LINE PLACEMENT                          21596\n",
       "PORTABLE ABDOMEN                                     8143\n",
       "CHEST (PRE-OP PA & LAT)                              8064\n",
       "CT CHEST W/CONTRAST                                  8001\n",
       "CT ABDOMEN W/CONTRAST                                7304\n",
       "MR HEAD W & W/O CONTRAST                             7062\n",
       "CT CHEST W/O CONTRAST                                6745\n",
       "CT C-SPINE W/O CONTRAST                              4840\n",
       "CT ABDOMEN W/O CONTRAST                              4823\n",
       "LIVER OR GALLBLADDER US (SINGLE ORGAN)               4761\n",
       "CTA CHEST W&W/O C&RECONS, NON-CORONARY               4499\n",
       "ABDOMEN (SUPINE & ERECT)                             4462\n",
       "BABYGRAM (CHEST ONLY)                                4412\n",
       "MR HEAD W/O CONTRAST                                 3603\n",
       "BILAT LOWER EXT VEINS                                3443\n",
       "CAROTID SERIES COMPLETE                              3377\n",
       "RENAL U.S.                                           2960\n",
       "CHEST (SINGLE VIEW)                                  2929\n",
       "NEONATAL HEAD PORTABLE                               2914\n",
       "BY DIFFERENT PHYSICIAN                               2855\n",
       "CT ABD W&W/O C                                       2749\n",
       "PICC W/O PORT                                        2693\n",
       "BY SAME PHYSICIAN                                    2681\n",
       "CTA HEAD W&W/O C & RECONS                            2622\n",
       "ABDOMEN U.S. (COMPLETE STUDY)                        2346\n",
       "VIDEO OROPHARYNGEAL SWALLOW                          2293\n",
       "CTA CHEST W&W/O C &RECONS                            2204\n",
       "US ABD LIMIT, SINGLE ORGAN                           1951\n",
       "P BABYGRAM (CHEST ONLY) PORT                         1948\n",
       "CT PELVIS W/CONTRAST                                 1801\n",
       "P LIVER OR GALLBLADDER US (SINGLE ORGAN) PORT        1678\n",
       "CTA ABD W&W/O C & RECONS                             1562\n",
       "CT ABD & PELVIS WITH CONTRAST                        1537\n",
       "NASO-INTESTINAL TUBE PLACEMENT (W/FLUORO)            1504\n",
       "DUPLEX DOPP ABD/PEL                                  1500\n",
       "CT SINUS/MANDIBLE/MAXILLOFACIAL W/O CONTRAST         1477\n",
       "PARACENTESIS DIAG. OR THERAPEUTIC                    1430\n",
       "P BILAT LOWER EXT VEINS PORT                         1406\n",
       "T-SPINE                                              1322\n",
       "P BABYGRAM CHEST & ABD (TOGETHER ONE FILM) PORT      1307\n",
       "DISTINCT PROCEDURAL SERVICE                          1288\n",
       "TRAUMA #2 (AP CXR & PELVIS PORT)                     1266\n",
       "VEN DUP EXTEXT BIL (MAP/DVT)                         1246\n",
       "L-SPINE (AP & LAT)                                   1205\n",
       "FDG TUMOR IMAGING (PET-CT)                           1188\n",
       "CT PELVIS W/O CONTRAST                               1185\n",
       "L UNILAT LOWER EXT VEINS LEFT                        1179\n",
       "Name: DESCRIPTION, dtype: int64"
      ]
     },
     "execution_count": 1495,
     "metadata": {},
     "output_type": "execute_result"
    }
   ],
   "source": [
    "radiology_reports['DESCRIPTION'].value_counts()[:50]"
   ]
  }
 ],
 "metadata": {
  "kernelspec": {
   "display_name": "report_gen",
   "language": "python",
   "name": "report_gen"
  },
  "language_info": {
   "codemirror_mode": {
    "name": "ipython",
    "version": 3
   },
   "file_extension": ".py",
   "mimetype": "text/x-python",
   "name": "python",
   "nbconvert_exporter": "python",
   "pygments_lexer": "ipython3",
   "version": "3.10.9"
  }
 },
 "nbformat": 4,
 "nbformat_minor": 5
}
