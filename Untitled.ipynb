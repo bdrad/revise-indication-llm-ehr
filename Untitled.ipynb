{
 "cells": [
  {
   "cell_type": "code",
   "execution_count": 1,
   "id": "545b1c40",
   "metadata": {},
   "outputs": [
    {
     "name": "stderr",
     "output_type": "stream",
     "text": [
      "/tmp/ipykernel_1520164/2334805005.py:2: DtypeWarning: Columns (4,5) have mixed types. Specify dtype option on import or set low_memory=False.\n",
      "  data = pd.read_csv('/mnt/sohn2022/mimic-iii-clinical-database-1.4/NOTEEVENTS.csv.gz')\n"
     ]
    },
    {
     "ename": "NameError",
     "evalue": "name 'CATEGORIES' is not defined",
     "output_type": "error",
     "traceback": [
      "\u001b[0;31m---------------------------------------------------------------------------\u001b[0m",
      "\u001b[0;31mNameError\u001b[0m                                 Traceback (most recent call last)",
      "Cell \u001b[0;32mIn[1], line 5\u001b[0m\n\u001b[1;32m      3\u001b[0m data \u001b[38;5;241m=\u001b[39m data\u001b[38;5;241m.\u001b[39mdropna(subset\u001b[38;5;241m=\u001b[39m[\u001b[38;5;124m'\u001b[39m\u001b[38;5;124mCHARTDATE\u001b[39m\u001b[38;5;124m'\u001b[39m, \u001b[38;5;124m'\u001b[39m\u001b[38;5;124mHADM_ID\u001b[39m\u001b[38;5;124m'\u001b[39m])\n\u001b[1;32m      4\u001b[0m data \u001b[38;5;241m=\u001b[39m data\u001b[38;5;241m.\u001b[39msort_values(by\u001b[38;5;241m=\u001b[39m[\u001b[38;5;124m'\u001b[39m\u001b[38;5;124mHADM_ID\u001b[39m\u001b[38;5;124m'\u001b[39m, \u001b[38;5;124m'\u001b[39m\u001b[38;5;124mCHARTDATE\u001b[39m\u001b[38;5;124m'\u001b[39m])\n\u001b[0;32m----> 5\u001b[0m data \u001b[38;5;241m=\u001b[39m data[data[\u001b[38;5;124m'\u001b[39m\u001b[38;5;124mCATEGORY\u001b[39m\u001b[38;5;124m'\u001b[39m]\u001b[38;5;241m.\u001b[39misin(\u001b[43mCATEGORIES\u001b[49m)]\n\u001b[1;32m      6\u001b[0m \u001b[38;5;28mprint\u001b[39m(data[\u001b[38;5;124m'\u001b[39m\u001b[38;5;124mCATEGORY\u001b[39m\u001b[38;5;124m'\u001b[39m]\u001b[38;5;241m.\u001b[39mvalue_counts())\n",
      "\u001b[0;31mNameError\u001b[0m: name 'CATEGORIES' is not defined"
     ]
    }
   ],
   "source": [
    "import pandas as pd\n",
    "data = pd.read_csv('/mnt/sohn2022/mimic-iii-clinical-database-1.4/NOTEEVENTS.csv.gz')\n",
    "data = data.dropna(subset=['CHARTDATE', 'HADM_ID'])\n",
    "data = data.sort_values(by=['HADM_ID', 'CHARTDATE'])\n",
    "data = data[data['CATEGORY'].isin(CATEGORIES)]\n",
    "print(data['CATEGORY'].value_counts())"
   ]
  },
  {
   "cell_type": "code",
   "execution_count": 140,
   "id": "24be6d2d",
   "metadata": {},
   "outputs": [],
   "source": [
    "radiology_reports = data[data['CATEGORY'] == 'Radiology']"
   ]
  },
  {
   "cell_type": "code",
   "execution_count": 141,
   "id": "0c916bd6",
   "metadata": {},
   "outputs": [
    {
     "data": {
      "text/plain": [
       "CHEST (PORTABLE AP)                       156240\n",
       "CT HEAD W/O CONTRAST                       26891\n",
       "CHEST (PA & LAT)                           21577\n",
       "CHEST PORT. LINE PLACEMENT                 19281\n",
       "PORTABLE ABDOMEN                            7452\n",
       "BABYGRAM (CHEST ONLY)                       4410\n",
       "CT ABDOMEN W/CONTRAST                       4298\n",
       "CT CHEST W/CONTRAST                         4242\n",
       "CT CHEST W/O CONTRAST                       4080\n",
       "CT C-SPINE W/O CONTRAST                     3751\n",
       "MR HEAD W & W/O CONTRAST                    3466\n",
       "CT ABDOMEN W/O CONTRAST                     3311\n",
       "CHEST (PRE-OP PA & LAT)                     3152\n",
       "CTA CHEST W&W/O C&RECONS, NON-CORONARY      3011\n",
       "NEONATAL HEAD PORTABLE                      2913\n",
       "BY DIFFERENT PHYSICIAN                      2720\n",
       "LIVER OR GALLBLADDER US (SINGLE ORGAN)      2651\n",
       "MR HEAD W/O CONTRAST                        2565\n",
       "BY SAME PHYSICIAN                           2547\n",
       "BILAT LOWER EXT VEINS                       2538\n",
       "Name: DESCRIPTION, dtype: int64"
      ]
     },
     "execution_count": 141,
     "metadata": {},
     "output_type": "execute_result"
    }
   ],
   "source": [
    "radiology_reports['DESCRIPTION'].value_counts()[:20]"
   ]
  }
 ],
 "metadata": {
  "kernelspec": {
   "display_name": "report_gen",
   "language": "python",
   "name": "report_gen"
  },
  "language_info": {
   "codemirror_mode": {
    "name": "ipython",
    "version": 3
   },
   "file_extension": ".py",
   "mimetype": "text/x-python",
   "name": "python",
   "nbconvert_exporter": "python",
   "pygments_lexer": "ipython3",
   "version": "3.10.9"
  }
 },
 "nbformat": 4,
 "nbformat_minor": 5
}
