{
 "cells": [
  {
   "cell_type": "code",
   "execution_count": 2,
   "id": "975a2259",
   "metadata": {},
   "outputs": [
    {
     "name": "stderr",
     "output_type": "stream",
     "text": [
      "/home/bdrad/miniconda3/envs/report_gen/lib/python3.10/site-packages/pandas/core/arrays/masked.py:60: UserWarning: Pandas requires version '1.3.6' or newer of 'bottleneck' (version '1.3.5' currently installed).\n",
      "  from pandas.core import (\n"
     ]
    }
   ],
   "source": [
    "import pandas as pd"
   ]
  },
  {
   "cell_type": "code",
   "execution_count": 26,
   "id": "4c74eafc",
   "metadata": {},
   "outputs": [],
   "source": [
    "BASEPATH = \"/mnt/sohn2022/Adrian/llm-revise-indication-notes/inference/results/llm_balanced_test_dataset\""
   ]
  },
  {
   "cell_type": "code",
   "execution_count": 54,
   "id": "e9a94d45",
   "metadata": {},
   "outputs": [
    {
     "name": "stdout",
     "output_type": "stream",
     "text": [
      "BioMistral_BioMistral-7B_0_100.csv\r\n",
      "gpt4o_0_10.csv\r\n",
      "meta-llama_Meta-Llama-3.1-8B-Instruct_0_10000.csv\r\n",
      "meta-llama_Meta-Llama-3.1-8B-Instruct_10k.csv\r\n",
      "mistralai_Mistral-7B-Instruct-v0.3_0_10000.csv\r\n",
      "mistralai_Mistral-7B-Instruct-v0.3_10k.csv\r\n"
     ]
    }
   ],
   "source": [
    "!ls results/llm_balanced_test_dataset"
   ]
  },
  {
   "cell_type": "code",
   "execution_count": 126,
   "id": "fa237b11",
   "metadata": {},
   "outputs": [],
   "source": [
    "mistral = pd.read_csv(f\"{BASEPATH}/mistralai_Mistral-7B-Instruct-v0.3_0_10000.csv\")\n",
    "biomistral =  pd.read_csv(f\"{BASEPATH}/BioMistral_BioMistral-7B_0_100.csv\")\n",
    "llama = pd.read_csv(f\"{BASEPATH}/meta-llama_Meta-Llama-3.1-8B-Instruct_0_10000.csv\")\n",
    "\n",
    "gpt4o = pd.read_csv(f\"{BASEPATH}/gpt4o_0_1000.csv\")"
   ]
  },
  {
   "cell_type": "code",
   "execution_count": 76,
   "id": "8ebf9f64",
   "metadata": {},
   "outputs": [
    {
     "data": {
      "text/html": [
       "<div>\n",
       "<style scoped>\n",
       "    .dataframe tbody tr th:only-of-type {\n",
       "        vertical-align: middle;\n",
       "    }\n",
       "\n",
       "    .dataframe tbody tr th {\n",
       "        vertical-align: top;\n",
       "    }\n",
       "\n",
       "    .dataframe thead th {\n",
       "        text-align: right;\n",
       "    }\n",
       "</style>\n",
       "<table border=\"1\" class=\"dataframe\">\n",
       "  <thead>\n",
       "    <tr style=\"text-align: right;\">\n",
       "      <th></th>\n",
       "      <th>patientdurablekey</th>\n",
       "      <th>exam_type</th>\n",
       "      <th>body_group</th>\n",
       "      <th>imaging_modality</th>\n",
       "      <th>report_deid_note_key</th>\n",
       "      <th>report_text</th>\n",
       "      <th>original_indication</th>\n",
       "      <th>radiologist_indication</th>\n",
       "      <th>llm_indication</th>\n",
       "    </tr>\n",
       "  </thead>\n",
       "  <tbody>\n",
       "  </tbody>\n",
       "</table>\n",
       "</div>"
      ],
      "text/plain": [
       "Empty DataFrame\n",
       "Columns: [patientdurablekey, exam_type, body_group, imaging_modality, report_deid_note_key, report_text, original_indication, radiologist_indication, llm_indication]\n",
       "Index: []"
      ]
     },
     "execution_count": 76,
     "metadata": {},
     "output_type": "execute_result"
    }
   ],
   "source": [
    "gpt4o[gpt4o[\"llm_indication\"].str.contains(\"\\*\")]"
   ]
  },
  {
   "cell_type": "code",
   "execution_count": 122,
   "id": "cc97c992",
   "metadata": {},
   "outputs": [
    {
     "data": {
      "text/plain": [
       "'History of metastatic granulosa tumor of the ovary status post hysterectomy, bilateral salpingo-oophorectomy, pelvic and periaortic lymphadenectomy with recurrence n 2013 status post vaginectomy, partial colectomy s/p chemotherapy with recent CT notable for enlarging ***** lymphadenopathy'"
      ]
     },
     "execution_count": 122,
     "metadata": {},
     "output_type": "execute_result"
    }
   ],
   "source": [
    "gpt4o.iloc[3][\"radiologist_indication\"]"
   ]
  },
  {
   "cell_type": "code",
   "execution_count": 130,
   "id": "bf5375a3",
   "metadata": {},
   "outputs": [
    {
     "data": {
      "text/plain": [
       "' The patient is a 67-year-old male with a history of gastric ulcer, chronic obstructive pulmonary disease, tobacco use, coronary artery disease, hypertension, peripheral vascular disease, and a history of a left iliac artery stent placement in 2010. The patient presented to the emergency department with abdominal pain that had worsened over the past two weeks, associated with nausea and vomiting. The patient had a CT abdomen/pelvis with contrast that showed a duodenal ulcer. The patient was scheduled for an endoscopic procedure to evaluate and potentially treat the ulcer.'"
      ]
     },
     "execution_count": 130,
     "metadata": {},
     "output_type": "execute_result"
    }
   ],
   "source": [
    "biomistral[\"llm_indication\"].iloc[0]"
   ]
  },
  {
   "cell_type": "code",
   "execution_count": 129,
   "id": "76cbb701",
   "metadata": {},
   "outputs": [
    {
     "data": {
      "text/plain": [
       "'Severe epigastric pain, weight loss, and duodenal ulcer.'"
      ]
     },
     "execution_count": 129,
     "metadata": {},
     "output_type": "execute_result"
    }
   ],
   "source": [
    "gpt4o[\"llm_indication\"].iloc[0]"
   ]
  },
  {
   "cell_type": "code",
   "execution_count": 125,
   "id": "d5f61c12",
   "metadata": {},
   "outputs": [
    {
     "data": {
      "text/plain": [
       "'A 62-year-old female with history of granulosa cell tumor of the ovary diagnosed in 2008, s/p TLH, BSO, pelvic and para-aortic LND, with multiple recurrences, most recently treated with cisplatin and gemcitabine, now presenting with new symptoms of bloating, and CT scan findings showing a 6.4x4.8cm cystic node to the left of the aorta and several mesenteric nodules.'"
      ]
     },
     "execution_count": 125,
     "metadata": {},
     "output_type": "execute_result"
    }
   ],
   "source": [
    "llama[\"llm_indication\"].iloc[3]"
   ]
  }
 ],
 "metadata": {
  "kernelspec": {
   "display_name": "report_gen",
   "language": "python",
   "name": "report_gen"
  },
  "language_info": {
   "codemirror_mode": {
    "name": "ipython",
    "version": 3
   },
   "file_extension": ".py",
   "mimetype": "text/x-python",
   "name": "python",
   "nbconvert_exporter": "python",
   "pygments_lexer": "ipython3",
   "version": "3.10.9"
  }
 },
 "nbformat": 4,
 "nbformat_minor": 5
}
